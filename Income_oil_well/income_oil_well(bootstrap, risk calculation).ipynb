{
 "cells": [
  {
   "cell_type": "markdown",
   "metadata": {},
   "source": [
    "# Выбор локации для скважины"
   ]
  },
  {
   "cell_type": "markdown",
   "metadata": {},
   "source": [
    "Целью проекта является предсказание прибыли и риска добычи  нефти в трёх регионах, в каждом 10 000 месторождений. Бюджет на разработку скважин в регионе — 10 млрд рублей. Нужно выбрать 200 скважин. При нынешних ценах один баррель сырья приносит 450 рублей дохода. Характеристики для каждой скважины в регионе известны (представленны как синтетические данные f0, f1, f2). \n",
    "\n",
    "Результатом работы стала модель для определения региона, где добыча принесёт наибольшую прибыль. Проанализирована прибыль и риски техникой Bootstrap."
   ]
  },
  {
   "cell_type": "markdown",
   "metadata": {},
   "source": [
    "## Загрузка и подготовка данных"
   ]
  },
  {
   "cell_type": "code",
   "execution_count": 2,
   "metadata": {},
   "outputs": [],
   "source": [
    "import pandas as pd\n",
    "import numpy as np\n",
    "import seaborn as sns\n",
    "import matplotlib.pyplot as plt\n",
    "import warnings\n",
    "import phik\n",
    "import random\n",
    "import scipy.stats as st\n",
    "from sklearn.metrics import mean_squared_error, r2_score\n",
    "from phik.report import plot_correlation_matrix\n",
    "from sklearn.linear_model import LinearRegression\n",
    "from phik.report import plot_correlation_matrix\n",
    "from sklearn.preprocessing import StandardScaler, MinMaxScaler\n",
    "from sklearn.model_selection import train_test_split\n",
    "from sklearn.preprocessing import LabelEncoder\n",
    "from numpy.random import RandomState"
   ]
  },
  {
   "cell_type": "code",
   "execution_count": 3,
   "metadata": {},
   "outputs": [],
   "source": [
    "warnings.filterwarnings('ignore')\n",
    "sns.set()\n",
    "sns.set_style(\"whitegrid\")"
   ]
  },
  {
   "cell_type": "markdown",
   "metadata": {},
   "source": [
    "Загрузим датасет"
   ]
  },
  {
   "cell_type": "code",
   "execution_count": 4,
   "metadata": {
    "scrolled": true
   },
   "outputs": [
    {
     "name": "stdout",
     "output_type": "stream",
     "text": [
      "<class 'pandas.core.frame.DataFrame'>\n",
      "RangeIndex: 100000 entries, 0 to 99999\n",
      "Data columns (total 5 columns):\n",
      " #   Column   Non-Null Count   Dtype  \n",
      "---  ------   --------------   -----  \n",
      " 0   id       100000 non-null  object \n",
      " 1   f0       100000 non-null  float64\n",
      " 2   f1       100000 non-null  float64\n",
      " 3   f2       100000 non-null  float64\n",
      " 4   product  100000 non-null  float64\n",
      "dtypes: float64(4), object(1)\n",
      "memory usage: 3.8+ MB\n"
     ]
    }
   ],
   "source": [
    "d0 = pd.read_csv('geo_data_0.csv')\n",
    "d0.info()"
   ]
  },
  {
   "cell_type": "code",
   "execution_count": 5,
   "metadata": {},
   "outputs": [
    {
     "data": {
      "text/html": [
       "<div>\n",
       "<style scoped>\n",
       "    .dataframe tbody tr th:only-of-type {\n",
       "        vertical-align: middle;\n",
       "    }\n",
       "\n",
       "    .dataframe tbody tr th {\n",
       "        vertical-align: top;\n",
       "    }\n",
       "\n",
       "    .dataframe thead th {\n",
       "        text-align: right;\n",
       "    }\n",
       "</style>\n",
       "<table border=\"1\" class=\"dataframe\">\n",
       "  <thead>\n",
       "    <tr style=\"text-align: right;\">\n",
       "      <th></th>\n",
       "      <th>f0</th>\n",
       "      <th>f1</th>\n",
       "      <th>f2</th>\n",
       "      <th>product</th>\n",
       "    </tr>\n",
       "  </thead>\n",
       "  <tbody>\n",
       "    <tr>\n",
       "      <th>count</th>\n",
       "      <td>100000.000000</td>\n",
       "      <td>100000.000000</td>\n",
       "      <td>100000.000000</td>\n",
       "      <td>100000.000000</td>\n",
       "    </tr>\n",
       "    <tr>\n",
       "      <th>mean</th>\n",
       "      <td>0.500419</td>\n",
       "      <td>0.250143</td>\n",
       "      <td>2.502647</td>\n",
       "      <td>92.500000</td>\n",
       "    </tr>\n",
       "    <tr>\n",
       "      <th>std</th>\n",
       "      <td>0.871832</td>\n",
       "      <td>0.504433</td>\n",
       "      <td>3.248248</td>\n",
       "      <td>44.288691</td>\n",
       "    </tr>\n",
       "    <tr>\n",
       "      <th>min</th>\n",
       "      <td>-1.408605</td>\n",
       "      <td>-0.848218</td>\n",
       "      <td>-12.088328</td>\n",
       "      <td>0.000000</td>\n",
       "    </tr>\n",
       "    <tr>\n",
       "      <th>25%</th>\n",
       "      <td>-0.072580</td>\n",
       "      <td>-0.200881</td>\n",
       "      <td>0.287748</td>\n",
       "      <td>56.497507</td>\n",
       "    </tr>\n",
       "    <tr>\n",
       "      <th>50%</th>\n",
       "      <td>0.502360</td>\n",
       "      <td>0.250252</td>\n",
       "      <td>2.515969</td>\n",
       "      <td>91.849972</td>\n",
       "    </tr>\n",
       "    <tr>\n",
       "      <th>75%</th>\n",
       "      <td>1.073581</td>\n",
       "      <td>0.700646</td>\n",
       "      <td>4.715088</td>\n",
       "      <td>128.564089</td>\n",
       "    </tr>\n",
       "    <tr>\n",
       "      <th>max</th>\n",
       "      <td>2.362331</td>\n",
       "      <td>1.343769</td>\n",
       "      <td>16.003790</td>\n",
       "      <td>185.364347</td>\n",
       "    </tr>\n",
       "  </tbody>\n",
       "</table>\n",
       "</div>"
      ],
      "text/plain": [
       "                  f0             f1             f2        product\n",
       "count  100000.000000  100000.000000  100000.000000  100000.000000\n",
       "mean        0.500419       0.250143       2.502647      92.500000\n",
       "std         0.871832       0.504433       3.248248      44.288691\n",
       "min        -1.408605      -0.848218     -12.088328       0.000000\n",
       "25%        -0.072580      -0.200881       0.287748      56.497507\n",
       "50%         0.502360       0.250252       2.515969      91.849972\n",
       "75%         1.073581       0.700646       4.715088     128.564089\n",
       "max         2.362331       1.343769      16.003790     185.364347"
      ]
     },
     "execution_count": 5,
     "metadata": {},
     "output_type": "execute_result"
    }
   ],
   "source": [
    "d0.describe()"
   ]
  },
  {
   "cell_type": "code",
   "execution_count": 6,
   "metadata": {},
   "outputs": [
    {
     "data": {
      "text/plain": [
       "0"
      ]
     },
     "execution_count": 6,
     "metadata": {},
     "output_type": "execute_result"
    }
   ],
   "source": [
    "d0['id'] = d0['id'].str.lower()\n",
    "d0.duplicated().sum()"
   ]
  },
  {
   "cell_type": "code",
   "execution_count": 7,
   "metadata": {},
   "outputs": [
    {
     "name": "stdout",
     "output_type": "stream",
     "text": [
      "<class 'pandas.core.frame.DataFrame'>\n",
      "RangeIndex: 100000 entries, 0 to 99999\n",
      "Data columns (total 5 columns):\n",
      " #   Column   Non-Null Count   Dtype  \n",
      "---  ------   --------------   -----  \n",
      " 0   id       100000 non-null  object \n",
      " 1   f0       100000 non-null  float64\n",
      " 2   f1       100000 non-null  float64\n",
      " 3   f2       100000 non-null  float64\n",
      " 4   product  100000 non-null  float64\n",
      "dtypes: float64(4), object(1)\n",
      "memory usage: 3.8+ MB\n"
     ]
    }
   ],
   "source": [
    "d1 = pd.read_csv('geo_data_1.csv')\n",
    "d1.info()"
   ]
  },
  {
   "cell_type": "code",
   "execution_count": 8,
   "metadata": {},
   "outputs": [
    {
     "data": {
      "text/html": [
       "<div>\n",
       "<style scoped>\n",
       "    .dataframe tbody tr th:only-of-type {\n",
       "        vertical-align: middle;\n",
       "    }\n",
       "\n",
       "    .dataframe tbody tr th {\n",
       "        vertical-align: top;\n",
       "    }\n",
       "\n",
       "    .dataframe thead th {\n",
       "        text-align: right;\n",
       "    }\n",
       "</style>\n",
       "<table border=\"1\" class=\"dataframe\">\n",
       "  <thead>\n",
       "    <tr style=\"text-align: right;\">\n",
       "      <th></th>\n",
       "      <th>f0</th>\n",
       "      <th>f1</th>\n",
       "      <th>f2</th>\n",
       "      <th>product</th>\n",
       "    </tr>\n",
       "  </thead>\n",
       "  <tbody>\n",
       "    <tr>\n",
       "      <th>count</th>\n",
       "      <td>100000.000000</td>\n",
       "      <td>100000.000000</td>\n",
       "      <td>100000.000000</td>\n",
       "      <td>100000.000000</td>\n",
       "    </tr>\n",
       "    <tr>\n",
       "      <th>mean</th>\n",
       "      <td>1.141296</td>\n",
       "      <td>-4.796579</td>\n",
       "      <td>2.494541</td>\n",
       "      <td>68.825000</td>\n",
       "    </tr>\n",
       "    <tr>\n",
       "      <th>std</th>\n",
       "      <td>8.965932</td>\n",
       "      <td>5.119872</td>\n",
       "      <td>1.703572</td>\n",
       "      <td>45.944423</td>\n",
       "    </tr>\n",
       "    <tr>\n",
       "      <th>min</th>\n",
       "      <td>-31.609576</td>\n",
       "      <td>-26.358598</td>\n",
       "      <td>-0.018144</td>\n",
       "      <td>0.000000</td>\n",
       "    </tr>\n",
       "    <tr>\n",
       "      <th>25%</th>\n",
       "      <td>-6.298551</td>\n",
       "      <td>-8.267985</td>\n",
       "      <td>1.000021</td>\n",
       "      <td>26.953261</td>\n",
       "    </tr>\n",
       "    <tr>\n",
       "      <th>50%</th>\n",
       "      <td>1.153055</td>\n",
       "      <td>-4.813172</td>\n",
       "      <td>2.011479</td>\n",
       "      <td>57.085625</td>\n",
       "    </tr>\n",
       "    <tr>\n",
       "      <th>75%</th>\n",
       "      <td>8.621015</td>\n",
       "      <td>-1.332816</td>\n",
       "      <td>3.999904</td>\n",
       "      <td>107.813044</td>\n",
       "    </tr>\n",
       "    <tr>\n",
       "      <th>max</th>\n",
       "      <td>29.421755</td>\n",
       "      <td>18.734063</td>\n",
       "      <td>5.019721</td>\n",
       "      <td>137.945408</td>\n",
       "    </tr>\n",
       "  </tbody>\n",
       "</table>\n",
       "</div>"
      ],
      "text/plain": [
       "                  f0             f1             f2        product\n",
       "count  100000.000000  100000.000000  100000.000000  100000.000000\n",
       "mean        1.141296      -4.796579       2.494541      68.825000\n",
       "std         8.965932       5.119872       1.703572      45.944423\n",
       "min       -31.609576     -26.358598      -0.018144       0.000000\n",
       "25%        -6.298551      -8.267985       1.000021      26.953261\n",
       "50%         1.153055      -4.813172       2.011479      57.085625\n",
       "75%         8.621015      -1.332816       3.999904     107.813044\n",
       "max        29.421755      18.734063       5.019721     137.945408"
      ]
     },
     "execution_count": 8,
     "metadata": {},
     "output_type": "execute_result"
    }
   ],
   "source": [
    "d1.describe()"
   ]
  },
  {
   "cell_type": "code",
   "execution_count": 9,
   "metadata": {},
   "outputs": [
    {
     "data": {
      "text/plain": [
       "0"
      ]
     },
     "execution_count": 9,
     "metadata": {},
     "output_type": "execute_result"
    }
   ],
   "source": [
    "d1['id'] = d1['id'].str.lower()\n",
    "d1.duplicated().sum()"
   ]
  },
  {
   "cell_type": "code",
   "execution_count": 10,
   "metadata": {},
   "outputs": [
    {
     "name": "stdout",
     "output_type": "stream",
     "text": [
      "<class 'pandas.core.frame.DataFrame'>\n",
      "RangeIndex: 100000 entries, 0 to 99999\n",
      "Data columns (total 5 columns):\n",
      " #   Column   Non-Null Count   Dtype  \n",
      "---  ------   --------------   -----  \n",
      " 0   id       100000 non-null  object \n",
      " 1   f0       100000 non-null  float64\n",
      " 2   f1       100000 non-null  float64\n",
      " 3   f2       100000 non-null  float64\n",
      " 4   product  100000 non-null  float64\n",
      "dtypes: float64(4), object(1)\n",
      "memory usage: 3.8+ MB\n"
     ]
    }
   ],
   "source": [
    "d2 = pd.read_csv('geo_data_2.csv')\n",
    "d2.info()"
   ]
  },
  {
   "cell_type": "code",
   "execution_count": 11,
   "metadata": {},
   "outputs": [
    {
     "data": {
      "text/html": [
       "<div>\n",
       "<style scoped>\n",
       "    .dataframe tbody tr th:only-of-type {\n",
       "        vertical-align: middle;\n",
       "    }\n",
       "\n",
       "    .dataframe tbody tr th {\n",
       "        vertical-align: top;\n",
       "    }\n",
       "\n",
       "    .dataframe thead th {\n",
       "        text-align: right;\n",
       "    }\n",
       "</style>\n",
       "<table border=\"1\" class=\"dataframe\">\n",
       "  <thead>\n",
       "    <tr style=\"text-align: right;\">\n",
       "      <th></th>\n",
       "      <th>f0</th>\n",
       "      <th>f1</th>\n",
       "      <th>f2</th>\n",
       "      <th>product</th>\n",
       "    </tr>\n",
       "  </thead>\n",
       "  <tbody>\n",
       "    <tr>\n",
       "      <th>count</th>\n",
       "      <td>100000.000000</td>\n",
       "      <td>100000.000000</td>\n",
       "      <td>100000.000000</td>\n",
       "      <td>100000.000000</td>\n",
       "    </tr>\n",
       "    <tr>\n",
       "      <th>mean</th>\n",
       "      <td>0.002023</td>\n",
       "      <td>-0.002081</td>\n",
       "      <td>2.495128</td>\n",
       "      <td>95.000000</td>\n",
       "    </tr>\n",
       "    <tr>\n",
       "      <th>std</th>\n",
       "      <td>1.732045</td>\n",
       "      <td>1.730417</td>\n",
       "      <td>3.473445</td>\n",
       "      <td>44.749921</td>\n",
       "    </tr>\n",
       "    <tr>\n",
       "      <th>min</th>\n",
       "      <td>-8.760004</td>\n",
       "      <td>-7.084020</td>\n",
       "      <td>-11.970335</td>\n",
       "      <td>0.000000</td>\n",
       "    </tr>\n",
       "    <tr>\n",
       "      <th>25%</th>\n",
       "      <td>-1.162288</td>\n",
       "      <td>-1.174820</td>\n",
       "      <td>0.130359</td>\n",
       "      <td>59.450441</td>\n",
       "    </tr>\n",
       "    <tr>\n",
       "      <th>50%</th>\n",
       "      <td>0.009424</td>\n",
       "      <td>-0.009482</td>\n",
       "      <td>2.484236</td>\n",
       "      <td>94.925613</td>\n",
       "    </tr>\n",
       "    <tr>\n",
       "      <th>75%</th>\n",
       "      <td>1.158535</td>\n",
       "      <td>1.163678</td>\n",
       "      <td>4.858794</td>\n",
       "      <td>130.595027</td>\n",
       "    </tr>\n",
       "    <tr>\n",
       "      <th>max</th>\n",
       "      <td>7.238262</td>\n",
       "      <td>7.844801</td>\n",
       "      <td>16.739402</td>\n",
       "      <td>190.029838</td>\n",
       "    </tr>\n",
       "  </tbody>\n",
       "</table>\n",
       "</div>"
      ],
      "text/plain": [
       "                  f0             f1             f2        product\n",
       "count  100000.000000  100000.000000  100000.000000  100000.000000\n",
       "mean        0.002023      -0.002081       2.495128      95.000000\n",
       "std         1.732045       1.730417       3.473445      44.749921\n",
       "min        -8.760004      -7.084020     -11.970335       0.000000\n",
       "25%        -1.162288      -1.174820       0.130359      59.450441\n",
       "50%         0.009424      -0.009482       2.484236      94.925613\n",
       "75%         1.158535       1.163678       4.858794     130.595027\n",
       "max         7.238262       7.844801      16.739402     190.029838"
      ]
     },
     "execution_count": 11,
     "metadata": {},
     "output_type": "execute_result"
    }
   ],
   "source": [
    "d2.describe()"
   ]
  },
  {
   "cell_type": "code",
   "execution_count": 12,
   "metadata": {},
   "outputs": [
    {
     "data": {
      "text/plain": [
       "0"
      ]
     },
     "execution_count": 12,
     "metadata": {},
     "output_type": "execute_result"
    }
   ],
   "source": [
    "d2['id'] = d2['id'].str.lower()\n",
    "d2.duplicated().sum()"
   ]
  },
  {
   "cell_type": "code",
   "execution_count": 13,
   "metadata": {},
   "outputs": [],
   "source": [
    "d_set = [d0,d1,d2]"
   ]
  },
  {
   "cell_type": "markdown",
   "metadata": {},
   "source": [
    "Рассмотрим распределение признаков в разных регионах"
   ]
  },
  {
   "cell_type": "code",
   "execution_count": 14,
   "metadata": {},
   "outputs": [
    {
     "data": {
      "image/png": "[encoded data removed]",
      "text/plain": [
       "<Figure size 1000x900 with 12 Axes>"
      ]
     },
     "metadata": {},
     "output_type": "display_data"
    }
   ],
   "source": [
    "c = 0\n",
    "fig, ax = plt.subplots(3, 4, figsize=(10, 9))\n",
    "for s in d_set:\n",
    "    for i in range(4):\n",
    "        ax[c, i].set_title(f'Регион {c}')\n",
    "        sns.histplot(s.iloc[:,1+i], ax=ax[c,i])\n",
    "    c += 1\n",
    "plt.tight_layout()"
   ]
  },
  {
   "cell_type": "markdown",
   "metadata": {},
   "source": [
    "**Выводы: проверка датасетов показала, что синтетические данные подготовлены хорошо без пропусков и дубликатов. Поведение признаков сильно отличаются в разных регионах, особенно во 2 регионе где распределение дискретное.**"
   ]
  },
  {
   "cell_type": "markdown",
   "metadata": {},
   "source": [
    "## Обучение и проверка модели"
   ]
  },
  {
   "cell_type": "markdown",
   "metadata": {},
   "source": [
    "*Разобьем данные на  features и target для обучения и валидации. Но сначала закодируем столбец 'id'*"
   ]
  },
  {
   "cell_type": "code",
   "execution_count": 15,
   "metadata": {},
   "outputs": [],
   "source": [
    "features_valid, features_train, target_valid, target_train = [],[],[],[]"
   ]
  },
  {
   "cell_type": "code",
   "execution_count": 16,
   "metadata": {},
   "outputs": [],
   "source": [
    "for i in range(len(d_set)):\n",
    "    f = d_set[i].drop(['product','id'], axis=1)\n",
    "    t = d_set[i]['product']\n",
    "    f_train, f_valid, t_train, t_valid = train_test_split(f,\n",
    "                                                          t,\n",
    "                                                          test_size=.25,\n",
    "                                                          random_state=123,\n",
    "                                                         )\n",
    "    features_valid.append(f_valid)\n",
    "    features_train.append(f_train)\n",
    "    target_valid.append(t_valid)\n",
    "    target_train.append(t_train)"
   ]
  },
  {
   "cell_type": "markdown",
   "metadata": {},
   "source": [
    "*Проверим как коррелируют признаки*"
   ]
  },
  {
   "cell_type": "code",
   "execution_count": 17,
   "metadata": {},
   "outputs": [
    {
     "name": "stdout",
     "output_type": "stream",
     "text": [
      "interval columns not set, guessing: ['f0', 'f1', 'f2', 'product']\n",
      "interval columns not set, guessing: ['f0', 'f1', 'f2', 'product']\n",
      "interval columns not set, guessing: ['f0', 'f1', 'f2', 'product']\n"
     ]
    },
    {
     "data": {
      "image/png": "[encoded data removed]",
      "text/plain": [
       "<Figure size 450x400 with 2 Axes>"
      ]
     },
     "metadata": {},
     "output_type": "display_data"
    },
    {
     "data": {
      "image/png": "[encoded data removed]",
      "text/plain": [
       "<Figure size 450x400 with 2 Axes>"
      ]
     },
     "metadata": {},
     "output_type": "display_data"
    },
    {
     "data": {
      "image/png": "[encoded data removed]",
      "text/plain": [
       "<Figure size 450x400 with 2 Axes>"
      ]
     },
     "metadata": {},
     "output_type": "display_data"
    }
   ],
   "source": [
    "for i in range(3):\n",
    "    phik_overview = pd.concat([features_train[i],target_train[i]],axis=1).phik_matrix()\n",
    "    plot_correlation_matrix(phik_overview.values, \n",
    "                        x_labels=phik_overview.columns, \n",
    "                        y_labels=phik_overview.index, \n",
    "                        vmin=0, vmax=1, \n",
    "                        title=r\"correlation $\\phi_K$\", \n",
    "                        color_map=\"coolwarm\",\n",
    "                        fontsize_factor=1.5, \n",
    "                        figsize=(4.5, 4))\n",
    "    plt.title(f'Регион {i}')\n",
    "    plt.tight_layout()"
   ]
  },
  {
   "cell_type": "markdown",
   "metadata": {},
   "source": [
    "*Признаки не коррелируюnт между собой, за ичключением региона 0, в котором есть корреляция между f0 и f1*"
   ]
  },
  {
   "cell_type": "code",
   "execution_count": 18,
   "metadata": {},
   "outputs": [
    {
     "name": "stdout",
     "output_type": "stream",
     "text": [
      "(75000, 3)\n",
      "(75000, 3)\n",
      "(75000, 3)\n",
      "(25000, 3)\n",
      "(25000, 3)\n",
      "(25000, 3)\n",
      "(75000,)\n",
      "(75000,)\n",
      "(75000,)\n",
      "(25000,)\n",
      "(25000,)\n",
      "(25000,)\n"
     ]
    }
   ],
   "source": [
    "for s in features_train:\n",
    "    print(s.shape)\n",
    "for s in features_valid:\n",
    "    print(s.shape)\n",
    "for s in target_train:\n",
    "    print(s.shape)\n",
    "for s in target_valid:\n",
    "    print(s.shape)"
   ]
  },
  {
   "cell_type": "markdown",
   "metadata": {},
   "source": [
    "Обучим модель **линейной регресси** для регионов, раcсчитаем среднее значение количества баррелей в скважине и RMSE"
   ]
  },
  {
   "cell_type": "code",
   "execution_count": 19,
   "metadata": {},
   "outputs": [],
   "source": [
    "model = LinearRegression()\n",
    "target_predict = []\n",
    "for i in range(3):\n",
    "    model.fit(features_train[i],target_train[i])\n",
    "    target_predict.append(model.predict(features_valid[i]))"
   ]
  },
  {
   "cell_type": "code",
   "execution_count": 20,
   "metadata": {},
   "outputs": [
    {
     "name": "stdout",
     "output_type": "stream",
     "text": [
      "Среднее значение, тыс.барр\n",
      "Регион 0\n",
      "93\n",
      "Регион 1\n",
      "69\n",
      "Регион 2\n",
      "95\n"
     ]
    }
   ],
   "source": [
    "i = 0\n",
    "print('Среднее значение, тыс.барр')\n",
    "for s in target_predict:\n",
    "    print(f\"Регион {i}\")\n",
    "    print(round(s.mean()))\n",
    "    i += 1"
   ]
  },
  {
   "cell_type": "code",
   "execution_count": 21,
   "metadata": {},
   "outputs": [
    {
     "name": "stdout",
     "output_type": "stream",
     "text": [
      "RSME\n",
      "Регион 0\n",
      "38\n",
      "Регион 1\n",
      "1\n",
      "Регион 2\n",
      "40\n"
     ]
    }
   ],
   "source": [
    "print('RSME')\n",
    "for i in range(3):\n",
    "    print(f\"Регион {i}\")\n",
    "    mse = mean_squared_error(target_valid[i],target_predict[i])\n",
    "    print(round(mse**.5))"
   ]
  },
  {
   "cell_type": "code",
   "execution_count": 22,
   "metadata": {},
   "outputs": [
    {
     "name": "stdout",
     "output_type": "stream",
     "text": [
      "Коэффициент детерминации\n",
      "Регион 0\n",
      "0.28\n",
      "Регион 1\n",
      "1.0\n",
      "Регион 2\n",
      "0.19\n"
     ]
    }
   ],
   "source": [
    "print('Коэффициент детерминации')\n",
    "for i in range(3):\n",
    "    print(f\"Регион {i}\")\n",
    "    r2 = r2_score(target_valid[i],target_predict[i])\n",
    "    print(round(r2,2))"
   ]
  },
  {
   "cell_type": "markdown",
   "metadata": {},
   "source": [
    "**Вывод: Регионы 0 и 2 показали схожие результаты: срежнее около 93-95, RMSE  ~40 и даже показатель модели. Регион 1 показал значительно худший результат - 69 тыс.бар., но его модель значительно точнее предсказывается.** "
   ]
  },
  {
   "cell_type": "markdown",
   "metadata": {},
   "source": [
    "## Подготовка к расчёту прибыли"
   ]
  },
  {
   "cell_type": "markdown",
   "metadata": {},
   "source": [
    "*Расчитаем сколько должна приносить одна скважина для безубыточного производства*\n",
    "\n",
    "*Бюджет на разработку скважин в регионе — 10 млрд рублей. Нужно выбрать 200 скважин. При нынешних ценах один баррель сырья приносит 450 рублей дохода. Доход с каждой единицы продукта составляет 450 тыс. рублей, поскольку объём указан в тысячах баррелей.*\n",
    "\n",
    "*Средняя стоимость разработки следовательно равна*"
   ]
  },
  {
   "cell_type": "code",
   "execution_count": 23,
   "metadata": {},
   "outputs": [],
   "source": [
    "budget = 10*10**9\n",
    "count_oilwell = 200"
   ]
  },
  {
   "cell_type": "code",
   "execution_count": 42,
   "metadata": {},
   "outputs": [
    {
     "name": "stdout",
     "output_type": "stream",
     "text": [
      "Средняя соимость разработки скважины - 50.0 мил.р.\n"
     ]
    }
   ],
   "source": [
    "needed_value = budget / count_oilwell\n",
    "print(f'Средняя соимость разработки скважины - {needed_value / 10**6} мил.р.')"
   ]
  },
  {
   "cell_type": "markdown",
   "metadata": {},
   "source": [
    "*Чтобы скважина окупилось в ней должно быть следующее количество нефти*"
   ]
  },
  {
   "cell_type": "code",
   "execution_count": 43,
   "metadata": {},
   "outputs": [
    {
     "name": "stdout",
     "output_type": "stream",
     "text": [
      "Необходимый запас нефти в скважине, тыс.бар - 111\n"
     ]
    }
   ],
   "source": [
    "income_per_barrel = 450\n",
    "min_value = round(needed_value / income_per_barrel / 10 **3)\n",
    "print(f'Необходимый запас нефти в скважине, тыс.бар - {min_value}')"
   ]
  },
  {
   "cell_type": "markdown",
   "metadata": {},
   "source": [
    "*Обратим внимание, что средний запас нефти значительно ниже в скважине в любом регионе. Поэтому отберем лучшие 200 скважин*"
   ]
  },
  {
   "cell_type": "markdown",
   "metadata": {},
   "source": [
    "## Расчёт прибыли и рисков "
   ]
  },
  {
   "cell_type": "markdown",
   "metadata": {},
   "source": [
    "*Преобразуем список предсказанных значений в Серию*"
   ]
  },
  {
   "cell_type": "code",
   "execution_count": 26,
   "metadata": {},
   "outputs": [],
   "source": [
    "target_predicted = []\n",
    "for i in range(3):\n",
    "    target_predicted.append(pd.Series(target_predict[i], index=target_valid[i].index))"
   ]
  },
  {
   "cell_type": "markdown",
   "metadata": {},
   "source": [
    "*Найдем суммарное количество нефти в 200 лучших скважинах и доход от них, а также средние величины*"
   ]
  },
  {
   "cell_type": "code",
   "execution_count": 44,
   "metadata": {},
   "outputs": [
    {
     "name": "stdout",
     "output_type": "stream",
     "text": [
      "Регион 0\n",
      "Суммарный запас нефти, тыс.барю - 31034.787805093565\n",
      "Суммарная прибыль, милр.р. - 3.9656545122921045\n",
      "Средний запас в скважине, тыс.бар 155.17393902546783\n",
      "Средний доход, мил.р. 19.828272561460523\n",
      "- - - - - -\n",
      "Регион 1\n",
      "Суммарный запас нефти, тыс.барю - 27755.761982793923\n",
      "Суммарная прибыль, милр.р. - 2.490092892257266\n",
      "Средний запас в скважине, тыс.бар 138.7788099139696\n",
      "Средний доход, мил.р. 12.45046446128633\n",
      "- - - - - -\n",
      "Регион 2\n",
      "Суммарный запас нефти, тыс.барю - 29943.443110391785\n",
      "Суммарная прибыль, милр.р. - 3.4745493996763024\n",
      "Средний запас в скважине, тыс.бар 149.71721555195893\n",
      "Средний доход, мил.р. 17.37274699838153\n",
      "- - - - - -\n"
     ]
    }
   ],
   "source": [
    "for i in range(3):\n",
    "    l = target_predicted[i].sort_values(ascending=False)[:200]\n",
    "    print(f'Регион {i}')\n",
    "    print(f'Суммарный запас нефти, тыс.барю - {l.sum()}')\n",
    "    print(f'Суммарная прибыль, милр.р. - {l.sum()  * income_per_barrel / 10**6 - 10}')\n",
    "    print(f'Средний запас в скважине, тыс.бар {l.mean()}')\n",
    "    print(f'Средний доход, мил.р. {l.mean() * income_per_barrel / 10**3 - 50}')\n",
    "    print('- - - - - -')"
   ]
  },
  {
   "cell_type": "code",
   "execution_count": 28,
   "metadata": {},
   "outputs": [],
   "source": [
    "target_predicted_98 = []\n",
    "for i in range(3):\n",
    "    treshold = target_predicted[i].quantile(q=0.98)\n",
    "    target_predicted_98.append(target_predicted[i].loc[lambda x: x < treshold])"
   ]
  },
  {
   "cell_type": "code",
   "execution_count": 29,
   "metadata": {},
   "outputs": [],
   "source": [
    "def profit_200(target, probabilities,income_oilwell=450*10**3,budget=10**10,count=200):\n",
    "    \"\"\"\n",
    "    Функция возвращает прибыль 200 лучших скважин\n",
    "    \"\"\"\n",
    "    probs_sorted = probabilities.sort_values(ascending=False)\n",
    "    selected = target[probs_sorted.index][:count]\n",
    "    return income_oilwell * selected.sum() - budget"
   ]
  },
  {
   "cell_type": "code",
   "execution_count": 30,
   "metadata": {},
   "outputs": [],
   "source": [
    "state = np.random.RandomState(123)"
   ]
  },
  {
   "cell_type": "code",
   "execution_count": 31,
   "metadata": {},
   "outputs": [],
   "source": [
    "def bootstrap_profit(target,predictions):\n",
    "    \"\"\"\n",
    "    Возвращает среднюю прибыль, 95% доверительный интервал и вероятность убытка\n",
    "    \"\"\"\n",
    "    revenue = []\n",
    "    target = target[predictions.index] \n",
    "    for i in range(2000):\n",
    "        target_sample = target.sample(500, replace=True, random_state=state)\n",
    "        predictions_sample = predictions[target_sample.index]\n",
    "        revenue.append(profit_200(target_sample,predictions_sample)) \n",
    "    mean_revenue = round(sum(revenue) / len(revenue), 2)    \n",
    "    lower = round(np.percentile(revenue, 2.5), 2)\n",
    "    higher = round(np.percentile(revenue, 97.5), 2)\n",
    "    risk = round(st.percentileofscore(revenue, 0), 2)\n",
    "\n",
    "    return (mean_revenue, (lower, higher),  risk)"
   ]
  },
  {
   "cell_type": "markdown",
   "metadata": {},
   "source": [
    "*Рассчитаем потенциальную прибыль для каждого региона*"
   ]
  },
  {
   "cell_type": "code",
   "execution_count": 32,
   "metadata": {},
   "outputs": [
    {
     "name": "stdout",
     "output_type": "stream",
     "text": [
      "Регион 0\n",
      "Средняя прибыль - 0.507\n",
      "Доверительный интервал - от -0.024 до 1.037\n",
      "Вероятность убытка - 3.2\n",
      "Регион 1\n",
      "Средняя прибыль - 0.519\n",
      "Доверительный интервал - от 0.095 до 0.973\n",
      "Вероятность убытка - 0.7\n",
      "Регион 2\n",
      "Средняя прибыль - 0.366\n",
      "Доверительный интервал - от -0.192 до 0.927\n",
      "Вероятность убытка - 10.0\n"
     ]
    }
   ],
   "source": [
    "c = 0\n",
    "for target, prediction in zip(target_valid, target_predicted):\n",
    "    mean_revenue, interval,  risk = bootstrap_profit(target,prediction)\n",
    "    print(f'Регион {c}')\n",
    "    print(f'Средняя прибыль - {round(mean_revenue / 10**9,3)}')\n",
    "    print(f'Доверительный интервал - от {round(interval[0] / 10**9,3)} до {round(interval[1] / 10**9,3)}')\n",
    "    print(f'Вероятность убытка - {risk}')\n",
    "    c += 1"
   ]
  },
  {
   "cell_type": "markdown",
   "metadata": {},
   "source": [
    "**Вывод: бутсрап показал, что наиболее надежным регионом является регион 1. Средняя прибыль региона равна 0,5 млрд.р. при низком риске прогореть не более 1%. Так же 95% доверительный интервал лежит в положительной части от 0.099 до 0.956 млрд., что показывает надежность региона. Самым рискованным регионом является регион 2, риск прогореть около 10%, при потенциальной прибыли 0,3 млрд.**"
   ]
  },
  {
   "cell_type": "code",
   "execution_count": null,
   "metadata": {},
   "outputs": [],
   "source": []
  }
 ],
 "metadata": {
  "ExecuteTimeLog": [
   {
    "duration": 458,
    "start_time": "2023-01-05T18:11:44.871Z"
   },
   {
    "duration": 7,
    "start_time": "2023-01-05T18:11:50.853Z"
   },
   {
    "duration": 2,
    "start_time": "2023-01-05T18:11:53.328Z"
   },
   {
    "duration": 484,
    "start_time": "2023-01-05T18:12:14.298Z"
   },
   {
    "duration": 14,
    "start_time": "2023-01-05T18:12:25.284Z"
   },
   {
    "duration": 14,
    "start_time": "2023-01-05T18:12:38.628Z"
   },
   {
    "duration": 20,
    "start_time": "2023-01-05T18:12:49.595Z"
   },
   {
    "duration": 10,
    "start_time": "2023-01-05T18:13:31.268Z"
   },
   {
    "duration": 34,
    "start_time": "2023-01-05T18:13:37.705Z"
   },
   {
    "duration": 37,
    "start_time": "2023-01-05T18:13:49.927Z"
   },
   {
    "duration": 31,
    "start_time": "2023-01-05T18:13:54.359Z"
   },
   {
    "duration": 33,
    "start_time": "2023-01-05T18:13:58.349Z"
   },
   {
    "duration": 7,
    "start_time": "2023-01-05T18:16:55.590Z"
   },
   {
    "duration": 7,
    "start_time": "2023-01-05T18:16:57.868Z"
   },
   {
    "duration": 7,
    "start_time": "2023-01-05T18:17:00.584Z"
   },
   {
    "duration": 8,
    "start_time": "2023-01-05T18:17:02.925Z"
   },
   {
    "duration": 8,
    "start_time": "2023-01-05T18:17:12.513Z"
   },
   {
    "duration": 43,
    "start_time": "2023-01-05T18:17:45.508Z"
   },
   {
    "duration": 8,
    "start_time": "2023-01-05T18:17:50.556Z"
   },
   {
    "duration": 7,
    "start_time": "2023-01-05T18:18:03.661Z"
   },
   {
    "duration": 7,
    "start_time": "2023-01-05T18:18:12.366Z"
   },
   {
    "duration": 10,
    "start_time": "2023-01-05T18:18:25.988Z"
   },
   {
    "duration": 8,
    "start_time": "2023-01-05T18:18:30.182Z"
   },
   {
    "duration": 42,
    "start_time": "2023-01-05T18:19:01.403Z"
   },
   {
    "duration": 41,
    "start_time": "2023-01-05T18:19:07.350Z"
   },
   {
    "duration": 132,
    "start_time": "2023-01-05T18:20:00.575Z"
   },
   {
    "duration": 19,
    "start_time": "2023-01-05T18:20:02.046Z"
   },
   {
    "duration": 34,
    "start_time": "2023-01-05T18:20:05.529Z"
   },
   {
    "duration": 43,
    "start_time": "2023-01-05T18:20:10.052Z"
   },
   {
    "duration": 212,
    "start_time": "2023-01-05T18:20:15.089Z"
   },
   {
    "duration": 34,
    "start_time": "2023-01-05T18:20:27.550Z"
   },
   {
    "duration": 38,
    "start_time": "2023-01-05T18:21:12.372Z"
   },
   {
    "duration": 215,
    "start_time": "2023-01-05T18:22:00.639Z"
   },
   {
    "duration": 38,
    "start_time": "2023-01-05T18:22:20.030Z"
   },
   {
    "duration": 860,
    "start_time": "2023-01-05T18:22:53.852Z"
   },
   {
    "duration": 43,
    "start_time": "2023-01-05T18:23:25.402Z"
   },
   {
    "duration": 8,
    "start_time": "2023-01-05T18:24:20.012Z"
   },
   {
    "duration": 2,
    "start_time": "2023-01-05T18:24:38.488Z"
   },
   {
    "duration": 4,
    "start_time": "2023-01-05T18:24:47.737Z"
   },
   {
    "duration": 2,
    "start_time": "2023-01-05T18:25:18.387Z"
   },
   {
    "duration": 722,
    "start_time": "2023-01-05T18:26:17.128Z"
   },
   {
    "duration": 57,
    "start_time": "2023-01-05T18:30:19.909Z"
   },
   {
    "duration": 708,
    "start_time": "2023-01-05T18:37:01.407Z"
   },
   {
    "duration": 14,
    "start_time": "2023-01-05T18:37:09.960Z"
   },
   {
    "duration": 3,
    "start_time": "2023-01-05T18:37:29.554Z"
   },
   {
    "duration": 152,
    "start_time": "2023-01-05T18:37:38.253Z"
   },
   {
    "duration": 3496,
    "start_time": "2023-01-05T18:38:08.020Z"
   },
   {
    "duration": 3545,
    "start_time": "2023-01-05T18:38:40.520Z"
   },
   {
    "duration": 6,
    "start_time": "2023-01-05T18:39:02.539Z"
   },
   {
    "duration": 50,
    "start_time": "2023-01-05T18:39:10.656Z"
   },
   {
    "duration": 4,
    "start_time": "2023-01-05T18:39:18.747Z"
   },
   {
    "duration": 9,
    "start_time": "2023-01-05T18:39:28.205Z"
   },
   {
    "duration": 58,
    "start_time": "2023-01-05T18:39:39.457Z"
   },
   {
    "duration": 5,
    "start_time": "2023-01-05T18:40:52.137Z"
   },
   {
    "duration": 267,
    "start_time": "2023-01-05T18:41:00.410Z"
   },
   {
    "duration": 387,
    "start_time": "2023-01-05T18:41:14.337Z"
   },
   {
    "duration": 1935,
    "start_time": "2023-01-05T18:41:56.811Z"
   },
   {
    "duration": 3042,
    "start_time": "2023-01-05T18:42:05.497Z"
   },
   {
    "duration": 10,
    "start_time": "2023-01-05T18:43:31.779Z"
   },
   {
    "duration": 192,
    "start_time": "2023-01-05T18:45:08.613Z"
   },
   {
    "duration": 2872,
    "start_time": "2023-01-05T18:45:53.190Z"
   },
   {
    "duration": 3147,
    "start_time": "2023-01-05T18:46:13.899Z"
   },
   {
    "duration": 3834,
    "start_time": "2023-01-05T18:53:55.971Z"
   },
   {
    "duration": 218,
    "start_time": "2023-01-05T19:03:18.808Z"
   },
   {
    "duration": 8642,
    "start_time": "2023-01-05T19:04:30.572Z"
   },
   {
    "duration": 3,
    "start_time": "2023-01-05T19:05:03.943Z"
   },
   {
    "duration": 3946,
    "start_time": "2023-01-05T19:05:07.889Z"
   },
   {
    "duration": 13,
    "start_time": "2023-01-05T19:06:07.814Z"
   },
   {
    "duration": 21,
    "start_time": "2023-01-05T19:06:28.090Z"
   },
   {
    "duration": 6,
    "start_time": "2023-01-05T19:06:39.493Z"
   },
   {
    "duration": 219,
    "start_time": "2023-01-05T19:06:47.019Z"
   },
   {
    "duration": 153,
    "start_time": "2023-01-05T19:06:58.445Z"
   },
   {
    "duration": 245,
    "start_time": "2023-01-05T19:07:14.921Z"
   },
   {
    "duration": 298,
    "start_time": "2023-01-05T19:07:22.061Z"
   },
   {
    "duration": 167,
    "start_time": "2023-01-05T19:07:42.286Z"
   },
   {
    "duration": 263,
    "start_time": "2023-01-05T19:07:47.963Z"
   },
   {
    "duration": 147,
    "start_time": "2023-01-05T19:07:50.979Z"
   },
   {
    "duration": 183,
    "start_time": "2023-01-05T19:07:54.389Z"
   },
   {
    "duration": 12,
    "start_time": "2023-01-05T19:08:14.687Z"
   },
   {
    "duration": 13,
    "start_time": "2023-01-05T19:08:20.252Z"
   },
   {
    "duration": 13,
    "start_time": "2023-01-05T19:08:26.246Z"
   },
   {
    "duration": 8,
    "start_time": "2023-01-05T19:08:36.418Z"
   },
   {
    "duration": 8,
    "start_time": "2023-01-05T19:08:44.597Z"
   },
   {
    "duration": 154,
    "start_time": "2023-01-05T19:09:13.278Z"
   },
   {
    "duration": 245,
    "start_time": "2023-01-05T19:09:19.414Z"
   },
   {
    "duration": 1331,
    "start_time": "2023-01-17T11:11:27.322Z"
   },
   {
    "duration": 3,
    "start_time": "2023-01-17T11:11:38.889Z"
   },
   {
    "duration": 488,
    "start_time": "2023-01-17T11:11:41.714Z"
   },
   {
    "duration": 135,
    "start_time": "2023-01-17T11:18:31.476Z"
   },
   {
    "duration": 27,
    "start_time": "2023-01-17T11:18:33.865Z"
   },
   {
    "duration": 38,
    "start_time": "2023-01-17T11:18:48.644Z"
   },
   {
    "duration": 49,
    "start_time": "2023-01-17T11:18:55.174Z"
   },
   {
    "duration": 224,
    "start_time": "2023-01-17T11:19:01.682Z"
   },
   {
    "duration": 36,
    "start_time": "2023-01-17T11:19:04.760Z"
   },
   {
    "duration": 48,
    "start_time": "2023-01-17T11:19:08.257Z"
   },
   {
    "duration": 214,
    "start_time": "2023-01-17T11:19:12.050Z"
   },
   {
    "duration": 38,
    "start_time": "2023-01-17T11:19:15.944Z"
   },
   {
    "duration": 3,
    "start_time": "2023-01-17T11:19:22.087Z"
   },
   {
    "duration": 19,
    "start_time": "2023-01-17T11:19:25.856Z"
   },
   {
    "duration": 4272,
    "start_time": "2023-01-17T11:19:53.538Z"
   },
   {
    "duration": 3328,
    "start_time": "2023-01-17T11:25:32.650Z"
   },
   {
    "duration": 3,
    "start_time": "2023-01-17T11:26:08.838Z"
   },
   {
    "duration": 66,
    "start_time": "2023-01-17T11:26:25.949Z"
   },
   {
    "duration": 263,
    "start_time": "2023-01-17T11:26:41.833Z"
   },
   {
    "duration": 3246,
    "start_time": "2023-01-17T11:30:26.852Z"
   },
   {
    "duration": 3263,
    "start_time": "2023-01-17T11:31:01.389Z"
   },
   {
    "duration": 3702,
    "start_time": "2023-01-17T11:31:12.820Z"
   },
   {
    "duration": 14,
    "start_time": "2023-01-17T11:31:42.966Z"
   },
   {
    "duration": 10,
    "start_time": "2023-01-17T11:31:59.704Z"
   },
   {
    "duration": 10,
    "start_time": "2023-01-17T11:32:15.713Z"
   },
   {
    "duration": 11,
    "start_time": "2023-01-17T11:32:21.669Z"
   },
   {
    "duration": 3,
    "start_time": "2023-01-17T11:57:52.105Z"
   },
   {
    "duration": 10,
    "start_time": "2023-01-17T11:59:43.322Z"
   },
   {
    "duration": 16,
    "start_time": "2023-01-17T11:59:49.458Z"
   },
   {
    "duration": 14,
    "start_time": "2023-01-17T12:00:06.603Z"
   },
   {
    "duration": 13,
    "start_time": "2023-01-17T12:00:11.072Z"
   },
   {
    "duration": 13,
    "start_time": "2023-01-17T12:00:55.506Z"
   },
   {
    "duration": 19,
    "start_time": "2023-01-17T12:00:58.842Z"
   },
   {
    "duration": 134,
    "start_time": "2023-01-17T12:02:08.093Z"
   },
   {
    "duration": 40,
    "start_time": "2023-01-17T12:02:30.801Z"
   },
   {
    "duration": 6,
    "start_time": "2023-01-17T12:02:49.445Z"
   },
   {
    "duration": 4,
    "start_time": "2023-01-17T12:04:44.611Z"
   },
   {
    "duration": 13,
    "start_time": "2023-01-17T12:10:00.987Z"
   },
   {
    "duration": 27,
    "start_time": "2023-01-17T12:10:12.013Z"
   },
   {
    "duration": 24,
    "start_time": "2023-01-17T12:10:15.480Z"
   },
   {
    "duration": 3,
    "start_time": "2023-01-17T12:10:29.650Z"
   },
   {
    "duration": 7,
    "start_time": "2023-01-17T12:10:31.759Z"
   },
   {
    "duration": 11,
    "start_time": "2023-01-17T12:10:35.186Z"
   },
   {
    "duration": 15,
    "start_time": "2023-01-17T12:10:52.287Z"
   },
   {
    "duration": 27,
    "start_time": "2023-01-17T12:11:09.141Z"
   },
   {
    "duration": 16,
    "start_time": "2023-01-17T12:11:32.476Z"
   },
   {
    "duration": 6,
    "start_time": "2023-01-17T12:11:51.191Z"
   },
   {
    "duration": 15,
    "start_time": "2023-01-17T12:18:40.250Z"
   },
   {
    "duration": 1220,
    "start_time": "2023-01-17T12:18:45.706Z"
   },
   {
    "duration": 11,
    "start_time": "2023-01-17T12:18:53.465Z"
   },
   {
    "duration": 28,
    "start_time": "2023-01-17T12:19:37.737Z"
   },
   {
    "duration": 34,
    "start_time": "2023-01-17T12:21:34.314Z"
   },
   {
    "duration": 14,
    "start_time": "2023-01-17T12:22:00.314Z"
   },
   {
    "duration": 13,
    "start_time": "2023-01-17T12:22:13.918Z"
   },
   {
    "duration": 33,
    "start_time": "2023-01-17T12:23:18.176Z"
   },
   {
    "duration": 31,
    "start_time": "2023-01-17T12:23:53.165Z"
   },
   {
    "duration": 16,
    "start_time": "2023-01-17T12:24:00.446Z"
   },
   {
    "duration": 2117,
    "start_time": "2023-01-17T12:24:28.090Z"
   },
   {
    "duration": 4,
    "start_time": "2023-01-17T12:24:30.209Z"
   },
   {
    "duration": 35,
    "start_time": "2023-01-17T12:24:30.215Z"
   },
   {
    "duration": 196,
    "start_time": "2023-01-17T12:24:30.252Z"
   },
   {
    "duration": 36,
    "start_time": "2023-01-17T12:24:30.452Z"
   },
   {
    "duration": 55,
    "start_time": "2023-01-17T12:24:30.491Z"
   },
   {
    "duration": 50,
    "start_time": "2023-01-17T12:24:30.548Z"
   },
   {
    "duration": 156,
    "start_time": "2023-01-17T12:24:30.600Z"
   },
   {
    "duration": 41,
    "start_time": "2023-01-17T12:24:30.757Z"
   },
   {
    "duration": 85,
    "start_time": "2023-01-17T12:24:30.800Z"
   },
   {
    "duration": 214,
    "start_time": "2023-01-17T12:24:30.887Z"
   },
   {
    "duration": 47,
    "start_time": "2023-01-17T12:24:31.103Z"
   },
   {
    "duration": 3,
    "start_time": "2023-01-17T12:24:31.152Z"
   },
   {
    "duration": 4562,
    "start_time": "2023-01-17T12:24:31.157Z"
   },
   {
    "duration": 3,
    "start_time": "2023-01-17T12:24:35.721Z"
   },
   {
    "duration": 46,
    "start_time": "2023-01-17T12:24:35.726Z"
   },
   {
    "duration": 0,
    "start_time": "2023-01-17T12:24:35.773Z"
   },
   {
    "duration": 30,
    "start_time": "2023-01-17T12:31:31.504Z"
   },
   {
    "duration": 26,
    "start_time": "2023-01-17T12:32:20.903Z"
   },
   {
    "duration": 26,
    "start_time": "2023-01-17T12:32:26.349Z"
   },
   {
    "duration": 39,
    "start_time": "2023-01-17T12:32:33.004Z"
   },
   {
    "duration": 4267,
    "start_time": "2023-01-17T12:32:37.369Z"
   },
   {
    "duration": 5060,
    "start_time": "2023-01-17T12:33:22.027Z"
   },
   {
    "duration": 2182,
    "start_time": "2023-01-17T12:34:09.038Z"
   },
   {
    "duration": 6,
    "start_time": "2023-01-17T12:34:11.223Z"
   },
   {
    "duration": 9,
    "start_time": "2023-01-17T12:34:11.232Z"
   },
   {
    "duration": 171,
    "start_time": "2023-01-17T12:34:11.244Z"
   },
   {
    "duration": 25,
    "start_time": "2023-01-17T12:34:11.418Z"
   },
   {
    "duration": 39,
    "start_time": "2023-01-17T12:34:11.445Z"
   },
   {
    "duration": 79,
    "start_time": "2023-01-17T12:34:11.486Z"
   },
   {
    "duration": 186,
    "start_time": "2023-01-17T12:34:11.568Z"
   },
   {
    "duration": 37,
    "start_time": "2023-01-17T12:34:11.756Z"
   },
   {
    "duration": 62,
    "start_time": "2023-01-17T12:34:11.796Z"
   },
   {
    "duration": 156,
    "start_time": "2023-01-17T12:34:11.860Z"
   },
   {
    "duration": 36,
    "start_time": "2023-01-17T12:34:12.021Z"
   },
   {
    "duration": 10,
    "start_time": "2023-01-17T12:34:12.059Z"
   },
   {
    "duration": 4691,
    "start_time": "2023-01-17T12:34:12.071Z"
   },
   {
    "duration": 28,
    "start_time": "2023-01-17T12:34:16.763Z"
   },
   {
    "duration": 0,
    "start_time": "2023-01-17T12:34:16.793Z"
   },
   {
    "duration": 0,
    "start_time": "2023-01-17T12:34:16.794Z"
   },
   {
    "duration": 5,
    "start_time": "2023-01-17T12:36:50.469Z"
   },
   {
    "duration": 22,
    "start_time": "2023-01-17T12:37:21.134Z"
   },
   {
    "duration": 36,
    "start_time": "2023-01-17T12:37:32.383Z"
   },
   {
    "duration": 33,
    "start_time": "2023-01-17T12:37:58.940Z"
   },
   {
    "duration": 36,
    "start_time": "2023-01-17T12:38:02.385Z"
   },
   {
    "duration": 37,
    "start_time": "2023-01-17T12:38:05.860Z"
   },
   {
    "duration": 45,
    "start_time": "2023-01-17T12:38:11.467Z"
   },
   {
    "duration": 3,
    "start_time": "2023-01-17T12:38:31.248Z"
   },
   {
    "duration": 39,
    "start_time": "2023-01-17T12:38:33.761Z"
   },
   {
    "duration": 15,
    "start_time": "2023-01-17T12:39:09.539Z"
   },
   {
    "duration": 9,
    "start_time": "2023-01-17T12:39:22.158Z"
   },
   {
    "duration": 14,
    "start_time": "2023-01-17T12:39:23.936Z"
   },
   {
    "duration": 10,
    "start_time": "2023-01-17T12:39:42.271Z"
   },
   {
    "duration": 68,
    "start_time": "2023-01-17T12:39:46.527Z"
   },
   {
    "duration": 5,
    "start_time": "2023-01-17T12:39:49.188Z"
   },
   {
    "duration": 7,
    "start_time": "2023-01-17T12:40:11.101Z"
   },
   {
    "duration": 48,
    "start_time": "2023-01-17T13:04:36.867Z"
   },
   {
    "duration": 1130,
    "start_time": "2023-01-17T13:05:39.362Z"
   },
   {
    "duration": 37,
    "start_time": "2023-01-17T13:06:04.321Z"
   },
   {
    "duration": 1158,
    "start_time": "2023-01-17T13:06:08.190Z"
   },
   {
    "duration": 13,
    "start_time": "2023-01-17T13:10:30.775Z"
   },
   {
    "duration": 28,
    "start_time": "2023-01-17T13:10:52.385Z"
   },
   {
    "duration": 8,
    "start_time": "2023-01-17T13:10:54.372Z"
   },
   {
    "duration": 5,
    "start_time": "2023-01-17T13:11:01.417Z"
   },
   {
    "duration": 33,
    "start_time": "2023-01-17T13:11:03.861Z"
   },
   {
    "duration": 5,
    "start_time": "2023-01-17T13:11:05.712Z"
   },
   {
    "duration": 23,
    "start_time": "2023-01-17T13:11:39.191Z"
   },
   {
    "duration": 1212,
    "start_time": "2023-01-17T13:11:48.073Z"
   },
   {
    "duration": 30,
    "start_time": "2023-01-17T13:13:03.735Z"
   },
   {
    "duration": 1235,
    "start_time": "2023-01-17T13:13:05.809Z"
   },
   {
    "duration": 5,
    "start_time": "2023-01-17T13:13:50.731Z"
   },
   {
    "duration": 3021,
    "start_time": "2023-01-17T13:14:26.531Z"
   },
   {
    "duration": 1550,
    "start_time": "2023-01-17T16:51:43.606Z"
   },
   {
    "duration": 14,
    "start_time": "2023-01-17T16:52:42.676Z"
   },
   {
    "duration": 3286,
    "start_time": "2023-01-17T16:52:47.271Z"
   },
   {
    "duration": 281,
    "start_time": "2023-01-17T16:53:09.796Z"
   },
   {
    "duration": 4,
    "start_time": "2023-01-17T16:53:11.999Z"
   },
   {
    "duration": 549,
    "start_time": "2023-01-17T16:53:14.087Z"
   },
   {
    "duration": 149,
    "start_time": "2023-01-17T16:53:21.649Z"
   },
   {
    "duration": 48,
    "start_time": "2023-01-17T16:53:21.800Z"
   },
   {
    "duration": 41,
    "start_time": "2023-01-17T16:53:21.850Z"
   },
   {
    "duration": 65,
    "start_time": "2023-01-17T16:53:21.894Z"
   },
   {
    "duration": 636,
    "start_time": "2023-01-17T16:53:21.961Z"
   },
   {
    "duration": 46,
    "start_time": "2023-01-17T16:53:22.601Z"
   },
   {
    "duration": 67,
    "start_time": "2023-01-17T16:53:22.649Z"
   },
   {
    "duration": 591,
    "start_time": "2023-01-17T16:53:22.718Z"
   },
   {
    "duration": 39,
    "start_time": "2023-01-17T16:53:23.311Z"
   },
   {
    "duration": 3,
    "start_time": "2023-01-17T16:53:23.353Z"
   },
   {
    "duration": 4474,
    "start_time": "2023-01-17T16:53:23.358Z"
   },
   {
    "duration": 5,
    "start_time": "2023-01-17T16:53:27.833Z"
   },
   {
    "duration": 46,
    "start_time": "2023-01-17T16:53:27.839Z"
   },
   {
    "duration": 5,
    "start_time": "2023-01-17T16:53:27.887Z"
   },
   {
    "duration": 51,
    "start_time": "2023-01-17T16:53:27.894Z"
   },
   {
    "duration": 3383,
    "start_time": "2023-01-17T16:53:27.947Z"
   },
   {
    "duration": 4,
    "start_time": "2023-01-17T16:54:01.400Z"
   },
   {
    "duration": 34,
    "start_time": "2023-01-17T16:56:18.986Z"
   },
   {
    "duration": 11,
    "start_time": "2023-01-17T16:56:41.143Z"
   },
   {
    "duration": 11,
    "start_time": "2023-01-17T16:57:59.997Z"
   },
   {
    "duration": 5,
    "start_time": "2023-01-17T16:58:22.279Z"
   },
   {
    "duration": 4,
    "start_time": "2023-01-17T16:58:56.401Z"
   },
   {
    "duration": 39,
    "start_time": "2023-01-17T16:58:58.077Z"
   },
   {
    "duration": 6,
    "start_time": "2023-01-17T16:59:00.162Z"
   },
   {
    "duration": 42,
    "start_time": "2023-01-17T16:59:03.481Z"
   },
   {
    "duration": 3390,
    "start_time": "2023-01-17T16:59:05.327Z"
   },
   {
    "duration": 50,
    "start_time": "2023-01-17T16:59:12.595Z"
   },
   {
    "duration": 123,
    "start_time": "2023-01-17T17:00:57.116Z"
   },
   {
    "duration": 11,
    "start_time": "2023-01-17T17:07:09.550Z"
   },
   {
    "duration": 10,
    "start_time": "2023-01-17T17:07:29.274Z"
   },
   {
    "duration": 6,
    "start_time": "2023-01-17T17:07:56.957Z"
   },
   {
    "duration": 4,
    "start_time": "2023-01-17T17:39:35.230Z"
   },
   {
    "duration": 4,
    "start_time": "2023-01-17T17:39:44.199Z"
   },
   {
    "duration": 5,
    "start_time": "2023-01-17T17:39:55.696Z"
   },
   {
    "duration": 5,
    "start_time": "2023-01-17T17:41:12.931Z"
   },
   {
    "duration": 3,
    "start_time": "2023-01-17T17:41:20.717Z"
   },
   {
    "duration": 6,
    "start_time": "2023-01-17T17:42:37.889Z"
   },
   {
    "duration": 4,
    "start_time": "2023-01-17T17:42:43.544Z"
   },
   {
    "duration": 12,
    "start_time": "2023-01-17T17:50:30.225Z"
   },
   {
    "duration": 11,
    "start_time": "2023-01-17T17:50:34.776Z"
   },
   {
    "duration": 13,
    "start_time": "2023-01-17T17:53:55.828Z"
   },
   {
    "duration": 44,
    "start_time": "2023-01-17T17:54:14.686Z"
   },
   {
    "duration": 31,
    "start_time": "2023-01-17T17:54:25.054Z"
   },
   {
    "duration": 26,
    "start_time": "2023-01-17T17:54:33.462Z"
   },
   {
    "duration": 39,
    "start_time": "2023-01-17T17:54:39.220Z"
   },
   {
    "duration": 79,
    "start_time": "2023-01-17T17:54:57.937Z"
   },
   {
    "duration": 86,
    "start_time": "2023-01-17T17:55:07.373Z"
   },
   {
    "duration": 37,
    "start_time": "2023-01-17T17:55:14.936Z"
   },
   {
    "duration": 165,
    "start_time": "2023-01-17T17:55:24.719Z"
   },
   {
    "duration": 86,
    "start_time": "2023-01-17T17:55:28.107Z"
   },
   {
    "duration": 75,
    "start_time": "2023-01-17T17:55:55.554Z"
   },
   {
    "duration": 166,
    "start_time": "2023-01-17T17:56:32.933Z"
   },
   {
    "duration": 76,
    "start_time": "2023-01-17T17:56:39.962Z"
   },
   {
    "duration": 2,
    "start_time": "2023-01-17T17:56:47.563Z"
   },
   {
    "duration": 4773,
    "start_time": "2023-01-17T17:56:49.040Z"
   },
   {
    "duration": 4,
    "start_time": "2023-01-17T18:06:21.339Z"
   },
   {
    "duration": 5,
    "start_time": "2023-01-17T18:07:12.799Z"
   },
   {
    "duration": 3,
    "start_time": "2023-01-17T18:08:42.285Z"
   },
   {
    "duration": 436,
    "start_time": "2023-01-17T18:23:17.371Z"
   },
   {
    "duration": 2084,
    "start_time": "2023-01-17T18:28:17.230Z"
   },
   {
    "duration": 2162,
    "start_time": "2023-01-17T18:30:56.108Z"
   },
   {
    "duration": 2047,
    "start_time": "2023-01-17T18:31:18.910Z"
   },
   {
    "duration": 4,
    "start_time": "2023-01-17T19:18:38.407Z"
   },
   {
    "duration": 52,
    "start_time": "2023-01-17T19:18:47.137Z"
   },
   {
    "duration": 3662,
    "start_time": "2023-01-18T08:28:55.197Z"
   },
   {
    "duration": 1788,
    "start_time": "2023-01-18T08:28:58.862Z"
   },
   {
    "duration": 5,
    "start_time": "2023-01-18T08:29:00.651Z"
   },
   {
    "duration": 648,
    "start_time": "2023-01-18T08:29:00.659Z"
   },
   {
    "duration": 38,
    "start_time": "2023-01-18T08:29:01.310Z"
   },
   {
    "duration": 49,
    "start_time": "2023-01-18T08:29:01.358Z"
   },
   {
    "duration": 94,
    "start_time": "2023-01-18T08:29:01.409Z"
   },
   {
    "duration": 625,
    "start_time": "2023-01-18T08:29:01.505Z"
   },
   {
    "duration": 54,
    "start_time": "2023-01-18T08:29:02.132Z"
   },
   {
    "duration": 91,
    "start_time": "2023-01-18T08:29:02.189Z"
   },
   {
    "duration": 618,
    "start_time": "2023-01-18T08:29:02.282Z"
   },
   {
    "duration": 52,
    "start_time": "2023-01-18T08:29:02.902Z"
   },
   {
    "duration": 77,
    "start_time": "2023-01-18T08:29:02.956Z"
   },
   {
    "duration": 9,
    "start_time": "2023-01-18T08:29:03.035Z"
   },
   {
    "duration": 4651,
    "start_time": "2023-01-18T08:29:03.046Z"
   },
   {
    "duration": 154,
    "start_time": "2023-01-18T08:29:07.699Z"
   },
   {
    "duration": 17,
    "start_time": "2023-01-18T08:34:35.576Z"
   },
   {
    "duration": 16,
    "start_time": "2023-01-18T08:34:53.664Z"
   },
   {
    "duration": 21,
    "start_time": "2023-01-18T08:35:21.786Z"
   },
   {
    "duration": 180,
    "start_time": "2023-01-18T08:35:37.032Z"
   },
   {
    "duration": 223,
    "start_time": "2023-01-18T08:35:43.930Z"
   },
   {
    "duration": 241,
    "start_time": "2023-01-18T08:35:47.219Z"
   },
   {
    "duration": 16,
    "start_time": "2023-01-18T08:39:49.709Z"
   },
   {
    "duration": 6,
    "start_time": "2023-01-18T08:39:55.910Z"
   },
   {
    "duration": 40,
    "start_time": "2023-01-18T08:41:51.964Z"
   },
   {
    "duration": 1002,
    "start_time": "2023-01-18T08:42:38.720Z"
   },
   {
    "duration": 85,
    "start_time": "2023-01-18T08:43:08.691Z"
   },
   {
    "duration": 16,
    "start_time": "2023-01-18T08:46:25.190Z"
   },
   {
    "duration": 28,
    "start_time": "2023-01-18T08:46:33.736Z"
   },
   {
    "duration": 26,
    "start_time": "2023-01-18T08:46:45.706Z"
   },
   {
    "duration": 25,
    "start_time": "2023-01-18T08:47:11.564Z"
   },
   {
    "duration": 4,
    "start_time": "2023-01-18T08:47:15.336Z"
   },
   {
    "duration": 56,
    "start_time": "2023-01-18T08:47:17.033Z"
   },
   {
    "duration": 2930,
    "start_time": "2023-01-18T08:47:22.576Z"
   },
   {
    "duration": 12,
    "start_time": "2023-01-18T08:47:57.265Z"
   },
   {
    "duration": 7,
    "start_time": "2023-01-18T08:48:10.108Z"
   },
   {
    "duration": 128,
    "start_time": "2023-01-18T08:51:01.165Z"
   },
   {
    "duration": 3252,
    "start_time": "2023-01-18T08:51:02.717Z"
   },
   {
    "duration": 273,
    "start_time": "2023-01-18T08:51:18.770Z"
   },
   {
    "duration": 4,
    "start_time": "2023-01-18T08:51:22.569Z"
   },
   {
    "duration": 6,
    "start_time": "2023-01-18T08:51:25.423Z"
   },
   {
    "duration": 5,
    "start_time": "2023-01-18T08:51:28.464Z"
   },
   {
    "duration": 4361,
    "start_time": "2023-01-18T08:52:02.635Z"
   },
   {
    "duration": 6,
    "start_time": "2023-01-18T08:55:32.717Z"
   },
   {
    "duration": 8,
    "start_time": "2023-01-18T08:56:35.482Z"
   },
   {
    "duration": 44,
    "start_time": "2023-01-18T08:56:47.074Z"
   },
   {
    "duration": 10,
    "start_time": "2023-01-18T08:56:50.175Z"
   },
   {
    "duration": 56,
    "start_time": "2023-01-18T08:57:03.113Z"
   },
   {
    "duration": 5,
    "start_time": "2023-01-18T08:57:07.075Z"
   },
   {
    "duration": 354,
    "start_time": "2023-01-18T08:58:39.803Z"
   },
   {
    "duration": 73,
    "start_time": "2023-01-18T08:58:44.703Z"
   },
   {
    "duration": 12,
    "start_time": "2023-01-18T08:59:02.989Z"
   },
   {
    "duration": 5,
    "start_time": "2023-01-18T08:59:09.485Z"
   },
   {
    "duration": 9,
    "start_time": "2023-01-18T08:59:16.697Z"
   },
   {
    "duration": 37,
    "start_time": "2023-01-18T10:23:53.180Z"
   },
   {
    "duration": 4,
    "start_time": "2023-01-18T10:23:55.586Z"
   },
   {
    "duration": 31,
    "start_time": "2023-01-18T10:23:57.463Z"
   },
   {
    "duration": 2027,
    "start_time": "2023-01-18T10:24:00.072Z"
   },
   {
    "duration": 5,
    "start_time": "2023-01-18T10:24:07.729Z"
   },
   {
    "duration": 35,
    "start_time": "2023-01-18T10:24:19.439Z"
   },
   {
    "duration": 1162,
    "start_time": "2023-01-18T10:24:21.306Z"
   },
   {
    "duration": 1259,
    "start_time": "2023-01-18T10:24:39.328Z"
   },
   {
    "duration": 3419,
    "start_time": "2023-01-18T10:24:52.353Z"
   },
   {
    "duration": 14,
    "start_time": "2023-01-18T10:27:42.324Z"
   },
   {
    "duration": 6,
    "start_time": "2023-01-18T10:27:48.971Z"
   },
   {
    "duration": 36,
    "start_time": "2023-01-18T10:27:55.318Z"
   },
   {
    "duration": 3898,
    "start_time": "2023-01-18T10:27:58.094Z"
   },
   {
    "duration": 187,
    "start_time": "2023-01-18T10:28:23.662Z"
   },
   {
    "duration": 6,
    "start_time": "2023-01-18T10:28:25.379Z"
   },
   {
    "duration": 8,
    "start_time": "2023-01-18T10:28:33.724Z"
   },
   {
    "duration": 9,
    "start_time": "2023-01-18T10:28:39.724Z"
   },
   {
    "duration": 2402,
    "start_time": "2023-01-18T10:34:52.485Z"
   },
   {
    "duration": 7,
    "start_time": "2023-01-18T10:34:54.891Z"
   },
   {
    "duration": 15,
    "start_time": "2023-01-18T10:34:54.900Z"
   },
   {
    "duration": 189,
    "start_time": "2023-01-18T10:34:54.917Z"
   },
   {
    "duration": 40,
    "start_time": "2023-01-18T10:34:55.109Z"
   },
   {
    "duration": 59,
    "start_time": "2023-01-18T10:34:55.151Z"
   },
   {
    "duration": 104,
    "start_time": "2023-01-18T10:34:55.212Z"
   },
   {
    "duration": 170,
    "start_time": "2023-01-18T10:34:55.319Z"
   },
   {
    "duration": 49,
    "start_time": "2023-01-18T10:34:55.491Z"
   },
   {
    "duration": 87,
    "start_time": "2023-01-18T10:34:55.542Z"
   },
   {
    "duration": 190,
    "start_time": "2023-01-18T10:34:55.639Z"
   },
   {
    "duration": 46,
    "start_time": "2023-01-18T10:34:55.830Z"
   },
   {
    "duration": 90,
    "start_time": "2023-01-18T10:34:55.878Z"
   },
   {
    "duration": 3,
    "start_time": "2023-01-18T10:34:55.972Z"
   },
   {
    "duration": 5070,
    "start_time": "2023-01-18T10:34:55.977Z"
   },
   {
    "duration": 1063,
    "start_time": "2023-01-18T10:35:01.056Z"
   },
   {
    "duration": 3,
    "start_time": "2023-01-18T10:35:02.121Z"
   },
   {
    "duration": 76,
    "start_time": "2023-01-18T10:35:02.126Z"
   },
   {
    "duration": 2110,
    "start_time": "2023-01-18T10:35:02.204Z"
   },
   {
    "duration": 5,
    "start_time": "2023-01-18T10:35:04.316Z"
   },
   {
    "duration": 47,
    "start_time": "2023-01-18T10:35:04.323Z"
   },
   {
    "duration": 3702,
    "start_time": "2023-01-18T10:35:04.372Z"
   },
   {
    "duration": 276,
    "start_time": "2023-01-18T10:35:08.076Z"
   },
   {
    "duration": 11,
    "start_time": "2023-01-18T10:35:08.354Z"
   },
   {
    "duration": 99,
    "start_time": "2023-01-18T10:35:08.373Z"
   },
   {
    "duration": 2380,
    "start_time": "2023-01-18T10:35:35.021Z"
   },
   {
    "duration": 5,
    "start_time": "2023-01-18T10:35:37.404Z"
   },
   {
    "duration": 29,
    "start_time": "2023-01-18T10:35:37.411Z"
   },
   {
    "duration": 194,
    "start_time": "2023-01-18T10:35:37.446Z"
   },
   {
    "duration": 30,
    "start_time": "2023-01-18T10:35:37.642Z"
   },
   {
    "duration": 44,
    "start_time": "2023-01-18T10:35:37.675Z"
   },
   {
    "duration": 110,
    "start_time": "2023-01-18T10:35:37.721Z"
   },
   {
    "duration": 177,
    "start_time": "2023-01-18T10:35:37.833Z"
   },
   {
    "duration": 61,
    "start_time": "2023-01-18T10:35:38.012Z"
   },
   {
    "duration": 93,
    "start_time": "2023-01-18T10:35:38.077Z"
   },
   {
    "duration": 184,
    "start_time": "2023-01-18T10:35:38.172Z"
   },
   {
    "duration": 49,
    "start_time": "2023-01-18T10:35:38.358Z"
   },
   {
    "duration": 128,
    "start_time": "2023-01-18T10:35:38.409Z"
   },
   {
    "duration": 5,
    "start_time": "2023-01-18T10:35:38.539Z"
   },
   {
    "duration": 4965,
    "start_time": "2023-01-18T10:35:38.546Z"
   },
   {
    "duration": 1067,
    "start_time": "2023-01-18T10:35:43.513Z"
   },
   {
    "duration": 4,
    "start_time": "2023-01-18T10:35:44.582Z"
   },
   {
    "duration": 76,
    "start_time": "2023-01-18T10:35:44.588Z"
   },
   {
    "duration": 2139,
    "start_time": "2023-01-18T10:35:44.666Z"
   },
   {
    "duration": 5,
    "start_time": "2023-01-18T10:35:46.807Z"
   },
   {
    "duration": 8,
    "start_time": "2023-01-18T10:36:06.879Z"
   },
   {
    "duration": 12,
    "start_time": "2023-01-18T10:36:10.557Z"
   },
   {
    "duration": 2408,
    "start_time": "2023-01-18T10:39:03.607Z"
   },
   {
    "duration": 5,
    "start_time": "2023-01-18T10:39:06.018Z"
   },
   {
    "duration": 10,
    "start_time": "2023-01-18T10:39:06.025Z"
   },
   {
    "duration": 217,
    "start_time": "2023-01-18T10:39:06.037Z"
   },
   {
    "duration": 36,
    "start_time": "2023-01-18T10:39:06.256Z"
   },
   {
    "duration": 49,
    "start_time": "2023-01-18T10:39:06.294Z"
   },
   {
    "duration": 124,
    "start_time": "2023-01-18T10:39:06.345Z"
   },
   {
    "duration": 172,
    "start_time": "2023-01-18T10:39:06.472Z"
   },
   {
    "duration": 44,
    "start_time": "2023-01-18T10:39:06.647Z"
   },
   {
    "duration": 108,
    "start_time": "2023-01-18T10:39:06.694Z"
   },
   {
    "duration": 175,
    "start_time": "2023-01-18T10:39:06.804Z"
   },
   {
    "duration": 37,
    "start_time": "2023-01-18T10:39:06.981Z"
   },
   {
    "duration": 127,
    "start_time": "2023-01-18T10:39:07.020Z"
   },
   {
    "duration": 5,
    "start_time": "2023-01-18T10:39:07.152Z"
   },
   {
    "duration": 5054,
    "start_time": "2023-01-18T10:39:07.159Z"
   },
   {
    "duration": 1041,
    "start_time": "2023-01-18T10:39:12.216Z"
   },
   {
    "duration": 8,
    "start_time": "2023-01-18T10:39:13.262Z"
   },
   {
    "duration": 62,
    "start_time": "2023-01-18T10:39:13.272Z"
   },
   {
    "duration": 2226,
    "start_time": "2023-01-18T10:39:13.336Z"
   },
   {
    "duration": 6,
    "start_time": "2023-01-18T10:39:15.568Z"
   },
   {
    "duration": 48,
    "start_time": "2023-01-18T10:39:15.576Z"
   },
   {
    "duration": 3665,
    "start_time": "2023-01-18T10:39:15.626Z"
   },
   {
    "duration": 383,
    "start_time": "2023-01-18T10:39:19.294Z"
   },
   {
    "duration": 16,
    "start_time": "2023-01-18T10:39:19.747Z"
   },
   {
    "duration": 109,
    "start_time": "2023-01-18T10:39:19.765Z"
   },
   {
    "duration": 2508,
    "start_time": "2023-01-18T10:43:00.272Z"
   },
   {
    "duration": 5,
    "start_time": "2023-01-18T10:43:02.783Z"
   },
   {
    "duration": 13,
    "start_time": "2023-01-18T10:43:02.790Z"
   },
   {
    "duration": 175,
    "start_time": "2023-01-18T10:43:02.805Z"
   },
   {
    "duration": 25,
    "start_time": "2023-01-18T10:43:02.984Z"
   },
   {
    "duration": 63,
    "start_time": "2023-01-18T10:43:03.011Z"
   },
   {
    "duration": 107,
    "start_time": "2023-01-18T10:43:03.076Z"
   },
   {
    "duration": 153,
    "start_time": "2023-01-18T10:43:03.184Z"
   },
   {
    "duration": 49,
    "start_time": "2023-01-18T10:43:03.338Z"
   },
   {
    "duration": 127,
    "start_time": "2023-01-18T10:43:03.389Z"
   },
   {
    "duration": 172,
    "start_time": "2023-01-18T10:43:03.518Z"
   },
   {
    "duration": 64,
    "start_time": "2023-01-18T10:43:03.692Z"
   },
   {
    "duration": 96,
    "start_time": "2023-01-18T10:43:03.761Z"
   },
   {
    "duration": 6,
    "start_time": "2023-01-18T10:43:03.860Z"
   },
   {
    "duration": 5052,
    "start_time": "2023-01-18T10:43:03.871Z"
   },
   {
    "duration": 1093,
    "start_time": "2023-01-18T10:43:08.926Z"
   },
   {
    "duration": 3,
    "start_time": "2023-01-18T10:43:10.021Z"
   },
   {
    "duration": 89,
    "start_time": "2023-01-18T10:43:10.026Z"
   },
   {
    "duration": 2716,
    "start_time": "2023-01-18T10:43:10.117Z"
   },
   {
    "duration": 11,
    "start_time": "2023-01-18T10:43:12.836Z"
   },
   {
    "duration": 148,
    "start_time": "2023-01-18T10:43:12.855Z"
   },
   {
    "duration": 3451,
    "start_time": "2023-01-18T10:43:13.005Z"
   },
   {
    "duration": 393,
    "start_time": "2023-01-18T10:43:16.460Z"
   },
   {
    "duration": 14,
    "start_time": "2023-01-18T10:43:16.858Z"
   },
   {
    "duration": 76,
    "start_time": "2023-01-18T10:43:16.876Z"
   },
   {
    "duration": 4,
    "start_time": "2023-01-18T10:43:20.204Z"
   },
   {
    "duration": 7,
    "start_time": "2023-01-18T10:43:22.078Z"
   },
   {
    "duration": 15,
    "start_time": "2023-01-18T10:43:24.459Z"
   },
   {
    "duration": 164,
    "start_time": "2023-01-18T10:57:07.093Z"
   },
   {
    "duration": 3,
    "start_time": "2023-01-18T10:57:19.927Z"
   },
   {
    "duration": 41,
    "start_time": "2023-01-18T10:57:21.404Z"
   },
   {
    "duration": 2430,
    "start_time": "2023-01-18T10:57:22.980Z"
   },
   {
    "duration": 6,
    "start_time": "2023-01-18T10:57:25.413Z"
   },
   {
    "duration": 3225,
    "start_time": "2023-01-18T10:57:31.963Z"
   },
   {
    "duration": 4376,
    "start_time": "2023-01-18T10:58:00.500Z"
   },
   {
    "duration": 112,
    "start_time": "2023-01-18T10:58:50.768Z"
   },
   {
    "duration": 4474,
    "start_time": "2023-01-18T10:58:52.331Z"
   },
   {
    "duration": 165,
    "start_time": "2023-01-18T10:59:07.684Z"
   },
   {
    "duration": 6,
    "start_time": "2023-01-18T10:59:09.619Z"
   },
   {
    "duration": 87,
    "start_time": "2023-01-18T10:59:22.681Z"
   },
   {
    "duration": 5,
    "start_time": "2023-01-18T10:59:24.408Z"
   },
   {
    "duration": 7,
    "start_time": "2023-01-18T10:59:28.105Z"
   },
   {
    "duration": 8,
    "start_time": "2023-01-18T10:59:30.297Z"
   },
   {
    "duration": 13,
    "start_time": "2023-01-18T11:04:19.110Z"
   },
   {
    "duration": 10,
    "start_time": "2023-01-18T11:08:11.174Z"
   },
   {
    "duration": 18,
    "start_time": "2023-01-18T11:08:37.870Z"
   },
   {
    "duration": 45,
    "start_time": "2023-01-18T11:09:53.925Z"
   },
   {
    "duration": 5,
    "start_time": "2023-01-18T11:10:01.181Z"
   },
   {
    "duration": 15,
    "start_time": "2023-01-18T11:10:11.717Z"
   },
   {
    "duration": 15,
    "start_time": "2023-01-18T11:10:13.993Z"
   },
   {
    "duration": 4,
    "start_time": "2023-01-18T11:10:15.378Z"
   },
   {
    "duration": 15,
    "start_time": "2023-01-18T11:10:22.096Z"
   },
   {
    "duration": 14,
    "start_time": "2023-01-18T11:10:23.902Z"
   },
   {
    "duration": 8,
    "start_time": "2023-01-18T11:10:25.469Z"
   },
   {
    "duration": 17,
    "start_time": "2023-01-18T11:10:35.979Z"
   },
   {
    "duration": 24,
    "start_time": "2023-01-18T11:10:37.658Z"
   },
   {
    "duration": 4,
    "start_time": "2023-01-18T11:10:39.415Z"
   },
   {
    "duration": 3,
    "start_time": "2023-01-18T11:14:03.604Z"
   },
   {
    "duration": 37,
    "start_time": "2023-01-18T11:14:05.264Z"
   },
   {
    "duration": 9,
    "start_time": "2023-01-18T11:14:24.907Z"
   },
   {
    "duration": 10,
    "start_time": "2023-01-18T11:14:27.170Z"
   },
   {
    "duration": 18,
    "start_time": "2023-01-18T11:14:37.730Z"
   },
   {
    "duration": 12,
    "start_time": "2023-01-18T11:14:40.664Z"
   },
   {
    "duration": 29,
    "start_time": "2023-01-18T11:14:55.087Z"
   },
   {
    "duration": 14,
    "start_time": "2023-01-18T11:14:57.301Z"
   },
   {
    "duration": 9,
    "start_time": "2023-01-18T11:15:01.135Z"
   },
   {
    "duration": 42,
    "start_time": "2023-01-18T11:15:02.514Z"
   },
   {
    "duration": 12,
    "start_time": "2023-01-18T11:15:04.783Z"
   },
   {
    "duration": 16,
    "start_time": "2023-01-18T11:15:36.151Z"
   },
   {
    "duration": 1235,
    "start_time": "2023-01-18T11:15:45.764Z"
   },
   {
    "duration": 3635,
    "start_time": "2023-01-18T11:15:52.490Z"
   },
   {
    "duration": 164,
    "start_time": "2023-01-18T11:16:05.300Z"
   },
   {
    "duration": 6,
    "start_time": "2023-01-18T11:17:38.072Z"
   },
   {
    "duration": 5,
    "start_time": "2023-01-18T11:17:58.081Z"
   },
   {
    "duration": 8,
    "start_time": "2023-01-18T11:18:04.234Z"
   },
   {
    "duration": 5,
    "start_time": "2023-01-18T11:18:13.087Z"
   },
   {
    "duration": 7,
    "start_time": "2023-01-18T11:18:30.599Z"
   },
   {
    "duration": 2340,
    "start_time": "2023-01-18T11:18:35.026Z"
   },
   {
    "duration": 5,
    "start_time": "2023-01-18T11:18:37.369Z"
   },
   {
    "duration": 27,
    "start_time": "2023-01-18T11:18:37.376Z"
   },
   {
    "duration": 166,
    "start_time": "2023-01-18T11:18:37.404Z"
   },
   {
    "duration": 25,
    "start_time": "2023-01-18T11:18:37.572Z"
   },
   {
    "duration": 68,
    "start_time": "2023-01-18T11:18:37.599Z"
   },
   {
    "duration": 98,
    "start_time": "2023-01-18T11:18:37.669Z"
   },
   {
    "duration": 150,
    "start_time": "2023-01-18T11:18:37.770Z"
   },
   {
    "duration": 54,
    "start_time": "2023-01-18T11:18:37.922Z"
   },
   {
    "duration": 90,
    "start_time": "2023-01-18T11:18:37.978Z"
   },
   {
    "duration": 24,
    "start_time": "2023-01-18T11:18:38.070Z"
   },
   {
    "duration": 60,
    "start_time": "2023-01-18T11:18:38.096Z"
   },
   {
    "duration": 0,
    "start_time": "2023-01-18T11:18:38.163Z"
   },
   {
    "duration": 0,
    "start_time": "2023-01-18T11:18:38.164Z"
   },
   {
    "duration": 0,
    "start_time": "2023-01-18T11:18:38.165Z"
   },
   {
    "duration": 0,
    "start_time": "2023-01-18T11:18:38.167Z"
   },
   {
    "duration": 0,
    "start_time": "2023-01-18T11:18:38.168Z"
   },
   {
    "duration": 0,
    "start_time": "2023-01-18T11:18:38.169Z"
   },
   {
    "duration": 0,
    "start_time": "2023-01-18T11:18:38.170Z"
   },
   {
    "duration": 0,
    "start_time": "2023-01-18T11:18:38.171Z"
   },
   {
    "duration": 0,
    "start_time": "2023-01-18T11:18:38.172Z"
   },
   {
    "duration": 0,
    "start_time": "2023-01-18T11:18:38.173Z"
   },
   {
    "duration": 0,
    "start_time": "2023-01-18T11:18:38.174Z"
   },
   {
    "duration": 0,
    "start_time": "2023-01-18T11:18:38.175Z"
   },
   {
    "duration": 0,
    "start_time": "2023-01-18T11:18:38.176Z"
   },
   {
    "duration": 0,
    "start_time": "2023-01-18T11:18:38.177Z"
   },
   {
    "duration": 98,
    "start_time": "2023-01-18T11:19:34.385Z"
   },
   {
    "duration": 178,
    "start_time": "2023-01-18T11:19:34.486Z"
   },
   {
    "duration": 38,
    "start_time": "2023-01-18T11:19:34.666Z"
   },
   {
    "duration": 93,
    "start_time": "2023-01-18T11:19:34.707Z"
   },
   {
    "duration": 3,
    "start_time": "2023-01-18T11:19:34.802Z"
   },
   {
    "duration": 4961,
    "start_time": "2023-01-18T11:19:34.806Z"
   },
   {
    "duration": 3,
    "start_time": "2023-01-18T11:19:39.769Z"
   },
   {
    "duration": 50,
    "start_time": "2023-01-18T11:19:39.774Z"
   },
   {
    "duration": 20,
    "start_time": "2023-01-18T11:19:39.826Z"
   },
   {
    "duration": 2107,
    "start_time": "2023-01-18T11:19:39.862Z"
   },
   {
    "duration": 5,
    "start_time": "2023-01-18T11:19:41.971Z"
   },
   {
    "duration": 3736,
    "start_time": "2023-01-18T11:19:41.978Z"
   },
   {
    "duration": 127,
    "start_time": "2023-01-18T11:19:45.717Z"
   },
   {
    "duration": 99,
    "start_time": "2023-01-18T11:19:45.847Z"
   },
   {
    "duration": 49,
    "start_time": "2023-01-18T11:19:45.948Z"
   },
   {
    "duration": 49,
    "start_time": "2023-01-18T11:19:45.999Z"
   },
   {
    "duration": 4,
    "start_time": "2023-01-18T11:31:37.862Z"
   },
   {
    "duration": 4,
    "start_time": "2023-01-18T11:31:45.808Z"
   },
   {
    "duration": 4,
    "start_time": "2023-01-18T11:32:01.005Z"
   },
   {
    "duration": 4,
    "start_time": "2023-01-18T11:32:20.419Z"
   },
   {
    "duration": 67,
    "start_time": "2023-01-18T11:32:29.806Z"
   },
   {
    "duration": 50,
    "start_time": "2023-01-18T11:32:32.081Z"
   },
   {
    "duration": 3,
    "start_time": "2023-01-18T11:32:35.685Z"
   },
   {
    "duration": 4,
    "start_time": "2023-01-18T11:33:27.120Z"
   },
   {
    "duration": 3,
    "start_time": "2023-01-18T11:37:08.088Z"
   },
   {
    "duration": 3,
    "start_time": "2023-01-18T11:37:20.691Z"
   },
   {
    "duration": 3,
    "start_time": "2023-01-18T12:28:53.406Z"
   },
   {
    "duration": 4,
    "start_time": "2023-01-18T12:28:57.144Z"
   },
   {
    "duration": 12,
    "start_time": "2023-01-18T12:29:36.866Z"
   },
   {
    "duration": 3,
    "start_time": "2023-01-18T12:29:38.882Z"
   },
   {
    "duration": 3,
    "start_time": "2023-01-18T12:29:40.293Z"
   },
   {
    "duration": 5,
    "start_time": "2023-01-18T12:31:19.002Z"
   },
   {
    "duration": 4,
    "start_time": "2023-01-18T12:31:40.806Z"
   },
   {
    "duration": 5,
    "start_time": "2023-01-18T12:32:14.987Z"
   },
   {
    "duration": 8,
    "start_time": "2023-01-18T12:37:15.960Z"
   },
   {
    "duration": 9,
    "start_time": "2023-01-18T12:37:53.965Z"
   },
   {
    "duration": 6,
    "start_time": "2023-01-18T12:38:03.887Z"
   },
   {
    "duration": 11,
    "start_time": "2023-01-18T12:40:33.656Z"
   },
   {
    "duration": 11,
    "start_time": "2023-01-18T12:40:37.690Z"
   },
   {
    "duration": 18,
    "start_time": "2023-01-18T12:40:43.132Z"
   },
   {
    "duration": 16,
    "start_time": "2023-01-18T12:41:19.286Z"
   },
   {
    "duration": 3,
    "start_time": "2023-01-18T12:41:36.816Z"
   },
   {
    "duration": 4,
    "start_time": "2023-01-18T12:45:08.560Z"
   },
   {
    "duration": 4,
    "start_time": "2023-01-18T12:45:16.567Z"
   },
   {
    "duration": 3,
    "start_time": "2023-01-18T12:45:27.148Z"
   },
   {
    "duration": 3,
    "start_time": "2023-01-18T12:45:31.211Z"
   },
   {
    "duration": 10,
    "start_time": "2023-01-18T12:45:33.335Z"
   },
   {
    "duration": 4,
    "start_time": "2023-01-18T12:45:50.896Z"
   },
   {
    "duration": 8,
    "start_time": "2023-01-18T12:46:38.250Z"
   },
   {
    "duration": 2,
    "start_time": "2023-01-18T12:46:51.070Z"
   },
   {
    "duration": 6,
    "start_time": "2023-01-18T12:46:52.836Z"
   },
   {
    "duration": 3,
    "start_time": "2023-01-18T12:47:00.070Z"
   },
   {
    "duration": 8,
    "start_time": "2023-01-18T12:49:41.480Z"
   },
   {
    "duration": 24,
    "start_time": "2023-01-18T12:50:05.541Z"
   },
   {
    "duration": 8,
    "start_time": "2023-01-18T12:50:26.890Z"
   },
   {
    "duration": 17,
    "start_time": "2023-01-18T12:53:07.035Z"
   },
   {
    "duration": 15,
    "start_time": "2023-01-18T12:53:12.366Z"
   },
   {
    "duration": 21,
    "start_time": "2023-01-18T12:53:29.255Z"
   },
   {
    "duration": 4,
    "start_time": "2023-01-18T12:55:48.190Z"
   },
   {
    "duration": 4,
    "start_time": "2023-01-18T12:56:05.015Z"
   },
   {
    "duration": 16,
    "start_time": "2023-01-18T12:56:36.980Z"
   },
   {
    "duration": 18,
    "start_time": "2023-01-18T12:57:11.897Z"
   },
   {
    "duration": 18,
    "start_time": "2023-01-18T12:57:35.210Z"
   },
   {
    "duration": 18,
    "start_time": "2023-01-18T12:58:06.796Z"
   },
   {
    "duration": 25,
    "start_time": "2023-01-18T12:59:11.172Z"
   },
   {
    "duration": 19,
    "start_time": "2023-01-18T13:00:16.444Z"
   },
   {
    "duration": 11,
    "start_time": "2023-01-18T13:16:43.072Z"
   },
   {
    "duration": 326,
    "start_time": "2023-01-18T13:16:58.433Z"
   },
   {
    "duration": 230,
    "start_time": "2023-01-18T13:17:11.748Z"
   },
   {
    "duration": 255,
    "start_time": "2023-01-18T13:17:15.292Z"
   },
   {
    "duration": 218,
    "start_time": "2023-01-18T13:17:18.686Z"
   },
   {
    "duration": 215,
    "start_time": "2023-01-18T13:18:58.494Z"
   },
   {
    "duration": 182,
    "start_time": "2023-01-18T13:19:05.001Z"
   },
   {
    "duration": 160,
    "start_time": "2023-01-18T13:20:48.939Z"
   },
   {
    "duration": 189,
    "start_time": "2023-01-18T13:20:53.537Z"
   },
   {
    "duration": 14,
    "start_time": "2023-01-18T13:21:30.487Z"
   },
   {
    "duration": 191,
    "start_time": "2023-01-18T13:23:32.644Z"
   },
   {
    "duration": 441,
    "start_time": "2023-01-18T13:23:38.506Z"
   },
   {
    "duration": 213,
    "start_time": "2023-01-18T13:23:44.801Z"
   },
   {
    "duration": 531,
    "start_time": "2023-01-18T13:24:03.549Z"
   },
   {
    "duration": 514,
    "start_time": "2023-01-18T13:24:22.807Z"
   },
   {
    "duration": 542,
    "start_time": "2023-01-18T13:24:40.238Z"
   },
   {
    "duration": 639,
    "start_time": "2023-01-18T13:26:31.276Z"
   },
   {
    "duration": 522,
    "start_time": "2023-01-18T13:26:38.922Z"
   },
   {
    "duration": 192,
    "start_time": "2023-01-18T13:26:48.792Z"
   },
   {
    "duration": 522,
    "start_time": "2023-01-18T13:26:59.393Z"
   },
   {
    "duration": 542,
    "start_time": "2023-01-18T13:27:05.775Z"
   },
   {
    "duration": 684,
    "start_time": "2023-01-18T13:27:14.578Z"
   },
   {
    "duration": 13,
    "start_time": "2023-01-18T13:33:39.553Z"
   },
   {
    "duration": 8,
    "start_time": "2023-01-18T13:33:51.653Z"
   },
   {
    "duration": 183,
    "start_time": "2023-01-18T13:38:19.495Z"
   },
   {
    "duration": 513,
    "start_time": "2023-01-18T13:38:32.404Z"
   },
   {
    "duration": 575,
    "start_time": "2023-01-18T13:39:12.948Z"
   },
   {
    "duration": 16,
    "start_time": "2023-01-18T13:41:59.915Z"
   },
   {
    "duration": 577,
    "start_time": "2023-01-18T13:42:09.443Z"
   },
   {
    "duration": 4,
    "start_time": "2023-01-18T13:44:42.753Z"
   },
   {
    "duration": 3,
    "start_time": "2023-01-18T13:45:00.559Z"
   },
   {
    "duration": 4,
    "start_time": "2023-01-18T13:45:05.811Z"
   },
   {
    "duration": 3,
    "start_time": "2023-01-18T16:21:40.431Z"
   },
   {
    "duration": 10,
    "start_time": "2023-01-18T16:22:14.218Z"
   },
   {
    "duration": 3,
    "start_time": "2023-01-18T16:28:14.978Z"
   },
   {
    "duration": 4,
    "start_time": "2023-01-18T16:32:38.157Z"
   },
   {
    "duration": 11,
    "start_time": "2023-01-18T16:37:13.676Z"
   },
   {
    "duration": 1364,
    "start_time": "2023-01-18T16:37:21.510Z"
   },
   {
    "duration": 1460,
    "start_time": "2023-01-18T16:38:38.588Z"
   },
   {
    "duration": 16,
    "start_time": "2023-01-18T16:39:31.857Z"
   },
   {
    "duration": 1398,
    "start_time": "2023-01-18T16:40:41.095Z"
   },
   {
    "duration": 3,
    "start_time": "2023-01-18T16:41:24.906Z"
   },
   {
    "duration": 4,
    "start_time": "2023-01-18T16:41:42.565Z"
   },
   {
    "duration": 8,
    "start_time": "2023-01-18T16:44:55.939Z"
   },
   {
    "duration": 10,
    "start_time": "2023-01-18T16:45:04.303Z"
   },
   {
    "duration": 20,
    "start_time": "2023-01-18T16:45:14.562Z"
   },
   {
    "duration": 1385,
    "start_time": "2023-01-18T16:45:25.225Z"
   },
   {
    "duration": 6,
    "start_time": "2023-01-18T16:45:48.613Z"
   },
   {
    "duration": 4205,
    "start_time": "2023-01-18T16:45:55.714Z"
   },
   {
    "duration": 4,
    "start_time": "2023-01-18T16:46:15.589Z"
   },
   {
    "duration": 4,
    "start_time": "2023-01-18T16:46:17.554Z"
   },
   {
    "duration": 4264,
    "start_time": "2023-01-18T16:46:19.503Z"
   },
   {
    "duration": 20,
    "start_time": "2023-01-18T16:46:57.594Z"
   },
   {
    "duration": 8,
    "start_time": "2023-01-18T16:47:33.719Z"
   },
   {
    "duration": 9,
    "start_time": "2023-01-18T16:50:17.786Z"
   },
   {
    "duration": 9,
    "start_time": "2023-01-18T16:50:37.478Z"
   },
   {
    "duration": 5,
    "start_time": "2023-01-18T16:53:09.105Z"
   },
   {
    "duration": 1415,
    "start_time": "2023-01-18T16:53:11.773Z"
   },
   {
    "duration": 5,
    "start_time": "2023-01-18T16:54:33.978Z"
   },
   {
    "duration": 1428,
    "start_time": "2023-01-18T16:54:36.270Z"
   },
   {
    "duration": 5,
    "start_time": "2023-01-18T16:55:52.866Z"
   },
   {
    "duration": 4289,
    "start_time": "2023-01-18T16:55:54.287Z"
   },
   {
    "duration": 5,
    "start_time": "2023-01-18T16:56:21.791Z"
   },
   {
    "duration": 4283,
    "start_time": "2023-01-18T16:56:23.680Z"
   },
   {
    "duration": 30,
    "start_time": "2023-01-18T16:57:28.694Z"
   },
   {
    "duration": 5,
    "start_time": "2023-01-18T16:59:32.969Z"
   },
   {
    "duration": 4,
    "start_time": "2023-01-18T16:59:44.052Z"
   },
   {
    "duration": 4,
    "start_time": "2023-01-18T17:01:44.960Z"
   },
   {
    "duration": 4456,
    "start_time": "2023-01-18T17:01:48.008Z"
   },
   {
    "duration": 4441,
    "start_time": "2023-01-18T17:02:14.944Z"
   },
   {
    "duration": 7,
    "start_time": "2023-01-18T17:02:56.988Z"
   },
   {
    "duration": 4445,
    "start_time": "2023-01-18T17:02:59.459Z"
   },
   {
    "duration": 4413,
    "start_time": "2023-01-18T17:03:09.176Z"
   },
   {
    "duration": 4533,
    "start_time": "2023-01-18T17:03:17.582Z"
   },
   {
    "duration": 5,
    "start_time": "2023-01-18T17:04:59.183Z"
   },
   {
    "duration": 4423,
    "start_time": "2023-01-18T17:05:00.824Z"
   },
   {
    "duration": 4466,
    "start_time": "2023-01-18T17:05:07.334Z"
   },
   {
    "duration": 4374,
    "start_time": "2023-01-18T17:05:17.354Z"
   },
   {
    "duration": 6,
    "start_time": "2023-01-18T17:07:53.518Z"
   },
   {
    "duration": 9011,
    "start_time": "2023-01-18T17:07:55.089Z"
   },
   {
    "duration": 8689,
    "start_time": "2023-01-18T17:08:08.613Z"
   },
   {
    "duration": 8897,
    "start_time": "2023-01-18T17:08:26.532Z"
   },
   {
    "duration": 10257,
    "start_time": "2023-01-18T17:17:17.377Z"
   },
   {
    "duration": 9708,
    "start_time": "2023-01-18T17:18:15.690Z"
   },
   {
    "duration": 10475,
    "start_time": "2023-01-18T17:18:33.785Z"
   },
   {
    "duration": 10268,
    "start_time": "2023-01-18T17:18:50.831Z"
   },
   {
    "duration": 2178,
    "start_time": "2023-01-18T17:24:09.702Z"
   },
   {
    "duration": 2182,
    "start_time": "2023-01-18T17:24:15.475Z"
   },
   {
    "duration": 2218,
    "start_time": "2023-01-18T17:24:21.311Z"
   },
   {
    "duration": 2326,
    "start_time": "2023-01-18T17:29:58.385Z"
   },
   {
    "duration": 6,
    "start_time": "2023-01-18T17:30:00.713Z"
   },
   {
    "duration": 54,
    "start_time": "2023-01-18T17:30:00.721Z"
   },
   {
    "duration": 179,
    "start_time": "2023-01-18T17:30:00.778Z"
   },
   {
    "duration": 42,
    "start_time": "2023-01-18T17:30:00.958Z"
   },
   {
    "duration": 279,
    "start_time": "2023-01-18T17:30:01.002Z"
   },
   {
    "duration": 110,
    "start_time": "2023-01-18T17:30:01.283Z"
   },
   {
    "duration": 200,
    "start_time": "2023-01-18T17:30:01.395Z"
   },
   {
    "duration": 82,
    "start_time": "2023-01-18T17:30:01.597Z"
   },
   {
    "duration": 171,
    "start_time": "2023-01-18T17:30:01.682Z"
   },
   {
    "duration": 211,
    "start_time": "2023-01-18T17:30:01.856Z"
   },
   {
    "duration": 39,
    "start_time": "2023-01-18T17:30:02.073Z"
   },
   {
    "duration": 91,
    "start_time": "2023-01-18T17:30:02.113Z"
   },
   {
    "duration": 14,
    "start_time": "2023-01-18T17:30:02.205Z"
   },
   {
    "duration": 4890,
    "start_time": "2023-01-18T17:30:02.221Z"
   },
   {
    "duration": 4,
    "start_time": "2023-01-18T17:30:07.113Z"
   },
   {
    "duration": 92,
    "start_time": "2023-01-18T17:30:07.120Z"
   },
   {
    "duration": 42,
    "start_time": "2023-01-18T17:30:07.215Z"
   },
   {
    "duration": 2416,
    "start_time": "2023-01-18T17:30:07.259Z"
   },
   {
    "duration": 6,
    "start_time": "2023-01-18T17:30:09.676Z"
   },
   {
    "duration": 3636,
    "start_time": "2023-01-18T17:30:09.683Z"
   },
   {
    "duration": 345,
    "start_time": "2023-01-18T17:30:13.321Z"
   },
   {
    "duration": 65,
    "start_time": "2023-01-18T17:30:13.677Z"
   },
   {
    "duration": 126,
    "start_time": "2023-01-18T17:30:13.748Z"
   },
   {
    "duration": 8,
    "start_time": "2023-01-18T17:30:13.876Z"
   },
   {
    "duration": 4,
    "start_time": "2023-01-18T17:30:13.887Z"
   },
   {
    "duration": 8,
    "start_time": "2023-01-18T17:30:13.893Z"
   },
   {
    "duration": 6,
    "start_time": "2023-01-18T17:30:13.904Z"
   },
   {
    "duration": 5,
    "start_time": "2023-01-18T17:30:13.912Z"
   },
   {
    "duration": 31,
    "start_time": "2023-01-18T17:30:13.918Z"
   },
   {
    "duration": 629,
    "start_time": "2023-01-18T17:30:13.953Z"
   },
   {
    "duration": 766,
    "start_time": "2023-01-18T17:30:14.584Z"
   },
   {
    "duration": 5,
    "start_time": "2023-01-18T17:30:15.355Z"
   },
   {
    "duration": 23,
    "start_time": "2023-01-18T17:30:15.362Z"
   },
   {
    "duration": 8,
    "start_time": "2023-01-18T17:30:15.387Z"
   },
   {
    "duration": 9529,
    "start_time": "2023-01-18T17:30:15.397Z"
   },
   {
    "duration": 9696,
    "start_time": "2023-01-18T17:30:24.929Z"
   }
  ],
  "kernelspec": {
   "display_name": "Python 3 (ipykernel)",
   "language": "python",
   "name": "python3"
  },
  "language_info": {
   "codemirror_mode": {
    "name": "ipython",
    "version": 3
   },
   "file_extension": ".py",
   "mimetype": "text/x-python",
   "name": "python",
   "nbconvert_exporter": "python",
   "pygments_lexer": "ipython3",
   "version": "3.9.16"
  },
  "toc": {
   "base_numbering": 1,
   "nav_menu": {},
   "number_sections": true,
   "sideBar": true,
   "skip_h1_title": true,
   "title_cell": "Table of Contents",
   "title_sidebar": "Contents",
   "toc_cell": false,
   "toc_position": {},
   "toc_section_display": true,
   "toc_window_display": false
  },
  "varInspector": {
   "cols": {
    "lenName": 16,
    "lenType": 16,
    "lenVar": 40
   },
   "kernels_config": {
    "python": {
     "delete_cmd_postfix": "",
     "delete_cmd_prefix": "del ",
     "library": "var_list.py",
     "varRefreshCmd": "print(var_dic_list())"
    },
    "r": {
     "delete_cmd_postfix": ") ",
     "delete_cmd_prefix": "rm(",
     "library": "var_list.r",
     "varRefreshCmd": "cat(var_dic_list()) "
    }
   },
   "types_to_exclude": [
    "module",
    "function",
    "builtin_function_or_method",
    "instance",
    "_Feature"
   ],
   "window_display": false
  }
 },
 "nbformat": 4,
 "nbformat_minor": 2
}
