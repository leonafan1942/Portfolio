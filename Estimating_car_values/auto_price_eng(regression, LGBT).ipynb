{
 "cells": [
  {
   "cell_type": "markdown",
   "metadata": {},
   "source": [
    "# Estimating car values"
   ]
  },
  {
   "cell_type": "markdown",
   "metadata": {},
   "source": [
    "A used car sales service is developing an application to attract new customers. In this app, users can quickly determine the market value of their car. Historical data is available, including technical specifications, configurations and prices of cars. You need to build a model to estimate the car's value.\n",
    "\n",
    "The client prioritizes:\n",
    "\n",
    "- Prediction accuracy\n",
    "- Prediction speed\n",
    "- Training time"
   ]
  },
  {
   "cell_type": "markdown",
   "metadata": {},
   "source": [
    "## Data preparation"
   ]
  },
  {
   "cell_type": "code",
   "execution_count": 50,
   "metadata": {},
   "outputs": [
    {
     "name": "stdout",
     "output_type": "stream",
     "text": [
      "Requirement already satisfied: lightgbm in c:\\users\\79609\\anaconda3\\envs\\ds_practicum_env\\lib\\site-packages (3.3.5)Note: you may need to restart the kernel to use updated packages.\n",
      "\n",
      "Requirement already satisfied: wheel in c:\\users\\79609\\anaconda3\\envs\\ds_practicum_env\\lib\\site-packages (from lightgbm) (0.38.4)\n",
      "Requirement already satisfied: numpy in c:\\users\\79609\\anaconda3\\envs\\ds_practicum_env\\lib\\site-packages (from lightgbm) (1.23.5)\n",
      "Requirement already satisfied: scipy in c:\\users\\79609\\anaconda3\\envs\\ds_practicum_env\\lib\\site-packages (from lightgbm) (1.10.1)\n",
      "Requirement already satisfied: scikit-learn!=0.22.0 in c:\\users\\79609\\anaconda3\\envs\\ds_practicum_env\\lib\\site-packages (from lightgbm) (1.2.2)\n",
      "Requirement already satisfied: joblib>=1.1.1 in c:\\users\\79609\\anaconda3\\envs\\ds_practicum_env\\lib\\site-packages (from scikit-learn!=0.22.0->lightgbm) (1.1.1)\n",
      "Requirement already satisfied: threadpoolctl>=2.0.0 in c:\\users\\79609\\anaconda3\\envs\\ds_practicum_env\\lib\\site-packages (from scikit-learn!=0.22.0->lightgbm) (2.2.0)\n"
     ]
    }
   ],
   "source": [
    "pip install lightgbm"
   ]
  },
  {
   "cell_type": "code",
   "execution_count": 51,
   "metadata": {},
   "outputs": [],
   "source": [
    "import pandas as pd\n",
    "import numpy as np\n",
    "import matplotlib.pyplot  as plt\n",
    "import statsmodels.api as sm\n",
    "import seaborn as sns \n",
    "import lightgbm as lgb\n",
    "import phik\n",
    "from phik.report import plot_correlation_matrix\n",
    "from sklearn.linear_model import LinearRegression\n",
    "from sklearn.ensemble import RandomForestRegressor\n",
    "from sklearn.impute import KNNImputer\n",
    "from sklearn.preprocessing import OneHotEncoder, LabelEncoder, OrdinalEncoder\n",
    "from sklearn.model_selection import train_test_split\n",
    "from sklearn.preprocessing import StandardScaler, MinMaxScaler\n",
    "from sklearn.metrics import mean_squared_error\n",
    "from sklearn.linear_model import LogisticRegression\n",
    "from sklearn.metrics import classification_report, recall_score, precision_score, f1_score\n",
    "from lightgbm import LGBMRegressor\n",
    "from sklearn.model_selection import cross_val_score\n",
    "from sklearn.model_selection import RepeatedKFold"
   ]
  },
  {
   "cell_type": "code",
   "execution_count": 52,
   "metadata": {},
   "outputs": [],
   "source": [
    "sns.set()"
   ]
  },
  {
   "cell_type": "markdown",
   "metadata": {},
   "source": [
    "*Data analysis and preparation*"
   ]
  },
  {
   "cell_type": "code",
   "execution_count": 53,
   "metadata": {},
   "outputs": [],
   "source": [
    "df = pd.read_csv('autos.csv')\n",
    "df.columns = df.columns.str.lower()"
   ]
  },
  {
   "cell_type": "code",
   "execution_count": 54,
   "metadata": {},
   "outputs": [
    {
     "name": "stdout",
     "output_type": "stream",
     "text": [
      "<class 'pandas.core.frame.DataFrame'>\n",
      "RangeIndex: 354369 entries, 0 to 354368\n",
      "Data columns (total 16 columns):\n",
      " #   Column             Non-Null Count   Dtype \n",
      "---  ------             --------------   ----- \n",
      " 0   datecrawled        354369 non-null  object\n",
      " 1   price              354369 non-null  int64 \n",
      " 2   vehicletype        316879 non-null  object\n",
      " 3   registrationyear   354369 non-null  int64 \n",
      " 4   gearbox            334536 non-null  object\n",
      " 5   power              354369 non-null  int64 \n",
      " 6   model              334664 non-null  object\n",
      " 7   kilometer          354369 non-null  int64 \n",
      " 8   registrationmonth  354369 non-null  int64 \n",
      " 9   fueltype           321474 non-null  object\n",
      " 10  brand              354369 non-null  object\n",
      " 11  repaired           283215 non-null  object\n",
      " 12  datecreated        354369 non-null  object\n",
      " 13  numberofpictures   354369 non-null  int64 \n",
      " 14  postalcode         354369 non-null  int64 \n",
      " 15  lastseen           354369 non-null  object\n",
      "dtypes: int64(7), object(9)\n",
      "memory usage: 43.3+ MB\n"
     ]
    }
   ],
   "source": [
    "df.info()"
   ]
  },
  {
   "cell_type": "code",
   "execution_count": 55,
   "metadata": {},
   "outputs": [
    {
     "data": {
      "text/html": [
       "<div>\n",
       "<style scoped>\n",
       "    .dataframe tbody tr th:only-of-type {\n",
       "        vertical-align: middle;\n",
       "    }\n",
       "\n",
       "    .dataframe tbody tr th {\n",
       "        vertical-align: top;\n",
       "    }\n",
       "\n",
       "    .dataframe thead th {\n",
       "        text-align: right;\n",
       "    }\n",
       "</style>\n",
       "<table border=\"1\" class=\"dataframe\">\n",
       "  <thead>\n",
       "    <tr style=\"text-align: right;\">\n",
       "      <th></th>\n",
       "      <th>price</th>\n",
       "      <th>registrationyear</th>\n",
       "      <th>power</th>\n",
       "      <th>kilometer</th>\n",
       "      <th>registrationmonth</th>\n",
       "      <th>numberofpictures</th>\n",
       "      <th>postalcode</th>\n",
       "    </tr>\n",
       "  </thead>\n",
       "  <tbody>\n",
       "    <tr>\n",
       "      <th>count</th>\n",
       "      <td>354369.000000</td>\n",
       "      <td>354369.000000</td>\n",
       "      <td>354369.000000</td>\n",
       "      <td>354369.000000</td>\n",
       "      <td>354369.000000</td>\n",
       "      <td>354369.0</td>\n",
       "      <td>354369.000000</td>\n",
       "    </tr>\n",
       "    <tr>\n",
       "      <th>mean</th>\n",
       "      <td>4416.656776</td>\n",
       "      <td>2004.234448</td>\n",
       "      <td>110.094337</td>\n",
       "      <td>128211.172535</td>\n",
       "      <td>5.714645</td>\n",
       "      <td>0.0</td>\n",
       "      <td>50508.689087</td>\n",
       "    </tr>\n",
       "    <tr>\n",
       "      <th>std</th>\n",
       "      <td>4514.158514</td>\n",
       "      <td>90.227958</td>\n",
       "      <td>189.850405</td>\n",
       "      <td>37905.341530</td>\n",
       "      <td>3.726421</td>\n",
       "      <td>0.0</td>\n",
       "      <td>25783.096248</td>\n",
       "    </tr>\n",
       "    <tr>\n",
       "      <th>min</th>\n",
       "      <td>0.000000</td>\n",
       "      <td>1000.000000</td>\n",
       "      <td>0.000000</td>\n",
       "      <td>5000.000000</td>\n",
       "      <td>0.000000</td>\n",
       "      <td>0.0</td>\n",
       "      <td>1067.000000</td>\n",
       "    </tr>\n",
       "    <tr>\n",
       "      <th>25%</th>\n",
       "      <td>1050.000000</td>\n",
       "      <td>1999.000000</td>\n",
       "      <td>69.000000</td>\n",
       "      <td>125000.000000</td>\n",
       "      <td>3.000000</td>\n",
       "      <td>0.0</td>\n",
       "      <td>30165.000000</td>\n",
       "    </tr>\n",
       "    <tr>\n",
       "      <th>50%</th>\n",
       "      <td>2700.000000</td>\n",
       "      <td>2003.000000</td>\n",
       "      <td>105.000000</td>\n",
       "      <td>150000.000000</td>\n",
       "      <td>6.000000</td>\n",
       "      <td>0.0</td>\n",
       "      <td>49413.000000</td>\n",
       "    </tr>\n",
       "    <tr>\n",
       "      <th>75%</th>\n",
       "      <td>6400.000000</td>\n",
       "      <td>2008.000000</td>\n",
       "      <td>143.000000</td>\n",
       "      <td>150000.000000</td>\n",
       "      <td>9.000000</td>\n",
       "      <td>0.0</td>\n",
       "      <td>71083.000000</td>\n",
       "    </tr>\n",
       "    <tr>\n",
       "      <th>max</th>\n",
       "      <td>20000.000000</td>\n",
       "      <td>9999.000000</td>\n",
       "      <td>20000.000000</td>\n",
       "      <td>150000.000000</td>\n",
       "      <td>12.000000</td>\n",
       "      <td>0.0</td>\n",
       "      <td>99998.000000</td>\n",
       "    </tr>\n",
       "  </tbody>\n",
       "</table>\n",
       "</div>"
      ],
      "text/plain": [
       "               price  registrationyear          power      kilometer  \\\n",
       "count  354369.000000     354369.000000  354369.000000  354369.000000   \n",
       "mean     4416.656776       2004.234448     110.094337  128211.172535   \n",
       "std      4514.158514         90.227958     189.850405   37905.341530   \n",
       "min         0.000000       1000.000000       0.000000    5000.000000   \n",
       "25%      1050.000000       1999.000000      69.000000  125000.000000   \n",
       "50%      2700.000000       2003.000000     105.000000  150000.000000   \n",
       "75%      6400.000000       2008.000000     143.000000  150000.000000   \n",
       "max     20000.000000       9999.000000   20000.000000  150000.000000   \n",
       "\n",
       "       registrationmonth  numberofpictures     postalcode  \n",
       "count      354369.000000          354369.0  354369.000000  \n",
       "mean            5.714645               0.0   50508.689087  \n",
       "std             3.726421               0.0   25783.096248  \n",
       "min             0.000000               0.0    1067.000000  \n",
       "25%             3.000000               0.0   30165.000000  \n",
       "50%             6.000000               0.0   49413.000000  \n",
       "75%             9.000000               0.0   71083.000000  \n",
       "max            12.000000               0.0   99998.000000  "
      ]
     },
     "execution_count": 55,
     "metadata": {},
     "output_type": "execute_result"
    }
   ],
   "source": [
    "df.describe()"
   ]
  },
  {
   "cell_type": "markdown",
   "metadata": {},
   "source": [
    "*Duplicates check*"
   ]
  },
  {
   "cell_type": "code",
   "execution_count": 56,
   "metadata": {},
   "outputs": [
    {
     "data": {
      "text/plain": [
       "4"
      ]
     },
     "execution_count": 56,
     "metadata": {},
     "output_type": "execute_result"
    }
   ],
   "source": [
    "df.duplicated().sum()"
   ]
  },
  {
   "cell_type": "code",
   "execution_count": 57,
   "metadata": {},
   "outputs": [],
   "source": [
    "df.drop_duplicates(inplace=True)"
   ]
  },
  {
   "cell_type": "markdown",
   "metadata": {},
   "source": [
    "*table field \"numberofpictures\" is empty, it is removed*"
   ]
  },
  {
   "cell_type": "code",
   "execution_count": 58,
   "metadata": {},
   "outputs": [
    {
     "data": {
      "text/plain": [
       "array([0], dtype=int64)"
      ]
     },
     "execution_count": 58,
     "metadata": {},
     "output_type": "execute_result"
    }
   ],
   "source": [
    "df['numberofpictures'].unique()"
   ]
  },
  {
   "cell_type": "markdown",
   "metadata": {},
   "source": [
    "*Check and vizualize features*"
   ]
  },
  {
   "cell_type": "code",
   "execution_count": 59,
   "metadata": {},
   "outputs": [
    {
     "data": {
      "image/png": "[encoded data removed]",
      "text/plain": [
       "<Figure size 400x300 with 1 Axes>"
      ]
     },
     "metadata": {},
     "output_type": "display_data"
    }
   ],
   "source": [
    "plt.figure(figsize=(4,3))\n",
    "df['price'].hist(bins=50)\n",
    "plt.title('Price distribution')\n",
    "plt.xlabel('Price, euro')\n",
    "plt.show()"
   ]
  },
  {
   "cell_type": "code",
   "execution_count": 60,
   "metadata": {},
   "outputs": [
    {
     "data": {
      "image/png": "[encoded data removed]",
      "text/plain": [
       "<Figure size 400x300 with 1 Axes>"
      ]
     },
     "metadata": {},
     "output_type": "display_data"
    }
   ],
   "source": [
    "plt.figure(figsize=(4,3))\n",
    "df['price'][df['price'] < 100].hist(bins=15)\n",
    "plt.title('Price distribution (< 100 euro)')\n",
    "plt.xlabel('Price, euro')\n",
    "plt.show()"
   ]
  },
  {
   "cell_type": "markdown",
   "metadata": {},
   "source": [
    "*From the graph, it can be seen that data with prices below 50 euros can be safely removed. Most likely, they represent scrap metal because the cost of disposal is higher.*"
   ]
  },
  {
   "cell_type": "code",
   "execution_count": 61,
   "metadata": {},
   "outputs": [
    {
     "data": {
      "text/plain": [
       "45.0"
      ]
     },
     "execution_count": 61,
     "metadata": {},
     "output_type": "execute_result"
    }
   ],
   "source": [
    "np.percentile(df['price'],3.5)"
   ]
  },
  {
   "cell_type": "code",
   "execution_count": 62,
   "metadata": {},
   "outputs": [],
   "source": [
    "df = df[df['price'] >= 50]"
   ]
  },
  {
   "cell_type": "markdown",
   "metadata": {},
   "source": [
    "*3.5% of data is removed* "
   ]
  },
  {
   "cell_type": "code",
   "execution_count": 63,
   "metadata": {},
   "outputs": [
    {
     "data": {
      "image/png": "[encoded data removed]",
      "text/plain": [
       "<Figure size 400x300 with 1 Axes>"
      ]
     },
     "metadata": {},
     "output_type": "display_data"
    }
   ],
   "source": [
    "plt.figure(figsize=(4,3))\n",
    "df['power'][df['power'] < 1000].hist(bins=50)\n",
    "plt.title('Power distribution')\n",
    "plt.xlabel('Power, HP')\n",
    "plt.show()"
   ]
  },
  {
   "cell_type": "markdown",
   "metadata": {},
   "source": [
    "*There are inconsistencies in the data, for example, a power value of 20,000 is clearly an exaggeration. Therefore, we will exclude anything above 400 horsepower. For example, the Land Cruiser and Cherokee have power ranging from 300 to 350 horsepower, assuming some may have turbochargers. If there are outliers like the Ferrari LaFerrari with 950 horsepower in the dataset, they will distort the relationship for popular cars. Additionally, we have an excessive number of low-power vehicles, so we will set a cutoff at 25 horsepower.*\n",
    "\n",
    "*Next, the minimum registration year is currently set at 1000, which may be unrealistic unless it's a historical vehicle of the King Arthur. We need to set a new minimum threshold for the date. Similarly, the maximum year is set at 9999, which is not practical, so we will limit it to 2022. Afterward, we will create a histogram to determine the minimum threshold. Additionally, we will remove the column with the number of photos.*"
   ]
  },
  {
   "cell_type": "code",
   "execution_count": 64,
   "metadata": {},
   "outputs": [],
   "source": [
    "df = df.drop('numberofpictures', axis=1)"
   ]
  },
  {
   "cell_type": "code",
   "execution_count": 65,
   "metadata": {},
   "outputs": [],
   "source": [
    "df = df[df['registrationyear'] < 2023]"
   ]
  },
  {
   "cell_type": "code",
   "execution_count": 66,
   "metadata": {},
   "outputs": [
    {
     "data": {
      "image/png": "[encoded data removed]",
      "text/plain": [
       "<Figure size 400x300 with 1 Axes>"
      ]
     },
     "metadata": {},
     "output_type": "display_data"
    }
   ],
   "source": [
    "plt.figure(figsize=(4,3))\n",
    "df['registrationyear'].hist(bins=100)\n",
    "plt.title('Registration year distribution')\n",
    "plt.xlabel('Year')\n",
    "plt.show()"
   ]
  },
  {
   "cell_type": "code",
   "execution_count": 67,
   "metadata": {},
   "outputs": [
    {
     "data": {
      "image/png": "[encoded data removed]",
      "text/plain": [
       "<Figure size 400x300 with 1 Axes>"
      ]
     },
     "metadata": {},
     "output_type": "display_data"
    }
   ],
   "source": [
    "plt.figure(figsize=(4,3))\n",
    "df['registrationyear'][df['registrationyear'] > 1950].hist(bins=100)\n",
    "plt.title('Registration year distribution (> 1950)')\n",
    "plt.xlabel('Year')\n",
    "plt.show()"
   ]
  },
  {
   "cell_type": "markdown",
   "metadata": {},
   "source": [
    "*The graph shows that the proper range is 1960-2019*"
   ]
  },
  {
   "cell_type": "code",
   "execution_count": 68,
   "metadata": {},
   "outputs": [],
   "source": [
    "df = df[(df['registrationyear'] >= 1960) & (df['registrationyear'] < 2020)]"
   ]
  },
  {
   "cell_type": "markdown",
   "metadata": {},
   "source": [
    "DateCrawled — date of downloading the questionnaire from the database"
   ]
  },
  {
   "cell_type": "code",
   "execution_count": 69,
   "metadata": {},
   "outputs": [],
   "source": [
    "df.datecrawled = pd.to_datetime(df.datecrawled)"
   ]
  },
  {
   "cell_type": "code",
   "execution_count": 70,
   "metadata": {},
   "outputs": [
    {
     "data": {
      "image/png": "[encoded data removed]",
      "text/plain": [
       "<Figure size 400x300 with 1 Axes>"
      ]
     },
     "metadata": {},
     "output_type": "display_data"
    }
   ],
   "source": [
    "plt.figure(figsize=(4,3))\n",
    "df.datecrawled.dt.year.hist()\n",
    "plt.title('Date of the data downloading')\n",
    "plt.xlabel('Year')\n",
    "plt.show()"
   ]
  },
  {
   "cell_type": "code",
   "execution_count": 71,
   "metadata": {},
   "outputs": [
    {
     "name": "stdout",
     "output_type": "stream",
     "text": [
      "<class 'pandas.core.frame.DataFrame'>\n",
      "Int64Index: 341550 entries, 0 to 354368\n",
      "Data columns (total 15 columns):\n",
      " #   Column             Non-Null Count   Dtype         \n",
      "---  ------             --------------   -----         \n",
      " 0   datecrawled        341550 non-null  datetime64[ns]\n",
      " 1   price              341550 non-null  int64         \n",
      " 2   vehicletype        308727 non-null  object        \n",
      " 3   registrationyear   341550 non-null  int64         \n",
      " 4   gearbox            325058 non-null  object        \n",
      " 5   power              341550 non-null  int64         \n",
      " 6   model              324544 non-null  object        \n",
      " 7   kilometer          341550 non-null  int64         \n",
      " 8   registrationmonth  341550 non-null  int64         \n",
      " 9   fueltype           312990 non-null  object        \n",
      " 10  brand              341550 non-null  object        \n",
      " 11  repaired           276896 non-null  object        \n",
      " 12  datecreated        341550 non-null  object        \n",
      " 13  postalcode         341550 non-null  int64         \n",
      " 14  lastseen           341550 non-null  object        \n",
      "dtypes: datetime64[ns](1), int64(6), object(8)\n",
      "memory usage: 41.7+ MB\n"
     ]
    }
   ],
   "source": [
    "df.info()"
   ]
  },
  {
   "cell_type": "code",
   "execution_count": 72,
   "metadata": {},
   "outputs": [],
   "source": [
    "df = df[(df['power'] > 24) & (df['power'] <= 400)]"
   ]
  },
  {
   "cell_type": "markdown",
   "metadata": {},
   "source": [
    "*Let's examine the missing values. We will calculate the percentage of missing values for each column in relation to the total dataset.*"
   ]
  },
  {
   "cell_type": "code",
   "execution_count": 73,
   "metadata": {},
   "outputs": [
    {
     "data": {
      "text/plain": [
       "datecrawled           0.000000\n",
       "price                 0.000000\n",
       "vehicletype           6.897772\n",
       "registrationyear      0.000000\n",
       "gearbox               1.947988\n",
       "power                 0.000000\n",
       "model                 3.951699\n",
       "kilometer             0.000000\n",
       "registrationmonth     0.000000\n",
       "fueltype              6.377260\n",
       "brand                 0.000000\n",
       "repaired             15.249898\n",
       "datecreated           0.000000\n",
       "postalcode            0.000000\n",
       "lastseen              0.000000\n",
       "dtype: float64"
      ]
     },
     "execution_count": 73,
     "metadata": {},
     "output_type": "execute_result"
    }
   ],
   "source": [
    "df.isna().sum() / len(df) * 100"
   ]
  },
  {
   "cell_type": "markdown",
   "metadata": {},
   "source": [
    "*It will be difficult to reconstruct the model, so we will remove the missing values and columns that are not needed.*"
   ]
  },
  {
   "cell_type": "code",
   "execution_count": 74,
   "metadata": {},
   "outputs": [],
   "source": [
    "df.dropna(subset=['model'], inplace=True)"
   ]
  },
  {
   "cell_type": "markdown",
   "metadata": {},
   "source": [
    "*Let's get rid of the data that is not related to pricing. But first, let's consider the postal code as a distinctive feature. If we are referring to Russia, the first three digits represent the subject of the federation. Therefore, we will keep only the first three digits.*"
   ]
  },
  {
   "cell_type": "code",
   "execution_count": 75,
   "metadata": {},
   "outputs": [
    {
     "data": {
      "image/png": "[encoded data removed]",
      "text/plain": [
       "<Figure size 400x300 with 1 Axes>"
      ]
     },
     "metadata": {},
     "output_type": "display_data"
    }
   ],
   "source": [
    "plt.figure(figsize=(4,3))\n",
    "df['postalcode'].hist(bins=100)\n",
    "plt.title('Postal code ditribution')\n",
    "plt.show()"
   ]
  },
  {
   "cell_type": "code",
   "execution_count": 76,
   "metadata": {},
   "outputs": [],
   "source": [
    "def f(x):\n",
    "    return int(str(x)[:3])"
   ]
  },
  {
   "cell_type": "code",
   "execution_count": 77,
   "metadata": {},
   "outputs": [],
   "source": [
    "df['postalcode'] = df['postalcode'].apply(f)"
   ]
  },
  {
   "cell_type": "code",
   "execution_count": 78,
   "metadata": {},
   "outputs": [
    {
     "data": {
      "image/png": "[encoded data removed]",
      "text/plain": [
       "<Figure size 400x300 with 1 Axes>"
      ]
     },
     "metadata": {},
     "output_type": "display_data"
    }
   ],
   "source": [
    "plt.figure(figsize=(4,3))\n",
    "df['postalcode'].hist(bins=100)\n",
    "plt.title('Postal code ditribution (code of subjects)')\n",
    "plt.show()"
   ]
  },
  {
   "cell_type": "code",
   "execution_count": 79,
   "metadata": {},
   "outputs": [],
   "source": [
    "df.drop(['datecrawled','lastseen','datecreated'],axis=1, inplace=True)"
   ]
  },
  {
   "cell_type": "code",
   "execution_count": 80,
   "metadata": {},
   "outputs": [
    {
     "data": {
      "text/plain": [
       "price                 0.000000\n",
       "vehicletype           6.236264\n",
       "registrationyear      0.000000\n",
       "gearbox               1.768090\n",
       "power                 0.000000\n",
       "model                 0.000000\n",
       "kilometer             0.000000\n",
       "registrationmonth     0.000000\n",
       "fueltype              5.516538\n",
       "brand                 0.000000\n",
       "repaired             14.458345\n",
       "postalcode            0.000000\n",
       "dtype: float64"
      ]
     },
     "execution_count": 80,
     "metadata": {},
     "output_type": "execute_result"
    }
   ],
   "source": [
    "df.isna().sum() / len(df) * 100"
   ]
  },
  {
   "cell_type": "markdown",
   "metadata": {},
   "source": [
    "*We have removed about 5%, but there are still quite a lot of omissions. Now we will remove the gearbox since it is only 1.7%, and the criterion is very important and filling with distortions is unacceptable. Next, fill in the gaps in the fuel type*"
   ]
  },
  {
   "cell_type": "code",
   "execution_count": 81,
   "metadata": {},
   "outputs": [],
   "source": [
    "df.dropna(subset=['gearbox'],inplace=True)"
   ]
  },
  {
   "cell_type": "code",
   "execution_count": 82,
   "metadata": {},
   "outputs": [
    {
     "data": {
      "text/plain": [
       "petrol      181329\n",
       "gasoline     86274\n",
       "lpg           4440\n",
       "cng            476\n",
       "hybrid         180\n",
       "other           68\n",
       "electric        34\n",
       "Name: fueltype, dtype: int64"
      ]
     },
     "execution_count": 82,
     "metadata": {},
     "output_type": "execute_result"
    }
   ],
   "source": [
    "df['fueltype'].value_counts()"
   ]
  },
  {
   "cell_type": "markdown",
   "metadata": {},
   "source": [
    "*Replace gasoline as petrol*"
   ]
  },
  {
   "cell_type": "code",
   "execution_count": 83,
   "metadata": {},
   "outputs": [],
   "source": [
    "df.loc[df.fueltype == 'gasoline', 'fueltype'] = 'petrol'"
   ]
  },
  {
   "cell_type": "code",
   "execution_count": 84,
   "metadata": {
    "scrolled": true
   },
   "outputs": [
    {
     "data": {
      "text/plain": [
       "petrol      0.980946\n",
       "lpg         0.016276\n",
       "cng         0.001745\n",
       "hybrid      0.000660\n",
       "other       0.000249\n",
       "electric    0.000125\n",
       "Name: fueltype, dtype: float64"
      ]
     },
     "execution_count": 84,
     "metadata": {},
     "output_type": "execute_result"
    }
   ],
   "source": [
    "df['fueltype'].value_counts(normalize=True)"
   ]
  },
  {
   "cell_type": "markdown",
   "metadata": {},
   "source": [
    "*It can be seen that more than 98% of the total type of gasoline is petrol, so we will fill in the gaps with the most frequent value.*"
   ]
  },
  {
   "cell_type": "code",
   "execution_count": 85,
   "metadata": {},
   "outputs": [],
   "source": [
    " df['fueltype'].fillna( df['fueltype'].mode()[0],inplace=True)"
   ]
  },
  {
   "cell_type": "code",
   "execution_count": 86,
   "metadata": {},
   "outputs": [
    {
     "data": {
      "text/plain": [
       "price                 0.000000\n",
       "vehicletype           5.818716\n",
       "registrationyear      0.000000\n",
       "gearbox               0.000000\n",
       "power                 0.000000\n",
       "model                 0.000000\n",
       "kilometer             0.000000\n",
       "registrationmonth     0.000000\n",
       "fueltype              0.000000\n",
       "brand                 0.000000\n",
       "repaired             13.922674\n",
       "postalcode            0.000000\n",
       "dtype: float64"
      ]
     },
     "execution_count": 86,
     "metadata": {},
     "output_type": "execute_result"
    }
   ],
   "source": [
    "df.isna().sum() / len(df) * 100"
   ]
  },
  {
   "cell_type": "markdown",
   "metadata": {},
   "source": [
    "*After attempting to encode the categorical features, it becomes evident that there are too many categories for one-hot encoding. Therefore, we will use the LabelEncoder, even though it may introduce distortions compared to binary encoding. As for the \"repaired/unrepaired\" parameter, we will replace the missing values with \"unknown\" since this parameter is crucial.*"
   ]
  },
  {
   "cell_type": "code",
   "execution_count": 87,
   "metadata": {},
   "outputs": [],
   "source": [
    "df['repaired'].fillna('unknown',inplace=True)"
   ]
  },
  {
   "cell_type": "markdown",
   "metadata": {},
   "source": [
    "*Split dataset*"
   ]
  },
  {
   "cell_type": "code",
   "execution_count": 88,
   "metadata": {},
   "outputs": [],
   "source": [
    "features = df.drop('price', axis=1)\n",
    "target = df['price']"
   ]
  },
  {
   "cell_type": "markdown",
   "metadata": {},
   "source": [
    "*Fill omissions as 'unknown'*"
   ]
  },
  {
   "cell_type": "code",
   "execution_count": 89,
   "metadata": {},
   "outputs": [
    {
     "name": "stdout",
     "output_type": "stream",
     "text": [
      "<class 'pandas.core.frame.DataFrame'>\n",
      "Int64Index: 287847 entries, 2 to 354368\n",
      "Data columns (total 11 columns):\n",
      " #   Column             Non-Null Count   Dtype \n",
      "---  ------             --------------   ----- \n",
      " 0   vehicletype        271098 non-null  object\n",
      " 1   registrationyear   287847 non-null  int64 \n",
      " 2   gearbox            287847 non-null  object\n",
      " 3   power              287847 non-null  int64 \n",
      " 4   model              287847 non-null  object\n",
      " 5   kilometer          287847 non-null  int64 \n",
      " 6   registrationmonth  287847 non-null  int64 \n",
      " 7   fueltype           287847 non-null  object\n",
      " 8   brand              287847 non-null  object\n",
      " 9   repaired           287847 non-null  object\n",
      " 10  postalcode         287847 non-null  int64 \n",
      "dtypes: int64(5), object(6)\n",
      "memory usage: 26.4+ MB\n"
     ]
    }
   ],
   "source": [
    "features.info()"
   ]
  },
  {
   "cell_type": "code",
   "execution_count": 90,
   "metadata": {},
   "outputs": [],
   "source": [
    "features.loc[features.vehicletype.isna(),'vehicletype'] = 'unknown'"
   ]
  },
  {
   "cell_type": "code",
   "execution_count": 91,
   "metadata": {},
   "outputs": [],
   "source": [
    "feature_train, feature_valid, target_train, target_valid = train_test_split(features,\n",
    "                                                                          target,\n",
    "                                                                          test_size=.4,\n",
    "                                                                          random_state=123\n",
    "                                                                          )\n",
    "feature_test, feature_valid, target_test, target_valid = train_test_split(feature_valid,\n",
    "                                                                          target_valid,\n",
    "                                                                          test_size=.5,\n",
    "                                                                          random_state=123\n",
    "                                                                          )"
   ]
  },
  {
   "cell_type": "code",
   "execution_count": 92,
   "metadata": {},
   "outputs": [],
   "source": [
    "column = ['vehicletype','gearbox','model','fueltype','brand','repaired']\n",
    "oe = OrdinalEncoder()\n",
    "feature_train[column] = oe.fit_transform(feature_train[column])\n",
    "feature_valid[column] = oe.transform(feature_valid[column])\n",
    "feature_test[column] = oe.transform(feature_test[column])"
   ]
  },
  {
   "cell_type": "code",
   "execution_count": 93,
   "metadata": {},
   "outputs": [],
   "source": [
    "feature_train = feature_train.reset_index(drop=True)\n",
    "target_train = target_train.reset_index(drop=True)"
   ]
  },
  {
   "cell_type": "code",
   "execution_count": 94,
   "metadata": {},
   "outputs": [],
   "source": [
    "target_df = pd.DataFrame(data=target_train,columns=['price'])"
   ]
  },
  {
   "cell_type": "markdown",
   "metadata": {},
   "source": [
    "*Let's check the data for anomalies or outliers.*"
   ]
  },
  {
   "cell_type": "code",
   "execution_count": 95,
   "metadata": {
    "scrolled": true
   },
   "outputs": [
    {
     "data": {
      "image/png": "[encoded data removed]",
      "text/plain": [
       "<Figure size 800x400 with 1 Axes>"
      ]
     },
     "metadata": {},
     "output_type": "display_data"
    },
    {
     "data": {
      "image/png": "[encoded data removed]",
      "text/plain": [
       "<Figure size 800x400 with 1 Axes>"
      ]
     },
     "metadata": {},
     "output_type": "display_data"
    },
    {
     "data": {
      "image/png": "[encoded data removed]",
      "text/plain": [
       "<Figure size 800x400 with 1 Axes>"
      ]
     },
     "metadata": {},
     "output_type": "display_data"
    },
    {
     "data": {
      "image/png": "[encoded data removed]",
      "text/plain": [
       "<Figure size 800x400 with 1 Axes>"
      ]
     },
     "metadata": {},
     "output_type": "display_data"
    },
    {
     "data": {
      "image/png": "[encoded data removed]",
      "text/plain": [
       "<Figure size 800x400 with 1 Axes>"
      ]
     },
     "metadata": {},
     "output_type": "display_data"
    },
    {
     "data": {
      "image/png": "[encoded data removed]",
      "text/plain": [
       "<Figure size 800x400 with 1 Axes>"
      ]
     },
     "metadata": {},
     "output_type": "display_data"
    },
    {
     "data": {
      "image/png": "[encoded data removed]",
      "text/plain": [
       "<Figure size 800x400 with 1 Axes>"
      ]
     },
     "metadata": {},
     "output_type": "display_data"
    },
    {
     "data": {
      "image/png": "[encoded data removed]",
      "text/plain": [
       "<Figure size 800x400 with 1 Axes>"
      ]
     },
     "metadata": {},
     "output_type": "display_data"
    },
    {
     "data": {
      "image/png": "[encoded data removed]",
      "text/plain": [
       "<Figure size 800x400 with 1 Axes>"
      ]
     },
     "metadata": {},
     "output_type": "display_data"
    },
    {
     "data": {
      "image/png": "[encoded data removed]",
      "text/plain": [
       "<Figure size 800x400 with 1 Axes>"
      ]
     },
     "metadata": {},
     "output_type": "display_data"
    },
    {
     "data": {
      "image/png": "[encoded data removed]",
      "text/plain": [
       "<Figure size 800x400 with 1 Axes>"
      ]
     },
     "metadata": {},
     "output_type": "display_data"
    }
   ],
   "source": [
    "for column in feature_train.columns: \n",
    "    fig, axes = plt.subplots(1, 1, figsize=(8, 4))\n",
    "    plt.suptitle(column)\n",
    "    feature_train[column].plot(kind=\"hist\",bins=50, color='b', alpha=0.4,ax=axes)\n",
    "    plt.show()"
   ]
  },
  {
   "cell_type": "code",
   "execution_count": 96,
   "metadata": {},
   "outputs": [
    {
     "name": "stdout",
     "output_type": "stream",
     "text": [
      "interval columns not set, guessing: ['vehicletype', 'registrationyear', 'gearbox', 'power', 'model', 'kilometer', 'registrationmonth', 'fueltype', 'brand', 'repaired', 'postalcode', 'price']\n"
     ]
    },
    {
     "data": {
      "image/png": "[encoded data removed]",
      "text/plain": [
       "<Figure size 1000x800 with 2 Axes>"
      ]
     },
     "metadata": {},
     "output_type": "display_data"
    }
   ],
   "source": [
    "phik_overview = pd.concat([feature_train,target_df],axis=1).phik_matrix()\n",
    "\n",
    "plot_correlation_matrix(phik_overview.values, \n",
    "                        x_labels=phik_overview.columns, \n",
    "                        y_labels=phik_overview.index, \n",
    "                        vmin=0, vmax=1, color_map=\"Blues\", \n",
    "                        title=r\"correlation $\\phi_K$\", \n",
    "                        fontsize_factor=1.5, \n",
    "                        figsize=(10, 8))\n",
    "plt.tight_layout()"
   ]
  },
  {
   "cell_type": "markdown",
   "metadata": {},
   "source": [
    "*The correlation matrix shows that the fuel type and postal code are almost not correlated with the price, so we will delete them as well*"
   ]
  },
  {
   "cell_type": "code",
   "execution_count": 97,
   "metadata": {},
   "outputs": [],
   "source": [
    "feature_train.drop(['fueltype','postalcode'],axis=1, inplace=True)\n",
    "feature_valid.drop(['fueltype','postalcode'],axis=1, inplace=True)\n",
    "feature_test.drop(['fueltype','postalcode'],axis=1, inplace=True)"
   ]
  },
  {
   "cell_type": "code",
   "execution_count": 98,
   "metadata": {},
   "outputs": [
    {
     "data": {
      "text/plain": [
       "81.22804195626593"
      ]
     },
     "execution_count": 98,
     "metadata": {},
     "output_type": "execute_result"
    }
   ],
   "source": [
    "(feature_train.shape[0] + feature_test.shape[0] + feature_valid.shape[0])/ 354369 * 100"
   ]
  },
  {
   "cell_type": "markdown",
   "metadata": {},
   "source": [
    "**Conclusion: during data processing, we filled in the gaps where possible and deleted incorrect data. As a result, we are dealing with 81% of the original population, which was the result of data cleansing. In general, the data have been prepared, of the remaining anomalies, it is worth emphasizing the strange distribution in the year of registration - peaks in 2000 and 2005.**"
   ]
  },
  {
   "cell_type": "markdown",
   "metadata": {},
   "source": [
    "*Scaling features*"
   ]
  },
  {
   "cell_type": "code",
   "execution_count": 99,
   "metadata": {},
   "outputs": [
    {
     "data": {
      "text/html": [
       "<div>\n",
       "<style scoped>\n",
       "    .dataframe tbody tr th:only-of-type {\n",
       "        vertical-align: middle;\n",
       "    }\n",
       "\n",
       "    .dataframe tbody tr th {\n",
       "        vertical-align: top;\n",
       "    }\n",
       "\n",
       "    .dataframe thead th {\n",
       "        text-align: right;\n",
       "    }\n",
       "</style>\n",
       "<table border=\"1\" class=\"dataframe\">\n",
       "  <thead>\n",
       "    <tr style=\"text-align: right;\">\n",
       "      <th></th>\n",
       "      <th>vehicletype</th>\n",
       "      <th>registrationyear</th>\n",
       "      <th>gearbox</th>\n",
       "      <th>power</th>\n",
       "      <th>model</th>\n",
       "      <th>kilometer</th>\n",
       "      <th>registrationmonth</th>\n",
       "      <th>brand</th>\n",
       "      <th>repaired</th>\n",
       "    </tr>\n",
       "  </thead>\n",
       "  <tbody>\n",
       "    <tr>\n",
       "      <th>0</th>\n",
       "      <td>4.0</td>\n",
       "      <td>2007</td>\n",
       "      <td>0.0</td>\n",
       "      <td>231</td>\n",
       "      <td>15.0</td>\n",
       "      <td>150000</td>\n",
       "      <td>1</td>\n",
       "      <td>2.0</td>\n",
       "      <td>0.0</td>\n",
       "    </tr>\n",
       "    <tr>\n",
       "      <th>1</th>\n",
       "      <td>5.0</td>\n",
       "      <td>2004</td>\n",
       "      <td>1.0</td>\n",
       "      <td>60</td>\n",
       "      <td>128.0</td>\n",
       "      <td>80000</td>\n",
       "      <td>4</td>\n",
       "      <td>10.0</td>\n",
       "      <td>0.0</td>\n",
       "    </tr>\n",
       "    <tr>\n",
       "      <th>2</th>\n",
       "      <td>2.0</td>\n",
       "      <td>2001</td>\n",
       "      <td>0.0</td>\n",
       "      <td>163</td>\n",
       "      <td>59.0</td>\n",
       "      <td>150000</td>\n",
       "      <td>5</td>\n",
       "      <td>20.0</td>\n",
       "      <td>0.0</td>\n",
       "    </tr>\n",
       "    <tr>\n",
       "      <th>3</th>\n",
       "      <td>5.0</td>\n",
       "      <td>1992</td>\n",
       "      <td>1.0</td>\n",
       "      <td>45</td>\n",
       "      <td>173.0</td>\n",
       "      <td>20000</td>\n",
       "      <td>8</td>\n",
       "      <td>37.0</td>\n",
       "      <td>2.0</td>\n",
       "    </tr>\n",
       "    <tr>\n",
       "      <th>4</th>\n",
       "      <td>4.0</td>\n",
       "      <td>2000</td>\n",
       "      <td>1.0</td>\n",
       "      <td>150</td>\n",
       "      <td>15.0</td>\n",
       "      <td>150000</td>\n",
       "      <td>10</td>\n",
       "      <td>2.0</td>\n",
       "      <td>0.0</td>\n",
       "    </tr>\n",
       "  </tbody>\n",
       "</table>\n",
       "</div>"
      ],
      "text/plain": [
       "   vehicletype  registrationyear  gearbox  power  model  kilometer  \\\n",
       "0          4.0              2007      0.0    231   15.0     150000   \n",
       "1          5.0              2004      1.0     60  128.0      80000   \n",
       "2          2.0              2001      0.0    163   59.0     150000   \n",
       "3          5.0              1992      1.0     45  173.0      20000   \n",
       "4          4.0              2000      1.0    150   15.0     150000   \n",
       "\n",
       "   registrationmonth  brand  repaired  \n",
       "0                  1    2.0       0.0  \n",
       "1                  4   10.0       0.0  \n",
       "2                  5   20.0       0.0  \n",
       "3                  8   37.0       2.0  \n",
       "4                 10    2.0       0.0  "
      ]
     },
     "execution_count": 99,
     "metadata": {},
     "output_type": "execute_result"
    }
   ],
   "source": [
    "feature_train.head()"
   ]
  },
  {
   "cell_type": "code",
   "execution_count": 100,
   "metadata": {},
   "outputs": [],
   "source": [
    "columns = ['vehicletype','registrationyear','power','model','kilometer','brand','repaired','registrationmonth'] \n",
    "scale = MinMaxScaler()\n",
    "scale.fit(feature_train[columns])\n",
    "feature_train[columns] = scale.transform(feature_train[columns])"
   ]
  },
  {
   "cell_type": "code",
   "execution_count": 101,
   "metadata": {},
   "outputs": [
    {
     "data": {
      "text/html": [
       "<div>\n",
       "<style scoped>\n",
       "    .dataframe tbody tr th:only-of-type {\n",
       "        vertical-align: middle;\n",
       "    }\n",
       "\n",
       "    .dataframe tbody tr th {\n",
       "        vertical-align: top;\n",
       "    }\n",
       "\n",
       "    .dataframe thead th {\n",
       "        text-align: right;\n",
       "    }\n",
       "</style>\n",
       "<table border=\"1\" class=\"dataframe\">\n",
       "  <thead>\n",
       "    <tr style=\"text-align: right;\">\n",
       "      <th></th>\n",
       "      <th>vehicletype</th>\n",
       "      <th>registrationyear</th>\n",
       "      <th>gearbox</th>\n",
       "      <th>power</th>\n",
       "      <th>model</th>\n",
       "      <th>kilometer</th>\n",
       "      <th>registrationmonth</th>\n",
       "      <th>brand</th>\n",
       "      <th>repaired</th>\n",
       "    </tr>\n",
       "  </thead>\n",
       "  <tbody>\n",
       "    <tr>\n",
       "      <th>0</th>\n",
       "      <td>0.500</td>\n",
       "      <td>0.796610</td>\n",
       "      <td>0.0</td>\n",
       "      <td>0.549333</td>\n",
       "      <td>0.060484</td>\n",
       "      <td>1.000000</td>\n",
       "      <td>0.083333</td>\n",
       "      <td>0.052632</td>\n",
       "      <td>0.0</td>\n",
       "    </tr>\n",
       "    <tr>\n",
       "      <th>1</th>\n",
       "      <td>0.625</td>\n",
       "      <td>0.745763</td>\n",
       "      <td>1.0</td>\n",
       "      <td>0.093333</td>\n",
       "      <td>0.516129</td>\n",
       "      <td>0.517241</td>\n",
       "      <td>0.333333</td>\n",
       "      <td>0.263158</td>\n",
       "      <td>0.0</td>\n",
       "    </tr>\n",
       "    <tr>\n",
       "      <th>2</th>\n",
       "      <td>0.250</td>\n",
       "      <td>0.694915</td>\n",
       "      <td>0.0</td>\n",
       "      <td>0.368000</td>\n",
       "      <td>0.237903</td>\n",
       "      <td>1.000000</td>\n",
       "      <td>0.416667</td>\n",
       "      <td>0.526316</td>\n",
       "      <td>0.0</td>\n",
       "    </tr>\n",
       "    <tr>\n",
       "      <th>3</th>\n",
       "      <td>0.625</td>\n",
       "      <td>0.542373</td>\n",
       "      <td>1.0</td>\n",
       "      <td>0.053333</td>\n",
       "      <td>0.697581</td>\n",
       "      <td>0.103448</td>\n",
       "      <td>0.666667</td>\n",
       "      <td>0.973684</td>\n",
       "      <td>1.0</td>\n",
       "    </tr>\n",
       "    <tr>\n",
       "      <th>4</th>\n",
       "      <td>0.500</td>\n",
       "      <td>0.677966</td>\n",
       "      <td>1.0</td>\n",
       "      <td>0.333333</td>\n",
       "      <td>0.060484</td>\n",
       "      <td>1.000000</td>\n",
       "      <td>0.833333</td>\n",
       "      <td>0.052632</td>\n",
       "      <td>0.0</td>\n",
       "    </tr>\n",
       "  </tbody>\n",
       "</table>\n",
       "</div>"
      ],
      "text/plain": [
       "   vehicletype  registrationyear  gearbox     power     model  kilometer  \\\n",
       "0        0.500          0.796610      0.0  0.549333  0.060484   1.000000   \n",
       "1        0.625          0.745763      1.0  0.093333  0.516129   0.517241   \n",
       "2        0.250          0.694915      0.0  0.368000  0.237903   1.000000   \n",
       "3        0.625          0.542373      1.0  0.053333  0.697581   0.103448   \n",
       "4        0.500          0.677966      1.0  0.333333  0.060484   1.000000   \n",
       "\n",
       "   registrationmonth     brand  repaired  \n",
       "0           0.083333  0.052632       0.0  \n",
       "1           0.333333  0.263158       0.0  \n",
       "2           0.416667  0.526316       0.0  \n",
       "3           0.666667  0.973684       1.0  \n",
       "4           0.833333  0.052632       0.0  "
      ]
     },
     "execution_count": 101,
     "metadata": {},
     "output_type": "execute_result"
    }
   ],
   "source": [
    "feature_train.head()"
   ]
  },
  {
   "cell_type": "code",
   "execution_count": 102,
   "metadata": {},
   "outputs": [],
   "source": [
    "feature_valid[columns] = scale.transform(feature_valid[columns])\n",
    "feature_test[columns] = scale.transform(feature_test[columns])"
   ]
  },
  {
   "cell_type": "markdown",
   "metadata": {},
   "source": [
    "## Model training"
   ]
  },
  {
   "cell_type": "markdown",
   "metadata": {},
   "source": [
    "*By the condition of the task, the research metric is RMSE, we declare the function*"
   ]
  },
  {
   "cell_type": "code",
   "execution_count": 103,
   "metadata": {},
   "outputs": [],
   "source": [
    "def RMSE(test, predict):\n",
    "    return round(mean_squared_error(test, predict)**.5, 3)"
   ]
  },
  {
   "cell_type": "markdown",
   "metadata": {},
   "source": [
    "*Let's start with the simplest* **linear regressor**"
   ]
  },
  {
   "cell_type": "code",
   "execution_count": 104,
   "metadata": {
    "scrolled": true
   },
   "outputs": [
    {
     "name": "stdout",
     "output_type": "stream",
     "text": [
      "CPU times: total: 141 ms\n",
      "Wall time: 255 ms\n"
     ]
    },
    {
     "data": {
      "text/html": [
       "<style>#sk-container-id-1 {color: black;background-color: white;}#sk-container-id-1 pre{padding: 0;}#sk-container-id-1 div.sk-toggleable {background-color: white;}#sk-container-id-1 label.sk-toggleable__label {cursor: pointer;display: block;width: 100%;margin-bottom: 0;padding: 0.3em;box-sizing: border-box;text-align: center;}#sk-container-id-1 label.sk-toggleable__label-arrow:before {content: \"▸\";float: left;margin-right: 0.25em;color: #696969;}#sk-container-id-1 label.sk-toggleable__label-arrow:hover:before {color: black;}#sk-container-id-1 div.sk-estimator:hover label.sk-toggleable__label-arrow:before {color: black;}#sk-container-id-1 div.sk-toggleable__content {max-height: 0;max-width: 0;overflow: hidden;text-align: left;background-color: #f0f8ff;}#sk-container-id-1 div.sk-toggleable__content pre {margin: 0.2em;color: black;border-radius: 0.25em;background-color: #f0f8ff;}#sk-container-id-1 input.sk-toggleable__control:checked~div.sk-toggleable__content {max-height: 200px;max-width: 100%;overflow: auto;}#sk-container-id-1 input.sk-toggleable__control:checked~label.sk-toggleable__label-arrow:before {content: \"▾\";}#sk-container-id-1 div.sk-estimator input.sk-toggleable__control:checked~label.sk-toggleable__label {background-color: #d4ebff;}#sk-container-id-1 div.sk-label input.sk-toggleable__control:checked~label.sk-toggleable__label {background-color: #d4ebff;}#sk-container-id-1 input.sk-hidden--visually {border: 0;clip: rect(1px 1px 1px 1px);clip: rect(1px, 1px, 1px, 1px);height: 1px;margin: -1px;overflow: hidden;padding: 0;position: absolute;width: 1px;}#sk-container-id-1 div.sk-estimator {font-family: monospace;background-color: #f0f8ff;border: 1px dotted black;border-radius: 0.25em;box-sizing: border-box;margin-bottom: 0.5em;}#sk-container-id-1 div.sk-estimator:hover {background-color: #d4ebff;}#sk-container-id-1 div.sk-parallel-item::after {content: \"\";width: 100%;border-bottom: 1px solid gray;flex-grow: 1;}#sk-container-id-1 div.sk-label:hover label.sk-toggleable__label {background-color: #d4ebff;}#sk-container-id-1 div.sk-serial::before {content: \"\";position: absolute;border-left: 1px solid gray;box-sizing: border-box;top: 0;bottom: 0;left: 50%;z-index: 0;}#sk-container-id-1 div.sk-serial {display: flex;flex-direction: column;align-items: center;background-color: white;padding-right: 0.2em;padding-left: 0.2em;position: relative;}#sk-container-id-1 div.sk-item {position: relative;z-index: 1;}#sk-container-id-1 div.sk-parallel {display: flex;align-items: stretch;justify-content: center;background-color: white;position: relative;}#sk-container-id-1 div.sk-item::before, #sk-container-id-1 div.sk-parallel-item::before {content: \"\";position: absolute;border-left: 1px solid gray;box-sizing: border-box;top: 0;bottom: 0;left: 50%;z-index: -1;}#sk-container-id-1 div.sk-parallel-item {display: flex;flex-direction: column;z-index: 1;position: relative;background-color: white;}#sk-container-id-1 div.sk-parallel-item:first-child::after {align-self: flex-end;width: 50%;}#sk-container-id-1 div.sk-parallel-item:last-child::after {align-self: flex-start;width: 50%;}#sk-container-id-1 div.sk-parallel-item:only-child::after {width: 0;}#sk-container-id-1 div.sk-dashed-wrapped {border: 1px dashed gray;margin: 0 0.4em 0.5em 0.4em;box-sizing: border-box;padding-bottom: 0.4em;background-color: white;}#sk-container-id-1 div.sk-label label {font-family: monospace;font-weight: bold;display: inline-block;line-height: 1.2em;}#sk-container-id-1 div.sk-label-container {text-align: center;}#sk-container-id-1 div.sk-container {/* jupyter's `normalize.less` sets `[hidden] { display: none; }` but bootstrap.min.css set `[hidden] { display: none !important; }` so we also need the `!important` here to be able to override the default hidden behavior on the sphinx rendered scikit-learn.org. See: https://github.com/scikit-learn/scikit-learn/issues/21755 */display: inline-block !important;position: relative;}#sk-container-id-1 div.sk-text-repr-fallback {display: none;}</style><div id=\"sk-container-id-1\" class=\"sk-top-container\"><div class=\"sk-text-repr-fallback\"><pre>LinearRegression()</pre><b>In a Jupyter environment, please rerun this cell to show the HTML representation or trust the notebook. <br />On GitHub, the HTML representation is unable to render, please try loading this page with nbviewer.org.</b></div><div class=\"sk-container\" hidden><div class=\"sk-item\"><div class=\"sk-estimator sk-toggleable\"><input class=\"sk-toggleable__control sk-hidden--visually\" id=\"sk-estimator-id-1\" type=\"checkbox\" checked><label for=\"sk-estimator-id-1\" class=\"sk-toggleable__label sk-toggleable__label-arrow\">LinearRegression</label><div class=\"sk-toggleable__content\"><pre>LinearRegression()</pre></div></div></div></div></div>"
      ],
      "text/plain": [
       "LinearRegression()"
      ]
     },
     "execution_count": 104,
     "metadata": {},
     "output_type": "execute_result"
    }
   ],
   "source": [
    "%%time\n",
    "model_lr = LinearRegression()\n",
    "model_lr.fit(feature_train, target_train)"
   ]
  },
  {
   "cell_type": "code",
   "execution_count": 105,
   "metadata": {},
   "outputs": [
    {
     "name": "stdout",
     "output_type": "stream",
     "text": [
      "CPU times: total: 0 ns\n",
      "Wall time: 10 ms\n"
     ]
    }
   ],
   "source": [
    "%%time\n",
    "predict_lr = model_lr.predict(feature_valid)"
   ]
  },
  {
   "cell_type": "code",
   "execution_count": 106,
   "metadata": {},
   "outputs": [
    {
     "data": {
      "text/plain": [
       "2983.742"
      ]
     },
     "execution_count": 106,
     "metadata": {},
     "output_type": "execute_result"
    }
   ],
   "source": [
    "RMSE(predict_lr,target_valid)"
   ]
  },
  {
   "cell_type": "markdown",
   "metadata": {},
   "source": [
    "*Train* **random forest**"
   ]
  },
  {
   "cell_type": "code",
   "execution_count": 107,
   "metadata": {},
   "outputs": [
    {
     "name": "stdout",
     "output_type": "stream",
     "text": [
      "CPU times: total: 57.2 s\n",
      "Wall time: 57.3 s\n"
     ]
    },
    {
     "data": {
      "text/html": [
       "<style>#sk-container-id-2 {color: black;background-color: white;}#sk-container-id-2 pre{padding: 0;}#sk-container-id-2 div.sk-toggleable {background-color: white;}#sk-container-id-2 label.sk-toggleable__label {cursor: pointer;display: block;width: 100%;margin-bottom: 0;padding: 0.3em;box-sizing: border-box;text-align: center;}#sk-container-id-2 label.sk-toggleable__label-arrow:before {content: \"▸\";float: left;margin-right: 0.25em;color: #696969;}#sk-container-id-2 label.sk-toggleable__label-arrow:hover:before {color: black;}#sk-container-id-2 div.sk-estimator:hover label.sk-toggleable__label-arrow:before {color: black;}#sk-container-id-2 div.sk-toggleable__content {max-height: 0;max-width: 0;overflow: hidden;text-align: left;background-color: #f0f8ff;}#sk-container-id-2 div.sk-toggleable__content pre {margin: 0.2em;color: black;border-radius: 0.25em;background-color: #f0f8ff;}#sk-container-id-2 input.sk-toggleable__control:checked~div.sk-toggleable__content {max-height: 200px;max-width: 100%;overflow: auto;}#sk-container-id-2 input.sk-toggleable__control:checked~label.sk-toggleable__label-arrow:before {content: \"▾\";}#sk-container-id-2 div.sk-estimator input.sk-toggleable__control:checked~label.sk-toggleable__label {background-color: #d4ebff;}#sk-container-id-2 div.sk-label input.sk-toggleable__control:checked~label.sk-toggleable__label {background-color: #d4ebff;}#sk-container-id-2 input.sk-hidden--visually {border: 0;clip: rect(1px 1px 1px 1px);clip: rect(1px, 1px, 1px, 1px);height: 1px;margin: -1px;overflow: hidden;padding: 0;position: absolute;width: 1px;}#sk-container-id-2 div.sk-estimator {font-family: monospace;background-color: #f0f8ff;border: 1px dotted black;border-radius: 0.25em;box-sizing: border-box;margin-bottom: 0.5em;}#sk-container-id-2 div.sk-estimator:hover {background-color: #d4ebff;}#sk-container-id-2 div.sk-parallel-item::after {content: \"\";width: 100%;border-bottom: 1px solid gray;flex-grow: 1;}#sk-container-id-2 div.sk-label:hover label.sk-toggleable__label {background-color: #d4ebff;}#sk-container-id-2 div.sk-serial::before {content: \"\";position: absolute;border-left: 1px solid gray;box-sizing: border-box;top: 0;bottom: 0;left: 50%;z-index: 0;}#sk-container-id-2 div.sk-serial {display: flex;flex-direction: column;align-items: center;background-color: white;padding-right: 0.2em;padding-left: 0.2em;position: relative;}#sk-container-id-2 div.sk-item {position: relative;z-index: 1;}#sk-container-id-2 div.sk-parallel {display: flex;align-items: stretch;justify-content: center;background-color: white;position: relative;}#sk-container-id-2 div.sk-item::before, #sk-container-id-2 div.sk-parallel-item::before {content: \"\";position: absolute;border-left: 1px solid gray;box-sizing: border-box;top: 0;bottom: 0;left: 50%;z-index: -1;}#sk-container-id-2 div.sk-parallel-item {display: flex;flex-direction: column;z-index: 1;position: relative;background-color: white;}#sk-container-id-2 div.sk-parallel-item:first-child::after {align-self: flex-end;width: 50%;}#sk-container-id-2 div.sk-parallel-item:last-child::after {align-self: flex-start;width: 50%;}#sk-container-id-2 div.sk-parallel-item:only-child::after {width: 0;}#sk-container-id-2 div.sk-dashed-wrapped {border: 1px dashed gray;margin: 0 0.4em 0.5em 0.4em;box-sizing: border-box;padding-bottom: 0.4em;background-color: white;}#sk-container-id-2 div.sk-label label {font-family: monospace;font-weight: bold;display: inline-block;line-height: 1.2em;}#sk-container-id-2 div.sk-label-container {text-align: center;}#sk-container-id-2 div.sk-container {/* jupyter's `normalize.less` sets `[hidden] { display: none; }` but bootstrap.min.css set `[hidden] { display: none !important; }` so we also need the `!important` here to be able to override the default hidden behavior on the sphinx rendered scikit-learn.org. See: https://github.com/scikit-learn/scikit-learn/issues/21755 */display: inline-block !important;position: relative;}#sk-container-id-2 div.sk-text-repr-fallback {display: none;}</style><div id=\"sk-container-id-2\" class=\"sk-top-container\"><div class=\"sk-text-repr-fallback\"><pre>RandomForestRegressor(n_estimators=70, random_state=123)</pre><b>In a Jupyter environment, please rerun this cell to show the HTML representation or trust the notebook. <br />On GitHub, the HTML representation is unable to render, please try loading this page with nbviewer.org.</b></div><div class=\"sk-container\" hidden><div class=\"sk-item\"><div class=\"sk-estimator sk-toggleable\"><input class=\"sk-toggleable__control sk-hidden--visually\" id=\"sk-estimator-id-2\" type=\"checkbox\" checked><label for=\"sk-estimator-id-2\" class=\"sk-toggleable__label sk-toggleable__label-arrow\">RandomForestRegressor</label><div class=\"sk-toggleable__content\"><pre>RandomForestRegressor(n_estimators=70, random_state=123)</pre></div></div></div></div></div>"
      ],
      "text/plain": [
       "RandomForestRegressor(n_estimators=70, random_state=123)"
      ]
     },
     "execution_count": 107,
     "metadata": {},
     "output_type": "execute_result"
    }
   ],
   "source": [
    "%%time\n",
    "model_rf = RandomForestRegressor(random_state=123, n_estimators=70)\n",
    "model_rf.fit(feature_train, target_train)"
   ]
  },
  {
   "cell_type": "code",
   "execution_count": 108,
   "metadata": {},
   "outputs": [
    {
     "name": "stdout",
     "output_type": "stream",
     "text": [
      "CPU times: total: 2.36 s\n",
      "Wall time: 2.35 s\n"
     ]
    }
   ],
   "source": [
    "%%time\n",
    "pred_rf=model_rf.predict(feature_valid)"
   ]
  },
  {
   "cell_type": "code",
   "execution_count": 109,
   "metadata": {},
   "outputs": [
    {
     "data": {
      "text/plain": [
       "1590.534"
      ]
     },
     "execution_count": 109,
     "metadata": {},
     "output_type": "execute_result"
    }
   ],
   "source": [
    "RMSE(pred_rf,target_valid)"
   ]
  },
  {
   "cell_type": "code",
   "execution_count": 110,
   "metadata": {},
   "outputs": [
    {
     "data": {
      "image/png": "[encoded data removed]",
      "text/plain": [
       "<Figure size 640x480 with 1 Axes>"
      ]
     },
     "metadata": {},
     "output_type": "display_data"
    }
   ],
   "source": [
    "sort = model_rf.feature_importances_.argsort()\n",
    "plt.barh(feature_train.columns[sort], model_rf.feature_importances_[sort])\n",
    "plt.title(\"Feature Importance\")\n",
    "plt.show()"
   ]
  },
  {
   "cell_type": "markdown",
   "metadata": {},
   "source": [
    "*Train* **LightGMB**"
   ]
  },
  {
   "cell_type": "code",
   "execution_count": 111,
   "metadata": {},
   "outputs": [
    {
     "name": "stdout",
     "output_type": "stream",
     "text": [
      "CPU times: total: 3.28 s\n",
      "Wall time: 1.04 s\n"
     ]
    },
    {
     "data": {
      "text/html": [
       "<style>#sk-container-id-3 {color: black;background-color: white;}#sk-container-id-3 pre{padding: 0;}#sk-container-id-3 div.sk-toggleable {background-color: white;}#sk-container-id-3 label.sk-toggleable__label {cursor: pointer;display: block;width: 100%;margin-bottom: 0;padding: 0.3em;box-sizing: border-box;text-align: center;}#sk-container-id-3 label.sk-toggleable__label-arrow:before {content: \"▸\";float: left;margin-right: 0.25em;color: #696969;}#sk-container-id-3 label.sk-toggleable__label-arrow:hover:before {color: black;}#sk-container-id-3 div.sk-estimator:hover label.sk-toggleable__label-arrow:before {color: black;}#sk-container-id-3 div.sk-toggleable__content {max-height: 0;max-width: 0;overflow: hidden;text-align: left;background-color: #f0f8ff;}#sk-container-id-3 div.sk-toggleable__content pre {margin: 0.2em;color: black;border-radius: 0.25em;background-color: #f0f8ff;}#sk-container-id-3 input.sk-toggleable__control:checked~div.sk-toggleable__content {max-height: 200px;max-width: 100%;overflow: auto;}#sk-container-id-3 input.sk-toggleable__control:checked~label.sk-toggleable__label-arrow:before {content: \"▾\";}#sk-container-id-3 div.sk-estimator input.sk-toggleable__control:checked~label.sk-toggleable__label {background-color: #d4ebff;}#sk-container-id-3 div.sk-label input.sk-toggleable__control:checked~label.sk-toggleable__label {background-color: #d4ebff;}#sk-container-id-3 input.sk-hidden--visually {border: 0;clip: rect(1px 1px 1px 1px);clip: rect(1px, 1px, 1px, 1px);height: 1px;margin: -1px;overflow: hidden;padding: 0;position: absolute;width: 1px;}#sk-container-id-3 div.sk-estimator {font-family: monospace;background-color: #f0f8ff;border: 1px dotted black;border-radius: 0.25em;box-sizing: border-box;margin-bottom: 0.5em;}#sk-container-id-3 div.sk-estimator:hover {background-color: #d4ebff;}#sk-container-id-3 div.sk-parallel-item::after {content: \"\";width: 100%;border-bottom: 1px solid gray;flex-grow: 1;}#sk-container-id-3 div.sk-label:hover label.sk-toggleable__label {background-color: #d4ebff;}#sk-container-id-3 div.sk-serial::before {content: \"\";position: absolute;border-left: 1px solid gray;box-sizing: border-box;top: 0;bottom: 0;left: 50%;z-index: 0;}#sk-container-id-3 div.sk-serial {display: flex;flex-direction: column;align-items: center;background-color: white;padding-right: 0.2em;padding-left: 0.2em;position: relative;}#sk-container-id-3 div.sk-item {position: relative;z-index: 1;}#sk-container-id-3 div.sk-parallel {display: flex;align-items: stretch;justify-content: center;background-color: white;position: relative;}#sk-container-id-3 div.sk-item::before, #sk-container-id-3 div.sk-parallel-item::before {content: \"\";position: absolute;border-left: 1px solid gray;box-sizing: border-box;top: 0;bottom: 0;left: 50%;z-index: -1;}#sk-container-id-3 div.sk-parallel-item {display: flex;flex-direction: column;z-index: 1;position: relative;background-color: white;}#sk-container-id-3 div.sk-parallel-item:first-child::after {align-self: flex-end;width: 50%;}#sk-container-id-3 div.sk-parallel-item:last-child::after {align-self: flex-start;width: 50%;}#sk-container-id-3 div.sk-parallel-item:only-child::after {width: 0;}#sk-container-id-3 div.sk-dashed-wrapped {border: 1px dashed gray;margin: 0 0.4em 0.5em 0.4em;box-sizing: border-box;padding-bottom: 0.4em;background-color: white;}#sk-container-id-3 div.sk-label label {font-family: monospace;font-weight: bold;display: inline-block;line-height: 1.2em;}#sk-container-id-3 div.sk-label-container {text-align: center;}#sk-container-id-3 div.sk-container {/* jupyter's `normalize.less` sets `[hidden] { display: none; }` but bootstrap.min.css set `[hidden] { display: none !important; }` so we also need the `!important` here to be able to override the default hidden behavior on the sphinx rendered scikit-learn.org. See: https://github.com/scikit-learn/scikit-learn/issues/21755 */display: inline-block !important;position: relative;}#sk-container-id-3 div.sk-text-repr-fallback {display: none;}</style><div id=\"sk-container-id-3\" class=\"sk-top-container\"><div class=\"sk-text-repr-fallback\"><pre>LGBMRegressor(n_estimators=70, objective=&#x27;RMSE&#x27;, random_state=123)</pre><b>In a Jupyter environment, please rerun this cell to show the HTML representation or trust the notebook. <br />On GitHub, the HTML representation is unable to render, please try loading this page with nbviewer.org.</b></div><div class=\"sk-container\" hidden><div class=\"sk-item\"><div class=\"sk-estimator sk-toggleable\"><input class=\"sk-toggleable__control sk-hidden--visually\" id=\"sk-estimator-id-3\" type=\"checkbox\" checked><label for=\"sk-estimator-id-3\" class=\"sk-toggleable__label sk-toggleable__label-arrow\">LGBMRegressor</label><div class=\"sk-toggleable__content\"><pre>LGBMRegressor(n_estimators=70, objective=&#x27;RMSE&#x27;, random_state=123)</pre></div></div></div></div></div>"
      ],
      "text/plain": [
       "LGBMRegressor(n_estimators=70, objective='RMSE', random_state=123)"
      ]
     },
     "execution_count": 111,
     "metadata": {},
     "output_type": "execute_result"
    }
   ],
   "source": [
    "%%time\n",
    "model_lgb = LGBMRegressor(n_estimators=70, random_state=123, objective='RMSE')\n",
    "model_lgb.fit(feature_train, target_train)"
   ]
  },
  {
   "cell_type": "code",
   "execution_count": 112,
   "metadata": {},
   "outputs": [
    {
     "name": "stdout",
     "output_type": "stream",
     "text": [
      "CPU times: total: 516 ms\n",
      "Wall time: 82 ms\n"
     ]
    }
   ],
   "source": [
    "%%time\n",
    "pred_lgb=model_lgb.predict(feature_valid)"
   ]
  },
  {
   "cell_type": "code",
   "execution_count": 113,
   "metadata": {},
   "outputs": [
    {
     "data": {
      "text/plain": [
       "1719.154"
      ]
     },
     "execution_count": 113,
     "metadata": {},
     "output_type": "execute_result"
    }
   ],
   "source": [
    "RMSE(pred_lgb,target_valid)"
   ]
  },
  {
   "cell_type": "code",
   "execution_count": 114,
   "metadata": {},
   "outputs": [
    {
     "name": "stdout",
     "output_type": "stream",
     "text": [
      "CPU times: total: 7.22 s\n",
      "Wall time: 1.07 s\n"
     ]
    },
    {
     "data": {
      "text/html": [
       "<style>#sk-container-id-4 {color: black;background-color: white;}#sk-container-id-4 pre{padding: 0;}#sk-container-id-4 div.sk-toggleable {background-color: white;}#sk-container-id-4 label.sk-toggleable__label {cursor: pointer;display: block;width: 100%;margin-bottom: 0;padding: 0.3em;box-sizing: border-box;text-align: center;}#sk-container-id-4 label.sk-toggleable__label-arrow:before {content: \"▸\";float: left;margin-right: 0.25em;color: #696969;}#sk-container-id-4 label.sk-toggleable__label-arrow:hover:before {color: black;}#sk-container-id-4 div.sk-estimator:hover label.sk-toggleable__label-arrow:before {color: black;}#sk-container-id-4 div.sk-toggleable__content {max-height: 0;max-width: 0;overflow: hidden;text-align: left;background-color: #f0f8ff;}#sk-container-id-4 div.sk-toggleable__content pre {margin: 0.2em;color: black;border-radius: 0.25em;background-color: #f0f8ff;}#sk-container-id-4 input.sk-toggleable__control:checked~div.sk-toggleable__content {max-height: 200px;max-width: 100%;overflow: auto;}#sk-container-id-4 input.sk-toggleable__control:checked~label.sk-toggleable__label-arrow:before {content: \"▾\";}#sk-container-id-4 div.sk-estimator input.sk-toggleable__control:checked~label.sk-toggleable__label {background-color: #d4ebff;}#sk-container-id-4 div.sk-label input.sk-toggleable__control:checked~label.sk-toggleable__label {background-color: #d4ebff;}#sk-container-id-4 input.sk-hidden--visually {border: 0;clip: rect(1px 1px 1px 1px);clip: rect(1px, 1px, 1px, 1px);height: 1px;margin: -1px;overflow: hidden;padding: 0;position: absolute;width: 1px;}#sk-container-id-4 div.sk-estimator {font-family: monospace;background-color: #f0f8ff;border: 1px dotted black;border-radius: 0.25em;box-sizing: border-box;margin-bottom: 0.5em;}#sk-container-id-4 div.sk-estimator:hover {background-color: #d4ebff;}#sk-container-id-4 div.sk-parallel-item::after {content: \"\";width: 100%;border-bottom: 1px solid gray;flex-grow: 1;}#sk-container-id-4 div.sk-label:hover label.sk-toggleable__label {background-color: #d4ebff;}#sk-container-id-4 div.sk-serial::before {content: \"\";position: absolute;border-left: 1px solid gray;box-sizing: border-box;top: 0;bottom: 0;left: 50%;z-index: 0;}#sk-container-id-4 div.sk-serial {display: flex;flex-direction: column;align-items: center;background-color: white;padding-right: 0.2em;padding-left: 0.2em;position: relative;}#sk-container-id-4 div.sk-item {position: relative;z-index: 1;}#sk-container-id-4 div.sk-parallel {display: flex;align-items: stretch;justify-content: center;background-color: white;position: relative;}#sk-container-id-4 div.sk-item::before, #sk-container-id-4 div.sk-parallel-item::before {content: \"\";position: absolute;border-left: 1px solid gray;box-sizing: border-box;top: 0;bottom: 0;left: 50%;z-index: -1;}#sk-container-id-4 div.sk-parallel-item {display: flex;flex-direction: column;z-index: 1;position: relative;background-color: white;}#sk-container-id-4 div.sk-parallel-item:first-child::after {align-self: flex-end;width: 50%;}#sk-container-id-4 div.sk-parallel-item:last-child::after {align-self: flex-start;width: 50%;}#sk-container-id-4 div.sk-parallel-item:only-child::after {width: 0;}#sk-container-id-4 div.sk-dashed-wrapped {border: 1px dashed gray;margin: 0 0.4em 0.5em 0.4em;box-sizing: border-box;padding-bottom: 0.4em;background-color: white;}#sk-container-id-4 div.sk-label label {font-family: monospace;font-weight: bold;display: inline-block;line-height: 1.2em;}#sk-container-id-4 div.sk-label-container {text-align: center;}#sk-container-id-4 div.sk-container {/* jupyter's `normalize.less` sets `[hidden] { display: none; }` but bootstrap.min.css set `[hidden] { display: none !important; }` so we also need the `!important` here to be able to override the default hidden behavior on the sphinx rendered scikit-learn.org. See: https://github.com/scikit-learn/scikit-learn/issues/21755 */display: inline-block !important;position: relative;}#sk-container-id-4 div.sk-text-repr-fallback {display: none;}</style><div id=\"sk-container-id-4\" class=\"sk-top-container\"><div class=\"sk-text-repr-fallback\"><pre>LGBMRegressor(n_estimators=200, objective=&#x27;RMSE&#x27;, random_state=123)</pre><b>In a Jupyter environment, please rerun this cell to show the HTML representation or trust the notebook. <br />On GitHub, the HTML representation is unable to render, please try loading this page with nbviewer.org.</b></div><div class=\"sk-container\" hidden><div class=\"sk-item\"><div class=\"sk-estimator sk-toggleable\"><input class=\"sk-toggleable__control sk-hidden--visually\" id=\"sk-estimator-id-4\" type=\"checkbox\" checked><label for=\"sk-estimator-id-4\" class=\"sk-toggleable__label sk-toggleable__label-arrow\">LGBMRegressor</label><div class=\"sk-toggleable__content\"><pre>LGBMRegressor(n_estimators=200, objective=&#x27;RMSE&#x27;, random_state=123)</pre></div></div></div></div></div>"
      ],
      "text/plain": [
       "LGBMRegressor(n_estimators=200, objective='RMSE', random_state=123)"
      ]
     },
     "execution_count": 114,
     "metadata": {},
     "output_type": "execute_result"
    }
   ],
   "source": [
    "%%time\n",
    "model_lgb = LGBMRegressor(n_estimators=200, random_state=123, objective='RMSE')\n",
    "model_lgb.fit(feature_train, target_train)"
   ]
  },
  {
   "cell_type": "code",
   "execution_count": 115,
   "metadata": {},
   "outputs": [
    {
     "name": "stdout",
     "output_type": "stream",
     "text": [
      "CPU times: total: 938 ms\n",
      "Wall time: 154 ms\n"
     ]
    }
   ],
   "source": [
    "%%time\n",
    "pred_lgb=model_lgb.predict(feature_valid)"
   ]
  },
  {
   "cell_type": "code",
   "execution_count": 116,
   "metadata": {},
   "outputs": [
    {
     "data": {
      "text/plain": [
       "1621.944"
      ]
     },
     "execution_count": 116,
     "metadata": {},
     "output_type": "execute_result"
    }
   ],
   "source": [
    "RMSE(pred_lgb,target_valid)"
   ]
  },
  {
   "cell_type": "code",
   "execution_count": 117,
   "metadata": {},
   "outputs": [],
   "source": [
    "train_dataset = lgb.Dataset(feature_train, target_train)\n",
    "valid_dataset = lgb.Dataset(feature_valid, target_valid, reference=train_dataset)"
   ]
  },
  {
   "cell_type": "code",
   "execution_count": 118,
   "metadata": {},
   "outputs": [
    {
     "name": "stdout",
     "output_type": "stream",
     "text": [
      "[LightGBM] [Warning] Accuracy may be bad since you didn't explicitly set num_leaves OR 2^max_depth > num_leaves. (num_leaves=31).\n"
     ]
    },
    {
     "name": "stderr",
     "output_type": "stream",
     "text": [
      "C:\\Users\\79609\\anaconda3\\envs\\ds_practicum_env\\lib\\site-packages\\lightgbm\\engine.py:239: UserWarning: 'verbose_eval' argument is deprecated and will be removed in a future release of LightGBM. Pass 'log_evaluation()' callback via 'callbacks' argument instead.\n",
      "  _log_warning(\"'verbose_eval' argument is deprecated and will be removed in a future release of LightGBM. \"\n"
     ]
    },
    {
     "name": "stdout",
     "output_type": "stream",
     "text": [
      "[LightGBM] [Warning] Accuracy may be bad since you didn't explicitly set num_leaves OR 2^max_depth > num_leaves. (num_leaves=31).\n",
      "[LightGBM] [Warning] Auto-choosing row-wise multi-threading, the overhead of testing was 0.004920 seconds.\n",
      "You can set `force_row_wise=true` to remove the overhead.\n",
      "And if memory is not enough, you can set `force_col_wise=true`.\n",
      "[LightGBM] [Info] Total Bins 593\n",
      "[LightGBM] [Info] Number of data points in the train set: 172708, number of used features: 9\n",
      "[LightGBM] [Warning] Accuracy may be bad since you didn't explicitly set num_leaves OR 2^max_depth > num_leaves. (num_leaves=31).\n",
      "[LightGBM] [Info] Start training from score 4904.779495\n",
      "[100]\ttraining's l2: 2.72319e+06\tvalid_1's l2: 2.82047e+06\n",
      "[200]\ttraining's l2: 2.44372e+06\tvalid_1's l2: 2.6307e+06\n",
      "[300]\ttraining's l2: 2.28385e+06\tvalid_1's l2: 2.53952e+06\n",
      "[400]\ttraining's l2: 2.17184e+06\tvalid_1's l2: 2.48628e+06\n",
      "[500]\ttraining's l2: 2.08309e+06\tvalid_1's l2: 2.44848e+06\n",
      "[600]\ttraining's l2: 2.01063e+06\tvalid_1's l2: 2.41786e+06\n",
      "[700]\ttraining's l2: 1.94506e+06\tvalid_1's l2: 2.39265e+06\n",
      "[800]\ttraining's l2: 1.89955e+06\tvalid_1's l2: 2.37936e+06\n",
      "[900]\ttraining's l2: 1.85037e+06\tvalid_1's l2: 2.36503e+06\n",
      "[1000]\ttraining's l2: 1.80149e+06\tvalid_1's l2: 2.34993e+06\n",
      "CPU times: total: 30.3 s\n",
      "Wall time: 4.53 s\n"
     ]
    }
   ],
   "source": [
    "%%time\n",
    "param = {'objective': 'rmse','metric': 'l2','max_depth':40,\"random_state\": 123,\"learning_rate\":0.1}\n",
    "booster = lgb.train(param,\n",
    "                    train_dataset,\n",
    "                    num_boost_round=1000,\n",
    "                    valid_sets=[train_dataset, valid_dataset],\n",
    "                    verbose_eval=100)"
   ]
  },
  {
   "cell_type": "code",
   "execution_count": 119,
   "metadata": {},
   "outputs": [
    {
     "name": "stdout",
     "output_type": "stream",
     "text": [
      "CPU times: total: 4.72 s\n",
      "Wall time: 679 ms\n"
     ]
    }
   ],
   "source": [
    "%%time\n",
    "pred_booster=booster.predict(feature_valid)"
   ]
  },
  {
   "cell_type": "code",
   "execution_count": 120,
   "metadata": {},
   "outputs": [
    {
     "data": {
      "text/plain": [
       "1532.947"
      ]
     },
     "execution_count": 120,
     "metadata": {},
     "output_type": "execute_result"
    }
   ],
   "source": [
    "RMSE(pred_booster,target_valid)"
   ]
  },
  {
   "cell_type": "markdown",
   "metadata": {},
   "source": [
    "## Model analysis"
   ]
  },
  {
   "cell_type": "markdown",
   "metadata": {},
   "source": [
    "*According to the task requirements and criteria that are important to the client:*\n",
    "\n",
    "- Prediction quality\n",
    "- Model training time\n",
    "- Model prediction time\n",
    "\n",
    "*As expected, the LightGBM model achieved the highest accuracy with an RMSE of 1532. However, it required the longest training time of over 7 minutes and 5 seconds for prediction. Random Forest showed a similar result of 1590 with a training time of 34 seconds. However, the selection of the model should consider a combination of speed and accuracy. Therefore, we will choose the Random Forest model.*\n",
    "\n",
    "*Let's proceed with the testing.*"
   ]
  },
  {
   "cell_type": "code",
   "execution_count": 121,
   "metadata": {},
   "outputs": [
    {
     "name": "stdout",
     "output_type": "stream",
     "text": [
      "CPU times: total: 2.5 s\n",
      "Wall time: 2.43 s\n"
     ]
    },
    {
     "data": {
      "text/plain": [
       "1602.878"
      ]
     },
     "execution_count": 121,
     "metadata": {},
     "output_type": "execute_result"
    }
   ],
   "source": [
    "%%time\n",
    "RMSE(model_rf.predict(feature_test),target_test)"
   ]
  },
  {
   "cell_type": "markdown",
   "metadata": {},
   "source": [
    "*The test showed a result close to the validation sample, which indicates that our model has not retrained, shows the necessary model quality and speed*"
   ]
  },
  {
   "cell_type": "code",
   "execution_count": null,
   "metadata": {},
   "outputs": [],
   "source": []
  }
 ],
 "metadata": {
  "ExecuteTimeLog": [
   {
    "duration": 375,
    "start_time": "2023-03-02T18:46:05.304Z"
   },
   {
    "duration": 66,
    "start_time": "2023-03-02T18:46:25.986Z"
   },
   {
    "duration": 2,
    "start_time": "2023-03-02T18:46:34.834Z"
   },
   {
    "duration": 3367,
    "start_time": "2023-03-02T18:46:36.487Z"
   },
   {
    "duration": 26,
    "start_time": "2023-03-02T18:46:43.720Z"
   },
   {
    "duration": 123,
    "start_time": "2023-03-02T18:47:00.133Z"
   },
   {
    "duration": 108,
    "start_time": "2023-03-02T18:47:05.453Z"
   },
   {
    "duration": 21,
    "start_time": "2023-03-02T18:47:48.062Z"
   },
   {
    "duration": 111,
    "start_time": "2023-03-02T18:48:06.186Z"
   },
   {
    "duration": 105,
    "start_time": "2023-03-02T18:48:31.623Z"
   },
   {
    "duration": 542,
    "start_time": "2023-03-02T19:07:05.647Z"
   },
   {
    "duration": 244,
    "start_time": "2023-03-02T19:07:17.453Z"
   },
   {
    "duration": 795,
    "start_time": "2023-03-02T19:07:41.474Z"
   },
   {
    "duration": 745,
    "start_time": "2023-03-02T19:08:54.723Z"
   },
   {
    "duration": 13,
    "start_time": "2023-03-02T19:08:56.726Z"
   },
   {
    "duration": 100,
    "start_time": "2023-03-02T19:10:53.894Z"
   },
   {
    "duration": 50,
    "start_time": "2023-03-02T19:11:04.285Z"
   },
   {
    "duration": 693,
    "start_time": "2023-03-02T19:11:08.010Z"
   },
   {
    "duration": 298,
    "start_time": "2023-03-02T19:11:13.879Z"
   },
   {
    "duration": 1505,
    "start_time": "2023-03-02T19:11:42.234Z"
   },
   {
    "duration": 398,
    "start_time": "2023-03-02T19:11:54.505Z"
   },
   {
    "duration": 366,
    "start_time": "2023-03-02T19:12:01.879Z"
   },
   {
    "duration": 9,
    "start_time": "2023-03-02T19:13:00.980Z"
   },
   {
    "duration": 36,
    "start_time": "2023-03-02T19:14:45.139Z"
   },
   {
    "duration": 204,
    "start_time": "2023-03-02T19:15:23.233Z"
   },
   {
    "duration": 141,
    "start_time": "2023-03-02T19:15:34.427Z"
   },
   {
    "duration": 7,
    "start_time": "2023-03-02T19:16:46.202Z"
   },
   {
    "duration": 10,
    "start_time": "2023-03-02T19:16:48.489Z"
   },
   {
    "duration": 4,
    "start_time": "2023-03-02T19:16:54.975Z"
   },
   {
    "duration": 121,
    "start_time": "2023-03-02T19:17:04.398Z"
   },
   {
    "duration": 133,
    "start_time": "2023-03-02T19:17:21.840Z"
   },
   {
    "duration": 6,
    "start_time": "2023-03-02T19:24:59.916Z"
   },
   {
    "duration": 40,
    "start_time": "2023-03-02T19:25:55.899Z"
   },
   {
    "duration": 31,
    "start_time": "2023-03-02T19:26:20.971Z"
   },
   {
    "duration": 55,
    "start_time": "2023-03-02T19:26:24.375Z"
   },
   {
    "duration": 288,
    "start_time": "2023-03-02T19:26:26.274Z"
   },
   {
    "duration": 44,
    "start_time": "2023-03-02T19:26:32.533Z"
   },
   {
    "duration": 137,
    "start_time": "2023-03-02T19:26:34.854Z"
   },
   {
    "duration": 6,
    "start_time": "2023-03-02T19:31:26.007Z"
   },
   {
    "duration": 17,
    "start_time": "2023-03-02T19:31:33.114Z"
   },
   {
    "duration": 77,
    "start_time": "2023-03-02T19:33:10.275Z"
   },
   {
    "duration": 10,
    "start_time": "2023-03-02T19:33:25.294Z"
   },
   {
    "duration": 75,
    "start_time": "2023-03-02T19:33:30.275Z"
   },
   {
    "duration": 167,
    "start_time": "2023-03-02T19:33:47.908Z"
   },
   {
    "duration": 25,
    "start_time": "2023-03-02T19:46:42.805Z"
   },
   {
    "duration": 734,
    "start_time": "2023-03-02T19:46:52.186Z"
   },
   {
    "duration": 145,
    "start_time": "2023-03-02T19:46:57.930Z"
   },
   {
    "duration": 102,
    "start_time": "2023-03-02T19:48:08.438Z"
   },
   {
    "duration": 1120,
    "start_time": "2023-03-02T20:04:27.731Z"
   },
   {
    "duration": 1199,
    "start_time": "2023-03-02T20:04:45.643Z"
   },
   {
    "duration": 3460,
    "start_time": "2023-03-02T20:04:46.845Z"
   },
   {
    "duration": 24,
    "start_time": "2023-03-02T20:04:50.306Z"
   },
   {
    "duration": 146,
    "start_time": "2023-03-02T20:04:50.333Z"
   },
   {
    "duration": 102,
    "start_time": "2023-03-02T20:04:50.481Z"
   },
   {
    "duration": 9,
    "start_time": "2023-03-02T20:04:50.585Z"
   },
   {
    "duration": 45,
    "start_time": "2023-03-02T20:04:50.596Z"
   },
   {
    "duration": 59,
    "start_time": "2023-03-02T20:04:50.661Z"
   },
   {
    "duration": 510,
    "start_time": "2023-03-02T20:04:50.723Z"
   },
   {
    "duration": 242,
    "start_time": "2023-03-02T20:04:51.237Z"
   },
   {
    "duration": 55,
    "start_time": "2023-03-02T20:04:51.480Z"
   },
   {
    "duration": 145,
    "start_time": "2023-03-02T20:04:51.536Z"
   },
   {
    "duration": 123,
    "start_time": "2023-03-02T20:04:51.683Z"
   },
   {
    "duration": 1052,
    "start_time": "2023-03-02T20:04:51.808Z"
   },
   {
    "duration": 0,
    "start_time": "2023-03-02T20:04:52.869Z"
   },
   {
    "duration": 0,
    "start_time": "2023-03-02T20:04:52.872Z"
   },
   {
    "duration": 0,
    "start_time": "2023-03-02T20:04:52.876Z"
   },
   {
    "duration": 0,
    "start_time": "2023-03-02T20:04:52.879Z"
   },
   {
    "duration": 65,
    "start_time": "2023-03-02T20:05:10.477Z"
   },
   {
    "duration": 118,
    "start_time": "2023-03-02T20:05:12.298Z"
   },
   {
    "duration": 3467,
    "start_time": "2023-03-02T20:05:16.874Z"
   },
   {
    "duration": 4,
    "start_time": "2023-03-02T20:05:26.928Z"
   },
   {
    "duration": 17,
    "start_time": "2023-03-02T20:05:33.859Z"
   },
   {
    "duration": 5,
    "start_time": "2023-03-02T20:05:43.180Z"
   },
   {
    "duration": 67,
    "start_time": "2023-03-02T20:06:52.337Z"
   },
   {
    "duration": 1103,
    "start_time": "2023-03-02T20:07:01.601Z"
   },
   {
    "duration": 3341,
    "start_time": "2023-03-02T20:07:02.706Z"
   },
   {
    "duration": 32,
    "start_time": "2023-03-02T20:07:06.049Z"
   },
   {
    "duration": 120,
    "start_time": "2023-03-02T20:07:06.083Z"
   },
   {
    "duration": 103,
    "start_time": "2023-03-02T20:07:06.205Z"
   },
   {
    "duration": 5,
    "start_time": "2023-03-02T20:07:06.310Z"
   },
   {
    "duration": 59,
    "start_time": "2023-03-02T20:07:06.317Z"
   },
   {
    "duration": 54,
    "start_time": "2023-03-02T20:07:06.378Z"
   },
   {
    "duration": 595,
    "start_time": "2023-03-02T20:07:06.434Z"
   },
   {
    "duration": 253,
    "start_time": "2023-03-02T20:07:07.032Z"
   },
   {
    "duration": 48,
    "start_time": "2023-03-02T20:07:07.287Z"
   },
   {
    "duration": 146,
    "start_time": "2023-03-02T20:07:07.337Z"
   },
   {
    "duration": 122,
    "start_time": "2023-03-02T20:07:07.485Z"
   },
   {
    "duration": 90,
    "start_time": "2023-03-02T20:07:07.608Z"
   },
   {
    "duration": 117,
    "start_time": "2023-03-02T20:07:07.700Z"
   },
   {
    "duration": 3431,
    "start_time": "2023-03-02T20:07:07.819Z"
   },
   {
    "duration": 24991,
    "start_time": "2023-03-06T06:33:34.942Z"
   },
   {
    "duration": 4185,
    "start_time": "2023-03-06T06:33:59.935Z"
   },
   {
    "duration": 3,
    "start_time": "2023-03-06T06:34:04.122Z"
   },
   {
    "duration": 195,
    "start_time": "2023-03-06T06:34:04.127Z"
   },
   {
    "duration": 0,
    "start_time": "2023-03-06T06:34:04.325Z"
   },
   {
    "duration": 0,
    "start_time": "2023-03-06T06:34:04.338Z"
   },
   {
    "duration": 0,
    "start_time": "2023-03-06T06:34:04.340Z"
   },
   {
    "duration": 0,
    "start_time": "2023-03-06T06:34:04.341Z"
   },
   {
    "duration": 0,
    "start_time": "2023-03-06T06:34:04.343Z"
   },
   {
    "duration": 0,
    "start_time": "2023-03-06T06:34:04.344Z"
   },
   {
    "duration": 0,
    "start_time": "2023-03-06T06:34:04.345Z"
   },
   {
    "duration": 0,
    "start_time": "2023-03-06T06:34:04.346Z"
   },
   {
    "duration": 0,
    "start_time": "2023-03-06T06:34:04.347Z"
   },
   {
    "duration": 0,
    "start_time": "2023-03-06T06:34:04.348Z"
   },
   {
    "duration": 0,
    "start_time": "2023-03-06T06:34:04.349Z"
   },
   {
    "duration": 0,
    "start_time": "2023-03-06T06:34:04.351Z"
   },
   {
    "duration": 0,
    "start_time": "2023-03-06T06:34:04.352Z"
   },
   {
    "duration": 0,
    "start_time": "2023-03-06T06:34:04.353Z"
   },
   {
    "duration": 0,
    "start_time": "2023-03-06T06:34:04.355Z"
   },
   {
    "duration": 0,
    "start_time": "2023-03-06T06:34:04.358Z"
   },
   {
    "duration": 0,
    "start_time": "2023-03-06T06:34:04.359Z"
   },
   {
    "duration": 0,
    "start_time": "2023-03-06T06:34:04.361Z"
   },
   {
    "duration": 0,
    "start_time": "2023-03-06T06:34:04.362Z"
   },
   {
    "duration": 0,
    "start_time": "2023-03-06T06:34:04.363Z"
   },
   {
    "duration": 0,
    "start_time": "2023-03-06T06:34:04.364Z"
   },
   {
    "duration": 0,
    "start_time": "2023-03-06T06:34:04.366Z"
   },
   {
    "duration": 0,
    "start_time": "2023-03-06T06:34:04.367Z"
   },
   {
    "duration": 0,
    "start_time": "2023-03-06T06:34:04.369Z"
   },
   {
    "duration": 0,
    "start_time": "2023-03-06T06:34:04.370Z"
   },
   {
    "duration": 0,
    "start_time": "2023-03-06T06:34:04.372Z"
   },
   {
    "duration": 0,
    "start_time": "2023-03-06T06:34:04.373Z"
   },
   {
    "duration": 0,
    "start_time": "2023-03-06T06:34:04.375Z"
   },
   {
    "duration": 901,
    "start_time": "2023-03-06T06:35:07.345Z"
   },
   {
    "duration": 19,
    "start_time": "2023-03-06T06:35:10.215Z"
   },
   {
    "duration": 152,
    "start_time": "2023-03-06T06:35:10.379Z"
   },
   {
    "duration": 103,
    "start_time": "2023-03-06T06:35:10.546Z"
   },
   {
    "duration": 480,
    "start_time": "2023-03-06T06:35:10.862Z"
   },
   {
    "duration": 535,
    "start_time": "2023-03-06T06:35:11.345Z"
   },
   {
    "duration": 7,
    "start_time": "2023-03-06T06:35:11.883Z"
   },
   {
    "duration": 371,
    "start_time": "2023-03-06T06:35:11.892Z"
   },
   {
    "duration": 193,
    "start_time": "2023-03-06T06:35:12.265Z"
   },
   {
    "duration": 9,
    "start_time": "2023-03-06T06:35:12.460Z"
   },
   {
    "duration": 80,
    "start_time": "2023-03-06T06:35:12.471Z"
   },
   {
    "duration": 239,
    "start_time": "2023-03-06T06:35:12.613Z"
   },
   {
    "duration": 40,
    "start_time": "2023-03-06T06:35:13.458Z"
   },
   {
    "duration": 53,
    "start_time": "2023-03-06T06:35:13.621Z"
   },
   {
    "duration": 286,
    "start_time": "2023-03-06T06:35:13.794Z"
   },
   {
    "duration": 298,
    "start_time": "2023-03-06T06:35:14.082Z"
   },
   {
    "duration": 41,
    "start_time": "2023-03-06T06:35:14.382Z"
   },
   {
    "duration": 139,
    "start_time": "2023-03-06T06:35:14.573Z"
   },
   {
    "duration": 38,
    "start_time": "2023-03-06T06:35:15.667Z"
   },
   {
    "duration": 108,
    "start_time": "2023-03-06T06:35:16.106Z"
   },
   {
    "duration": 52,
    "start_time": "2023-03-06T06:35:16.791Z"
   },
   {
    "duration": 303,
    "start_time": "2023-03-06T06:35:17.179Z"
   },
   {
    "duration": 3,
    "start_time": "2023-03-06T06:35:17.484Z"
   },
   {
    "duration": 180,
    "start_time": "2023-03-06T06:35:17.753Z"
   },
   {
    "duration": 384,
    "start_time": "2023-03-06T06:35:18.200Z"
   },
   {
    "duration": 22,
    "start_time": "2023-03-06T06:35:18.586Z"
   },
   {
    "duration": 89,
    "start_time": "2023-03-06T06:35:18.610Z"
   },
   {
    "duration": 37,
    "start_time": "2023-03-06T06:35:18.964Z"
   },
   {
    "duration": 32,
    "start_time": "2023-03-06T06:35:24.430Z"
   },
   {
    "duration": 23,
    "start_time": "2023-03-06T06:35:27.605Z"
   },
   {
    "duration": 21,
    "start_time": "2023-03-06T06:37:25.320Z"
   },
   {
    "duration": 920,
    "start_time": "2023-03-06T06:37:52.268Z"
   },
   {
    "duration": 15,
    "start_time": "2023-03-06T06:37:56.626Z"
   },
   {
    "duration": 141,
    "start_time": "2023-03-06T06:37:56.800Z"
   },
   {
    "duration": 94,
    "start_time": "2023-03-06T06:37:57.321Z"
   },
   {
    "duration": 431,
    "start_time": "2023-03-06T06:37:57.468Z"
   },
   {
    "duration": 483,
    "start_time": "2023-03-06T06:37:57.902Z"
   },
   {
    "duration": 6,
    "start_time": "2023-03-06T06:37:58.387Z"
   },
   {
    "duration": 251,
    "start_time": "2023-03-06T06:37:58.395Z"
   },
   {
    "duration": 169,
    "start_time": "2023-03-06T06:37:58.647Z"
   },
   {
    "duration": 7,
    "start_time": "2023-03-06T06:37:58.818Z"
   },
   {
    "duration": 48,
    "start_time": "2023-03-06T06:37:58.837Z"
   },
   {
    "duration": 221,
    "start_time": "2023-03-06T06:37:58.887Z"
   },
   {
    "duration": 40,
    "start_time": "2023-03-06T06:37:59.111Z"
   },
   {
    "duration": 42,
    "start_time": "2023-03-06T06:37:59.153Z"
   },
   {
    "duration": 306,
    "start_time": "2023-03-06T06:37:59.197Z"
   },
   {
    "duration": 302,
    "start_time": "2023-03-06T06:37:59.505Z"
   },
   {
    "duration": 47,
    "start_time": "2023-03-06T06:37:59.809Z"
   },
   {
    "duration": 130,
    "start_time": "2023-03-06T06:37:59.858Z"
   },
   {
    "duration": 56,
    "start_time": "2023-03-06T06:37:59.990Z"
   },
   {
    "duration": 113,
    "start_time": "2023-03-06T06:38:00.048Z"
   },
   {
    "duration": 62,
    "start_time": "2023-03-06T06:38:00.163Z"
   },
   {
    "duration": 296,
    "start_time": "2023-03-06T06:38:00.309Z"
   },
   {
    "duration": 3,
    "start_time": "2023-03-06T06:38:00.607Z"
   },
   {
    "duration": 224,
    "start_time": "2023-03-06T06:38:00.611Z"
   },
   {
    "duration": 400,
    "start_time": "2023-03-06T06:38:00.837Z"
   },
   {
    "duration": 24,
    "start_time": "2023-03-06T06:38:01.240Z"
   },
   {
    "duration": 80,
    "start_time": "2023-03-06T06:38:01.276Z"
   },
   {
    "duration": 36,
    "start_time": "2023-03-06T06:38:01.733Z"
   },
   {
    "duration": 37,
    "start_time": "2023-03-06T06:38:02.425Z"
   },
   {
    "duration": 24,
    "start_time": "2023-03-06T06:38:04.916Z"
   },
   {
    "duration": 12,
    "start_time": "2023-03-06T06:49:05.521Z"
   },
   {
    "duration": 35,
    "start_time": "2023-03-06T06:49:15.548Z"
   },
   {
    "duration": 28,
    "start_time": "2023-03-06T06:49:16.589Z"
   },
   {
    "duration": 70,
    "start_time": "2023-03-06T06:49:16.648Z"
   },
   {
    "duration": 16,
    "start_time": "2023-03-06T06:49:16.811Z"
   },
   {
    "duration": 417,
    "start_time": "2023-03-06T06:49:16.975Z"
   },
   {
    "duration": 3,
    "start_time": "2023-03-06T06:49:17.394Z"
   },
   {
    "duration": 10,
    "start_time": "2023-03-06T06:49:17.399Z"
   },
   {
    "duration": 26,
    "start_time": "2023-03-06T06:49:17.412Z"
   },
   {
    "duration": 19,
    "start_time": "2023-03-06T06:49:17.440Z"
   },
   {
    "duration": 848,
    "start_time": "2023-03-06T06:49:17.472Z"
   },
   {
    "duration": 31,
    "start_time": "2023-03-06T06:49:18.322Z"
   },
   {
    "duration": 213,
    "start_time": "2023-03-06T06:49:18.354Z"
   },
   {
    "duration": 7,
    "start_time": "2023-03-06T06:49:18.569Z"
   },
   {
    "duration": 204,
    "start_time": "2023-03-06T06:49:18.578Z"
   },
   {
    "duration": 12,
    "start_time": "2023-03-06T06:49:18.936Z"
   },
   {
    "duration": 3240,
    "start_time": "2023-03-06T06:49:19.050Z"
   },
   {
    "duration": 4341,
    "start_time": "2023-03-06T06:49:22.292Z"
   },
   {
    "duration": 14,
    "start_time": "2023-03-06T06:49:26.638Z"
   },
   {
    "duration": 8,
    "start_time": "2023-03-06T06:49:26.654Z"
   },
   {
    "duration": 18,
    "start_time": "2023-03-06T06:49:26.664Z"
   },
   {
    "duration": 64,
    "start_time": "2023-03-06T06:49:26.683Z"
   },
   {
    "duration": 14,
    "start_time": "2023-03-06T06:49:26.748Z"
   },
   {
    "duration": 216,
    "start_time": "2023-03-06T06:49:26.763Z"
   },
   {
    "duration": 15,
    "start_time": "2023-03-06T06:49:26.981Z"
   },
   {
    "duration": 138,
    "start_time": "2023-03-06T06:49:27.034Z"
   },
   {
    "duration": 20,
    "start_time": "2023-03-06T06:49:47.647Z"
   },
   {
    "duration": 55,
    "start_time": "2023-03-06T07:10:42.212Z"
   },
   {
    "duration": 1851,
    "start_time": "2023-03-06T07:10:47.189Z"
   },
   {
    "duration": 727,
    "start_time": "2023-03-06T07:11:02.804Z"
   },
   {
    "duration": 2418,
    "start_time": "2023-03-06T07:11:08.179Z"
   },
   {
    "duration": 1775,
    "start_time": "2023-03-06T07:11:27.640Z"
   },
   {
    "duration": 152,
    "start_time": "2023-03-06T07:11:37.297Z"
   },
   {
    "duration": 15,
    "start_time": "2023-03-06T07:11:47.312Z"
   },
   {
    "duration": 5,
    "start_time": "2023-03-06T07:12:12.396Z"
   },
   {
    "duration": 5,
    "start_time": "2023-03-06T07:12:15.307Z"
   },
   {
    "duration": 3153,
    "start_time": "2023-03-06T07:12:17.742Z"
   },
   {
    "duration": 17,
    "start_time": "2023-03-06T07:12:31.105Z"
   },
   {
    "duration": 133,
    "start_time": "2023-03-06T07:12:31.124Z"
   },
   {
    "duration": 176,
    "start_time": "2023-03-06T07:12:31.259Z"
   },
   {
    "duration": 486,
    "start_time": "2023-03-06T07:12:31.437Z"
   },
   {
    "duration": 521,
    "start_time": "2023-03-06T07:12:31.925Z"
   },
   {
    "duration": 10,
    "start_time": "2023-03-06T07:12:32.448Z"
   },
   {
    "duration": 258,
    "start_time": "2023-03-06T07:12:32.460Z"
   },
   {
    "duration": 184,
    "start_time": "2023-03-06T07:12:32.719Z"
   },
   {
    "duration": 9,
    "start_time": "2023-03-06T07:12:32.906Z"
   },
   {
    "duration": 71,
    "start_time": "2023-03-06T07:12:32.917Z"
   },
   {
    "duration": 209,
    "start_time": "2023-03-06T07:12:32.990Z"
   },
   {
    "duration": 57,
    "start_time": "2023-03-06T07:12:33.200Z"
   },
   {
    "duration": 55,
    "start_time": "2023-03-06T07:12:33.259Z"
   },
   {
    "duration": 330,
    "start_time": "2023-03-06T07:12:33.318Z"
   },
   {
    "duration": 371,
    "start_time": "2023-03-06T07:12:33.654Z"
   },
   {
    "duration": 58,
    "start_time": "2023-03-06T07:12:34.027Z"
   },
   {
    "duration": 212,
    "start_time": "2023-03-06T07:12:34.088Z"
   },
   {
    "duration": 66,
    "start_time": "2023-03-06T07:12:34.303Z"
   },
   {
    "duration": 145,
    "start_time": "2023-03-06T07:12:34.373Z"
   },
   {
    "duration": 72,
    "start_time": "2023-03-06T07:12:34.520Z"
   },
   {
    "duration": 443,
    "start_time": "2023-03-06T07:12:34.594Z"
   },
   {
    "duration": 3,
    "start_time": "2023-03-06T07:12:35.039Z"
   },
   {
    "duration": 223,
    "start_time": "2023-03-06T07:12:35.054Z"
   },
   {
    "duration": 357,
    "start_time": "2023-03-06T07:12:35.279Z"
   },
   {
    "duration": 34,
    "start_time": "2023-03-06T07:12:35.638Z"
   },
   {
    "duration": 83,
    "start_time": "2023-03-06T07:12:35.674Z"
   },
   {
    "duration": 52,
    "start_time": "2023-03-06T07:12:35.759Z"
   },
   {
    "duration": 57,
    "start_time": "2023-03-06T07:12:35.813Z"
   },
   {
    "duration": 41,
    "start_time": "2023-03-06T07:12:35.872Z"
   },
   {
    "duration": 28,
    "start_time": "2023-03-06T07:12:35.915Z"
   },
   {
    "duration": 49,
    "start_time": "2023-03-06T07:12:35.946Z"
   },
   {
    "duration": 87,
    "start_time": "2023-03-06T07:12:35.997Z"
   },
   {
    "duration": 24,
    "start_time": "2023-03-06T07:12:36.087Z"
   },
   {
    "duration": 490,
    "start_time": "2023-03-06T07:12:36.113Z"
   },
   {
    "duration": 3,
    "start_time": "2023-03-06T07:12:36.605Z"
   },
   {
    "duration": 10,
    "start_time": "2023-03-06T07:12:36.610Z"
   },
   {
    "duration": 31,
    "start_time": "2023-03-06T07:12:36.623Z"
   },
   {
    "duration": 32,
    "start_time": "2023-03-06T07:12:36.656Z"
   },
   {
    "duration": 42,
    "start_time": "2023-03-06T07:12:36.691Z"
   },
   {
    "duration": 0,
    "start_time": "2023-03-06T07:12:36.754Z"
   },
   {
    "duration": 0,
    "start_time": "2023-03-06T07:12:36.756Z"
   },
   {
    "duration": 0,
    "start_time": "2023-03-06T07:12:36.758Z"
   },
   {
    "duration": 0,
    "start_time": "2023-03-06T07:12:36.759Z"
   },
   {
    "duration": 0,
    "start_time": "2023-03-06T07:12:36.760Z"
   },
   {
    "duration": 0,
    "start_time": "2023-03-06T07:12:36.761Z"
   },
   {
    "duration": 0,
    "start_time": "2023-03-06T07:12:36.763Z"
   },
   {
    "duration": 0,
    "start_time": "2023-03-06T07:12:36.765Z"
   },
   {
    "duration": 0,
    "start_time": "2023-03-06T07:12:36.766Z"
   },
   {
    "duration": 0,
    "start_time": "2023-03-06T07:12:36.767Z"
   },
   {
    "duration": 0,
    "start_time": "2023-03-06T07:12:36.768Z"
   },
   {
    "duration": 0,
    "start_time": "2023-03-06T07:12:36.770Z"
   },
   {
    "duration": 0,
    "start_time": "2023-03-06T07:12:36.771Z"
   },
   {
    "duration": 0,
    "start_time": "2023-03-06T07:12:36.772Z"
   },
   {
    "duration": 0,
    "start_time": "2023-03-06T07:12:36.773Z"
   },
   {
    "duration": 0,
    "start_time": "2023-03-06T07:12:36.775Z"
   },
   {
    "duration": 0,
    "start_time": "2023-03-06T07:12:36.777Z"
   },
   {
    "duration": 0,
    "start_time": "2023-03-06T07:12:36.778Z"
   },
   {
    "duration": 0,
    "start_time": "2023-03-06T07:12:36.780Z"
   },
   {
    "duration": 0,
    "start_time": "2023-03-06T07:12:36.781Z"
   },
   {
    "duration": 0,
    "start_time": "2023-03-06T07:12:36.782Z"
   },
   {
    "duration": 0,
    "start_time": "2023-03-06T07:12:36.783Z"
   },
   {
    "duration": 0,
    "start_time": "2023-03-06T07:12:36.785Z"
   },
   {
    "duration": 0,
    "start_time": "2023-03-06T07:12:36.786Z"
   },
   {
    "duration": 0,
    "start_time": "2023-03-06T07:12:36.788Z"
   },
   {
    "duration": 0,
    "start_time": "2023-03-06T07:12:36.790Z"
   },
   {
    "duration": 0,
    "start_time": "2023-03-06T07:12:36.791Z"
   },
   {
    "duration": 0,
    "start_time": "2023-03-06T07:12:36.792Z"
   },
   {
    "duration": 0,
    "start_time": "2023-03-06T07:12:36.794Z"
   },
   {
    "duration": 0,
    "start_time": "2023-03-06T07:12:36.856Z"
   },
   {
    "duration": 0,
    "start_time": "2023-03-06T07:12:36.857Z"
   },
   {
    "duration": 0,
    "start_time": "2023-03-06T07:12:36.859Z"
   },
   {
    "duration": 0,
    "start_time": "2023-03-06T07:12:36.860Z"
   },
   {
    "duration": 0,
    "start_time": "2023-03-06T07:12:36.863Z"
   },
   {
    "duration": 20,
    "start_time": "2023-03-06T07:19:02.095Z"
   },
   {
    "duration": 39,
    "start_time": "2023-03-06T07:19:48.794Z"
   },
   {
    "duration": 776,
    "start_time": "2023-03-06T07:20:30.817Z"
   },
   {
    "duration": 721,
    "start_time": "2023-03-06T07:20:38.256Z"
   },
   {
    "duration": 2065,
    "start_time": "2023-03-06T07:20:48.425Z"
   },
   {
    "duration": 8,
    "start_time": "2023-03-06T07:20:50.493Z"
   },
   {
    "duration": 17,
    "start_time": "2023-03-06T07:20:50.503Z"
   },
   {
    "duration": 873,
    "start_time": "2023-03-06T07:20:50.523Z"
   },
   {
    "duration": 17,
    "start_time": "2023-03-06T07:20:51.398Z"
   },
   {
    "duration": 124,
    "start_time": "2023-03-06T07:20:51.416Z"
   },
   {
    "duration": 113,
    "start_time": "2023-03-06T07:20:51.542Z"
   },
   {
    "duration": 454,
    "start_time": "2023-03-06T07:20:51.656Z"
   },
   {
    "duration": 472,
    "start_time": "2023-03-06T07:20:52.112Z"
   },
   {
    "duration": 9,
    "start_time": "2023-03-06T07:20:52.588Z"
   },
   {
    "duration": 313,
    "start_time": "2023-03-06T07:20:52.599Z"
   },
   {
    "duration": 177,
    "start_time": "2023-03-06T07:20:52.913Z"
   },
   {
    "duration": 8,
    "start_time": "2023-03-06T07:20:53.091Z"
   },
   {
    "duration": 64,
    "start_time": "2023-03-06T07:20:53.101Z"
   },
   {
    "duration": 226,
    "start_time": "2023-03-06T07:20:53.167Z"
   },
   {
    "duration": 36,
    "start_time": "2023-03-06T07:20:53.395Z"
   },
   {
    "duration": 58,
    "start_time": "2023-03-06T07:20:53.433Z"
   },
   {
    "duration": 283,
    "start_time": "2023-03-06T07:20:53.493Z"
   },
   {
    "duration": 364,
    "start_time": "2023-03-06T07:20:53.778Z"
   },
   {
    "duration": 56,
    "start_time": "2023-03-06T07:20:54.144Z"
   },
   {
    "duration": 8,
    "start_time": "2023-03-06T07:20:54.202Z"
   },
   {
    "duration": 9027,
    "start_time": "2023-03-06T07:21:52.895Z"
   },
   {
    "duration": 14,
    "start_time": "2023-03-06T07:22:08.986Z"
   },
   {
    "duration": 14,
    "start_time": "2023-03-06T07:22:13.285Z"
   },
   {
    "duration": 7,
    "start_time": "2023-03-06T07:22:17.431Z"
   },
   {
    "duration": 15,
    "start_time": "2023-03-06T07:22:23.388Z"
   },
   {
    "duration": 17,
    "start_time": "2023-03-06T07:22:26.583Z"
   },
   {
    "duration": 5,
    "start_time": "2023-03-06T07:22:31.319Z"
   },
   {
    "duration": 12,
    "start_time": "2023-03-06T07:22:34.404Z"
   },
   {
    "duration": 7,
    "start_time": "2023-03-06T07:22:41.238Z"
   },
   {
    "duration": 5,
    "start_time": "2023-03-06T07:23:24.820Z"
   },
   {
    "duration": 5,
    "start_time": "2023-03-06T07:23:29.912Z"
   },
   {
    "duration": 6,
    "start_time": "2023-03-06T07:23:38.352Z"
   },
   {
    "duration": 14,
    "start_time": "2023-03-06T07:23:43.145Z"
   },
   {
    "duration": 4,
    "start_time": "2023-03-06T07:23:48.284Z"
   },
   {
    "duration": 7,
    "start_time": "2023-03-06T07:26:39.299Z"
   },
   {
    "duration": 17,
    "start_time": "2023-03-06T07:27:40.501Z"
   },
   {
    "duration": 13,
    "start_time": "2023-03-06T07:27:44.189Z"
   },
   {
    "duration": 20,
    "start_time": "2023-03-06T07:27:46.407Z"
   },
   {
    "duration": 62,
    "start_time": "2023-03-06T07:35:42.006Z"
   },
   {
    "duration": 16,
    "start_time": "2023-03-06T07:35:53.969Z"
   },
   {
    "duration": 6,
    "start_time": "2023-03-06T07:35:56.601Z"
   },
   {
    "duration": 13,
    "start_time": "2023-03-06T07:36:00.377Z"
   },
   {
    "duration": 89,
    "start_time": "2023-03-06T07:36:08.506Z"
   },
   {
    "duration": 36,
    "start_time": "2023-03-06T07:40:50.212Z"
   },
   {
    "duration": 323,
    "start_time": "2023-03-06T07:41:00.826Z"
   },
   {
    "duration": 7,
    "start_time": "2023-03-06T07:41:36.385Z"
   },
   {
    "duration": 11,
    "start_time": "2023-03-06T07:41:51.588Z"
   },
   {
    "duration": 12,
    "start_time": "2023-03-06T07:41:56.284Z"
   },
   {
    "duration": 4,
    "start_time": "2023-03-06T07:42:00.416Z"
   },
   {
    "duration": 6,
    "start_time": "2023-03-06T07:42:07.104Z"
   },
   {
    "duration": 195,
    "start_time": "2023-03-06T07:42:49.130Z"
   },
   {
    "duration": 8,
    "start_time": "2023-03-06T07:43:38.052Z"
   },
   {
    "duration": 38,
    "start_time": "2023-03-06T07:57:22.553Z"
   },
   {
    "duration": 105,
    "start_time": "2023-03-06T07:57:38.194Z"
   },
   {
    "duration": 2334,
    "start_time": "2023-03-06T07:57:58.899Z"
   },
   {
    "duration": 6,
    "start_time": "2023-03-06T07:58:01.236Z"
   },
   {
    "duration": 47,
    "start_time": "2023-03-06T07:58:01.244Z"
   },
   {
    "duration": 1029,
    "start_time": "2023-03-06T07:58:01.293Z"
   },
   {
    "duration": 16,
    "start_time": "2023-03-06T07:58:02.324Z"
   },
   {
    "duration": 166,
    "start_time": "2023-03-06T07:58:02.342Z"
   },
   {
    "duration": 124,
    "start_time": "2023-03-06T07:58:02.510Z"
   },
   {
    "duration": 491,
    "start_time": "2023-03-06T07:58:02.636Z"
   },
   {
    "duration": 605,
    "start_time": "2023-03-06T07:58:03.129Z"
   },
   {
    "duration": 25,
    "start_time": "2023-03-06T07:58:03.738Z"
   },
   {
    "duration": 309,
    "start_time": "2023-03-06T07:58:03.766Z"
   },
   {
    "duration": 224,
    "start_time": "2023-03-06T07:58:04.080Z"
   },
   {
    "duration": 13,
    "start_time": "2023-03-06T07:58:04.306Z"
   },
   {
    "duration": 76,
    "start_time": "2023-03-06T07:58:04.320Z"
   },
   {
    "duration": 270,
    "start_time": "2023-03-06T07:58:04.400Z"
   },
   {
    "duration": 37,
    "start_time": "2023-03-06T07:58:04.671Z"
   },
   {
    "duration": 57,
    "start_time": "2023-03-06T07:58:04.710Z"
   },
   {
    "duration": 327,
    "start_time": "2023-03-06T07:58:04.775Z"
   },
   {
    "duration": 528,
    "start_time": "2023-03-06T07:58:05.104Z"
   },
   {
    "duration": 58,
    "start_time": "2023-03-06T07:58:05.634Z"
   },
   {
    "duration": 99,
    "start_time": "2023-03-06T07:58:05.694Z"
   },
   {
    "duration": 248,
    "start_time": "2023-03-06T07:58:05.795Z"
   },
   {
    "duration": 129,
    "start_time": "2023-03-06T07:58:06.044Z"
   },
   {
    "duration": 39,
    "start_time": "2023-03-06T07:58:06.187Z"
   },
   {
    "duration": 108,
    "start_time": "2023-03-06T07:58:06.228Z"
   },
   {
    "duration": 82,
    "start_time": "2023-03-06T07:58:06.338Z"
   },
   {
    "duration": 323,
    "start_time": "2023-03-06T07:58:06.422Z"
   },
   {
    "duration": 8,
    "start_time": "2023-03-06T07:58:06.752Z"
   },
   {
    "duration": 191,
    "start_time": "2023-03-06T07:58:06.765Z"
   },
   {
    "duration": 319,
    "start_time": "2023-03-06T07:58:06.957Z"
   },
   {
    "duration": 21,
    "start_time": "2023-03-06T07:58:07.284Z"
   },
   {
    "duration": 78,
    "start_time": "2023-03-06T07:58:07.307Z"
   },
   {
    "duration": 39,
    "start_time": "2023-03-06T07:58:07.388Z"
   },
   {
    "duration": 37,
    "start_time": "2023-03-06T07:58:07.428Z"
   },
   {
    "duration": 29,
    "start_time": "2023-03-06T07:58:07.471Z"
   },
   {
    "duration": 27,
    "start_time": "2023-03-06T07:58:07.501Z"
   },
   {
    "duration": 61,
    "start_time": "2023-03-06T07:58:07.530Z"
   },
   {
    "duration": 65,
    "start_time": "2023-03-06T07:58:07.595Z"
   },
   {
    "duration": 21,
    "start_time": "2023-03-06T07:58:07.662Z"
   },
   {
    "duration": 434,
    "start_time": "2023-03-06T07:58:07.685Z"
   },
   {
    "duration": 3,
    "start_time": "2023-03-06T07:58:08.120Z"
   },
   {
    "duration": 12,
    "start_time": "2023-03-06T07:58:08.125Z"
   },
   {
    "duration": 46,
    "start_time": "2023-03-06T07:58:08.142Z"
   },
   {
    "duration": 80,
    "start_time": "2023-03-06T07:58:19.347Z"
   },
   {
    "duration": 42,
    "start_time": "2023-03-06T07:58:59.745Z"
   },
   {
    "duration": 17,
    "start_time": "2023-03-06T07:59:45.784Z"
   },
   {
    "duration": 97,
    "start_time": "2023-03-06T08:01:18.286Z"
   },
   {
    "duration": 107,
    "start_time": "2023-03-06T08:01:30.535Z"
   },
   {
    "duration": 488,
    "start_time": "2023-03-06T08:01:58.527Z"
   },
   {
    "duration": 16,
    "start_time": "2023-03-06T08:03:30.108Z"
   },
   {
    "duration": 20,
    "start_time": "2023-03-06T08:04:16.980Z"
   },
   {
    "duration": 5,
    "start_time": "2023-03-06T08:04:27.189Z"
   },
   {
    "duration": 16,
    "start_time": "2023-03-06T08:04:33.303Z"
   },
   {
    "duration": 57,
    "start_time": "2023-03-06T08:04:46.720Z"
   },
   {
    "duration": 106,
    "start_time": "2023-03-06T08:06:00.188Z"
   },
   {
    "duration": 1109,
    "start_time": "2023-03-06T08:06:08.684Z"
   },
   {
    "duration": 4120,
    "start_time": "2023-03-06T08:06:18.394Z"
   },
   {
    "duration": 19,
    "start_time": "2023-03-06T08:08:48.649Z"
   },
   {
    "duration": 51,
    "start_time": "2023-03-06T08:09:23.011Z"
   },
   {
    "duration": 55,
    "start_time": "2023-03-06T08:09:35.590Z"
   },
   {
    "duration": 46,
    "start_time": "2023-03-06T08:09:40.511Z"
   },
   {
    "duration": 2263,
    "start_time": "2023-03-06T08:09:45.775Z"
   },
   {
    "duration": 3070,
    "start_time": "2023-03-06T08:09:54.594Z"
   },
   {
    "duration": 1800,
    "start_time": "2023-03-06T08:10:29.212Z"
   },
   {
    "duration": 3,
    "start_time": "2023-03-06T08:11:06.780Z"
   },
   {
    "duration": 1031,
    "start_time": "2023-03-06T08:11:06.785Z"
   },
   {
    "duration": 17,
    "start_time": "2023-03-06T08:11:07.818Z"
   },
   {
    "duration": 139,
    "start_time": "2023-03-06T08:11:07.836Z"
   },
   {
    "duration": 167,
    "start_time": "2023-03-06T08:11:07.983Z"
   },
   {
    "duration": 577,
    "start_time": "2023-03-06T08:11:08.153Z"
   },
   {
    "duration": 641,
    "start_time": "2023-03-06T08:11:08.731Z"
   },
   {
    "duration": 8,
    "start_time": "2023-03-06T08:11:09.377Z"
   },
   {
    "duration": 317,
    "start_time": "2023-03-06T08:11:09.386Z"
   },
   {
    "duration": 182,
    "start_time": "2023-03-06T08:11:09.705Z"
   },
   {
    "duration": 8,
    "start_time": "2023-03-06T08:11:09.889Z"
   },
   {
    "duration": 78,
    "start_time": "2023-03-06T08:11:09.898Z"
   },
   {
    "duration": 251,
    "start_time": "2023-03-06T08:11:09.977Z"
   },
   {
    "duration": 67,
    "start_time": "2023-03-06T08:11:10.230Z"
   },
   {
    "duration": 60,
    "start_time": "2023-03-06T08:11:10.299Z"
   },
   {
    "duration": 330,
    "start_time": "2023-03-06T08:11:10.363Z"
   },
   {
    "duration": 334,
    "start_time": "2023-03-06T08:11:10.694Z"
   },
   {
    "duration": 59,
    "start_time": "2023-03-06T08:11:11.030Z"
   },
   {
    "duration": 90,
    "start_time": "2023-03-06T08:11:11.091Z"
   },
   {
    "duration": 227,
    "start_time": "2023-03-06T08:11:11.184Z"
   },
   {
    "duration": 116,
    "start_time": "2023-03-06T08:11:11.413Z"
   },
   {
    "duration": 51,
    "start_time": "2023-03-06T08:11:11.531Z"
   },
   {
    "duration": 100,
    "start_time": "2023-03-06T08:11:11.584Z"
   },
   {
    "duration": 45,
    "start_time": "2023-03-06T08:11:11.686Z"
   },
   {
    "duration": 417,
    "start_time": "2023-03-06T08:11:11.732Z"
   },
   {
    "duration": 8,
    "start_time": "2023-03-06T08:11:12.150Z"
   },
   {
    "duration": 195,
    "start_time": "2023-03-06T08:11:12.159Z"
   },
   {
    "duration": 286,
    "start_time": "2023-03-06T08:11:12.363Z"
   },
   {
    "duration": 25,
    "start_time": "2023-03-06T08:11:12.656Z"
   },
   {
    "duration": 57,
    "start_time": "2023-03-06T08:11:12.683Z"
   },
   {
    "duration": 52,
    "start_time": "2023-03-06T08:11:12.742Z"
   },
   {
    "duration": 25,
    "start_time": "2023-03-06T08:11:12.796Z"
   },
   {
    "duration": 42,
    "start_time": "2023-03-06T08:11:12.823Z"
   },
   {
    "duration": 30,
    "start_time": "2023-03-06T08:11:12.869Z"
   },
   {
    "duration": 26,
    "start_time": "2023-03-06T08:11:12.901Z"
   },
   {
    "duration": 83,
    "start_time": "2023-03-06T08:11:12.928Z"
   },
   {
    "duration": 16,
    "start_time": "2023-03-06T08:11:13.013Z"
   },
   {
    "duration": 459,
    "start_time": "2023-03-06T08:11:13.031Z"
   },
   {
    "duration": 3,
    "start_time": "2023-03-06T08:11:13.492Z"
   },
   {
    "duration": 9,
    "start_time": "2023-03-06T08:11:13.497Z"
   },
   {
    "duration": 17,
    "start_time": "2023-03-06T08:11:13.507Z"
   },
   {
    "duration": 125,
    "start_time": "2023-03-06T08:11:13.526Z"
   },
   {
    "duration": 638,
    "start_time": "2023-03-06T08:11:13.656Z"
   },
   {
    "duration": 37,
    "start_time": "2023-03-06T08:11:14.296Z"
   },
   {
    "duration": 155,
    "start_time": "2023-03-06T08:11:14.335Z"
   },
   {
    "duration": 690,
    "start_time": "2023-03-06T08:11:14.492Z"
   },
   {
    "duration": 0,
    "start_time": "2023-03-06T08:11:15.184Z"
   },
   {
    "duration": 0,
    "start_time": "2023-03-06T08:11:15.186Z"
   },
   {
    "duration": 0,
    "start_time": "2023-03-06T08:11:15.188Z"
   },
   {
    "duration": 0,
    "start_time": "2023-03-06T08:11:15.189Z"
   },
   {
    "duration": 0,
    "start_time": "2023-03-06T08:11:15.191Z"
   },
   {
    "duration": 0,
    "start_time": "2023-03-06T08:11:15.193Z"
   },
   {
    "duration": 0,
    "start_time": "2023-03-06T08:11:15.195Z"
   },
   {
    "duration": 0,
    "start_time": "2023-03-06T08:11:15.196Z"
   },
   {
    "duration": 0,
    "start_time": "2023-03-06T08:11:15.198Z"
   },
   {
    "duration": 0,
    "start_time": "2023-03-06T08:11:15.199Z"
   },
   {
    "duration": 0,
    "start_time": "2023-03-06T08:11:15.200Z"
   },
   {
    "duration": 0,
    "start_time": "2023-03-06T08:11:15.202Z"
   },
   {
    "duration": 0,
    "start_time": "2023-03-06T08:11:15.204Z"
   },
   {
    "duration": 0,
    "start_time": "2023-03-06T08:11:15.205Z"
   },
   {
    "duration": 0,
    "start_time": "2023-03-06T08:11:15.206Z"
   },
   {
    "duration": 0,
    "start_time": "2023-03-06T08:11:15.207Z"
   },
   {
    "duration": 0,
    "start_time": "2023-03-06T08:11:15.208Z"
   },
   {
    "duration": 0,
    "start_time": "2023-03-06T08:11:15.210Z"
   },
   {
    "duration": 0,
    "start_time": "2023-03-06T08:11:15.211Z"
   },
   {
    "duration": 0,
    "start_time": "2023-03-06T08:11:15.212Z"
   },
   {
    "duration": 0,
    "start_time": "2023-03-06T08:11:15.258Z"
   },
   {
    "duration": 0,
    "start_time": "2023-03-06T08:11:15.259Z"
   },
   {
    "duration": 0,
    "start_time": "2023-03-06T08:11:15.260Z"
   },
   {
    "duration": 0,
    "start_time": "2023-03-06T08:11:15.260Z"
   },
   {
    "duration": 0,
    "start_time": "2023-03-06T08:11:15.261Z"
   },
   {
    "duration": 0,
    "start_time": "2023-03-06T08:11:15.262Z"
   },
   {
    "duration": 0,
    "start_time": "2023-03-06T08:11:15.262Z"
   },
   {
    "duration": 582,
    "start_time": "2023-03-06T08:11:21.708Z"
   },
   {
    "duration": 105,
    "start_time": "2023-03-06T08:11:28.916Z"
   },
   {
    "duration": 24,
    "start_time": "2023-03-06T08:11:41.347Z"
   },
   {
    "duration": 430,
    "start_time": "2023-03-06T08:14:15.253Z"
   },
   {
    "duration": 112,
    "start_time": "2023-03-06T08:14:21.453Z"
   },
   {
    "duration": 431,
    "start_time": "2023-03-06T08:16:04.521Z"
   },
   {
    "duration": 24,
    "start_time": "2023-03-06T08:16:36.443Z"
   },
   {
    "duration": 132,
    "start_time": "2023-03-06T08:16:38.329Z"
   },
   {
    "duration": 542,
    "start_time": "2023-03-06T08:16:40.383Z"
   },
   {
    "duration": 49,
    "start_time": "2023-03-06T08:16:43.233Z"
   },
   {
    "duration": 14,
    "start_time": "2023-03-06T08:16:45.876Z"
   },
   {
    "duration": 495,
    "start_time": "2023-03-06T08:16:50.019Z"
   },
   {
    "duration": 20,
    "start_time": "2023-03-06T08:16:56.443Z"
   },
   {
    "duration": 22,
    "start_time": "2023-03-06T08:21:45.926Z"
   },
   {
    "duration": 118,
    "start_time": "2023-03-06T08:21:54.031Z"
   },
   {
    "duration": 26,
    "start_time": "2023-03-06T08:22:11.036Z"
   },
   {
    "duration": 102,
    "start_time": "2023-03-06T08:22:26.672Z"
   },
   {
    "duration": 559,
    "start_time": "2023-03-06T08:22:34.107Z"
   },
   {
    "duration": 23,
    "start_time": "2023-03-06T08:22:37.189Z"
   },
   {
    "duration": 16,
    "start_time": "2023-03-06T08:22:52.277Z"
   },
   {
    "duration": 187,
    "start_time": "2023-03-06T08:24:16.333Z"
   },
   {
    "duration": 24,
    "start_time": "2023-03-06T08:24:20.093Z"
   },
   {
    "duration": 113,
    "start_time": "2023-03-06T08:24:22.285Z"
   },
   {
    "duration": 213,
    "start_time": "2023-03-06T08:24:24.932Z"
   },
   {
    "duration": 25,
    "start_time": "2023-03-06T08:25:27.325Z"
   },
   {
    "duration": 13,
    "start_time": "2023-03-06T08:26:36.052Z"
   },
   {
    "duration": 6,
    "start_time": "2023-03-06T08:26:40.519Z"
   },
   {
    "duration": 6,
    "start_time": "2023-03-06T08:26:43.500Z"
   },
   {
    "duration": 8,
    "start_time": "2023-03-06T08:26:50.227Z"
   },
   {
    "duration": 13,
    "start_time": "2023-03-06T08:26:55.974Z"
   },
   {
    "duration": 4,
    "start_time": "2023-03-06T08:27:00.772Z"
   },
   {
    "duration": 35,
    "start_time": "2023-03-06T08:27:06.994Z"
   },
   {
    "duration": 22,
    "start_time": "2023-03-06T08:27:14.264Z"
   },
   {
    "duration": 7,
    "start_time": "2023-03-06T08:27:16.323Z"
   },
   {
    "duration": 47,
    "start_time": "2023-03-06T08:27:25.366Z"
   },
   {
    "duration": 75,
    "start_time": "2023-03-06T08:27:42.150Z"
   },
   {
    "duration": 6,
    "start_time": "2023-03-06T08:27:59.970Z"
   },
   {
    "duration": 985,
    "start_time": "2023-03-06T08:28:03.502Z"
   },
   {
    "duration": 495,
    "start_time": "2023-03-06T08:28:13.012Z"
   },
   {
    "duration": 10,
    "start_time": "2023-03-06T08:28:16.488Z"
   },
   {
    "duration": 43,
    "start_time": "2023-03-06T08:29:05.438Z"
   },
   {
    "duration": 34,
    "start_time": "2023-03-06T08:29:35.864Z"
   },
   {
    "duration": 40,
    "start_time": "2023-03-06T08:29:38.593Z"
   },
   {
    "duration": 449,
    "start_time": "2023-03-06T08:29:43.991Z"
   },
   {
    "duration": 338,
    "start_time": "2023-03-06T08:29:49.932Z"
   },
   {
    "duration": 43,
    "start_time": "2023-03-06T08:29:53.742Z"
   },
   {
    "duration": 88,
    "start_time": "2023-03-06T08:30:00.481Z"
   },
   {
    "duration": 203,
    "start_time": "2023-03-06T08:30:05.967Z"
   },
   {
    "duration": 45,
    "start_time": "2023-03-06T08:30:10.618Z"
   },
   {
    "duration": 83,
    "start_time": "2023-03-06T08:30:13.083Z"
   },
   {
    "duration": 55,
    "start_time": "2023-03-06T08:30:29.650Z"
   },
   {
    "duration": 298,
    "start_time": "2023-03-06T08:30:33.264Z"
   },
   {
    "duration": 3,
    "start_time": "2023-03-06T08:30:37.707Z"
   },
   {
    "duration": 172,
    "start_time": "2023-03-06T08:30:39.369Z"
   },
   {
    "duration": 312,
    "start_time": "2023-03-06T08:30:41.591Z"
   },
   {
    "duration": 22,
    "start_time": "2023-03-06T08:30:48.390Z"
   },
   {
    "duration": 58,
    "start_time": "2023-03-06T08:30:50.864Z"
   },
   {
    "duration": 33,
    "start_time": "2023-03-06T08:31:05.886Z"
   },
   {
    "duration": 25,
    "start_time": "2023-03-06T08:31:07.695Z"
   },
   {
    "duration": 21,
    "start_time": "2023-03-06T08:31:10.969Z"
   },
   {
    "duration": 44,
    "start_time": "2023-03-06T08:31:19.548Z"
   },
   {
    "duration": 28,
    "start_time": "2023-03-06T08:31:25.420Z"
   },
   {
    "duration": 64,
    "start_time": "2023-03-06T08:31:27.643Z"
   },
   {
    "duration": 17,
    "start_time": "2023-03-06T08:31:41.062Z"
   },
   {
    "duration": 397,
    "start_time": "2023-03-06T08:31:48.633Z"
   },
   {
    "duration": 3,
    "start_time": "2023-03-06T08:31:52.866Z"
   },
   {
    "duration": 5,
    "start_time": "2023-03-06T08:31:55.516Z"
   },
   {
    "duration": 17,
    "start_time": "2023-03-06T08:32:05.281Z"
   },
   {
    "duration": 63,
    "start_time": "2023-03-06T08:32:08.564Z"
   },
   {
    "duration": 98,
    "start_time": "2023-03-06T08:32:30.889Z"
   },
   {
    "duration": 552,
    "start_time": "2023-03-06T08:32:51.785Z"
   },
   {
    "duration": 35,
    "start_time": "2023-03-06T08:32:55.250Z"
   },
   {
    "duration": 15,
    "start_time": "2023-03-06T08:32:58.631Z"
   },
   {
    "duration": 17,
    "start_time": "2023-03-06T08:33:35.949Z"
   },
   {
    "duration": 62,
    "start_time": "2023-03-06T08:33:38.389Z"
   },
   {
    "duration": 16,
    "start_time": "2023-03-06T08:33:41.672Z"
   },
   {
    "duration": 16,
    "start_time": "2023-03-06T08:33:53.488Z"
   },
   {
    "duration": 989,
    "start_time": "2023-03-06T08:33:57.009Z"
   },
   {
    "duration": 9,
    "start_time": "2023-03-06T08:33:59.441Z"
   },
   {
    "duration": 25,
    "start_time": "2023-03-06T08:34:01.279Z"
   },
   {
    "duration": 3214,
    "start_time": "2023-03-06T08:34:13.555Z"
   },
   {
    "duration": 3789,
    "start_time": "2023-03-06T08:34:24.639Z"
   },
   {
    "duration": 6596,
    "start_time": "2023-03-06T08:35:57.145Z"
   },
   {
    "duration": 6,
    "start_time": "2023-03-06T08:36:25.599Z"
   },
   {
    "duration": 12,
    "start_time": "2023-03-06T08:36:55.638Z"
   },
   {
    "duration": 18,
    "start_time": "2023-03-06T08:37:01.222Z"
   },
   {
    "duration": 19,
    "start_time": "2023-03-06T08:37:46.668Z"
   },
   {
    "duration": 9,
    "start_time": "2023-03-06T08:37:49.080Z"
   },
   {
    "duration": 20,
    "start_time": "2023-03-06T08:37:54.374Z"
   },
   {
    "duration": 15,
    "start_time": "2023-03-06T08:37:58.723Z"
   },
   {
    "duration": 16,
    "start_time": "2023-03-06T08:38:12.657Z"
   },
   {
    "duration": 9906,
    "start_time": "2023-03-06T08:38:19.320Z"
   },
   {
    "duration": 18,
    "start_time": "2023-03-06T08:38:41.896Z"
   },
   {
    "duration": 16,
    "start_time": "2023-03-06T08:38:48.163Z"
   },
   {
    "duration": 878,
    "start_time": "2023-03-06T08:38:50.020Z"
   },
   {
    "duration": 10,
    "start_time": "2023-03-06T08:38:51.797Z"
   },
   {
    "duration": 13,
    "start_time": "2023-03-06T08:38:53.521Z"
   },
   {
    "duration": 6142,
    "start_time": "2023-03-06T08:38:56.772Z"
   },
   {
    "duration": 19,
    "start_time": "2023-03-06T08:40:25.502Z"
   },
   {
    "duration": 4425,
    "start_time": "2023-03-06T08:43:37.073Z"
   },
   {
    "duration": 9,
    "start_time": "2023-03-06T08:46:33.014Z"
   },
   {
    "duration": 4,
    "start_time": "2023-03-06T08:46:37.597Z"
   },
   {
    "duration": 50,
    "start_time": "2023-03-06T08:46:50.429Z"
   },
   {
    "duration": 43,
    "start_time": "2023-03-06T08:47:08.272Z"
   },
   {
    "duration": 13,
    "start_time": "2023-03-06T08:47:15.119Z"
   },
   {
    "duration": 216,
    "start_time": "2023-03-06T08:47:56.681Z"
   },
   {
    "duration": 15,
    "start_time": "2023-03-06T08:49:57.416Z"
   },
   {
    "duration": 312,
    "start_time": "2023-03-06T08:50:15.593Z"
   },
   {
    "duration": 47,
    "start_time": "2023-03-06T08:50:37.620Z"
   },
   {
    "duration": 18,
    "start_time": "2023-03-06T08:51:32.165Z"
   },
   {
    "duration": 17,
    "start_time": "2023-03-06T08:51:39.222Z"
   },
   {
    "duration": 923,
    "start_time": "2023-03-06T08:51:41.492Z"
   },
   {
    "duration": 9,
    "start_time": "2023-03-06T08:51:44.375Z"
   },
   {
    "duration": 15,
    "start_time": "2023-03-06T08:51:55.337Z"
   },
   {
    "duration": 51,
    "start_time": "2023-03-06T08:52:01.711Z"
   },
   {
    "duration": 43,
    "start_time": "2023-03-06T08:52:05.167Z"
   },
   {
    "duration": 19,
    "start_time": "2023-03-06T08:52:41.265Z"
   },
   {
    "duration": 16,
    "start_time": "2023-03-06T08:52:47.768Z"
   },
   {
    "duration": 973,
    "start_time": "2023-03-06T08:52:49.421Z"
   },
   {
    "duration": 10,
    "start_time": "2023-03-06T08:52:51.420Z"
   },
   {
    "duration": 13,
    "start_time": "2023-03-06T08:52:55.734Z"
   },
   {
    "duration": 16,
    "start_time": "2023-03-06T08:53:14.675Z"
   },
   {
    "duration": 56,
    "start_time": "2023-03-06T08:53:17.812Z"
   },
   {
    "duration": 50,
    "start_time": "2023-03-06T08:53:20.471Z"
   },
   {
    "duration": 46,
    "start_time": "2023-03-06T08:53:45.959Z"
   },
   {
    "duration": 47,
    "start_time": "2023-03-06T08:53:54.078Z"
   },
   {
    "duration": 51,
    "start_time": "2023-03-06T08:54:04.428Z"
   },
   {
    "duration": 19,
    "start_time": "2023-03-06T08:54:29.093Z"
   },
   {
    "duration": 23,
    "start_time": "2023-03-06T08:54:35.750Z"
   },
   {
    "duration": 198,
    "start_time": "2023-03-06T08:54:38.691Z"
   },
   {
    "duration": 15,
    "start_time": "2023-03-06T08:54:59.409Z"
   },
   {
    "duration": 17,
    "start_time": "2023-03-06T08:55:07.433Z"
   },
   {
    "duration": 863,
    "start_time": "2023-03-06T08:55:09.076Z"
   },
   {
    "duration": 9,
    "start_time": "2023-03-06T08:55:11.538Z"
   },
   {
    "duration": 12,
    "start_time": "2023-03-06T08:55:24.225Z"
   },
   {
    "duration": 4395,
    "start_time": "2023-03-06T08:55:29.560Z"
   },
   {
    "duration": 12,
    "start_time": "2023-03-06T08:55:40.383Z"
   },
   {
    "duration": 5,
    "start_time": "2023-03-06T08:55:43.327Z"
   },
   {
    "duration": 49,
    "start_time": "2023-03-06T08:55:46.629Z"
   },
   {
    "duration": 23,
    "start_time": "2023-03-06T08:55:48.752Z"
   },
   {
    "duration": 12,
    "start_time": "2023-03-06T08:55:52.196Z"
   },
   {
    "duration": 218,
    "start_time": "2023-03-06T08:56:03.672Z"
   },
   {
    "duration": 47,
    "start_time": "2023-03-06T08:56:37.824Z"
   },
   {
    "duration": 29,
    "start_time": "2023-03-06T08:56:49.731Z"
   },
   {
    "duration": 32,
    "start_time": "2023-03-06T08:56:58.329Z"
   },
   {
    "duration": 14,
    "start_time": "2023-03-06T08:57:03.069Z"
   },
   {
    "duration": 142,
    "start_time": "2023-03-06T08:57:17.236Z"
   },
   {
    "duration": 3,
    "start_time": "2023-03-06T08:57:20.324Z"
   },
   {
    "duration": 40,
    "start_time": "2023-03-06T08:57:22.868Z"
   },
   {
    "duration": 10,
    "start_time": "2023-03-06T08:57:36.177Z"
   },
   {
    "duration": 13,
    "start_time": "2023-03-06T08:57:42.655Z"
   },
   {
    "duration": 19,
    "start_time": "2023-03-06T08:58:09.399Z"
   },
   {
    "duration": 19,
    "start_time": "2023-03-06T08:58:13.380Z"
   },
   {
    "duration": 94,
    "start_time": "2023-03-06T08:58:13.402Z"
   },
   {
    "duration": 18,
    "start_time": "2023-03-06T08:58:13.498Z"
   },
   {
    "duration": 975,
    "start_time": "2023-03-06T08:58:13.518Z"
   },
   {
    "duration": 10,
    "start_time": "2023-03-06T08:58:14.495Z"
   },
   {
    "duration": 11,
    "start_time": "2023-03-06T08:58:14.506Z"
   },
   {
    "duration": 3192,
    "start_time": "2023-03-06T08:58:14.519Z"
   },
   {
    "duration": 4627,
    "start_time": "2023-03-06T08:58:17.713Z"
   },
   {
    "duration": 24,
    "start_time": "2023-03-06T08:58:22.342Z"
   },
   {
    "duration": 21,
    "start_time": "2023-03-06T08:58:22.368Z"
   },
   {
    "duration": 43,
    "start_time": "2023-03-06T08:58:22.391Z"
   },
   {
    "duration": 30,
    "start_time": "2023-03-06T08:58:22.436Z"
   },
   {
    "duration": 15,
    "start_time": "2023-03-06T08:58:22.469Z"
   },
   {
    "duration": 209,
    "start_time": "2023-03-06T08:58:22.488Z"
   },
   {
    "duration": 14,
    "start_time": "2023-03-06T08:58:22.699Z"
   },
   {
    "duration": 150,
    "start_time": "2023-03-06T08:58:22.715Z"
   },
   {
    "duration": 4,
    "start_time": "2023-03-06T08:58:22.867Z"
   },
   {
    "duration": 48,
    "start_time": "2023-03-06T08:58:22.875Z"
   },
   {
    "duration": 15,
    "start_time": "2023-03-06T08:58:22.958Z"
   },
   {
    "duration": 82,
    "start_time": "2023-03-06T08:58:22.976Z"
   },
   {
    "duration": 208,
    "start_time": "2023-03-06T08:58:23.060Z"
   },
   {
    "duration": 68,
    "start_time": "2023-03-06T08:58:23.269Z"
   },
   {
    "duration": 13,
    "start_time": "2023-03-06T08:58:23.340Z"
   },
   {
    "duration": 0,
    "start_time": "2023-03-06T08:58:23.356Z"
   },
   {
    "duration": 0,
    "start_time": "2023-03-06T08:58:23.357Z"
   },
   {
    "duration": 0,
    "start_time": "2023-03-06T08:58:23.358Z"
   },
   {
    "duration": 0,
    "start_time": "2023-03-06T08:58:23.359Z"
   },
   {
    "duration": 0,
    "start_time": "2023-03-06T08:58:23.360Z"
   },
   {
    "duration": 0,
    "start_time": "2023-03-06T08:58:23.361Z"
   },
   {
    "duration": 0,
    "start_time": "2023-03-06T08:58:23.364Z"
   },
   {
    "duration": 0,
    "start_time": "2023-03-06T08:58:23.365Z"
   },
   {
    "duration": 0,
    "start_time": "2023-03-06T08:58:23.366Z"
   },
   {
    "duration": 0,
    "start_time": "2023-03-06T08:58:23.367Z"
   },
   {
    "duration": 0,
    "start_time": "2023-03-06T08:58:23.368Z"
   },
   {
    "duration": 0,
    "start_time": "2023-03-06T08:58:23.370Z"
   },
   {
    "duration": 112,
    "start_time": "2023-03-06T09:00:06.700Z"
   },
   {
    "duration": 106,
    "start_time": "2023-03-06T09:01:01.876Z"
   },
   {
    "duration": 43,
    "start_time": "2023-03-06T09:01:08.264Z"
   },
   {
    "duration": 7,
    "start_time": "2023-03-06T09:01:10.886Z"
   },
   {
    "duration": 5,
    "start_time": "2023-03-06T09:01:13.040Z"
   },
   {
    "duration": 37723,
    "start_time": "2023-03-06T09:01:38.682Z"
   },
   {
    "duration": 2045,
    "start_time": "2023-03-06T09:02:44.103Z"
   },
   {
    "duration": 6,
    "start_time": "2023-03-06T09:02:48.721Z"
   },
   {
    "duration": 496,
    "start_time": "2023-03-06T09:02:57.302Z"
   },
   {
    "duration": 347692,
    "start_time": "2023-03-06T09:03:26.075Z"
   },
   {
    "duration": 391,
    "start_time": "2023-03-06T09:09:19.070Z"
   },
   {
    "duration": 6,
    "start_time": "2023-03-06T09:09:22.497Z"
   },
   {
    "duration": 759013,
    "start_time": "2023-03-06T09:10:21.144Z"
   },
   {
    "duration": 837,
    "start_time": "2023-03-06T09:23:00.160Z"
   },
   {
    "duration": 56,
    "start_time": "2023-03-06T09:23:00.999Z"
   },
   {
    "duration": 7,
    "start_time": "2023-03-06T09:23:01.059Z"
   },
   {
    "duration": 3189,
    "start_time": "2023-03-06T12:04:31.083Z"
   },
   {
    "duration": 0,
    "start_time": "2023-03-06T12:04:34.273Z"
   },
   {
    "duration": 0,
    "start_time": "2023-03-06T12:04:34.274Z"
   },
   {
    "duration": 2594,
    "start_time": "2023-03-06T15:09:00.629Z"
   },
   {
    "duration": 2858,
    "start_time": "2023-03-06T15:09:03.226Z"
   },
   {
    "duration": 1931,
    "start_time": "2023-03-06T15:09:06.086Z"
   },
   {
    "duration": 3,
    "start_time": "2023-03-06T15:09:08.020Z"
   },
   {
    "duration": 1027,
    "start_time": "2023-03-06T15:09:08.025Z"
   },
   {
    "duration": 16,
    "start_time": "2023-03-06T15:09:09.054Z"
   },
   {
    "duration": 132,
    "start_time": "2023-03-06T15:09:09.071Z"
   },
   {
    "duration": 92,
    "start_time": "2023-03-06T15:09:09.204Z"
   },
   {
    "duration": 430,
    "start_time": "2023-03-06T15:09:09.298Z"
   },
   {
    "duration": 479,
    "start_time": "2023-03-06T15:09:09.733Z"
   },
   {
    "duration": 7,
    "start_time": "2023-03-06T15:09:10.214Z"
   },
   {
    "duration": 260,
    "start_time": "2023-03-06T15:09:10.223Z"
   },
   {
    "duration": 152,
    "start_time": "2023-03-06T15:09:10.484Z"
   },
   {
    "duration": 6,
    "start_time": "2023-03-06T15:09:10.638Z"
   },
   {
    "duration": 58,
    "start_time": "2023-03-06T15:09:10.646Z"
   },
   {
    "duration": 209,
    "start_time": "2023-03-06T15:09:10.706Z"
   },
   {
    "duration": 42,
    "start_time": "2023-03-06T15:09:10.916Z"
   },
   {
    "duration": 50,
    "start_time": "2023-03-06T15:09:10.959Z"
   },
   {
    "duration": 296,
    "start_time": "2023-03-06T15:09:11.011Z"
   },
   {
    "duration": 268,
    "start_time": "2023-03-06T15:09:11.309Z"
   },
   {
    "duration": 38,
    "start_time": "2023-03-06T15:09:11.579Z"
   },
   {
    "duration": 81,
    "start_time": "2023-03-06T15:09:11.619Z"
   },
   {
    "duration": 204,
    "start_time": "2023-03-06T15:09:11.701Z"
   },
   {
    "duration": 140,
    "start_time": "2023-03-06T15:09:11.907Z"
   },
   {
    "duration": 42,
    "start_time": "2023-03-06T15:09:12.049Z"
   },
   {
    "duration": 125,
    "start_time": "2023-03-06T15:09:12.093Z"
   },
   {
    "duration": 54,
    "start_time": "2023-03-06T15:09:12.220Z"
   },
   {
    "duration": 365,
    "start_time": "2023-03-06T15:09:12.280Z"
   },
   {
    "duration": 4,
    "start_time": "2023-03-06T15:09:12.647Z"
   },
   {
    "duration": 198,
    "start_time": "2023-03-06T15:09:12.652Z"
   },
   {
    "duration": 268,
    "start_time": "2023-03-06T15:09:12.852Z"
   },
   {
    "duration": 25,
    "start_time": "2023-03-06T15:09:13.122Z"
   },
   {
    "duration": 85,
    "start_time": "2023-03-06T15:09:13.148Z"
   },
   {
    "duration": 52,
    "start_time": "2023-03-06T15:09:13.235Z"
   },
   {
    "duration": 46,
    "start_time": "2023-03-06T15:09:13.289Z"
   },
   {
    "duration": 33,
    "start_time": "2023-03-06T15:09:13.337Z"
   },
   {
    "duration": 35,
    "start_time": "2023-03-06T15:09:13.372Z"
   },
   {
    "duration": 37,
    "start_time": "2023-03-06T15:09:13.408Z"
   },
   {
    "duration": 78,
    "start_time": "2023-03-06T15:09:13.447Z"
   },
   {
    "duration": 15,
    "start_time": "2023-03-06T15:09:13.527Z"
   },
   {
    "duration": 415,
    "start_time": "2023-03-06T15:09:13.543Z"
   },
   {
    "duration": 3,
    "start_time": "2023-03-06T15:09:13.959Z"
   },
   {
    "duration": 12,
    "start_time": "2023-03-06T15:09:13.963Z"
   },
   {
    "duration": 19,
    "start_time": "2023-03-06T15:09:13.977Z"
   },
   {
    "duration": 79,
    "start_time": "2023-03-06T15:09:13.998Z"
   },
   {
    "duration": 16,
    "start_time": "2023-03-06T15:09:14.080Z"
   },
   {
    "duration": 796,
    "start_time": "2023-03-06T15:09:14.098Z"
   },
   {
    "duration": 9,
    "start_time": "2023-03-06T15:09:14.895Z"
   },
   {
    "duration": 22,
    "start_time": "2023-03-06T15:09:14.905Z"
   },
   {
    "duration": 2801,
    "start_time": "2023-03-06T15:09:14.931Z"
   },
   {
    "duration": 4161,
    "start_time": "2023-03-06T15:09:17.734Z"
   },
   {
    "duration": 7,
    "start_time": "2023-03-06T15:09:21.897Z"
   },
   {
    "duration": 13,
    "start_time": "2023-03-06T15:09:21.906Z"
   },
   {
    "duration": 44,
    "start_time": "2023-03-06T15:09:21.921Z"
   },
   {
    "duration": 16,
    "start_time": "2023-03-06T15:09:21.967Z"
   },
   {
    "duration": 12,
    "start_time": "2023-03-06T15:09:21.985Z"
   },
   {
    "duration": 234,
    "start_time": "2023-03-06T15:09:21.998Z"
   },
   {
    "duration": 13,
    "start_time": "2023-03-06T15:09:22.234Z"
   },
   {
    "duration": 152,
    "start_time": "2023-03-06T15:09:22.249Z"
   },
   {
    "duration": 15,
    "start_time": "2023-03-06T15:09:22.403Z"
   },
   {
    "duration": 62,
    "start_time": "2023-03-06T15:09:22.421Z"
   },
   {
    "duration": 50,
    "start_time": "2023-03-06T15:09:22.486Z"
   },
   {
    "duration": 102,
    "start_time": "2023-03-06T15:09:22.539Z"
   },
   {
    "duration": 13307,
    "start_time": "2023-03-06T15:09:22.644Z"
   },
   {
    "duration": 113,
    "start_time": "2023-03-06T15:09:35.952Z"
   },
   {
    "duration": 9,
    "start_time": "2023-03-06T15:09:36.067Z"
   },
   {
    "duration": 0,
    "start_time": "2023-03-06T15:09:36.077Z"
   },
   {
    "duration": 0,
    "start_time": "2023-03-06T15:09:36.079Z"
   },
   {
    "duration": 0,
    "start_time": "2023-03-06T15:09:36.080Z"
   },
   {
    "duration": 0,
    "start_time": "2023-03-06T15:09:36.081Z"
   },
   {
    "duration": 0,
    "start_time": "2023-03-06T15:09:36.082Z"
   },
   {
    "duration": 0,
    "start_time": "2023-03-06T15:09:36.083Z"
   },
   {
    "duration": 0,
    "start_time": "2023-03-06T15:09:36.084Z"
   },
   {
    "duration": 0,
    "start_time": "2023-03-06T15:09:36.084Z"
   },
   {
    "duration": 0,
    "start_time": "2023-03-06T15:09:36.086Z"
   },
   {
    "duration": 0,
    "start_time": "2023-03-06T15:09:36.087Z"
   },
   {
    "duration": 0,
    "start_time": "2023-03-06T15:09:36.088Z"
   },
   {
    "duration": 15,
    "start_time": "2023-03-06T15:59:44.333Z"
   },
   {
    "duration": 20,
    "start_time": "2023-03-06T15:59:46.873Z"
   },
   {
    "duration": 82,
    "start_time": "2023-03-06T15:59:49.506Z"
   },
   {
    "duration": 555,
    "start_time": "2023-03-06T16:00:22.234Z"
   },
   {
    "duration": 13,
    "start_time": "2023-03-06T16:00:52.889Z"
   },
   {
    "duration": 17,
    "start_time": "2023-03-06T16:00:59.180Z"
   },
   {
    "duration": 2836,
    "start_time": "2023-03-06T16:01:26.220Z"
   },
   {
    "duration": 85,
    "start_time": "2023-03-06T16:02:59.762Z"
   },
   {
    "duration": 848,
    "start_time": "2023-03-06T16:03:19.420Z"
   },
   {
    "duration": 7,
    "start_time": "2023-03-06T16:04:20.311Z"
   },
   {
    "duration": 10,
    "start_time": "2023-03-06T16:04:32.849Z"
   },
   {
    "duration": 2894,
    "start_time": "2023-03-06T16:04:42.965Z"
   },
   {
    "duration": 3537,
    "start_time": "2023-03-06T16:04:53.629Z"
   },
   {
    "duration": 6,
    "start_time": "2023-03-06T16:06:41.246Z"
   },
   {
    "duration": 4,
    "start_time": "2023-03-06T16:06:45.705Z"
   },
   {
    "duration": 5,
    "start_time": "2023-03-06T16:07:17.948Z"
   },
   {
    "duration": 13,
    "start_time": "2023-03-06T16:07:30.272Z"
   },
   {
    "duration": 187,
    "start_time": "2023-03-06T16:07:47.338Z"
   },
   {
    "duration": 12,
    "start_time": "2023-03-06T16:07:50.513Z"
   },
   {
    "duration": 149,
    "start_time": "2023-03-06T16:07:54.813Z"
   },
   {
    "duration": 3,
    "start_time": "2023-03-06T16:07:58.398Z"
   },
   {
    "duration": 42,
    "start_time": "2023-03-06T16:08:00.475Z"
   },
   {
    "duration": 98,
    "start_time": "2023-03-06T16:08:04.694Z"
   },
   {
    "duration": 19,
    "start_time": "2023-03-06T16:08:34.438Z"
   },
   {
    "duration": 18,
    "start_time": "2023-03-06T16:08:47.348Z"
   },
   {
    "duration": 4,
    "start_time": "2023-03-06T16:09:01.288Z"
   },
   {
    "duration": 4,
    "start_time": "2023-03-06T16:09:13.866Z"
   },
   {
    "duration": 18,
    "start_time": "2023-03-06T16:09:35.765Z"
   },
   {
    "duration": 87,
    "start_time": "2023-03-06T16:09:51.794Z"
   },
   {
    "duration": 853,
    "start_time": "2023-03-06T16:09:53.684Z"
   },
   {
    "duration": 16,
    "start_time": "2023-03-06T16:10:02.309Z"
   },
   {
    "duration": 2,
    "start_time": "2023-03-06T16:10:15.269Z"
   },
   {
    "duration": 38,
    "start_time": "2023-03-06T16:10:17.650Z"
   },
   {
    "duration": 8,
    "start_time": "2023-03-06T16:10:19.522Z"
   },
   {
    "duration": 5,
    "start_time": "2023-03-06T16:10:27.637Z"
   },
   {
    "duration": 34944,
    "start_time": "2023-03-06T16:10:33.845Z"
   },
   {
    "duration": 1685,
    "start_time": "2023-03-06T16:11:19.635Z"
   },
   {
    "duration": 5,
    "start_time": "2023-03-06T16:11:33.106Z"
   },
   {
    "duration": 433,
    "start_time": "2023-03-06T16:11:37.011Z"
   },
   {
    "duration": 2735,
    "start_time": "2023-03-06T16:11:42.098Z"
   },
   {
    "duration": 296,
    "start_time": "2023-03-06T16:11:54.547Z"
   },
   {
    "duration": 5,
    "start_time": "2023-03-06T16:11:58.698Z"
   },
   {
    "duration": 7033,
    "start_time": "2023-03-06T16:12:01.203Z"
   },
   {
    "duration": 719,
    "start_time": "2023-03-06T16:12:11.619Z"
   },
   {
    "duration": 5,
    "start_time": "2023-03-06T16:12:14.428Z"
   },
   {
    "duration": 3,
    "start_time": "2023-03-06T16:12:29.924Z"
   },
   {
    "duration": 33502,
    "start_time": "2023-03-06T16:12:32.349Z"
   },
   {
    "duration": 5724,
    "start_time": "2023-03-06T16:13:41.406Z"
   },
   {
    "duration": 5,
    "start_time": "2023-03-06T16:13:50.516Z"
   },
   {
    "duration": 10,
    "start_time": "2023-03-06T16:32:26.051Z"
   },
   {
    "duration": 672,
    "start_time": "2023-03-06T16:32:57.369Z"
   },
   {
    "duration": 762,
    "start_time": "2023-03-06T16:33:54.177Z"
   },
   {
    "duration": 2800,
    "start_time": "2023-03-06T20:29:59.130Z"
   },
   {
    "duration": 3149,
    "start_time": "2023-03-06T20:30:01.933Z"
   },
   {
    "duration": 1995,
    "start_time": "2023-03-06T20:30:05.084Z"
   },
   {
    "duration": 4,
    "start_time": "2023-03-06T20:30:07.081Z"
   },
   {
    "duration": 1106,
    "start_time": "2023-03-06T20:30:07.088Z"
   },
   {
    "duration": 17,
    "start_time": "2023-03-06T20:30:08.196Z"
   },
   {
    "duration": 150,
    "start_time": "2023-03-06T20:30:08.215Z"
   },
   {
    "duration": 101,
    "start_time": "2023-03-06T20:30:08.366Z"
   },
   {
    "duration": 481,
    "start_time": "2023-03-06T20:30:08.469Z"
   },
   {
    "duration": 509,
    "start_time": "2023-03-06T20:30:08.952Z"
   },
   {
    "duration": 6,
    "start_time": "2023-03-06T20:30:09.463Z"
   },
   {
    "duration": 265,
    "start_time": "2023-03-06T20:30:09.471Z"
   },
   {
    "duration": 161,
    "start_time": "2023-03-06T20:30:09.737Z"
   },
   {
    "duration": 8,
    "start_time": "2023-03-06T20:30:09.901Z"
   },
   {
    "duration": 73,
    "start_time": "2023-03-06T20:30:09.910Z"
   },
   {
    "duration": 217,
    "start_time": "2023-03-06T20:30:09.985Z"
   },
   {
    "duration": 38,
    "start_time": "2023-03-06T20:30:10.204Z"
   },
   {
    "duration": 49,
    "start_time": "2023-03-06T20:30:10.257Z"
   },
   {
    "duration": 296,
    "start_time": "2023-03-06T20:30:10.308Z"
   },
   {
    "duration": 285,
    "start_time": "2023-03-06T20:30:10.606Z"
   },
   {
    "duration": 41,
    "start_time": "2023-03-06T20:30:10.893Z"
   },
   {
    "duration": 84,
    "start_time": "2023-03-06T20:30:10.936Z"
   },
   {
    "duration": 202,
    "start_time": "2023-03-06T20:30:11.021Z"
   },
   {
    "duration": 120,
    "start_time": "2023-03-06T20:30:11.225Z"
   },
   {
    "duration": 41,
    "start_time": "2023-03-06T20:30:11.357Z"
   },
   {
    "duration": 117,
    "start_time": "2023-03-06T20:30:11.400Z"
   },
   {
    "duration": 56,
    "start_time": "2023-03-06T20:30:11.519Z"
   },
   {
    "duration": 429,
    "start_time": "2023-03-06T20:30:11.577Z"
   },
   {
    "duration": 3,
    "start_time": "2023-03-06T20:30:12.008Z"
   },
   {
    "duration": 211,
    "start_time": "2023-03-06T20:30:12.013Z"
   },
   {
    "duration": 301,
    "start_time": "2023-03-06T20:30:12.226Z"
   },
   {
    "duration": 20,
    "start_time": "2023-03-06T20:30:12.528Z"
   },
   {
    "duration": 81,
    "start_time": "2023-03-06T20:30:12.557Z"
   },
   {
    "duration": 62,
    "start_time": "2023-03-06T20:30:12.640Z"
   },
   {
    "duration": 35,
    "start_time": "2023-03-06T20:30:12.704Z"
   },
   {
    "duration": 51,
    "start_time": "2023-03-06T20:30:12.741Z"
   },
   {
    "duration": 30,
    "start_time": "2023-03-06T20:30:12.794Z"
   },
   {
    "duration": 52,
    "start_time": "2023-03-06T20:30:12.825Z"
   },
   {
    "duration": 79,
    "start_time": "2023-03-06T20:30:12.879Z"
   },
   {
    "duration": 27,
    "start_time": "2023-03-06T20:30:12.960Z"
   },
   {
    "duration": 23,
    "start_time": "2023-03-06T20:30:12.993Z"
   },
   {
    "duration": 122,
    "start_time": "2023-03-06T20:30:13.018Z"
   },
   {
    "duration": 33,
    "start_time": "2023-03-06T20:30:13.142Z"
   },
   {
    "duration": 119,
    "start_time": "2023-03-06T20:30:13.178Z"
   },
   {
    "duration": 865,
    "start_time": "2023-03-06T20:30:13.299Z"
   },
   {
    "duration": 8,
    "start_time": "2023-03-06T20:30:14.166Z"
   },
   {
    "duration": 16,
    "start_time": "2023-03-06T20:30:14.175Z"
   },
   {
    "duration": 3064,
    "start_time": "2023-03-06T20:30:14.193Z"
   },
   {
    "duration": 3664,
    "start_time": "2023-03-06T20:30:17.260Z"
   },
   {
    "duration": 12,
    "start_time": "2023-03-06T20:30:20.926Z"
   },
   {
    "duration": 10,
    "start_time": "2023-03-06T20:30:20.940Z"
   },
   {
    "duration": 29,
    "start_time": "2023-03-06T20:30:20.952Z"
   },
   {
    "duration": 235,
    "start_time": "2023-03-06T20:30:20.983Z"
   },
   {
    "duration": 13,
    "start_time": "2023-03-06T20:30:21.220Z"
   },
   {
    "duration": 156,
    "start_time": "2023-03-06T20:30:21.234Z"
   },
   {
    "duration": 3,
    "start_time": "2023-03-06T20:30:21.392Z"
   },
   {
    "duration": 66,
    "start_time": "2023-03-06T20:30:21.396Z"
   },
   {
    "duration": 18,
    "start_time": "2023-03-06T20:30:21.464Z"
   },
   {
    "duration": 103,
    "start_time": "2023-03-06T20:30:21.572Z"
   },
   {
    "duration": 35011,
    "start_time": "2023-03-06T20:30:21.677Z"
   },
   {
    "duration": 1739,
    "start_time": "2023-03-06T20:30:56.689Z"
   },
   {
    "duration": 5,
    "start_time": "2023-03-06T20:30:58.430Z"
   },
   {
    "duration": 469,
    "start_time": "2023-03-06T20:30:58.437Z"
   },
   {
    "duration": 266782,
    "start_time": "2023-03-06T20:30:58.908Z"
   },
   {
    "duration": 469,
    "start_time": "2023-03-06T20:35:25.692Z"
   },
   {
    "duration": 8,
    "start_time": "2023-03-06T20:35:26.170Z"
   },
   {
    "duration": 283790,
    "start_time": "2023-03-06T20:35:26.181Z"
   },
   {
    "duration": 910,
    "start_time": "2023-03-06T20:40:09.973Z"
   },
   {
    "duration": 5,
    "start_time": "2023-03-06T20:40:10.885Z"
   },
   {
    "duration": 8,
    "start_time": "2023-03-06T20:40:10.891Z"
   },
   {
    "duration": 462461,
    "start_time": "2023-03-06T20:40:10.900Z"
   },
   {
    "duration": 4894,
    "start_time": "2023-03-06T20:47:53.367Z"
   },
   {
    "duration": 5,
    "start_time": "2023-03-06T20:47:58.264Z"
   },
   {
    "duration": 825,
    "start_time": "2023-03-06T20:47:58.271Z"
   },
   {
    "duration": 1751,
    "start_time": "2023-03-06T20:49:39.402Z"
   }
  ],
  "kernelspec": {
   "display_name": "Python 3 (ipykernel)",
   "language": "python",
   "name": "python3"
  },
  "language_info": {
   "codemirror_mode": {
    "name": "ipython",
    "version": 3
   },
   "file_extension": ".py",
   "mimetype": "text/x-python",
   "name": "python",
   "nbconvert_exporter": "python",
   "pygments_lexer": "ipython3",
   "version": "3.9.16"
  },
  "toc": {
   "base_numbering": 1,
   "nav_menu": {},
   "number_sections": true,
   "sideBar": true,
   "skip_h1_title": true,
   "title_cell": "Table of Contents",
   "title_sidebar": "Contents",
   "toc_cell": false,
   "toc_position": {},
   "toc_section_display": true,
   "toc_window_display": false
  },
  "varInspector": {
   "cols": {
    "lenName": 16,
    "lenType": 16,
    "lenVar": 40
   },
   "kernels_config": {
    "python": {
     "delete_cmd_postfix": "",
     "delete_cmd_prefix": "del ",
     "library": "var_list.py",
     "varRefreshCmd": "print(var_dic_list())"
    },
    "r": {
     "delete_cmd_postfix": ") ",
     "delete_cmd_prefix": "rm(",
     "library": "var_list.r",
     "varRefreshCmd": "cat(var_dic_list()) "
    }
   },
   "types_to_exclude": [
    "module",
    "function",
    "builtin_function_or_method",
    "instance",
    "_Feature"
   ],
   "window_display": false
  }
 },
 "nbformat": 4,
 "nbformat_minor": 2
}
