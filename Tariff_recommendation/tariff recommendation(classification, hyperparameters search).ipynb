{
 "cells": [
  {
   "cell_type": "markdown",
   "metadata": {},
   "source": [
    "# Рекомендация тарифов"
   ]
  },
  {
   "cell_type": "markdown",
   "metadata": {},
   "source": [
    "Оператор мобильной связи хочет построить систему, способную проанализировать поведение клиентов и предложить пользователям новый тариф: «Смарт» или «Ультра».\n",
    "\n",
    "В распоряжении данные о поведении клиентов, которые уже перешли на эти тарифы. Нужно построить модель для задачи классификации, которая выберет подходящий тариф."
   ]
  },
  {
   "cell_type": "markdown",
   "metadata": {},
   "source": [
    "## Загрузка и подготовка данных"
   ]
  },
  {
   "cell_type": "code",
   "execution_count": 54,
   "metadata": {},
   "outputs": [],
   "source": [
    "import pandas as pd\n",
    "import matplotlib.pyplot  as plt\n",
    "import seaborn as sns \n",
    "import statsmodels.api as sm\n",
    "import numpy as np\n",
    "import warnings\n",
    "from plotly.subplots import make_subplots\n",
    "from sklearn.metrics import accuracy_score\n",
    "from sklearn.model_selection import train_test_split\n",
    "from sklearn.metrics import classification_report, recall_score, precision_score, f1_score\n",
    "from sklearn.metrics import roc_auc_score\n",
    "from sklearn.metrics import roc_curve\n",
    "from sklearn.tree import DecisionTreeClassifier\n",
    "from sklearn.linear_model import LogisticRegression\n",
    "from sklearn.ensemble import RandomForestClassifier\n",
    "from sklearn.naive_bayes import GaussianNB\n",
    "from sklearn.dummy import DummyClassifier\n",
    "from sklearn.feature_selection import RFE\n",
    "import phik\n",
    "from phik.report import plot_correlation_matrix\n",
    "from phik import report"
   ]
  },
  {
   "cell_type": "code",
   "execution_count": 55,
   "metadata": {},
   "outputs": [],
   "source": [
    "warnings.filterwarnings('ignore')"
   ]
  },
  {
   "cell_type": "code",
   "execution_count": 56,
   "metadata": {},
   "outputs": [],
   "source": [
    "df = pd.read_csv('users_behavior.csv')"
   ]
  },
  {
   "cell_type": "code",
   "execution_count": 57,
   "metadata": {
    "scrolled": true
   },
   "outputs": [
    {
     "data": {
      "text/html": [
       "<div>\n",
       "<style scoped>\n",
       "    .dataframe tbody tr th:only-of-type {\n",
       "        vertical-align: middle;\n",
       "    }\n",
       "\n",
       "    .dataframe tbody tr th {\n",
       "        vertical-align: top;\n",
       "    }\n",
       "\n",
       "    .dataframe thead th {\n",
       "        text-align: right;\n",
       "    }\n",
       "</style>\n",
       "<table border=\"1\" class=\"dataframe\">\n",
       "  <thead>\n",
       "    <tr style=\"text-align: right;\">\n",
       "      <th></th>\n",
       "      <th>calls</th>\n",
       "      <th>minutes</th>\n",
       "      <th>messages</th>\n",
       "      <th>mb_used</th>\n",
       "      <th>is_ultra</th>\n",
       "    </tr>\n",
       "  </thead>\n",
       "  <tbody>\n",
       "    <tr>\n",
       "      <th>count</th>\n",
       "      <td>3214.000000</td>\n",
       "      <td>3214.000000</td>\n",
       "      <td>3214.000000</td>\n",
       "      <td>3214.000000</td>\n",
       "      <td>3214.000000</td>\n",
       "    </tr>\n",
       "    <tr>\n",
       "      <th>mean</th>\n",
       "      <td>63.038892</td>\n",
       "      <td>438.208787</td>\n",
       "      <td>38.281269</td>\n",
       "      <td>17207.673836</td>\n",
       "      <td>0.306472</td>\n",
       "    </tr>\n",
       "    <tr>\n",
       "      <th>std</th>\n",
       "      <td>33.236368</td>\n",
       "      <td>234.569872</td>\n",
       "      <td>36.148326</td>\n",
       "      <td>7570.968246</td>\n",
       "      <td>0.461100</td>\n",
       "    </tr>\n",
       "    <tr>\n",
       "      <th>min</th>\n",
       "      <td>0.000000</td>\n",
       "      <td>0.000000</td>\n",
       "      <td>0.000000</td>\n",
       "      <td>0.000000</td>\n",
       "      <td>0.000000</td>\n",
       "    </tr>\n",
       "    <tr>\n",
       "      <th>25%</th>\n",
       "      <td>40.000000</td>\n",
       "      <td>274.575000</td>\n",
       "      <td>9.000000</td>\n",
       "      <td>12491.902500</td>\n",
       "      <td>0.000000</td>\n",
       "    </tr>\n",
       "    <tr>\n",
       "      <th>50%</th>\n",
       "      <td>62.000000</td>\n",
       "      <td>430.600000</td>\n",
       "      <td>30.000000</td>\n",
       "      <td>16943.235000</td>\n",
       "      <td>0.000000</td>\n",
       "    </tr>\n",
       "    <tr>\n",
       "      <th>75%</th>\n",
       "      <td>82.000000</td>\n",
       "      <td>571.927500</td>\n",
       "      <td>57.000000</td>\n",
       "      <td>21424.700000</td>\n",
       "      <td>1.000000</td>\n",
       "    </tr>\n",
       "    <tr>\n",
       "      <th>max</th>\n",
       "      <td>244.000000</td>\n",
       "      <td>1632.060000</td>\n",
       "      <td>224.000000</td>\n",
       "      <td>49745.730000</td>\n",
       "      <td>1.000000</td>\n",
       "    </tr>\n",
       "  </tbody>\n",
       "</table>\n",
       "</div>"
      ],
      "text/plain": [
       "             calls      minutes     messages       mb_used     is_ultra\n",
       "count  3214.000000  3214.000000  3214.000000   3214.000000  3214.000000\n",
       "mean     63.038892   438.208787    38.281269  17207.673836     0.306472\n",
       "std      33.236368   234.569872    36.148326   7570.968246     0.461100\n",
       "min       0.000000     0.000000     0.000000      0.000000     0.000000\n",
       "25%      40.000000   274.575000     9.000000  12491.902500     0.000000\n",
       "50%      62.000000   430.600000    30.000000  16943.235000     0.000000\n",
       "75%      82.000000   571.927500    57.000000  21424.700000     1.000000\n",
       "max     244.000000  1632.060000   224.000000  49745.730000     1.000000"
      ]
     },
     "execution_count": 57,
     "metadata": {},
     "output_type": "execute_result"
    }
   ],
   "source": [
    "df.describe()"
   ]
  },
  {
   "cell_type": "markdown",
   "metadata": {},
   "source": [
    "*Как мы видим из таблицы выше, у нас есть 4 признака, чтобы классифицировать подходящий тариф: количество звонков, продолжительность разговоров в минутах, количество смс и потраченных Гб.*\n",
    "\n",
    "*Разделим датасет по тарифам: \"Смарт\" и \"Ультра\"*"
   ]
  },
  {
   "cell_type": "code",
   "execution_count": 58,
   "metadata": {},
   "outputs": [],
   "source": [
    "df_smart = df[df['is_ultra'] == 0].drop('is_ultra',axis=1)"
   ]
  },
  {
   "cell_type": "code",
   "execution_count": 59,
   "metadata": {},
   "outputs": [
    {
     "data": {
      "text/html": [
       "<div>\n",
       "<style scoped>\n",
       "    .dataframe tbody tr th:only-of-type {\n",
       "        vertical-align: middle;\n",
       "    }\n",
       "\n",
       "    .dataframe tbody tr th {\n",
       "        vertical-align: top;\n",
       "    }\n",
       "\n",
       "    .dataframe thead th {\n",
       "        text-align: right;\n",
       "    }\n",
       "</style>\n",
       "<table border=\"1\" class=\"dataframe\">\n",
       "  <thead>\n",
       "    <tr style=\"text-align: right;\">\n",
       "      <th></th>\n",
       "      <th>calls</th>\n",
       "      <th>minutes</th>\n",
       "      <th>messages</th>\n",
       "      <th>mb_used</th>\n",
       "    </tr>\n",
       "  </thead>\n",
       "  <tbody>\n",
       "    <tr>\n",
       "      <th>count</th>\n",
       "      <td>2229.000000</td>\n",
       "      <td>2229.000000</td>\n",
       "      <td>2229.000000</td>\n",
       "      <td>2229.000000</td>\n",
       "    </tr>\n",
       "    <tr>\n",
       "      <th>mean</th>\n",
       "      <td>58.463437</td>\n",
       "      <td>405.942952</td>\n",
       "      <td>33.384029</td>\n",
       "      <td>16208.466949</td>\n",
       "    </tr>\n",
       "    <tr>\n",
       "      <th>std</th>\n",
       "      <td>25.939858</td>\n",
       "      <td>184.512604</td>\n",
       "      <td>28.227876</td>\n",
       "      <td>5870.498853</td>\n",
       "    </tr>\n",
       "    <tr>\n",
       "      <th>min</th>\n",
       "      <td>0.000000</td>\n",
       "      <td>0.000000</td>\n",
       "      <td>0.000000</td>\n",
       "      <td>0.000000</td>\n",
       "    </tr>\n",
       "    <tr>\n",
       "      <th>25%</th>\n",
       "      <td>40.000000</td>\n",
       "      <td>274.230000</td>\n",
       "      <td>10.000000</td>\n",
       "      <td>12643.050000</td>\n",
       "    </tr>\n",
       "    <tr>\n",
       "      <th>50%</th>\n",
       "      <td>60.000000</td>\n",
       "      <td>410.560000</td>\n",
       "      <td>28.000000</td>\n",
       "      <td>16506.930000</td>\n",
       "    </tr>\n",
       "    <tr>\n",
       "      <th>75%</th>\n",
       "      <td>76.000000</td>\n",
       "      <td>529.510000</td>\n",
       "      <td>51.000000</td>\n",
       "      <td>20043.060000</td>\n",
       "    </tr>\n",
       "    <tr>\n",
       "      <th>max</th>\n",
       "      <td>198.000000</td>\n",
       "      <td>1390.220000</td>\n",
       "      <td>143.000000</td>\n",
       "      <td>38552.620000</td>\n",
       "    </tr>\n",
       "  </tbody>\n",
       "</table>\n",
       "</div>"
      ],
      "text/plain": [
       "             calls      minutes     messages       mb_used\n",
       "count  2229.000000  2229.000000  2229.000000   2229.000000\n",
       "mean     58.463437   405.942952    33.384029  16208.466949\n",
       "std      25.939858   184.512604    28.227876   5870.498853\n",
       "min       0.000000     0.000000     0.000000      0.000000\n",
       "25%      40.000000   274.230000    10.000000  12643.050000\n",
       "50%      60.000000   410.560000    28.000000  16506.930000\n",
       "75%      76.000000   529.510000    51.000000  20043.060000\n",
       "max     198.000000  1390.220000   143.000000  38552.620000"
      ]
     },
     "execution_count": 59,
     "metadata": {},
     "output_type": "execute_result"
    }
   ],
   "source": [
    "df_smart.describe()"
   ]
  },
  {
   "cell_type": "code",
   "execution_count": 60,
   "metadata": {},
   "outputs": [],
   "source": [
    "df_ultra = df[df['is_ultra'] == 1].drop('is_ultra',axis=1)"
   ]
  },
  {
   "cell_type": "code",
   "execution_count": 61,
   "metadata": {},
   "outputs": [
    {
     "data": {
      "text/html": [
       "<div>\n",
       "<style scoped>\n",
       "    .dataframe tbody tr th:only-of-type {\n",
       "        vertical-align: middle;\n",
       "    }\n",
       "\n",
       "    .dataframe tbody tr th {\n",
       "        vertical-align: top;\n",
       "    }\n",
       "\n",
       "    .dataframe thead th {\n",
       "        text-align: right;\n",
       "    }\n",
       "</style>\n",
       "<table border=\"1\" class=\"dataframe\">\n",
       "  <thead>\n",
       "    <tr style=\"text-align: right;\">\n",
       "      <th></th>\n",
       "      <th>calls</th>\n",
       "      <th>minutes</th>\n",
       "      <th>messages</th>\n",
       "      <th>mb_used</th>\n",
       "    </tr>\n",
       "  </thead>\n",
       "  <tbody>\n",
       "    <tr>\n",
       "      <th>count</th>\n",
       "      <td>985.000000</td>\n",
       "      <td>985.000000</td>\n",
       "      <td>985.000000</td>\n",
       "      <td>985.000000</td>\n",
       "    </tr>\n",
       "    <tr>\n",
       "      <th>mean</th>\n",
       "      <td>73.392893</td>\n",
       "      <td>511.224569</td>\n",
       "      <td>49.363452</td>\n",
       "      <td>19468.823228</td>\n",
       "    </tr>\n",
       "    <tr>\n",
       "      <th>std</th>\n",
       "      <td>43.916853</td>\n",
       "      <td>308.031100</td>\n",
       "      <td>47.804457</td>\n",
       "      <td>10087.178654</td>\n",
       "    </tr>\n",
       "    <tr>\n",
       "      <th>min</th>\n",
       "      <td>0.000000</td>\n",
       "      <td>0.000000</td>\n",
       "      <td>0.000000</td>\n",
       "      <td>0.000000</td>\n",
       "    </tr>\n",
       "    <tr>\n",
       "      <th>25%</th>\n",
       "      <td>41.000000</td>\n",
       "      <td>276.030000</td>\n",
       "      <td>6.000000</td>\n",
       "      <td>11770.280000</td>\n",
       "    </tr>\n",
       "    <tr>\n",
       "      <th>50%</th>\n",
       "      <td>74.000000</td>\n",
       "      <td>502.550000</td>\n",
       "      <td>38.000000</td>\n",
       "      <td>19308.010000</td>\n",
       "    </tr>\n",
       "    <tr>\n",
       "      <th>75%</th>\n",
       "      <td>104.000000</td>\n",
       "      <td>730.050000</td>\n",
       "      <td>79.000000</td>\n",
       "      <td>26837.720000</td>\n",
       "    </tr>\n",
       "    <tr>\n",
       "      <th>max</th>\n",
       "      <td>244.000000</td>\n",
       "      <td>1632.060000</td>\n",
       "      <td>224.000000</td>\n",
       "      <td>49745.730000</td>\n",
       "    </tr>\n",
       "  </tbody>\n",
       "</table>\n",
       "</div>"
      ],
      "text/plain": [
       "            calls      minutes    messages       mb_used\n",
       "count  985.000000   985.000000  985.000000    985.000000\n",
       "mean    73.392893   511.224569   49.363452  19468.823228\n",
       "std     43.916853   308.031100   47.804457  10087.178654\n",
       "min      0.000000     0.000000    0.000000      0.000000\n",
       "25%     41.000000   276.030000    6.000000  11770.280000\n",
       "50%     74.000000   502.550000   38.000000  19308.010000\n",
       "75%    104.000000   730.050000   79.000000  26837.720000\n",
       "max    244.000000  1632.060000  224.000000  49745.730000"
      ]
     },
     "execution_count": 61,
     "metadata": {},
     "output_type": "execute_result"
    }
   ],
   "source": [
    "df_ultra.describe()"
   ]
  },
  {
   "cell_type": "code",
   "execution_count": 62,
   "metadata": {
    "scrolled": true
   },
   "outputs": [
    {
     "data": {
      "text/html": [
       "<div>\n",
       "<style scoped>\n",
       "    .dataframe tbody tr th:only-of-type {\n",
       "        vertical-align: middle;\n",
       "    }\n",
       "\n",
       "    .dataframe tbody tr th {\n",
       "        vertical-align: top;\n",
       "    }\n",
       "\n",
       "    .dataframe thead tr th {\n",
       "        text-align: left;\n",
       "    }\n",
       "</style>\n",
       "<table border=\"1\" class=\"dataframe\">\n",
       "  <thead>\n",
       "    <tr>\n",
       "      <th></th>\n",
       "      <th>index</th>\n",
       "      <th colspan=\"2\" halign=\"left\">mean</th>\n",
       "      <th colspan=\"2\" halign=\"left\">median</th>\n",
       "    </tr>\n",
       "    <tr>\n",
       "      <th>is_ultra</th>\n",
       "      <th></th>\n",
       "      <th>0</th>\n",
       "      <th>1</th>\n",
       "      <th>0</th>\n",
       "      <th>1</th>\n",
       "    </tr>\n",
       "  </thead>\n",
       "  <tbody>\n",
       "    <tr>\n",
       "      <th>0</th>\n",
       "      <td>calls</td>\n",
       "      <td>58.463437</td>\n",
       "      <td>73.392893</td>\n",
       "      <td>60.00</td>\n",
       "      <td>74.00</td>\n",
       "    </tr>\n",
       "    <tr>\n",
       "      <th>1</th>\n",
       "      <td>mb_used</td>\n",
       "      <td>16208.466949</td>\n",
       "      <td>19468.823228</td>\n",
       "      <td>16506.93</td>\n",
       "      <td>19308.01</td>\n",
       "    </tr>\n",
       "    <tr>\n",
       "      <th>2</th>\n",
       "      <td>messages</td>\n",
       "      <td>33.384029</td>\n",
       "      <td>49.363452</td>\n",
       "      <td>28.00</td>\n",
       "      <td>38.00</td>\n",
       "    </tr>\n",
       "    <tr>\n",
       "      <th>3</th>\n",
       "      <td>minutes</td>\n",
       "      <td>405.942952</td>\n",
       "      <td>511.224569</td>\n",
       "      <td>410.56</td>\n",
       "      <td>502.55</td>\n",
       "    </tr>\n",
       "  </tbody>\n",
       "</table>\n",
       "</div>"
      ],
      "text/plain": [
       "             index          mean                  median          \n",
       "is_ultra                       0             1         0         1\n",
       "0            calls     58.463437     73.392893     60.00     74.00\n",
       "1          mb_used  16208.466949  19468.823228  16506.93  19308.01\n",
       "2         messages     33.384029     49.363452     28.00     38.00\n",
       "3          minutes    405.942952    511.224569    410.56    502.55"
      ]
     },
     "execution_count": 62,
     "metadata": {},
     "output_type": "execute_result"
    }
   ],
   "source": [
    "pd.pivot_table(df, columns='is_ultra', aggfunc=['mean','median']).reset_index().head()"
   ]
  },
  {
   "cell_type": "markdown",
   "metadata": {},
   "source": [
    "*Из таблицы видим, что пользователи \"Ультра\" пользуются всеми возможностями пакетов чаще, от смс до Гб*\n",
    "\n",
    "*Посмотрим распределение признаков и заодно построим qqplot, чтобы оценить насколько оно близко к нормльному. Одной из моделей будет Гауссовский Байесовский классификатор, улсовие применения которого заключается в нормалньом распределнии признаков.*"
   ]
  },
  {
   "cell_type": "code",
   "execution_count": 69,
   "metadata": {},
   "outputs": [
    {
     "data": {
      "image/png": "[encoded data removed]",
      "text/plain": [
       "<Figure size 650x300 with 2 Axes>"
      ]
     },
     "metadata": {},
     "output_type": "display_data"
    },
    {
     "data": {
      "image/png": "[encoded data removed]",
      "text/plain": [
       "<Figure size 650x300 with 2 Axes>"
      ]
     },
     "metadata": {},
     "output_type": "display_data"
    },
    {
     "data": {
      "image/png": "[encoded data removed]",
      "text/plain": [
       "<Figure size 650x300 with 2 Axes>"
      ]
     },
     "metadata": {},
     "output_type": "display_data"
    },
    {
     "data": {
      "image/png": "[encoded data removed]",
      "text/plain": [
       "<Figure size 650x300 with 2 Axes>"
      ]
     },
     "metadata": {},
     "output_type": "display_data"
    }
   ],
   "source": [
    "for column in df.columns[:-1]: \n",
    "    fig, axes = plt.subplots(1, 2, figsize=(6.5, 3))\n",
    "    plt.suptitle(column)\n",
    "    df_ultra[column].plot(kind=\"hist\",bins=100, color='r', alpha=0.4,ax=axes[0])\n",
    "    df_smart[column].plot(kind=\"hist\",bins=100, color='b', alpha=0.4, ax=axes[0])\n",
    "    sm.qqplot(df_ultra[column],color='r',line='s',markeredgecolor='r',ax=axes[1])\n",
    "    sm.qqplot(df_smart[column],line='s',ax=axes[1])\n",
    "    plt.tight_layout()\n",
    "    plt.show()"
   ]
  },
  {
   "cell_type": "markdown",
   "metadata": {},
   "source": [
    "*Мы видим, что для каждого способа связи есть большие выбросы в нуле. Уберем их и посмотрим, как изменились данные.Также распределения близки к нормальным за исключением области близкой к нулю. Рапсределение смс наиболее хаотичное.*"
   ]
  },
  {
   "cell_type": "code",
   "execution_count": 11,
   "metadata": {},
   "outputs": [],
   "source": [
    "ultra = df_ultra\n",
    "smart = df_smart\n",
    "\n",
    "for column in df.columns[:-1]:   \n",
    "    ultra[column] = ultra[ultra[column] > 0][column]\n",
    "    smart[column] = smart[smart[column] > 0][column]"
   ]
  },
  {
   "cell_type": "markdown",
   "metadata": {},
   "source": [
    "*Таким образом мы заменили нули Nan. Теперь удалим такие строки.*"
   ]
  },
  {
   "cell_type": "code",
   "execution_count": 12,
   "metadata": {},
   "outputs": [
    {
     "data": {
      "text/plain": [
       "(985, 4)"
      ]
     },
     "execution_count": 12,
     "metadata": {},
     "output_type": "execute_result"
    }
   ],
   "source": [
    "df_ultra.shape"
   ]
  },
  {
   "cell_type": "code",
   "execution_count": 13,
   "metadata": {},
   "outputs": [],
   "source": [
    "ultra.dropna(inplace=True)"
   ]
  },
  {
   "cell_type": "code",
   "execution_count": 14,
   "metadata": {},
   "outputs": [
    {
     "data": {
      "text/plain": [
       "(2229, 4)"
      ]
     },
     "execution_count": 14,
     "metadata": {},
     "output_type": "execute_result"
    }
   ],
   "source": [
    "df_smart.shape"
   ]
  },
  {
   "cell_type": "code",
   "execution_count": 15,
   "metadata": {},
   "outputs": [],
   "source": [
    "smart.dropna(inplace=True)"
   ]
  },
  {
   "cell_type": "markdown",
   "metadata": {},
   "source": [
    "*Как мы видим при удалении теряется большая доля данных, но это позволит улучшить предсказание за счет удаления выброса.*"
   ]
  },
  {
   "cell_type": "code",
   "execution_count": 113,
   "metadata": {},
   "outputs": [
    {
     "data": {
      "image/png": "[encoded data removed]",
      "text/plain": [
       "<Figure size 650x300 with 2 Axes>"
      ]
     },
     "metadata": {},
     "output_type": "display_data"
    },
    {
     "data": {
      "image/png": "[encoded data removed]",
      "text/plain": [
       "<Figure size 650x300 with 2 Axes>"
      ]
     },
     "metadata": {},
     "output_type": "display_data"
    },
    {
     "data": {
      "image/png": "[encoded data removed]",
      "text/plain": [
       "<Figure size 650x300 with 2 Axes>"
      ]
     },
     "metadata": {},
     "output_type": "display_data"
    }
   ],
   "source": [
    "for column in df.columns[:-1]: \n",
    "    fig, axes = plt.subplots(1, 2, figsize=(6.5, 3))\n",
    "    plt.suptitle(column)\n",
    "    ultra[column].plot(kind=\"hist\",bins=100, color='r', alpha=0.4,ax=axes[0])\n",
    "    smart[column].plot(kind=\"hist\",bins=100, color='b', alpha=0.4, ax=axes[0])\n",
    "    sm.qqplot(ultra[column],color='r',line='s',markeredgecolor='r',ax=axes[1])\n",
    "    sm.qqplot(smart[column],line='s',ax=axes[1])\n",
    "    plt.tight_layout()\n",
    "    plt.show()"
   ]
  },
  {
   "cell_type": "markdown",
   "metadata": {},
   "source": [
    "*Проверим признаки на мультиколлинеарность*"
   ]
  },
  {
   "cell_type": "code",
   "execution_count": 82,
   "metadata": {},
   "outputs": [
    {
     "data": {
      "image/png": "[encoded data removed]",
      "text/plain": [
       "<Figure size 700x600 with 20 Axes>"
      ]
     },
     "metadata": {},
     "output_type": "display_data"
    }
   ],
   "source": [
    "pp = sns.pairplot(df, hue='is_ultra',aspect=.85)\n",
    "pp.fig.set_size_inches(7,6)\n",
    "plt.show()"
   ]
  },
  {
   "cell_type": "code",
   "execution_count": 87,
   "metadata": {},
   "outputs": [
    {
     "name": "stdout",
     "output_type": "stream",
     "text": [
      "interval columns not set, guessing: ['calls', 'minutes', 'messages', 'mb_used', 'is_ultra']\n"
     ]
    },
    {
     "data": {
      "image/png": "[encoded data removed]",
      "text/plain": [
       "<Figure size 700x600 with 2 Axes>"
      ]
     },
     "metadata": {},
     "output_type": "display_data"
    }
   ],
   "source": [
    "phik_overview = df.phik_matrix()\n",
    "plot_correlation_matrix(phik_overview.values, \n",
    "                        x_labels=phik_overview.columns, \n",
    "                        y_labels=phik_overview.index, \n",
    "                        vmin=0, vmax=1, color_map=\"Blues\", \n",
    "                        title=r\"correlation $\\phi_K$\", \n",
    "                        fontsize_factor=1.5, \n",
    "                        figsize=(7, 6))"
   ]
  },
  {
   "cell_type": "markdown",
   "metadata": {},
   "source": [
    "*Матрица корреляций показала, что признаки количество и длительность звонков коррелируют на 97-99%. Наблюдается мультиколлинеарность между признакми. Поэтому также проверим на обученных моделях вклад признаков в качество модели.*"
   ]
  },
  {
   "cell_type": "markdown",
   "metadata": {},
   "source": [
    "**Вывод: для классификации тарифов у нас есть 4 признака, пара которых сильно коррелирует. У каждого признака есть пик в нуле, что может сказаться на обучении модели. Чтобы учесть это мы будем строить модель на двух сетах, с отфильтрованными данными и нет. В первом случае это значительно уменьшит количество данных, но избавит нас от выброса в нуле.**"
   ]
  },
  {
   "cell_type": "markdown",
   "metadata": {},
   "source": [
    "## Подготовка выборок"
   ]
  },
  {
   "cell_type": "markdown",
   "metadata": {},
   "source": [
    "*Разобьем данные на тренировочную, валидационную и проверочную выброки. Так как данных мало будем, делить их соответственно на 70%, 15%, 15%*"
   ]
  },
  {
   "cell_type": "code",
   "execution_count": 88,
   "metadata": {},
   "outputs": [],
   "source": [
    "df_full = df.dropna()"
   ]
  },
  {
   "cell_type": "code",
   "execution_count": 89,
   "metadata": {},
   "outputs": [],
   "source": [
    "df.drop('calls',axis=1, inplace=True)"
   ]
  },
  {
   "cell_type": "code",
   "execution_count": 90,
   "metadata": {},
   "outputs": [
    {
     "data": {
      "text/html": [
       "<div>\n",
       "<style scoped>\n",
       "    .dataframe tbody tr th:only-of-type {\n",
       "        vertical-align: middle;\n",
       "    }\n",
       "\n",
       "    .dataframe tbody tr th {\n",
       "        vertical-align: top;\n",
       "    }\n",
       "\n",
       "    .dataframe thead th {\n",
       "        text-align: right;\n",
       "    }\n",
       "</style>\n",
       "<table border=\"1\" class=\"dataframe\">\n",
       "  <thead>\n",
       "    <tr style=\"text-align: right;\">\n",
       "      <th></th>\n",
       "      <th>minutes</th>\n",
       "      <th>messages</th>\n",
       "      <th>mb_used</th>\n",
       "      <th>is_ultra</th>\n",
       "    </tr>\n",
       "  </thead>\n",
       "  <tbody>\n",
       "    <tr>\n",
       "      <th>0</th>\n",
       "      <td>311.90</td>\n",
       "      <td>83.0</td>\n",
       "      <td>19915.42</td>\n",
       "      <td>0</td>\n",
       "    </tr>\n",
       "    <tr>\n",
       "      <th>1</th>\n",
       "      <td>516.75</td>\n",
       "      <td>56.0</td>\n",
       "      <td>22696.96</td>\n",
       "      <td>0</td>\n",
       "    </tr>\n",
       "    <tr>\n",
       "      <th>2</th>\n",
       "      <td>467.66</td>\n",
       "      <td>86.0</td>\n",
       "      <td>21060.45</td>\n",
       "      <td>0</td>\n",
       "    </tr>\n",
       "    <tr>\n",
       "      <th>3</th>\n",
       "      <td>745.53</td>\n",
       "      <td>81.0</td>\n",
       "      <td>8437.39</td>\n",
       "      <td>1</td>\n",
       "    </tr>\n",
       "    <tr>\n",
       "      <th>4</th>\n",
       "      <td>418.74</td>\n",
       "      <td>1.0</td>\n",
       "      <td>14502.75</td>\n",
       "      <td>0</td>\n",
       "    </tr>\n",
       "  </tbody>\n",
       "</table>\n",
       "</div>"
      ],
      "text/plain": [
       "   minutes  messages   mb_used  is_ultra\n",
       "0   311.90      83.0  19915.42         0\n",
       "1   516.75      56.0  22696.96         0\n",
       "2   467.66      86.0  21060.45         0\n",
       "3   745.53      81.0   8437.39         1\n",
       "4   418.74       1.0  14502.75         0"
      ]
     },
     "execution_count": 90,
     "metadata": {},
     "output_type": "execute_result"
    }
   ],
   "source": [
    "df.head()"
   ]
  },
  {
   "cell_type": "code",
   "execution_count": 91,
   "metadata": {},
   "outputs": [],
   "source": [
    "feature = df.drop('is_ultra', axis=1)\n",
    "target = df['is_ultra']"
   ]
  },
  {
   "cell_type": "markdown",
   "metadata": {},
   "source": [
    "*Отфильтруем нули*"
   ]
  },
  {
   "cell_type": "code",
   "execution_count": 92,
   "metadata": {},
   "outputs": [],
   "source": [
    "df_filter = df\n",
    "for column in df_filter.columns[:-1]:   \n",
    "    df_filter[column] = df[df[column] > 0][column]"
   ]
  },
  {
   "cell_type": "code",
   "execution_count": 93,
   "metadata": {},
   "outputs": [],
   "source": [
    "df_filter = df_filter.dropna()"
   ]
  },
  {
   "cell_type": "code",
   "execution_count": 94,
   "metadata": {},
   "outputs": [
    {
     "data": {
      "text/html": [
       "<div>\n",
       "<style scoped>\n",
       "    .dataframe tbody tr th:only-of-type {\n",
       "        vertical-align: middle;\n",
       "    }\n",
       "\n",
       "    .dataframe tbody tr th {\n",
       "        vertical-align: top;\n",
       "    }\n",
       "\n",
       "    .dataframe thead th {\n",
       "        text-align: right;\n",
       "    }\n",
       "</style>\n",
       "<table border=\"1\" class=\"dataframe\">\n",
       "  <thead>\n",
       "    <tr style=\"text-align: right;\">\n",
       "      <th></th>\n",
       "      <th>minutes</th>\n",
       "      <th>messages</th>\n",
       "      <th>mb_used</th>\n",
       "      <th>is_ultra</th>\n",
       "    </tr>\n",
       "  </thead>\n",
       "  <tbody>\n",
       "    <tr>\n",
       "      <th>0</th>\n",
       "      <td>311.90</td>\n",
       "      <td>83.0</td>\n",
       "      <td>19915.42</td>\n",
       "      <td>0</td>\n",
       "    </tr>\n",
       "    <tr>\n",
       "      <th>1</th>\n",
       "      <td>516.75</td>\n",
       "      <td>56.0</td>\n",
       "      <td>22696.96</td>\n",
       "      <td>0</td>\n",
       "    </tr>\n",
       "    <tr>\n",
       "      <th>2</th>\n",
       "      <td>467.66</td>\n",
       "      <td>86.0</td>\n",
       "      <td>21060.45</td>\n",
       "      <td>0</td>\n",
       "    </tr>\n",
       "    <tr>\n",
       "      <th>3</th>\n",
       "      <td>745.53</td>\n",
       "      <td>81.0</td>\n",
       "      <td>8437.39</td>\n",
       "      <td>1</td>\n",
       "    </tr>\n",
       "    <tr>\n",
       "      <th>4</th>\n",
       "      <td>418.74</td>\n",
       "      <td>1.0</td>\n",
       "      <td>14502.75</td>\n",
       "      <td>0</td>\n",
       "    </tr>\n",
       "  </tbody>\n",
       "</table>\n",
       "</div>"
      ],
      "text/plain": [
       "   minutes  messages   mb_used  is_ultra\n",
       "0   311.90      83.0  19915.42         0\n",
       "1   516.75      56.0  22696.96         0\n",
       "2   467.66      86.0  21060.45         0\n",
       "3   745.53      81.0   8437.39         1\n",
       "4   418.74       1.0  14502.75         0"
      ]
     },
     "execution_count": 94,
     "metadata": {},
     "output_type": "execute_result"
    }
   ],
   "source": [
    "df_filter.head()"
   ]
  },
  {
   "cell_type": "code",
   "execution_count": 95,
   "metadata": {},
   "outputs": [],
   "source": [
    "feature_f = df_filter.drop('is_ultra', axis=1)\n",
    "target_f = df_filter['is_ultra']"
   ]
  },
  {
   "cell_type": "code",
   "execution_count": 96,
   "metadata": {},
   "outputs": [],
   "source": [
    "feature_train, feature_val, target_train, target_val = train_test_split(feature, target, \n",
    "                                                    train_size=0.7, \n",
    "                                                    random_state=123,\n",
    "                                                    stratify=target)\n",
    "# feature_f, target_f = ff, tf\n",
    "ff_train, ff_val, tf_train, tf_val = train_test_split(feature_f, target_f, \n",
    "                                                    train_size=0.7, \n",
    "                                                    random_state=123,\n",
    "                                                    stratify=target_f)"
   ]
  },
  {
   "cell_type": "code",
   "execution_count": 97,
   "metadata": {},
   "outputs": [],
   "source": [
    "feature_test, feature_val, target_test, target_val = train_test_split(feature_val, target_val, \n",
    "                                                    train_size=0.5, \n",
    "                                                    random_state=123,\n",
    "                                                    stratify=target_val)\n",
    "ff_test, ff_val, tf_test, tf_val = train_test_split(ff_val, tf_val, \n",
    "                                                    train_size=0.5, \n",
    "                                                    random_state=123,\n",
    "                                                    stratify=tf_val)"
   ]
  },
  {
   "cell_type": "code",
   "execution_count": 98,
   "metadata": {},
   "outputs": [
    {
     "data": {
      "text/plain": [
       "(1866, 3)"
      ]
     },
     "execution_count": 98,
     "metadata": {},
     "output_type": "execute_result"
    }
   ],
   "source": [
    "ff_train.shape"
   ]
  },
  {
   "cell_type": "code",
   "execution_count": 99,
   "metadata": {},
   "outputs": [
    {
     "data": {
      "text/plain": [
       "(400, 3)"
      ]
     },
     "execution_count": 99,
     "metadata": {},
     "output_type": "execute_result"
    }
   ],
   "source": [
    "ff_test.shape"
   ]
  },
  {
   "cell_type": "code",
   "execution_count": 100,
   "metadata": {},
   "outputs": [
    {
     "data": {
      "text/plain": [
       "(401, 3)"
      ]
     },
     "execution_count": 100,
     "metadata": {},
     "output_type": "execute_result"
    }
   ],
   "source": [
    "ff_val.shape"
   ]
  },
  {
   "cell_type": "markdown",
   "metadata": {},
   "source": [
    "*Проверим с помощью модели случайного леса вклад от признаков*"
   ]
  },
  {
   "cell_type": "code",
   "execution_count": 108,
   "metadata": {},
   "outputs": [
    {
     "data": {
      "image/png": "[encoded data removed]",
      "text/plain": [
       "<Figure size 400x300 with 1 Axes>"
      ]
     },
     "metadata": {},
     "output_type": "display_data"
    }
   ],
   "source": [
    "feature_full = df_full.drop('is_ultra', axis=1)\n",
    "target_full = df_full['is_ultra']\n",
    "full_train, full_val, targe_train_f, target_val_f = train_test_split(feature_full, target_full, \n",
    "                                                    train_size=0.7, \n",
    "                                                    random_state=123,\n",
    "                                                    stratify=target)\n",
    "clf = RandomForestClassifier()\n",
    "clf.fit(full_train,targe_train_f)\n",
    "# create a figure to plot a bar, where x axis is features, and Y indicating the importance of each feature\n",
    "plt.figure(figsize=(4,3))\n",
    "plt.bar(full_train.columns, clf.feature_importances_)\n",
    "plt.xticks(rotation=45)\n",
    "plt.show()"
   ]
  },
  {
   "cell_type": "markdown",
   "metadata": {},
   "source": [
    "*Количество звонков и сообщения вносят одинаковый вклад в модель. Однако, прогонка разных комбинаций показало, что оставление количества звонков ухудшала все модели. Поэтому количество звонков было убрано. Это объясняется тем, что минуты и количество звонков сильно коррелируют. Клиенты покупают именно минуты и расчитывают количество звонков, исходя из этой величины, а не наоборот. Поэтому минуты первичны - если их мало, звонят реже.*"
   ]
  },
  {
   "cell_type": "markdown",
   "metadata": {},
   "source": [
    "**Вывод: мы подготовили датасеты для обучения наших моделей, для обучения будем использовать 1866 строк с 3 признаками, для валидации и теста по 400 и 401**"
   ]
  },
  {
   "cell_type": "markdown",
   "metadata": {},
   "source": [
    "## Обучение моделей"
   ]
  },
  {
   "cell_type": "markdown",
   "metadata": {},
   "source": [
    "*В  работе мы проверим 4 модели, варьируя их параметры*\n",
    "- LogisticRegression\n",
    "- DecisionTreeClassifier\n",
    "- RandomForestClassifier\n",
    "- GaussianNB\n",
    "\n",
    "*Начнем с логистической регрссиии*"
   ]
  },
  {
   "cell_type": "code",
   "execution_count": 115,
   "metadata": {},
   "outputs": [],
   "source": [
    "model = LogisticRegression(random_state=123)\n",
    "model.fit(feature_train,target_train)\n",
    "predictions_valid = model.predict(feature_val)"
   ]
  },
  {
   "cell_type": "code",
   "execution_count": 116,
   "metadata": {},
   "outputs": [
    {
     "data": {
      "text/plain": [
       "0.76"
      ]
     },
     "execution_count": 116,
     "metadata": {},
     "output_type": "execute_result"
    }
   ],
   "source": [
    "round(accuracy_score(target_val, predictions_valid),2)"
   ]
  },
  {
   "cell_type": "code",
   "execution_count": 117,
   "metadata": {},
   "outputs": [
    {
     "data": {
      "text/plain": [
       "0.78"
      ]
     },
     "execution_count": 117,
     "metadata": {},
     "output_type": "execute_result"
    }
   ],
   "source": [
    "model.fit(ff_train,tf_train)\n",
    "predictions_valid = model.predict(ff_val)\n",
    "accuracy = accuracy_score(tf_val, predictions_valid)\n",
    "round(accuracy,2)"
   ]
  },
  {
   "cell_type": "markdown",
   "metadata": {},
   "source": [
    "*Доля правильных ответов нам мало поможет в нахождении лучшей модели, так как наши классы несоразмерны. Поэтом мы будем также считать точность и полноту. Возьмем в случае полноты бету равную 1. Так как непонятно какой штраф назначить, в случае если мы пропустим тариф Ультра. Если бы мы знали стоимость тарифов, мы могли бы оценить потерю выгоды и из этих соображений задать бету.*"
   ]
  },
  {
   "cell_type": "code",
   "execution_count": 118,
   "metadata": {
    "scrolled": true
   },
   "outputs": [
    {
     "name": "stdout",
     "output_type": "stream",
     "text": [
      "              precision    recall  f1-score   support\n",
      "\n",
      "       Smart       0.78      0.97      0.86       288\n",
      "       Ultra       0.77      0.29      0.42       113\n",
      "\n",
      "    accuracy                           0.78       401\n",
      "   macro avg       0.77      0.63      0.64       401\n",
      "weighted avg       0.77      0.78      0.74       401\n",
      "\n"
     ]
    }
   ],
   "source": [
    "report = classification_report(tf_val, predictions_valid, target_names=['Smart', 'Ultra'])\n",
    "print(report)"
   ]
  },
  {
   "cell_type": "markdown",
   "metadata": {},
   "source": [
    "*Посомтрим влияет ли выбор метода расчета на точность*"
   ]
  },
  {
   "cell_type": "code",
   "execution_count": 122,
   "metadata": {},
   "outputs": [],
   "source": [
    "solvers = ['lbfgs', 'liblinear', 'sag', 'saga']\n",
    "data = {'solver':[],'accuracy':[],'precision':[],'recall':[]}\n",
    "for solver in solvers:\n",
    "    model = LogisticRegression(solver=solver, random_state=123,max_iter=100000)\n",
    "    model.fit(ff_train, tf_train)\n",
    "    prediction = model.predict(ff_val)\n",
    "    data['solver'].append(solver)\n",
    "    data['accuracy'].append(accuracy_score(tf_val, prediction))\n",
    "    data['precision'].append(precision_score(tf_val, prediction))\n",
    "    data['recall'].append(recall_score(tf_val, prediction))"
   ]
  },
  {
   "cell_type": "code",
   "execution_count": 123,
   "metadata": {},
   "outputs": [
    {
     "data": {
      "text/html": [
       "<div>\n",
       "<style scoped>\n",
       "    .dataframe tbody tr th:only-of-type {\n",
       "        vertical-align: middle;\n",
       "    }\n",
       "\n",
       "    .dataframe tbody tr th {\n",
       "        vertical-align: top;\n",
       "    }\n",
       "\n",
       "    .dataframe thead th {\n",
       "        text-align: right;\n",
       "    }\n",
       "</style>\n",
       "<table border=\"1\" class=\"dataframe\">\n",
       "  <thead>\n",
       "    <tr style=\"text-align: right;\">\n",
       "      <th></th>\n",
       "      <th>solver</th>\n",
       "      <th>accuracy</th>\n",
       "      <th>precision</th>\n",
       "      <th>recall</th>\n",
       "    </tr>\n",
       "  </thead>\n",
       "  <tbody>\n",
       "    <tr>\n",
       "      <th>0</th>\n",
       "      <td>lbfgs</td>\n",
       "      <td>0.775561</td>\n",
       "      <td>0.767442</td>\n",
       "      <td>0.292035</td>\n",
       "    </tr>\n",
       "    <tr>\n",
       "      <th>1</th>\n",
       "      <td>liblinear</td>\n",
       "      <td>0.740648</td>\n",
       "      <td>0.621622</td>\n",
       "      <td>0.203540</td>\n",
       "    </tr>\n",
       "    <tr>\n",
       "      <th>2</th>\n",
       "      <td>sag</td>\n",
       "      <td>0.745636</td>\n",
       "      <td>0.677419</td>\n",
       "      <td>0.185841</td>\n",
       "    </tr>\n",
       "    <tr>\n",
       "      <th>3</th>\n",
       "      <td>saga</td>\n",
       "      <td>0.740648</td>\n",
       "      <td>0.655172</td>\n",
       "      <td>0.168142</td>\n",
       "    </tr>\n",
       "  </tbody>\n",
       "</table>\n",
       "</div>"
      ],
      "text/plain": [
       "      solver  accuracy  precision    recall\n",
       "0      lbfgs  0.775561   0.767442  0.292035\n",
       "1  liblinear  0.740648   0.621622  0.203540\n",
       "2        sag  0.745636   0.677419  0.185841\n",
       "3       saga  0.740648   0.655172  0.168142"
      ]
     },
     "execution_count": 123,
     "metadata": {},
     "output_type": "execute_result"
    }
   ],
   "source": [
    "pd.DataFrame(data)"
   ]
  },
  {
   "cell_type": "markdown",
   "metadata": {},
   "source": [
    "*Метод расчета логистической регрессии влияет на точность. Установленный по умолчанию lbfgs работает значительно лучше - на 3%*\n",
    "\n",
    "*Приступим к модели дерева решений*"
   ]
  },
  {
   "cell_type": "code",
   "execution_count": 124,
   "metadata": {},
   "outputs": [],
   "source": [
    "data = {'max_features':[],'max_depth':[],'accuracy':[],'precision':[],'recall':[]}\n",
    "for i in ['auto', 'sqrt', 'log2']:\n",
    "    for depth in range(1, 20, 2):\n",
    "        model = DecisionTreeClassifier(random_state=123, max_depth=depth, max_features=i)\n",
    "        model.fit(ff_train, tf_train)\n",
    "        prediction = model.predict(ff_val)\n",
    "        data['max_features'].append(i)\n",
    "        data['max_depth'].append(depth)\n",
    "        data['accuracy'].append(accuracy_score(tf_val, prediction))\n",
    "        data['precision'].append(precision_score(tf_val, prediction))\n",
    "        data['recall'].append(recall_score(tf_val, prediction))"
   ]
  },
  {
   "cell_type": "code",
   "execution_count": 128,
   "metadata": {
    "scrolled": true
   },
   "outputs": [
    {
     "data": {
      "text/html": [
       "<div>\n",
       "<style scoped>\n",
       "    .dataframe tbody tr th:only-of-type {\n",
       "        vertical-align: middle;\n",
       "    }\n",
       "\n",
       "    .dataframe tbody tr th {\n",
       "        vertical-align: top;\n",
       "    }\n",
       "\n",
       "    .dataframe thead th {\n",
       "        text-align: right;\n",
       "    }\n",
       "</style>\n",
       "<table border=\"1\" class=\"dataframe\">\n",
       "  <thead>\n",
       "    <tr style=\"text-align: right;\">\n",
       "      <th></th>\n",
       "      <th>max_features</th>\n",
       "      <th>max_depth</th>\n",
       "      <th>accuracy</th>\n",
       "      <th>precision</th>\n",
       "      <th>recall</th>\n",
       "    </tr>\n",
       "  </thead>\n",
       "  <tbody>\n",
       "    <tr>\n",
       "      <th>0</th>\n",
       "      <td>auto</td>\n",
       "      <td>1</td>\n",
       "      <td>0.753117</td>\n",
       "      <td>0.666667</td>\n",
       "      <td>0.247788</td>\n",
       "    </tr>\n",
       "    <tr>\n",
       "      <th>1</th>\n",
       "      <td>auto</td>\n",
       "      <td>3</td>\n",
       "      <td>0.783042</td>\n",
       "      <td>0.724138</td>\n",
       "      <td>0.371681</td>\n",
       "    </tr>\n",
       "    <tr>\n",
       "      <th>2</th>\n",
       "      <td>auto</td>\n",
       "      <td>5</td>\n",
       "      <td>0.770574</td>\n",
       "      <td>0.640000</td>\n",
       "      <td>0.424779</td>\n",
       "    </tr>\n",
       "    <tr>\n",
       "      <th>3</th>\n",
       "      <td>auto</td>\n",
       "      <td>7</td>\n",
       "      <td>0.795511</td>\n",
       "      <td>0.712329</td>\n",
       "      <td>0.460177</td>\n",
       "    </tr>\n",
       "    <tr>\n",
       "      <th>4</th>\n",
       "      <td>auto</td>\n",
       "      <td>9</td>\n",
       "      <td>0.783042</td>\n",
       "      <td>0.696970</td>\n",
       "      <td>0.407080</td>\n",
       "    </tr>\n",
       "    <tr>\n",
       "      <th>5</th>\n",
       "      <td>auto</td>\n",
       "      <td>11</td>\n",
       "      <td>0.798005</td>\n",
       "      <td>0.735294</td>\n",
       "      <td>0.442478</td>\n",
       "    </tr>\n",
       "    <tr>\n",
       "      <th>6</th>\n",
       "      <td>auto</td>\n",
       "      <td>13</td>\n",
       "      <td>0.793017</td>\n",
       "      <td>0.692308</td>\n",
       "      <td>0.477876</td>\n",
       "    </tr>\n",
       "    <tr>\n",
       "      <th>7</th>\n",
       "      <td>auto</td>\n",
       "      <td>15</td>\n",
       "      <td>0.768080</td>\n",
       "      <td>0.606383</td>\n",
       "      <td>0.504425</td>\n",
       "    </tr>\n",
       "    <tr>\n",
       "      <th>8</th>\n",
       "      <td>auto</td>\n",
       "      <td>17</td>\n",
       "      <td>0.730673</td>\n",
       "      <td>0.523364</td>\n",
       "      <td>0.495575</td>\n",
       "    </tr>\n",
       "    <tr>\n",
       "      <th>9</th>\n",
       "      <td>auto</td>\n",
       "      <td>19</td>\n",
       "      <td>0.740648</td>\n",
       "      <td>0.545455</td>\n",
       "      <td>0.477876</td>\n",
       "    </tr>\n",
       "  </tbody>\n",
       "</table>\n",
       "</div>"
      ],
      "text/plain": [
       "  max_features  max_depth  accuracy  precision    recall\n",
       "0         auto          1  0.753117   0.666667  0.247788\n",
       "1         auto          3  0.783042   0.724138  0.371681\n",
       "2         auto          5  0.770574   0.640000  0.424779\n",
       "3         auto          7  0.795511   0.712329  0.460177\n",
       "4         auto          9  0.783042   0.696970  0.407080\n",
       "5         auto         11  0.798005   0.735294  0.442478\n",
       "6         auto         13  0.793017   0.692308  0.477876\n",
       "7         auto         15  0.768080   0.606383  0.504425\n",
       "8         auto         17  0.730673   0.523364  0.495575\n",
       "9         auto         19  0.740648   0.545455  0.477876"
      ]
     },
     "execution_count": 128,
     "metadata": {},
     "output_type": "execute_result"
    }
   ],
   "source": [
    "pd.DataFrame(data).head(10)"
   ]
  },
  {
   "cell_type": "markdown",
   "metadata": {},
   "source": [
    "*Исходя из сочетания парметров наибольшая полнота с высокой точностью наблюдается около глубины дерева раной 7 и 15. Теперь будем варьировать минимальное количество веток в узле для гулбины от 1 до 8 (так как шаг был равен двум поэтому макисмум у нас с ошибкой +-1), так как данных мало и дерево в районе 15 скорее приведет к переобучению, чем к улучшению. А также посмотрим как выбор разделения повлияет на качество модели. Метод random показал себя лучше остальных.*"
   ]
  },
  {
   "cell_type": "markdown",
   "metadata": {},
   "source": [
    "*И так же проверим улучшает ли столбец с смс нашу модель.*"
   ]
  },
  {
   "cell_type": "code",
   "execution_count": 129,
   "metadata": {},
   "outputs": [],
   "source": [
    "data = {'splitter':[],'min_samples_split':[],'max_depth':[],'accuracy':[],'precision':[],'recall':[],'f1_score':[]}\n",
    "for splitter in ['best', 'random']:\n",
    "    for min_samples_split in range(2,5):\n",
    "        for depth in range(2,11):\n",
    "            model = DecisionTreeClassifier(random_state=123, max_depth=depth, splitter=splitter,min_samples_split=min_samples_split)\n",
    "            model.fit(ff_train.drop('messages',axis=1), tf_train)\n",
    "            prediction = model.predict(ff_val.drop('messages',axis=1))\n",
    "            data['splitter'].append(splitter)\n",
    "            data['min_samples_split'].append(min_samples_split)\n",
    "            data['max_depth'].append(depth)\n",
    "            data['accuracy'].append(accuracy_score(tf_val, prediction))\n",
    "            data['precision'].append(precision_score(tf_val, prediction))\n",
    "            data['recall'].append(recall_score(tf_val, prediction))\n",
    "            data['f1_score'].append(f1_score(tf_val, prediction))"
   ]
  },
  {
   "cell_type": "code",
   "execution_count": 130,
   "metadata": {},
   "outputs": [],
   "source": [
    "data_tree = pd.DataFrame(data)"
   ]
  },
  {
   "cell_type": "code",
   "execution_count": 131,
   "metadata": {},
   "outputs": [
    {
     "data": {
      "text/html": [
       "<div>\n",
       "<style scoped>\n",
       "    .dataframe tbody tr th:only-of-type {\n",
       "        vertical-align: middle;\n",
       "    }\n",
       "\n",
       "    .dataframe tbody tr th {\n",
       "        vertical-align: top;\n",
       "    }\n",
       "\n",
       "    .dataframe thead th {\n",
       "        text-align: right;\n",
       "    }\n",
       "</style>\n",
       "<table border=\"1\" class=\"dataframe\">\n",
       "  <thead>\n",
       "    <tr style=\"text-align: right;\">\n",
       "      <th></th>\n",
       "      <th>splitter</th>\n",
       "      <th>min_samples_split</th>\n",
       "      <th>max_depth</th>\n",
       "      <th>accuracy</th>\n",
       "      <th>precision</th>\n",
       "      <th>recall</th>\n",
       "      <th>f1_score</th>\n",
       "    </tr>\n",
       "  </thead>\n",
       "  <tbody>\n",
       "    <tr>\n",
       "      <th>32</th>\n",
       "      <td>random</td>\n",
       "      <td>2</td>\n",
       "      <td>7</td>\n",
       "      <td>0.788030</td>\n",
       "      <td>0.705882</td>\n",
       "      <td>0.424779</td>\n",
       "      <td>0.530387</td>\n",
       "    </tr>\n",
       "    <tr>\n",
       "      <th>52</th>\n",
       "      <td>random</td>\n",
       "      <td>4</td>\n",
       "      <td>9</td>\n",
       "      <td>0.793017</td>\n",
       "      <td>0.734375</td>\n",
       "      <td>0.415929</td>\n",
       "      <td>0.531073</td>\n",
       "    </tr>\n",
       "  </tbody>\n",
       "</table>\n",
       "</div>"
      ],
      "text/plain": [
       "   splitter  min_samples_split  max_depth  accuracy  precision    recall  \\\n",
       "32   random                  2          7  0.788030   0.705882  0.424779   \n",
       "52   random                  4          9  0.793017   0.734375  0.415929   \n",
       "\n",
       "    f1_score  \n",
       "32  0.530387  \n",
       "52  0.531073  "
      ]
     },
     "execution_count": 131,
     "metadata": {},
     "output_type": "execute_result"
    }
   ],
   "source": [
    "data_tree[data_tree['f1_score'] > 0.53]"
   ]
  },
  {
   "cell_type": "code",
   "execution_count": 132,
   "metadata": {},
   "outputs": [],
   "source": [
    "data = {'splitter':[],'min_samples_split':[],'max_depth':[],'accuracy':[],'precision':[],'recall':[],'f1_score':[]}\n",
    "for splitter in ['best', 'random']:\n",
    "    for min_samples_split in range(2,5):\n",
    "        for depth in range(2,11):\n",
    "            model = DecisionTreeClassifier(random_state=123, max_depth=depth, splitter=splitter,min_samples_split=min_samples_split)\n",
    "            model.fit(ff_train, tf_train)\n",
    "            prediction = model.predict(ff_val)\n",
    "            data['splitter'].append(splitter)\n",
    "            data['min_samples_split'].append(min_samples_split)\n",
    "            data['max_depth'].append(depth)\n",
    "            data['accuracy'].append(accuracy_score(tf_val, prediction))\n",
    "            data['precision'].append(precision_score(tf_val, prediction))\n",
    "            data['recall'].append(recall_score(tf_val, prediction))\n",
    "            data['f1_score'].append(f1_score(tf_val, prediction))"
   ]
  },
  {
   "cell_type": "code",
   "execution_count": 133,
   "metadata": {},
   "outputs": [],
   "source": [
    "data_tree = pd.DataFrame(data)"
   ]
  },
  {
   "cell_type": "code",
   "execution_count": 134,
   "metadata": {
    "scrolled": true
   },
   "outputs": [
    {
     "data": {
      "text/html": [
       "<div>\n",
       "<style scoped>\n",
       "    .dataframe tbody tr th:only-of-type {\n",
       "        vertical-align: middle;\n",
       "    }\n",
       "\n",
       "    .dataframe tbody tr th {\n",
       "        vertical-align: top;\n",
       "    }\n",
       "\n",
       "    .dataframe thead th {\n",
       "        text-align: right;\n",
       "    }\n",
       "</style>\n",
       "<table border=\"1\" class=\"dataframe\">\n",
       "  <thead>\n",
       "    <tr style=\"text-align: right;\">\n",
       "      <th></th>\n",
       "      <th>splitter</th>\n",
       "      <th>min_samples_split</th>\n",
       "      <th>max_depth</th>\n",
       "      <th>accuracy</th>\n",
       "      <th>precision</th>\n",
       "      <th>recall</th>\n",
       "      <th>f1_score</th>\n",
       "    </tr>\n",
       "  </thead>\n",
       "  <tbody>\n",
       "    <tr>\n",
       "      <th>31</th>\n",
       "      <td>random</td>\n",
       "      <td>2</td>\n",
       "      <td>6</td>\n",
       "      <td>0.800499</td>\n",
       "      <td>0.708861</td>\n",
       "      <td>0.495575</td>\n",
       "      <td>0.583333</td>\n",
       "    </tr>\n",
       "    <tr>\n",
       "      <th>32</th>\n",
       "      <td>random</td>\n",
       "      <td>2</td>\n",
       "      <td>7</td>\n",
       "      <td>0.817955</td>\n",
       "      <td>0.777778</td>\n",
       "      <td>0.495575</td>\n",
       "      <td>0.605405</td>\n",
       "    </tr>\n",
       "    <tr>\n",
       "      <th>35</th>\n",
       "      <td>random</td>\n",
       "      <td>2</td>\n",
       "      <td>10</td>\n",
       "      <td>0.822943</td>\n",
       "      <td>0.800000</td>\n",
       "      <td>0.495575</td>\n",
       "      <td>0.612022</td>\n",
       "    </tr>\n",
       "    <tr>\n",
       "      <th>40</th>\n",
       "      <td>random</td>\n",
       "      <td>3</td>\n",
       "      <td>6</td>\n",
       "      <td>0.800499</td>\n",
       "      <td>0.708861</td>\n",
       "      <td>0.495575</td>\n",
       "      <td>0.583333</td>\n",
       "    </tr>\n",
       "    <tr>\n",
       "      <th>41</th>\n",
       "      <td>random</td>\n",
       "      <td>3</td>\n",
       "      <td>7</td>\n",
       "      <td>0.822943</td>\n",
       "      <td>0.776316</td>\n",
       "      <td>0.522124</td>\n",
       "      <td>0.624339</td>\n",
       "    </tr>\n",
       "    <tr>\n",
       "      <th>50</th>\n",
       "      <td>random</td>\n",
       "      <td>4</td>\n",
       "      <td>7</td>\n",
       "      <td>0.810474</td>\n",
       "      <td>0.760563</td>\n",
       "      <td>0.477876</td>\n",
       "      <td>0.586957</td>\n",
       "    </tr>\n",
       "  </tbody>\n",
       "</table>\n",
       "</div>"
      ],
      "text/plain": [
       "   splitter  min_samples_split  max_depth  accuracy  precision    recall  \\\n",
       "31   random                  2          6  0.800499   0.708861  0.495575   \n",
       "32   random                  2          7  0.817955   0.777778  0.495575   \n",
       "35   random                  2         10  0.822943   0.800000  0.495575   \n",
       "40   random                  3          6  0.800499   0.708861  0.495575   \n",
       "41   random                  3          7  0.822943   0.776316  0.522124   \n",
       "50   random                  4          7  0.810474   0.760563  0.477876   \n",
       "\n",
       "    f1_score  \n",
       "31  0.583333  \n",
       "32  0.605405  \n",
       "35  0.612022  \n",
       "40  0.583333  \n",
       "41  0.624339  \n",
       "50  0.586957  "
      ]
     },
     "execution_count": 134,
     "metadata": {},
     "output_type": "execute_result"
    }
   ],
   "source": [
    "data_tree[data_tree['f1_score'] > 0.58]"
   ]
  },
  {
   "cell_type": "markdown",
   "metadata": {},
   "source": [
    "*Лучшее сочетание полноты и доли правильных ответов у модели 41. Также будем держать модель 32 в фокусе из-за минимального разделения в узле = 2 при той же глубине. Доля верных ответов у моделей 82,3% и 81,8%. Признак количества смс улучшает модель, но не вносит основной вклад (смс-сообщения мертвы и нет им спасения)*"
   ]
  },
  {
   "cell_type": "markdown",
   "metadata": {},
   "source": [
    "*Перейдем к модели случайного леса. Максимальную глубину выберем равной 10, так как дерево решений показало, что при глубине выше 7 показатели колеблются на том же уровне (но оставим зазор в 3 единицы на всякий случай). Количество деревьеd будем изменять до 30*"
   ]
  },
  {
   "cell_type": "code",
   "execution_count": 135,
   "metadata": {},
   "outputs": [],
   "source": [
    "data = {'n_estimators':[],'max_depth':[],'accuracy':[],'precision':[],'recall':[],'f1_score':[]}\n",
    "\n",
    "for n in range(2,30,2):\n",
    "    for depth in range(1, 10):\n",
    "        model = RandomForestClassifier(n_estimators=n, max_depth=depth, random_state=123)\n",
    "        model.fit(ff_train, tf_train)\n",
    "        prediction = model.predict(ff_val)\n",
    "        data['n_estimators'].append(n)\n",
    "        data['max_depth'].append(depth)\n",
    "        data['accuracy'].append(accuracy_score(tf_val, prediction))\n",
    "        data['precision'].append(precision_score(tf_val, prediction))\n",
    "        data['recall'].append(recall_score(tf_val, prediction))\n",
    "        data['f1_score'].append(f1_score(tf_val, prediction))"
   ]
  },
  {
   "cell_type": "code",
   "execution_count": 136,
   "metadata": {},
   "outputs": [],
   "source": [
    "data_random = pd.DataFrame(data)"
   ]
  },
  {
   "cell_type": "code",
   "execution_count": 137,
   "metadata": {
    "scrolled": true
   },
   "outputs": [
    {
     "data": {
      "text/html": [
       "<div>\n",
       "<style scoped>\n",
       "    .dataframe tbody tr th:only-of-type {\n",
       "        vertical-align: middle;\n",
       "    }\n",
       "\n",
       "    .dataframe tbody tr th {\n",
       "        vertical-align: top;\n",
       "    }\n",
       "\n",
       "    .dataframe thead th {\n",
       "        text-align: right;\n",
       "    }\n",
       "</style>\n",
       "<table border=\"1\" class=\"dataframe\">\n",
       "  <thead>\n",
       "    <tr style=\"text-align: right;\">\n",
       "      <th></th>\n",
       "      <th>n_estimators</th>\n",
       "      <th>max_depth</th>\n",
       "      <th>accuracy</th>\n",
       "      <th>precision</th>\n",
       "      <th>recall</th>\n",
       "      <th>f1_score</th>\n",
       "    </tr>\n",
       "  </thead>\n",
       "  <tbody>\n",
       "    <tr>\n",
       "      <th>43</th>\n",
       "      <td>10</td>\n",
       "      <td>8</td>\n",
       "      <td>0.830424</td>\n",
       "      <td>0.784810</td>\n",
       "      <td>0.548673</td>\n",
       "      <td>0.645833</td>\n",
       "    </tr>\n",
       "    <tr>\n",
       "      <th>79</th>\n",
       "      <td>18</td>\n",
       "      <td>8</td>\n",
       "      <td>0.830424</td>\n",
       "      <td>0.792208</td>\n",
       "      <td>0.539823</td>\n",
       "      <td>0.642105</td>\n",
       "    </tr>\n",
       "    <tr>\n",
       "      <th>88</th>\n",
       "      <td>20</td>\n",
       "      <td>8</td>\n",
       "      <td>0.830424</td>\n",
       "      <td>0.792208</td>\n",
       "      <td>0.539823</td>\n",
       "      <td>0.642105</td>\n",
       "    </tr>\n",
       "    <tr>\n",
       "      <th>106</th>\n",
       "      <td>24</td>\n",
       "      <td>8</td>\n",
       "      <td>0.835411</td>\n",
       "      <td>0.805195</td>\n",
       "      <td>0.548673</td>\n",
       "      <td>0.652632</td>\n",
       "    </tr>\n",
       "    <tr>\n",
       "      <th>115</th>\n",
       "      <td>26</td>\n",
       "      <td>8</td>\n",
       "      <td>0.830424</td>\n",
       "      <td>0.792208</td>\n",
       "      <td>0.539823</td>\n",
       "      <td>0.642105</td>\n",
       "    </tr>\n",
       "  </tbody>\n",
       "</table>\n",
       "</div>"
      ],
      "text/plain": [
       "     n_estimators  max_depth  accuracy  precision    recall  f1_score\n",
       "43             10          8  0.830424   0.784810  0.548673  0.645833\n",
       "79             18          8  0.830424   0.792208  0.539823  0.642105\n",
       "88             20          8  0.830424   0.792208  0.539823  0.642105\n",
       "106            24          8  0.835411   0.805195  0.548673  0.652632\n",
       "115            26          8  0.830424   0.792208  0.539823  0.642105"
      ]
     },
     "execution_count": 137,
     "metadata": {},
     "output_type": "execute_result"
    }
   ],
   "source": [
    "data_random[data_random['f1_score'] > 0.64]"
   ]
  },
  {
   "cell_type": "markdown",
   "metadata": {},
   "source": [
    "*Проверим лес при гораздо большем лесе*"
   ]
  },
  {
   "cell_type": "code",
   "execution_count": 138,
   "metadata": {},
   "outputs": [],
   "source": [
    "data = {'n_estimators':[],'max_depth':[],'accuracy':[],'precision':[],'recall':[],'f1_score':[]}\n",
    "\n",
    "for n in range(2,300,10):\n",
    "    for depth in range(1, 15):\n",
    "        model = RandomForestClassifier(n_estimators=n, max_depth=depth, random_state=123)\n",
    "        model.fit(ff_train, tf_train)\n",
    "        prediction = model.predict(ff_val)\n",
    "        data['n_estimators'].append(n)\n",
    "        data['max_depth'].append(depth)\n",
    "        data['accuracy'].append(accuracy_score(tf_val, prediction))\n",
    "        data['precision'].append(precision_score(tf_val, prediction))\n",
    "        data['recall'].append(recall_score(tf_val, prediction))\n",
    "        data['f1_score'].append(f1_score(tf_val, prediction))\n",
    "data_random = pd.DataFrame(data)"
   ]
  },
  {
   "cell_type": "code",
   "execution_count": 139,
   "metadata": {},
   "outputs": [
    {
     "data": {
      "text/html": [
       "<div>\n",
       "<style scoped>\n",
       "    .dataframe tbody tr th:only-of-type {\n",
       "        vertical-align: middle;\n",
       "    }\n",
       "\n",
       "    .dataframe tbody tr th {\n",
       "        vertical-align: top;\n",
       "    }\n",
       "\n",
       "    .dataframe thead th {\n",
       "        text-align: right;\n",
       "    }\n",
       "</style>\n",
       "<table border=\"1\" class=\"dataframe\">\n",
       "  <thead>\n",
       "    <tr style=\"text-align: right;\">\n",
       "      <th></th>\n",
       "      <th>n_estimators</th>\n",
       "      <th>max_depth</th>\n",
       "      <th>accuracy</th>\n",
       "      <th>precision</th>\n",
       "      <th>recall</th>\n",
       "      <th>f1_score</th>\n",
       "    </tr>\n",
       "  </thead>\n",
       "  <tbody>\n",
       "    <tr>\n",
       "      <th>23</th>\n",
       "      <td>12</td>\n",
       "      <td>10</td>\n",
       "      <td>0.830424</td>\n",
       "      <td>0.792208</td>\n",
       "      <td>0.539823</td>\n",
       "      <td>0.642105</td>\n",
       "    </tr>\n",
       "    <tr>\n",
       "      <th>38</th>\n",
       "      <td>22</td>\n",
       "      <td>11</td>\n",
       "      <td>0.830424</td>\n",
       "      <td>0.777778</td>\n",
       "      <td>0.557522</td>\n",
       "      <td>0.649485</td>\n",
       "    </tr>\n",
       "    <tr>\n",
       "      <th>39</th>\n",
       "      <td>22</td>\n",
       "      <td>12</td>\n",
       "      <td>0.832918</td>\n",
       "      <td>0.794872</td>\n",
       "      <td>0.548673</td>\n",
       "      <td>0.649215</td>\n",
       "    </tr>\n",
       "    <tr>\n",
       "      <th>52</th>\n",
       "      <td>32</td>\n",
       "      <td>11</td>\n",
       "      <td>0.835411</td>\n",
       "      <td>0.805195</td>\n",
       "      <td>0.548673</td>\n",
       "      <td>0.652632</td>\n",
       "    </tr>\n",
       "    <tr>\n",
       "      <th>53</th>\n",
       "      <td>32</td>\n",
       "      <td>12</td>\n",
       "      <td>0.832918</td>\n",
       "      <td>0.810811</td>\n",
       "      <td>0.530973</td>\n",
       "      <td>0.641711</td>\n",
       "    </tr>\n",
       "    <tr>\n",
       "      <th>94</th>\n",
       "      <td>62</td>\n",
       "      <td>11</td>\n",
       "      <td>0.830424</td>\n",
       "      <td>0.792208</td>\n",
       "      <td>0.539823</td>\n",
       "      <td>0.642105</td>\n",
       "    </tr>\n",
       "    <tr>\n",
       "      <th>105</th>\n",
       "      <td>72</td>\n",
       "      <td>8</td>\n",
       "      <td>0.832918</td>\n",
       "      <td>0.787500</td>\n",
       "      <td>0.557522</td>\n",
       "      <td>0.652850</td>\n",
       "    </tr>\n",
       "    <tr>\n",
       "      <th>108</th>\n",
       "      <td>72</td>\n",
       "      <td>11</td>\n",
       "      <td>0.832918</td>\n",
       "      <td>0.802632</td>\n",
       "      <td>0.539823</td>\n",
       "      <td>0.645503</td>\n",
       "    </tr>\n",
       "    <tr>\n",
       "      <th>192</th>\n",
       "      <td>132</td>\n",
       "      <td>11</td>\n",
       "      <td>0.832918</td>\n",
       "      <td>0.810811</td>\n",
       "      <td>0.530973</td>\n",
       "      <td>0.641711</td>\n",
       "    </tr>\n",
       "  </tbody>\n",
       "</table>\n",
       "</div>"
      ],
      "text/plain": [
       "     n_estimators  max_depth  accuracy  precision    recall  f1_score\n",
       "23             12         10  0.830424   0.792208  0.539823  0.642105\n",
       "38             22         11  0.830424   0.777778  0.557522  0.649485\n",
       "39             22         12  0.832918   0.794872  0.548673  0.649215\n",
       "52             32         11  0.835411   0.805195  0.548673  0.652632\n",
       "53             32         12  0.832918   0.810811  0.530973  0.641711\n",
       "94             62         11  0.830424   0.792208  0.539823  0.642105\n",
       "105            72          8  0.832918   0.787500  0.557522  0.652850\n",
       "108            72         11  0.832918   0.802632  0.539823  0.645503\n",
       "192           132         11  0.832918   0.810811  0.530973  0.641711"
      ]
     },
     "execution_count": 139,
     "metadata": {},
     "output_type": "execute_result"
    }
   ],
   "source": [
    "data_random = pd.DataFrame(data)\n",
    "data_random[data_random['f1_score'] > 0.64]"
   ]
  },
  {
   "cell_type": "markdown",
   "metadata": {},
   "source": [
    "*Случайны лес показал незначительное улучшение модели: доля верных ответов поднялась на уровень 83%, полнота до 55.Видна особенность, что глубина деревьев равная 8  показала все лучшие результаты. Оставим ее и количество деревье равное 10 и 24 (чтобы посмотреть переобучение это или нет). Значительное увеличение леса не привело  к улучшению модели (не смотря на то что количество деревье увеличось в 3 раз  с 24 до 72)*\n",
    "\n",
    "*Применим байесовскую модель*"
   ]
  },
  {
   "cell_type": "code",
   "execution_count": 140,
   "metadata": {},
   "outputs": [],
   "source": [
    "data = {'accuracy':[],'precision':[],'recall':[],'f1_score':[]}\n",
    "model = GaussianNB()\n",
    "model.fit(ff_train, tf_train)\n",
    "prediction = model.predict(ff_val)\n",
    "data['accuracy'].append(accuracy_score(tf_val, prediction))\n",
    "data['precision'].append(precision_score(tf_val, prediction))\n",
    "data['recall'].append(recall_score(tf_val, prediction))\n",
    "data['f1_score'].append(f1_score(tf_val, prediction))"
   ]
  },
  {
   "cell_type": "code",
   "execution_count": 141,
   "metadata": {},
   "outputs": [
    {
     "data": {
      "text/html": [
       "<div>\n",
       "<style scoped>\n",
       "    .dataframe tbody tr th:only-of-type {\n",
       "        vertical-align: middle;\n",
       "    }\n",
       "\n",
       "    .dataframe tbody tr th {\n",
       "        vertical-align: top;\n",
       "    }\n",
       "\n",
       "    .dataframe thead th {\n",
       "        text-align: right;\n",
       "    }\n",
       "</style>\n",
       "<table border=\"1\" class=\"dataframe\">\n",
       "  <thead>\n",
       "    <tr style=\"text-align: right;\">\n",
       "      <th></th>\n",
       "      <th>accuracy</th>\n",
       "      <th>precision</th>\n",
       "      <th>recall</th>\n",
       "      <th>f1_score</th>\n",
       "    </tr>\n",
       "  </thead>\n",
       "  <tbody>\n",
       "    <tr>\n",
       "      <th>0</th>\n",
       "      <td>0.778055</td>\n",
       "      <td>0.662162</td>\n",
       "      <td>0.433628</td>\n",
       "      <td>0.524064</td>\n",
       "    </tr>\n",
       "  </tbody>\n",
       "</table>\n",
       "</div>"
      ],
      "text/plain": [
       "   accuracy  precision    recall  f1_score\n",
       "0  0.778055   0.662162  0.433628  0.524064"
      ]
     },
     "execution_count": 141,
     "metadata": {},
     "output_type": "execute_result"
    }
   ],
   "source": [
    "pd.DataFrame(data)"
   ]
  },
  {
   "cell_type": "markdown",
   "metadata": {},
   "source": [
    "*Байес показал хороший результат, но мы добились больших показателей, применив дерево решений и лес. Также были прогнаны другие модели: ближайших соседей, линейный дискриминантный анализ, SVC и еще парочка, однако при стандартных настройках они показали значительно более низкие результаты. Поэтому они были отвергнуты*\n",
    "\n",
    "*В итоге у нас остались два подхода - дерево решений и лес, в каждом из которых есть две модели*"
   ]
  },
  {
   "cell_type": "markdown",
   "metadata": {},
   "source": [
    "## Проверьте модель на тестовой выборке"
   ]
  },
  {
   "cell_type": "markdown",
   "metadata": {},
   "source": [
    "Лучшая модель - случайный лес"
   ]
  },
  {
   "cell_type": "code",
   "execution_count": 146,
   "metadata": {},
   "outputs": [],
   "source": [
    "model = RandomForestClassifier(n_estimators=10, max_depth=8, random_state=123)"
   ]
  },
  {
   "cell_type": "code",
   "execution_count": 147,
   "metadata": {},
   "outputs": [],
   "source": [
    "data = {'model':[],'accuracy':[],'precision':[],'recall':[],'f1_score':[]}\n",
    "model.fit(ff_train, tf_train)\n",
    "prediction = model.predict(ff_test)\n",
    "data['model'].append(f'model_{i}')\n",
    "data['accuracy'].append(accuracy_score(tf_test, prediction))\n",
    "data['precision'].append(precision_score(tf_test, prediction))\n",
    "data['recall'].append(recall_score(tf_test, prediction))\n",
    "data['f1_score'].append(f1_score(tf_test, prediction)) "
   ]
  },
  {
   "cell_type": "code",
   "execution_count": 148,
   "metadata": {
    "scrolled": true
   },
   "outputs": [
    {
     "data": {
      "text/html": [
       "<div>\n",
       "<style scoped>\n",
       "    .dataframe tbody tr th:only-of-type {\n",
       "        vertical-align: middle;\n",
       "    }\n",
       "\n",
       "    .dataframe tbody tr th {\n",
       "        vertical-align: top;\n",
       "    }\n",
       "\n",
       "    .dataframe thead th {\n",
       "        text-align: right;\n",
       "    }\n",
       "</style>\n",
       "<table border=\"1\" class=\"dataframe\">\n",
       "  <thead>\n",
       "    <tr style=\"text-align: right;\">\n",
       "      <th></th>\n",
       "      <th>model</th>\n",
       "      <th>accuracy</th>\n",
       "      <th>precision</th>\n",
       "      <th>recall</th>\n",
       "      <th>f1_score</th>\n",
       "    </tr>\n",
       "  </thead>\n",
       "  <tbody>\n",
       "    <tr>\n",
       "      <th>0</th>\n",
       "      <td>model_3</td>\n",
       "      <td>0.805</td>\n",
       "      <td>0.769231</td>\n",
       "      <td>0.442478</td>\n",
       "      <td>0.561798</td>\n",
       "    </tr>\n",
       "  </tbody>\n",
       "</table>\n",
       "</div>"
      ],
      "text/plain": [
       "     model  accuracy  precision    recall  f1_score\n",
       "0  model_3     0.805   0.769231  0.442478  0.561798"
      ]
     },
     "execution_count": 148,
     "metadata": {},
     "output_type": "execute_result"
    }
   ],
   "source": [
    "ans = pd.DataFrame(data)\n",
    "ans"
   ]
  },
  {
   "cell_type": "markdown",
   "metadata": {},
   "source": [
    "**Вывод: лучшей моделью оказалась модель случайного леса с 24 деревьями и глубинной равной 8. Модель продемонстировала высокую долю верных ответов 83%, точность 80% и достаточную полноту 55%. Стоит заметить, что близкие значения показала простая модель дерева решений с глубиной равной 7 и минималным количеством ветвей в узле - 3. Дерево решний показало такую же долю верных ответов и даже большую точность. Поэтому я бы рекомендовал ее или модель леса с 10 деревьями. Хотя у нее ниже полнота, но если это не сильно отразится на прибыле, так как они проще, интерпретируемее и быстрее (конечно, я понимаю что сейчас модель что та что другая считается моментально  и совет больше абстрактный, нежели практический ). Но для начала проеврим эти две модели на адекватность.**"
   ]
  },
  {
   "cell_type": "markdown",
   "metadata": {},
   "source": [
    "## Проверка модели на адекватность"
   ]
  },
  {
   "cell_type": "code",
   "execution_count": 145,
   "metadata": {},
   "outputs": [
    {
     "data": {
      "text/html": [
       "<div>\n",
       "<style scoped>\n",
       "    .dataframe tbody tr th:only-of-type {\n",
       "        vertical-align: middle;\n",
       "    }\n",
       "\n",
       "    .dataframe tbody tr th {\n",
       "        vertical-align: top;\n",
       "    }\n",
       "\n",
       "    .dataframe thead th {\n",
       "        text-align: right;\n",
       "    }\n",
       "</style>\n",
       "<table border=\"1\" class=\"dataframe\">\n",
       "  <thead>\n",
       "    <tr style=\"text-align: right;\">\n",
       "      <th></th>\n",
       "      <th>model</th>\n",
       "      <th>accuracy</th>\n",
       "      <th>precision</th>\n",
       "      <th>recall</th>\n",
       "      <th>f1_score</th>\n",
       "    </tr>\n",
       "  </thead>\n",
       "  <tbody>\n",
       "    <tr>\n",
       "      <th>0</th>\n",
       "      <td>DummyClassifier</td>\n",
       "      <td>0.7175</td>\n",
       "      <td>0.0</td>\n",
       "      <td>0.0</td>\n",
       "      <td>0.0</td>\n",
       "    </tr>\n",
       "  </tbody>\n",
       "</table>\n",
       "</div>"
      ],
      "text/plain": [
       "              model  accuracy  precision  recall  f1_score\n",
       "0   DummyClassifier    0.7175        0.0     0.0       0.0"
      ]
     },
     "execution_count": 145,
     "metadata": {},
     "output_type": "execute_result"
    }
   ],
   "source": [
    "data1 = {'model':[' DummyClassifier'],'accuracy':[],'precision':[],'recall':[],'f1_score':[]}\n",
    "model = DummyClassifier()\n",
    "model.fit(ff_train, tf_train)\n",
    "prediction = model.predict(ff_test)\n",
    "data1['accuracy'].append(accuracy_score(tf_test, prediction))\n",
    "data1['precision'].append(precision_score(tf_test, prediction))\n",
    "data1['recall'].append(recall_score(tf_test, prediction))\n",
    "data1['f1_score'].append(f1_score(tf_test, prediction)) \n",
    "pd.DataFrame(data1)"
   ]
  },
  {
   "cell_type": "markdown",
   "metadata": {},
   "source": [
    "**Итоговый вывод: в работе были исследованы данные поведения клиентов при выборе тарифов на связь. Были устранены выбросы в нуле. Проверtны признаки на мултиколинеарность, почти 100% корреляцию показали количество и продолжительность звонков. Из-за этого при построение модели данные количества звонков не учитывались. Были изученны модели классификации, наилучшие результаты показали модель леса и моедль дерева решений. Варьированием гиперпараметров были найдены лучшие сочетания. Наилучшей моделью оказалась модель леса с 24 деревьями и глубинной дерева равной 8 (модель 3). Стоит также заметить, что дерево решений глубиной 7 и минимальным количеством делений в узе равное 3 показала также выоские показатели (модель 1) при значительно большей простоте. Ниже представленны результаты**"
   ]
  }
 ],
 "metadata": {
  "ExecuteTimeLog": [
   {
    "duration": 53,
    "start_time": "2022-12-01T13:10:14.165Z"
   },
   {
    "duration": 446,
    "start_time": "2022-12-01T13:10:17.215Z"
   },
   {
    "duration": 75,
    "start_time": "2022-12-01T13:10:19.014Z"
   },
   {
    "duration": 21,
    "start_time": "2022-12-01T13:10:35.700Z"
   },
   {
    "duration": 12,
    "start_time": "2022-12-01T13:11:00.819Z"
   },
   {
    "duration": 4,
    "start_time": "2022-12-01T13:11:45.718Z"
   },
   {
    "duration": 8,
    "start_time": "2022-12-01T13:12:05.947Z"
   },
   {
    "duration": 28,
    "start_time": "2022-12-01T13:12:30.553Z"
   },
   {
    "duration": 4,
    "start_time": "2022-12-01T13:12:33.622Z"
   },
   {
    "duration": 47,
    "start_time": "2022-12-06T11:52:02.674Z"
   },
   {
    "duration": 450,
    "start_time": "2022-12-06T11:52:08.250Z"
   },
   {
    "duration": 161,
    "start_time": "2022-12-06T11:52:08.918Z"
   },
   {
    "duration": 17,
    "start_time": "2022-12-06T11:52:09.336Z"
   },
   {
    "duration": 22,
    "start_time": "2022-12-06T11:52:10.286Z"
   },
   {
    "duration": 3,
    "start_time": "2022-12-06T12:31:06.372Z"
   },
   {
    "duration": 3,
    "start_time": "2022-12-06T12:31:14.781Z"
   },
   {
    "duration": 26,
    "start_time": "2022-12-06T12:31:25.240Z"
   },
   {
    "duration": 22,
    "start_time": "2022-12-06T12:31:30.177Z"
   },
   {
    "duration": 23,
    "start_time": "2022-12-06T12:31:33.203Z"
   },
   {
    "duration": 3,
    "start_time": "2022-12-06T12:32:33.629Z"
   },
   {
    "duration": 21,
    "start_time": "2022-12-06T12:32:49.509Z"
   },
   {
    "duration": 31,
    "start_time": "2022-12-06T12:34:30.882Z"
   },
   {
    "duration": 8,
    "start_time": "2022-12-06T12:35:16.028Z"
   },
   {
    "duration": 8,
    "start_time": "2022-12-06T12:35:24.029Z"
   },
   {
    "duration": 8,
    "start_time": "2022-12-06T12:35:48.626Z"
   },
   {
    "duration": 7,
    "start_time": "2022-12-06T12:35:50.373Z"
   },
   {
    "duration": 8,
    "start_time": "2022-12-06T12:36:16.345Z"
   },
   {
    "duration": 6,
    "start_time": "2022-12-06T12:36:18.235Z"
   },
   {
    "duration": 8,
    "start_time": "2022-12-06T12:36:24.533Z"
   },
   {
    "duration": 8,
    "start_time": "2022-12-06T12:36:26.699Z"
   },
   {
    "duration": 15,
    "start_time": "2022-12-06T12:36:49.737Z"
   },
   {
    "duration": 12,
    "start_time": "2022-12-06T12:36:53.977Z"
   },
   {
    "duration": 10,
    "start_time": "2022-12-06T12:36:55.791Z"
   },
   {
    "duration": 7,
    "start_time": "2022-12-06T12:43:07.748Z"
   },
   {
    "duration": 4,
    "start_time": "2022-12-06T12:43:09.690Z"
   },
   {
    "duration": 8,
    "start_time": "2022-12-06T12:43:15.898Z"
   },
   {
    "duration": 5,
    "start_time": "2022-12-06T12:43:22.956Z"
   },
   {
    "duration": 19,
    "start_time": "2022-12-06T12:43:33.800Z"
   },
   {
    "duration": 19,
    "start_time": "2022-12-06T12:43:36.256Z"
   },
   {
    "duration": 17,
    "start_time": "2022-12-06T12:44:06.273Z"
   },
   {
    "duration": 14,
    "start_time": "2022-12-06T12:44:09.344Z"
   },
   {
    "duration": 11,
    "start_time": "2022-12-06T12:44:11.058Z"
   },
   {
    "duration": 8,
    "start_time": "2022-12-06T12:44:14.802Z"
   },
   {
    "duration": 14,
    "start_time": "2022-12-06T12:44:34.411Z"
   },
   {
    "duration": 10,
    "start_time": "2022-12-06T12:44:35.972Z"
   },
   {
    "duration": 15,
    "start_time": "2022-12-06T12:44:46.814Z"
   },
   {
    "duration": 10,
    "start_time": "2022-12-06T12:44:49.262Z"
   },
   {
    "duration": 8,
    "start_time": "2022-12-06T12:45:03.504Z"
   },
   {
    "duration": 16,
    "start_time": "2022-12-06T12:45:18.915Z"
   },
   {
    "duration": 10,
    "start_time": "2022-12-06T12:45:21.014Z"
   },
   {
    "duration": 7,
    "start_time": "2022-12-06T12:46:14.525Z"
   },
   {
    "duration": 9,
    "start_time": "2022-12-06T12:46:25.164Z"
   },
   {
    "duration": 4,
    "start_time": "2022-12-06T12:46:33.148Z"
   },
   {
    "duration": 6,
    "start_time": "2022-12-06T12:47:19.494Z"
   },
   {
    "duration": 16,
    "start_time": "2022-12-06T12:47:36.969Z"
   },
   {
    "duration": 15,
    "start_time": "2022-12-06T12:47:48.507Z"
   },
   {
    "duration": 6,
    "start_time": "2022-12-06T12:49:13.420Z"
   },
   {
    "duration": 11,
    "start_time": "2022-12-06T12:49:20.598Z"
   },
   {
    "duration": 20,
    "start_time": "2022-12-06T12:49:58.688Z"
   },
   {
    "duration": 473,
    "start_time": "2022-12-06T12:52:02.040Z"
   },
   {
    "duration": 2107,
    "start_time": "2022-12-06T12:52:57.713Z"
   },
   {
    "duration": 16,
    "start_time": "2022-12-06T12:53:50.105Z"
   },
   {
    "duration": 2122,
    "start_time": "2022-12-06T12:53:58.996Z"
   },
   {
    "duration": 354,
    "start_time": "2022-12-06T12:54:13.724Z"
   },
   {
    "duration": 2152,
    "start_time": "2022-12-06T12:54:18.199Z"
   },
   {
    "duration": 2186,
    "start_time": "2022-12-06T12:54:44.427Z"
   },
   {
    "duration": 1757,
    "start_time": "2022-12-06T12:55:01.790Z"
   },
   {
    "duration": 1201,
    "start_time": "2022-12-06T15:57:31.740Z"
   },
   {
    "duration": 1319,
    "start_time": "2022-12-06T15:57:53.989Z"
   },
   {
    "duration": 429,
    "start_time": "2022-12-06T16:00:27.491Z"
   },
   {
    "duration": 396,
    "start_time": "2022-12-06T16:00:39.853Z"
   },
   {
    "duration": 314,
    "start_time": "2022-12-06T16:00:58.262Z"
   },
   {
    "duration": 460,
    "start_time": "2022-12-06T16:01:11.209Z"
   },
   {
    "duration": 333,
    "start_time": "2022-12-06T16:01:21.589Z"
   },
   {
    "duration": 335,
    "start_time": "2022-12-06T16:01:31.184Z"
   },
   {
    "duration": 349,
    "start_time": "2022-12-06T16:01:37.356Z"
   },
   {
    "duration": 388,
    "start_time": "2022-12-06T16:01:44.749Z"
   },
   {
    "duration": 40,
    "start_time": "2022-12-06T16:02:22.948Z"
   },
   {
    "duration": 5,
    "start_time": "2022-12-06T16:02:30.655Z"
   },
   {
    "duration": 22,
    "start_time": "2022-12-06T16:02:33.777Z"
   },
   {
    "duration": 5,
    "start_time": "2022-12-06T16:02:42.590Z"
   },
   {
    "duration": 21,
    "start_time": "2022-12-06T16:02:44.402Z"
   },
   {
    "duration": 21,
    "start_time": "2022-12-06T16:02:47.794Z"
   },
   {
    "duration": 1721,
    "start_time": "2022-12-06T16:02:50.026Z"
   },
   {
    "duration": 2582,
    "start_time": "2022-12-06T16:02:55.556Z"
   },
   {
    "duration": 999,
    "start_time": "2022-12-06T16:03:07.317Z"
   },
   {
    "duration": 319,
    "start_time": "2022-12-06T16:03:18.393Z"
   },
   {
    "duration": 20,
    "start_time": "2022-12-06T16:03:52.264Z"
   },
   {
    "duration": 23,
    "start_time": "2022-12-06T16:03:54.962Z"
   },
   {
    "duration": 17,
    "start_time": "2022-12-06T16:03:58.068Z"
   },
   {
    "duration": 17,
    "start_time": "2022-12-06T16:04:00.322Z"
   },
   {
    "duration": 295,
    "start_time": "2022-12-06T16:04:08.699Z"
   },
   {
    "duration": 1189,
    "start_time": "2022-12-06T16:05:01.023Z"
   },
   {
    "duration": 1359,
    "start_time": "2022-12-06T16:05:22.470Z"
   },
   {
    "duration": 2899,
    "start_time": "2022-12-06T16:05:54.227Z"
   },
   {
    "duration": 804,
    "start_time": "2022-12-06T16:06:16.393Z"
   },
   {
    "duration": 1860,
    "start_time": "2022-12-06T16:06:27.848Z"
   },
   {
    "duration": 2679,
    "start_time": "2022-12-07T08:28:29.547Z"
   },
   {
    "duration": 175,
    "start_time": "2022-12-07T08:28:34.134Z"
   },
   {
    "duration": 7,
    "start_time": "2022-12-07T08:28:38.781Z"
   },
   {
    "duration": 4,
    "start_time": "2022-12-07T08:28:41.001Z"
   },
   {
    "duration": 131,
    "start_time": "2022-12-07T08:28:56.105Z"
   },
   {
    "duration": 213,
    "start_time": "2022-12-07T08:29:02.014Z"
   },
   {
    "duration": 197,
    "start_time": "2022-12-07T08:29:09.891Z"
   },
   {
    "duration": 268,
    "start_time": "2022-12-07T08:31:12.511Z"
   },
   {
    "duration": 310,
    "start_time": "2022-12-07T08:31:25.479Z"
   },
   {
    "duration": 238,
    "start_time": "2022-12-07T08:31:34.031Z"
   },
   {
    "duration": 149,
    "start_time": "2022-12-07T08:31:48.527Z"
   },
   {
    "duration": 12,
    "start_time": "2022-12-07T08:37:24.247Z"
   },
   {
    "duration": 5,
    "start_time": "2022-12-07T08:38:20.738Z"
   },
   {
    "duration": 2001,
    "start_time": "2022-12-07T08:38:36.614Z"
   },
   {
    "duration": 1615,
    "start_time": "2022-12-07T08:39:08.200Z"
   },
   {
    "duration": 2088,
    "start_time": "2022-12-07T08:39:29.231Z"
   },
   {
    "duration": 2470,
    "start_time": "2022-12-07T08:39:37.152Z"
   },
   {
    "duration": 2416,
    "start_time": "2022-12-07T08:44:59.153Z"
   },
   {
    "duration": 2821,
    "start_time": "2022-12-07T08:45:18.823Z"
   },
   {
    "duration": 34,
    "start_time": "2022-12-07T08:45:28.822Z"
   },
   {
    "duration": 21,
    "start_time": "2022-12-07T08:45:37.553Z"
   },
   {
    "duration": 2940,
    "start_time": "2022-12-07T08:45:49.234Z"
   },
   {
    "duration": 3012,
    "start_time": "2022-12-07T08:46:39.992Z"
   },
   {
    "duration": 2843,
    "start_time": "2022-12-07T08:48:19.690Z"
   },
   {
    "duration": 18,
    "start_time": "2022-12-07T08:48:29.718Z"
   },
   {
    "duration": 190,
    "start_time": "2022-12-07T08:50:29.276Z"
   },
   {
    "duration": 444,
    "start_time": "2022-12-07T08:50:46.942Z"
   },
   {
    "duration": 2095,
    "start_time": "2022-12-07T08:51:03.162Z"
   },
   {
    "duration": 2055,
    "start_time": "2022-12-07T08:51:16.486Z"
   },
   {
    "duration": 2110,
    "start_time": "2022-12-07T08:51:27.870Z"
   },
   {
    "duration": 57,
    "start_time": "2022-12-07T08:51:44.783Z"
   },
   {
    "duration": 2098,
    "start_time": "2022-12-07T08:51:49.306Z"
   },
   {
    "duration": 2132,
    "start_time": "2022-12-07T08:52:30.293Z"
   },
   {
    "duration": 2242,
    "start_time": "2022-12-07T08:54:52.118Z"
   },
   {
    "duration": 2129,
    "start_time": "2022-12-07T08:56:27.981Z"
   },
   {
    "duration": 219,
    "start_time": "2022-12-07T08:56:44.200Z"
   },
   {
    "duration": 2477,
    "start_time": "2022-12-07T08:56:51.102Z"
   },
   {
    "duration": 198,
    "start_time": "2022-12-07T08:57:19.562Z"
   },
   {
    "duration": 2361,
    "start_time": "2022-12-07T08:57:26.604Z"
   },
   {
    "duration": 2255,
    "start_time": "2022-12-07T08:57:45.683Z"
   },
   {
    "duration": 2080,
    "start_time": "2022-12-07T09:00:16.850Z"
   },
   {
    "duration": 2003,
    "start_time": "2022-12-07T09:00:44.049Z"
   },
   {
    "duration": 63,
    "start_time": "2022-12-07T09:00:56.202Z"
   },
   {
    "duration": 2308,
    "start_time": "2022-12-07T09:01:00.622Z"
   },
   {
    "duration": 2190,
    "start_time": "2022-12-07T09:04:47.958Z"
   },
   {
    "duration": 2378,
    "start_time": "2022-12-07T09:05:08.041Z"
   },
   {
    "duration": 2499,
    "start_time": "2022-12-07T09:05:25.549Z"
   },
   {
    "duration": 2489,
    "start_time": "2022-12-07T09:05:48.962Z"
   },
   {
    "duration": 2239,
    "start_time": "2022-12-07T09:05:56.023Z"
   },
   {
    "duration": 219,
    "start_time": "2022-12-07T09:07:42.290Z"
   },
   {
    "duration": 225,
    "start_time": "2022-12-07T09:42:02.498Z"
   },
   {
    "duration": 2054,
    "start_time": "2022-12-07T09:42:09.710Z"
   },
   {
    "duration": 2183,
    "start_time": "2022-12-07T09:42:19.750Z"
   },
   {
    "duration": 2191,
    "start_time": "2022-12-07T09:42:24.805Z"
   },
   {
    "duration": 2206,
    "start_time": "2022-12-07T09:46:38.876Z"
   },
   {
    "duration": 2193,
    "start_time": "2022-12-07T09:46:46.064Z"
   },
   {
    "duration": 748,
    "start_time": "2022-12-07T09:50:51.884Z"
   },
   {
    "duration": 532,
    "start_time": "2022-12-07T09:50:59.136Z"
   },
   {
    "duration": 574,
    "start_time": "2022-12-07T09:51:43.015Z"
   },
   {
    "duration": 509,
    "start_time": "2022-12-07T09:51:54.523Z"
   },
   {
    "duration": 2296,
    "start_time": "2022-12-07T09:52:04.724Z"
   },
   {
    "duration": 2090,
    "start_time": "2022-12-07T09:52:24.391Z"
   },
   {
    "duration": 2067,
    "start_time": "2022-12-07T09:52:33.001Z"
   },
   {
    "duration": 2222,
    "start_time": "2022-12-07T09:52:42.562Z"
   },
   {
    "duration": 138,
    "start_time": "2022-12-07T09:55:15.487Z"
   },
   {
    "duration": 124,
    "start_time": "2022-12-07T09:55:24.712Z"
   },
   {
    "duration": 2370,
    "start_time": "2022-12-07T09:55:38.193Z"
   },
   {
    "duration": 540,
    "start_time": "2022-12-07T10:48:37.665Z"
   },
   {
    "duration": 646,
    "start_time": "2022-12-07T10:48:41.650Z"
   },
   {
    "duration": 53,
    "start_time": "2022-12-07T10:48:50.832Z"
   },
   {
    "duration": 43,
    "start_time": "2022-12-07T10:48:53.090Z"
   },
   {
    "duration": 124,
    "start_time": "2022-12-07T10:49:03.738Z"
   },
   {
    "duration": 2129,
    "start_time": "2022-12-07T10:49:21.922Z"
   },
   {
    "duration": 2459,
    "start_time": "2022-12-07T10:49:28.012Z"
   },
   {
    "duration": 2645,
    "start_time": "2022-12-07T10:49:37.158Z"
   },
   {
    "duration": 209,
    "start_time": "2022-12-07T10:49:58.564Z"
   },
   {
    "duration": 2460,
    "start_time": "2022-12-07T10:50:03.679Z"
   },
   {
    "duration": 2504,
    "start_time": "2022-12-07T11:00:55.011Z"
   },
   {
    "duration": 2403,
    "start_time": "2022-12-07T11:01:15.143Z"
   },
   {
    "duration": 3,
    "start_time": "2022-12-07T12:57:04.481Z"
   },
   {
    "duration": 9,
    "start_time": "2022-12-07T12:57:15.327Z"
   },
   {
    "duration": 10,
    "start_time": "2022-12-07T12:57:20.771Z"
   },
   {
    "duration": 8,
    "start_time": "2022-12-07T12:57:24.309Z"
   },
   {
    "duration": 109,
    "start_time": "2022-12-07T12:57:39.046Z"
   },
   {
    "duration": 3,
    "start_time": "2022-12-07T12:58:09.463Z"
   },
   {
    "duration": 223,
    "start_time": "2022-12-07T12:58:10.814Z"
   },
   {
    "duration": 3,
    "start_time": "2022-12-07T12:58:17.754Z"
   },
   {
    "duration": 118,
    "start_time": "2022-12-07T12:58:20.577Z"
   },
   {
    "duration": 11,
    "start_time": "2022-12-07T12:58:45.981Z"
   },
   {
    "duration": 66,
    "start_time": "2022-12-07T12:59:01.955Z"
   },
   {
    "duration": 112,
    "start_time": "2022-12-07T12:59:14.979Z"
   },
   {
    "duration": 117,
    "start_time": "2022-12-07T12:59:23.841Z"
   },
   {
    "duration": 3,
    "start_time": "2022-12-07T13:04:35.511Z"
   },
   {
    "duration": 123,
    "start_time": "2022-12-07T13:04:37.183Z"
   },
   {
    "duration": 16,
    "start_time": "2022-12-07T13:43:31.920Z"
   },
   {
    "duration": 717,
    "start_time": "2022-12-07T13:43:41.898Z"
   },
   {
    "duration": 9,
    "start_time": "2022-12-07T13:43:54.294Z"
   },
   {
    "duration": 7,
    "start_time": "2022-12-07T13:44:05.886Z"
   },
   {
    "duration": 21,
    "start_time": "2022-12-07T13:44:26.349Z"
   },
   {
    "duration": 5,
    "start_time": "2022-12-07T13:44:31.210Z"
   },
   {
    "duration": 13,
    "start_time": "2022-12-07T13:44:41.058Z"
   },
   {
    "duration": 5,
    "start_time": "2022-12-07T13:44:45.568Z"
   },
   {
    "duration": 15,
    "start_time": "2022-12-07T13:45:59.292Z"
   },
   {
    "duration": 12,
    "start_time": "2022-12-07T14:07:08.080Z"
   },
   {
    "duration": 15,
    "start_time": "2022-12-07T14:07:22.594Z"
   },
   {
    "duration": 14,
    "start_time": "2022-12-07T14:14:37.109Z"
   },
   {
    "duration": 6,
    "start_time": "2022-12-07T14:14:44.222Z"
   },
   {
    "duration": 4,
    "start_time": "2022-12-07T14:15:08.891Z"
   },
   {
    "duration": 4,
    "start_time": "2022-12-07T14:15:25.494Z"
   },
   {
    "duration": 7,
    "start_time": "2022-12-07T14:15:32.709Z"
   },
   {
    "duration": 59,
    "start_time": "2022-12-07T14:19:54.915Z"
   },
   {
    "duration": 10,
    "start_time": "2022-12-07T14:21:22.972Z"
   },
   {
    "duration": 12,
    "start_time": "2022-12-07T14:21:25.597Z"
   },
   {
    "duration": 5,
    "start_time": "2022-12-07T14:21:36.559Z"
   },
   {
    "duration": 4,
    "start_time": "2022-12-07T14:21:41.076Z"
   },
   {
    "duration": 11,
    "start_time": "2022-12-07T14:21:47.654Z"
   },
   {
    "duration": 5,
    "start_time": "2022-12-07T14:21:51.719Z"
   },
   {
    "duration": 9,
    "start_time": "2022-12-07T14:22:05.302Z"
   },
   {
    "duration": 7072,
    "start_time": "2022-12-07T14:22:39.495Z"
   },
   {
    "duration": 6894,
    "start_time": "2022-12-07T14:23:20.585Z"
   },
   {
    "duration": 2361,
    "start_time": "2022-12-07T14:24:08.822Z"
   },
   {
    "duration": 14,
    "start_time": "2022-12-07T15:48:07.583Z"
   },
   {
    "duration": 15,
    "start_time": "2022-12-07T15:48:17.136Z"
   },
   {
    "duration": 16,
    "start_time": "2022-12-07T15:48:22.475Z"
   },
   {
    "duration": 12,
    "start_time": "2022-12-07T15:48:39.846Z"
   },
   {
    "duration": 13,
    "start_time": "2022-12-07T15:48:59.667Z"
   },
   {
    "duration": 12,
    "start_time": "2022-12-07T15:49:14.416Z"
   },
   {
    "duration": 5,
    "start_time": "2022-12-07T15:50:29.138Z"
   },
   {
    "duration": 12,
    "start_time": "2022-12-07T15:50:34.681Z"
   },
   {
    "duration": 12,
    "start_time": "2022-12-07T15:50:43.209Z"
   },
   {
    "duration": 1720,
    "start_time": "2022-12-07T15:52:29.260Z"
   },
   {
    "duration": 10,
    "start_time": "2022-12-07T15:53:07.489Z"
   },
   {
    "duration": 8,
    "start_time": "2022-12-07T15:53:27.917Z"
   },
   {
    "duration": 5,
    "start_time": "2022-12-07T15:53:41.198Z"
   },
   {
    "duration": 7,
    "start_time": "2022-12-07T15:53:48.170Z"
   },
   {
    "duration": 5,
    "start_time": "2022-12-07T15:53:53.051Z"
   },
   {
    "duration": 9,
    "start_time": "2022-12-07T15:53:56.663Z"
   },
   {
    "duration": 4,
    "start_time": "2022-12-07T15:54:03.115Z"
   },
   {
    "duration": 6,
    "start_time": "2022-12-07T15:54:05.051Z"
   },
   {
    "duration": 9,
    "start_time": "2022-12-07T15:54:07.881Z"
   },
   {
    "duration": 6,
    "start_time": "2022-12-07T15:54:34.194Z"
   },
   {
    "duration": 10,
    "start_time": "2022-12-07T15:54:36.371Z"
   },
   {
    "duration": 9,
    "start_time": "2022-12-07T15:54:41.847Z"
   },
   {
    "duration": 3,
    "start_time": "2022-12-07T16:04:33.092Z"
   },
   {
    "duration": 4,
    "start_time": "2022-12-07T16:06:04.411Z"
   },
   {
    "duration": 5,
    "start_time": "2022-12-07T16:06:09.827Z"
   },
   {
    "duration": 12,
    "start_time": "2022-12-07T16:06:21.908Z"
   },
   {
    "duration": 5,
    "start_time": "2022-12-07T16:06:30.425Z"
   },
   {
    "duration": 358,
    "start_time": "2022-12-07T16:06:44.097Z"
   },
   {
    "duration": 4,
    "start_time": "2022-12-07T16:06:58.715Z"
   },
   {
    "duration": 5,
    "start_time": "2022-12-07T16:07:00.394Z"
   },
   {
    "duration": 4,
    "start_time": "2022-12-07T16:07:21.823Z"
   },
   {
    "duration": 5,
    "start_time": "2022-12-07T16:07:23.600Z"
   },
   {
    "duration": 4,
    "start_time": "2022-12-07T16:07:58.572Z"
   },
   {
    "duration": 10,
    "start_time": "2022-12-07T16:09:38.246Z"
   },
   {
    "duration": 422,
    "start_time": "2022-12-07T16:09:44.948Z"
   },
   {
    "duration": 21,
    "start_time": "2022-12-07T16:09:52.119Z"
   },
   {
    "duration": 13,
    "start_time": "2022-12-07T16:10:08.778Z"
   },
   {
    "duration": 6,
    "start_time": "2022-12-07T16:13:39.448Z"
   },
   {
    "duration": 17,
    "start_time": "2022-12-07T16:13:47.042Z"
   },
   {
    "duration": 12,
    "start_time": "2022-12-07T16:13:56.261Z"
   },
   {
    "duration": 8,
    "start_time": "2022-12-07T16:14:10.411Z"
   },
   {
    "duration": 7,
    "start_time": "2022-12-07T16:14:19.001Z"
   },
   {
    "duration": 20,
    "start_time": "2022-12-07T16:16:08.015Z"
   },
   {
    "duration": 9,
    "start_time": "2022-12-07T16:16:16.164Z"
   },
   {
    "duration": 8,
    "start_time": "2022-12-07T16:18:14.412Z"
   },
   {
    "duration": 9,
    "start_time": "2022-12-07T16:20:02.118Z"
   },
   {
    "duration": 4,
    "start_time": "2022-12-07T16:20:11.958Z"
   },
   {
    "duration": 5,
    "start_time": "2022-12-07T16:20:22.061Z"
   },
   {
    "duration": 4,
    "start_time": "2022-12-07T16:21:20.490Z"
   },
   {
    "duration": 40,
    "start_time": "2022-12-07T16:21:20.496Z"
   },
   {
    "duration": 14,
    "start_time": "2022-12-07T16:21:20.538Z"
   },
   {
    "duration": 39,
    "start_time": "2022-12-07T16:21:20.553Z"
   },
   {
    "duration": 4,
    "start_time": "2022-12-07T16:21:20.594Z"
   },
   {
    "duration": 28,
    "start_time": "2022-12-07T16:21:20.600Z"
   },
   {
    "duration": 4,
    "start_time": "2022-12-07T16:21:20.636Z"
   },
   {
    "duration": 43,
    "start_time": "2022-12-07T16:21:20.642Z"
   },
   {
    "duration": 30,
    "start_time": "2022-12-07T16:21:20.686Z"
   },
   {
    "duration": 2273,
    "start_time": "2022-12-07T16:21:20.718Z"
   },
   {
    "duration": 11,
    "start_time": "2022-12-07T16:21:22.995Z"
   },
   {
    "duration": 20,
    "start_time": "2022-12-07T16:21:23.008Z"
   },
   {
    "duration": 40,
    "start_time": "2022-12-07T16:21:23.030Z"
   },
   {
    "duration": 19,
    "start_time": "2022-12-07T16:21:23.072Z"
   },
   {
    "duration": 10,
    "start_time": "2022-12-07T16:21:23.093Z"
   },
   {
    "duration": 2276,
    "start_time": "2022-12-07T16:21:23.104Z"
   },
   {
    "duration": 1126,
    "start_time": "2022-12-07T16:21:25.383Z"
   },
   {
    "duration": 415,
    "start_time": "2022-12-07T16:21:26.511Z"
   },
   {
    "duration": 1264,
    "start_time": "2022-12-07T16:21:26.928Z"
   },
   {
    "duration": 5,
    "start_time": "2022-12-07T16:21:28.194Z"
   },
   {
    "duration": 20,
    "start_time": "2022-12-07T16:21:28.200Z"
   },
   {
    "duration": 15,
    "start_time": "2022-12-07T16:21:28.222Z"
   },
   {
    "duration": 12,
    "start_time": "2022-12-07T16:21:28.239Z"
   },
   {
    "duration": 7,
    "start_time": "2022-12-07T16:21:28.253Z"
   },
   {
    "duration": 16,
    "start_time": "2022-12-07T16:21:28.261Z"
   },
   {
    "duration": 10,
    "start_time": "2022-12-07T16:21:28.279Z"
   },
   {
    "duration": 11,
    "start_time": "2022-12-07T16:21:28.290Z"
   },
   {
    "duration": 7,
    "start_time": "2022-12-07T16:21:28.302Z"
   },
   {
    "duration": 5,
    "start_time": "2022-12-07T16:45:29.309Z"
   },
   {
    "duration": 14,
    "start_time": "2022-12-07T16:47:49.857Z"
   },
   {
    "duration": 11,
    "start_time": "2022-12-07T16:48:50.966Z"
   },
   {
    "duration": 38,
    "start_time": "2022-12-07T16:48:59.556Z"
   },
   {
    "duration": 29,
    "start_time": "2022-12-07T16:49:12.945Z"
   },
   {
    "duration": 5,
    "start_time": "2022-12-07T16:50:42.153Z"
   },
   {
    "duration": 6,
    "start_time": "2022-12-07T16:51:28.490Z"
   },
   {
    "duration": 35,
    "start_time": "2022-12-07T16:54:03.614Z"
   },
   {
    "duration": 4,
    "start_time": "2022-12-07T17:01:48.756Z"
   },
   {
    "duration": 9,
    "start_time": "2022-12-07T17:03:38.057Z"
   },
   {
    "duration": 8,
    "start_time": "2022-12-07T17:03:46.565Z"
   },
   {
    "duration": 12,
    "start_time": "2022-12-07T17:04:13.236Z"
   },
   {
    "duration": 9,
    "start_time": "2022-12-07T17:25:01.580Z"
   },
   {
    "duration": 9,
    "start_time": "2022-12-07T17:25:15.538Z"
   },
   {
    "duration": 9,
    "start_time": "2022-12-07T17:25:25.572Z"
   },
   {
    "duration": 4,
    "start_time": "2022-12-07T17:25:55.880Z"
   },
   {
    "duration": 10,
    "start_time": "2022-12-07T17:26:02.330Z"
   },
   {
    "duration": 10,
    "start_time": "2022-12-07T17:26:05.278Z"
   },
   {
    "duration": 10,
    "start_time": "2022-12-07T17:26:14.432Z"
   },
   {
    "duration": 10,
    "start_time": "2022-12-07T17:26:24.963Z"
   },
   {
    "duration": 5,
    "start_time": "2022-12-07T17:28:34.645Z"
   },
   {
    "duration": 5,
    "start_time": "2022-12-07T17:28:51.595Z"
   },
   {
    "duration": 2,
    "start_time": "2022-12-07T17:29:17.602Z"
   },
   {
    "duration": 7,
    "start_time": "2022-12-07T17:29:28.157Z"
   },
   {
    "duration": 9,
    "start_time": "2022-12-07T17:36:57.564Z"
   },
   {
    "duration": 15,
    "start_time": "2022-12-07T17:55:02.255Z"
   },
   {
    "duration": 19,
    "start_time": "2022-12-07T17:55:40.128Z"
   },
   {
    "duration": 14,
    "start_time": "2022-12-07T17:56:13.691Z"
   },
   {
    "duration": 26,
    "start_time": "2022-12-07T17:56:31.719Z"
   },
   {
    "duration": 352,
    "start_time": "2022-12-07T17:56:35.149Z"
   },
   {
    "duration": 3,
    "start_time": "2022-12-07T18:18:26.352Z"
   },
   {
    "duration": 192,
    "start_time": "2022-12-07T18:18:47.319Z"
   },
   {
    "duration": 134,
    "start_time": "2022-12-07T18:26:57.714Z"
   },
   {
    "duration": 135,
    "start_time": "2022-12-07T18:33:03.939Z"
   },
   {
    "duration": 2,
    "start_time": "2022-12-07T18:33:16.625Z"
   },
   {
    "duration": 4,
    "start_time": "2022-12-07T18:33:28.854Z"
   },
   {
    "duration": 2,
    "start_time": "2022-12-07T18:33:41.963Z"
   },
   {
    "duration": 4,
    "start_time": "2022-12-07T18:33:50.843Z"
   },
   {
    "duration": 3,
    "start_time": "2022-12-07T18:33:55.710Z"
   },
   {
    "duration": 5,
    "start_time": "2022-12-07T18:33:57.786Z"
   },
   {
    "duration": 206,
    "start_time": "2022-12-07T18:36:17.942Z"
   },
   {
    "duration": 5,
    "start_time": "2022-12-07T18:36:38.895Z"
   },
   {
    "duration": 125,
    "start_time": "2022-12-07T18:41:04.534Z"
   },
   {
    "duration": 77,
    "start_time": "2022-12-07T18:41:13.755Z"
   },
   {
    "duration": 4,
    "start_time": "2022-12-07T18:41:20.752Z"
   },
   {
    "duration": 214,
    "start_time": "2022-12-07T18:41:37.079Z"
   },
   {
    "duration": 214,
    "start_time": "2022-12-07T18:45:40.866Z"
   },
   {
    "duration": 5,
    "start_time": "2022-12-07T18:45:56.352Z"
   },
   {
    "duration": 3,
    "start_time": "2022-12-07T18:46:41.005Z"
   },
   {
    "duration": 115,
    "start_time": "2022-12-07T18:47:57.574Z"
   },
   {
    "duration": 25,
    "start_time": "2022-12-07T18:48:20.512Z"
   },
   {
    "duration": 4,
    "start_time": "2022-12-07T18:48:23.629Z"
   },
   {
    "duration": 11,
    "start_time": "2022-12-07T18:48:28.859Z"
   },
   {
    "duration": 5,
    "start_time": "2022-12-07T18:48:31.785Z"
   },
   {
    "duration": 25,
    "start_time": "2022-12-07T18:48:41.667Z"
   },
   {
    "duration": 6,
    "start_time": "2022-12-07T18:48:48.687Z"
   },
   {
    "duration": 6,
    "start_time": "2022-12-07T18:48:57.854Z"
   },
   {
    "duration": 11,
    "start_time": "2022-12-07T18:49:13.291Z"
   },
   {
    "duration": 6,
    "start_time": "2022-12-07T18:49:16.699Z"
   },
   {
    "duration": 12,
    "start_time": "2022-12-07T18:49:35.554Z"
   },
   {
    "duration": 4,
    "start_time": "2022-12-07T18:49:38.166Z"
   },
   {
    "duration": 316,
    "start_time": "2022-12-07T18:49:51.764Z"
   },
   {
    "duration": 441,
    "start_time": "2022-12-07T18:49:55.665Z"
   },
   {
    "duration": 4,
    "start_time": "2022-12-07T18:50:00.309Z"
   },
   {
    "duration": 11,
    "start_time": "2022-12-07T18:50:07.078Z"
   },
   {
    "duration": 11,
    "start_time": "2022-12-07T18:50:11.823Z"
   },
   {
    "duration": 132,
    "start_time": "2022-12-07T18:50:19.893Z"
   },
   {
    "duration": 121,
    "start_time": "2022-12-07T18:50:23.377Z"
   },
   {
    "duration": 140,
    "start_time": "2022-12-07T18:50:31.082Z"
   },
   {
    "duration": 122,
    "start_time": "2022-12-07T18:50:36.955Z"
   },
   {
    "duration": 36,
    "start_time": "2022-12-07T18:50:48.317Z"
   },
   {
    "duration": 26,
    "start_time": "2022-12-07T18:50:53.810Z"
   },
   {
    "duration": 332,
    "start_time": "2022-12-07T18:51:01.775Z"
   },
   {
    "duration": 4,
    "start_time": "2022-12-07T18:51:41.264Z"
   },
   {
    "duration": 42,
    "start_time": "2022-12-07T18:51:54.921Z"
   },
   {
    "duration": 4,
    "start_time": "2022-12-07T18:51:57.567Z"
   },
   {
    "duration": 25,
    "start_time": "2022-12-07T18:52:24.546Z"
   },
   {
    "duration": 4,
    "start_time": "2022-12-07T18:52:28.362Z"
   },
   {
    "duration": 28,
    "start_time": "2022-12-07T18:52:35.475Z"
   },
   {
    "duration": 5,
    "start_time": "2022-12-07T18:52:37.667Z"
   },
   {
    "duration": 29,
    "start_time": "2022-12-07T18:54:39.227Z"
   },
   {
    "duration": 109,
    "start_time": "2022-12-07T18:54:42.667Z"
   },
   {
    "duration": 639,
    "start_time": "2022-12-07T18:54:47.023Z"
   },
   {
    "duration": 1060,
    "start_time": "2022-12-07T18:54:53.751Z"
   },
   {
    "duration": 4,
    "start_time": "2022-12-07T18:54:56.063Z"
   },
   {
    "duration": 5,
    "start_time": "2022-12-07T18:55:27.391Z"
   },
   {
    "duration": 680,
    "start_time": "2022-12-07T18:55:30.659Z"
   },
   {
    "duration": 4,
    "start_time": "2022-12-07T18:55:38.879Z"
   },
   {
    "duration": 680,
    "start_time": "2022-12-07T18:55:45.474Z"
   },
   {
    "duration": 676,
    "start_time": "2022-12-07T18:55:49.739Z"
   },
   {
    "duration": 10,
    "start_time": "2022-12-07T18:56:57.871Z"
   },
   {
    "duration": 251,
    "start_time": "2022-12-07T18:59:16.519Z"
   },
   {
    "duration": 5,
    "start_time": "2022-12-07T19:11:54.414Z"
   },
   {
    "duration": 87,
    "start_time": "2022-12-07T19:12:13.863Z"
   },
   {
    "duration": 14,
    "start_time": "2022-12-07T19:12:20.514Z"
   },
   {
    "duration": 107,
    "start_time": "2022-12-07T19:14:43.147Z"
   },
   {
    "duration": 13,
    "start_time": "2022-12-07T19:14:45.623Z"
   },
   {
    "duration": 154,
    "start_time": "2022-12-07T19:15:50.662Z"
   },
   {
    "duration": 14,
    "start_time": "2022-12-07T19:15:52.705Z"
   },
   {
    "duration": 1095,
    "start_time": "2022-12-07T19:19:54.785Z"
   },
   {
    "duration": 9,
    "start_time": "2022-12-07T19:19:57.497Z"
   },
   {
    "duration": 1178,
    "start_time": "2022-12-07T19:20:06.545Z"
   },
   {
    "duration": 9,
    "start_time": "2022-12-07T19:20:09.188Z"
   },
   {
    "duration": 27,
    "start_time": "2022-12-07T19:20:59.464Z"
   },
   {
    "duration": 27,
    "start_time": "2022-12-07T19:21:06.520Z"
   },
   {
    "duration": 5,
    "start_time": "2022-12-07T19:21:09.916Z"
   },
   {
    "duration": 6,
    "start_time": "2022-12-07T19:21:17.869Z"
   },
   {
    "duration": 27,
    "start_time": "2022-12-07T19:21:24.891Z"
   },
   {
    "duration": 29,
    "start_time": "2022-12-07T19:21:49.580Z"
   },
   {
    "duration": 29,
    "start_time": "2022-12-07T19:21:57.368Z"
   },
   {
    "duration": 1170,
    "start_time": "2022-12-07T19:22:12.443Z"
   },
   {
    "duration": 9,
    "start_time": "2022-12-07T19:22:14.256Z"
   },
   {
    "duration": 188,
    "start_time": "2022-12-07T19:22:36.981Z"
   },
   {
    "duration": 13,
    "start_time": "2022-12-07T19:22:41.934Z"
   },
   {
    "duration": 1213,
    "start_time": "2022-12-07T19:23:12.099Z"
   },
   {
    "duration": 9,
    "start_time": "2022-12-07T19:23:14.598Z"
   },
   {
    "duration": 10,
    "start_time": "2022-12-07T19:26:13.299Z"
   },
   {
    "duration": 185,
    "start_time": "2022-12-07T19:26:17.208Z"
   },
   {
    "duration": 12,
    "start_time": "2022-12-07T19:26:19.062Z"
   },
   {
    "duration": 12,
    "start_time": "2022-12-07T19:42:10.045Z"
   },
   {
    "duration": 12,
    "start_time": "2022-12-07T19:42:12.174Z"
   },
   {
    "duration": 17,
    "start_time": "2022-12-07T19:42:18.403Z"
   },
   {
    "duration": 4,
    "start_time": "2022-12-07T19:42:24.034Z"
   },
   {
    "duration": 10,
    "start_time": "2022-12-07T19:42:40.395Z"
   },
   {
    "duration": 4,
    "start_time": "2022-12-07T19:42:42.745Z"
   },
   {
    "duration": 319,
    "start_time": "2022-12-07T19:59:35.165Z"
   },
   {
    "duration": 15,
    "start_time": "2022-12-07T19:59:56.180Z"
   },
   {
    "duration": 4,
    "start_time": "2022-12-07T20:02:26.300Z"
   },
   {
    "duration": 21,
    "start_time": "2022-12-07T20:03:28.816Z"
   },
   {
    "duration": 348,
    "start_time": "2022-12-07T20:03:54.822Z"
   },
   {
    "duration": 15,
    "start_time": "2022-12-07T20:03:58.099Z"
   },
   {
    "duration": 80,
    "start_time": "2022-12-07T20:06:50.718Z"
   },
   {
    "duration": 11,
    "start_time": "2022-12-07T20:07:04.056Z"
   },
   {
    "duration": 161,
    "start_time": "2022-12-07T20:07:30.761Z"
   },
   {
    "duration": 19,
    "start_time": "2022-12-07T20:09:37.981Z"
   },
   {
    "duration": 420,
    "start_time": "2022-12-07T20:09:54.906Z"
   },
   {
    "duration": 19,
    "start_time": "2022-12-07T20:09:58.789Z"
   },
   {
    "duration": 392,
    "start_time": "2022-12-07T20:10:59.817Z"
   },
   {
    "duration": 17,
    "start_time": "2022-12-07T20:11:05.424Z"
   },
   {
    "duration": 392,
    "start_time": "2022-12-07T20:11:08.877Z"
   },
   {
    "duration": 3,
    "start_time": "2022-12-07T20:12:55.884Z"
   },
   {
    "duration": 15,
    "start_time": "2022-12-07T20:13:25.901Z"
   },
   {
    "duration": 12,
    "start_time": "2022-12-07T20:13:44.364Z"
   },
   {
    "duration": 11,
    "start_time": "2022-12-07T20:14:02.149Z"
   },
   {
    "duration": 22,
    "start_time": "2022-12-07T20:33:54.351Z"
   },
   {
    "duration": 3077,
    "start_time": "2022-12-07T20:34:08.633Z"
   },
   {
    "duration": 23,
    "start_time": "2022-12-07T20:34:11.712Z"
   },
   {
    "duration": 5,
    "start_time": "2022-12-07T20:34:43.887Z"
   },
   {
    "duration": 4,
    "start_time": "2022-12-07T20:34:50.671Z"
   },
   {
    "duration": 7,
    "start_time": "2022-12-07T20:35:06.974Z"
   },
   {
    "duration": 8,
    "start_time": "2022-12-07T20:35:12.360Z"
   },
   {
    "duration": 6,
    "start_time": "2022-12-07T20:35:18.869Z"
   },
   {
    "duration": 7,
    "start_time": "2022-12-07T20:35:33.357Z"
   },
   {
    "duration": 3140,
    "start_time": "2022-12-07T20:35:40.217Z"
   },
   {
    "duration": 4,
    "start_time": "2022-12-07T20:35:43.359Z"
   },
   {
    "duration": 3,
    "start_time": "2022-12-07T20:35:45.150Z"
   },
   {
    "duration": 8,
    "start_time": "2022-12-07T20:35:47.611Z"
   },
   {
    "duration": 12,
    "start_time": "2022-12-07T20:35:58.576Z"
   },
   {
    "duration": 14,
    "start_time": "2022-12-07T20:36:06.979Z"
   },
   {
    "duration": 18,
    "start_time": "2022-12-07T20:36:16.908Z"
   },
   {
    "duration": 15,
    "start_time": "2022-12-07T20:36:31.958Z"
   },
   {
    "duration": 15,
    "start_time": "2022-12-07T20:36:36.798Z"
   },
   {
    "duration": 18,
    "start_time": "2022-12-07T20:37:06.693Z"
   },
   {
    "duration": 13,
    "start_time": "2022-12-07T20:37:15.598Z"
   },
   {
    "duration": 2630,
    "start_time": "2022-12-07T20:38:33.605Z"
   },
   {
    "duration": 3,
    "start_time": "2022-12-07T20:38:36.896Z"
   },
   {
    "duration": 8,
    "start_time": "2022-12-07T20:38:39.805Z"
   },
   {
    "duration": 16,
    "start_time": "2022-12-07T20:38:45.745Z"
   },
   {
    "duration": 17,
    "start_time": "2022-12-07T20:39:20.217Z"
   },
   {
    "duration": 9,
    "start_time": "2022-12-07T20:39:28.285Z"
   },
   {
    "duration": 15,
    "start_time": "2022-12-07T20:39:38.617Z"
   },
   {
    "duration": 17,
    "start_time": "2022-12-07T20:39:48.883Z"
   },
   {
    "duration": 12,
    "start_time": "2022-12-07T20:40:43.361Z"
   },
   {
    "duration": 10,
    "start_time": "2022-12-07T20:41:00.775Z"
   },
   {
    "duration": 1304,
    "start_time": "2022-12-07T20:41:24.294Z"
   },
   {
    "duration": 4,
    "start_time": "2022-12-07T20:41:28.548Z"
   },
   {
    "duration": 9,
    "start_time": "2022-12-07T20:41:30.285Z"
   },
   {
    "duration": 11,
    "start_time": "2022-12-07T20:41:38.504Z"
   },
   {
    "duration": 10,
    "start_time": "2022-12-07T20:41:44.912Z"
   },
   {
    "duration": 2675,
    "start_time": "2022-12-07T20:42:14.798Z"
   },
   {
    "duration": 4,
    "start_time": "2022-12-07T20:42:19.051Z"
   },
   {
    "duration": 11,
    "start_time": "2022-12-07T20:42:21.078Z"
   },
   {
    "duration": 9,
    "start_time": "2022-12-07T20:42:27.450Z"
   },
   {
    "duration": 14,
    "start_time": "2022-12-07T20:47:50.869Z"
   },
   {
    "duration": 16,
    "start_time": "2022-12-07T20:48:02.599Z"
   },
   {
    "duration": 9,
    "start_time": "2022-12-07T20:48:14.247Z"
   },
   {
    "duration": 3,
    "start_time": "2022-12-07T20:52:08.845Z"
   },
   {
    "duration": 20,
    "start_time": "2022-12-07T20:52:31.846Z"
   },
   {
    "duration": 22,
    "start_time": "2022-12-07T20:53:04.825Z"
   },
   {
    "duration": 13,
    "start_time": "2022-12-07T20:53:11.726Z"
   },
   {
    "duration": 10,
    "start_time": "2022-12-07T20:53:14.947Z"
   },
   {
    "duration": 3,
    "start_time": "2022-12-07T20:53:22.586Z"
   },
   {
    "duration": 26,
    "start_time": "2022-12-07T20:53:58.005Z"
   },
   {
    "duration": 12,
    "start_time": "2022-12-07T20:54:19.465Z"
   },
   {
    "duration": 20,
    "start_time": "2022-12-07T20:54:31.169Z"
   },
   {
    "duration": 11,
    "start_time": "2022-12-07T20:58:00.424Z"
   },
   {
    "duration": 21,
    "start_time": "2022-12-07T20:58:23.814Z"
   },
   {
    "duration": 12,
    "start_time": "2022-12-07T20:58:28.463Z"
   },
   {
    "duration": 14,
    "start_time": "2022-12-07T20:58:32.611Z"
   },
   {
    "duration": 4,
    "start_time": "2022-12-07T20:58:45.175Z"
   },
   {
    "duration": 6,
    "start_time": "2022-12-07T20:58:57.751Z"
   },
   {
    "duration": 21,
    "start_time": "2022-12-07T21:02:56.603Z"
   },
   {
    "duration": 3,
    "start_time": "2022-12-07T21:04:17.273Z"
   },
   {
    "duration": 9,
    "start_time": "2022-12-07T21:04:19.237Z"
   },
   {
    "duration": 16,
    "start_time": "2022-12-07T21:04:30.960Z"
   },
   {
    "duration": 3,
    "start_time": "2022-12-07T21:05:19.007Z"
   },
   {
    "duration": 21,
    "start_time": "2022-12-07T21:05:21.956Z"
   },
   {
    "duration": 2,
    "start_time": "2022-12-07T21:07:04.066Z"
   },
   {
    "duration": 25,
    "start_time": "2022-12-07T21:07:08.486Z"
   },
   {
    "duration": 10,
    "start_time": "2022-12-07T21:07:17.155Z"
   },
   {
    "duration": 12,
    "start_time": "2022-12-07T21:07:23.706Z"
   },
   {
    "duration": 10,
    "start_time": "2022-12-07T21:07:25.518Z"
   },
   {
    "duration": 26,
    "start_time": "2022-12-07T21:07:29.246Z"
   },
   {
    "duration": 9,
    "start_time": "2022-12-07T21:07:32.149Z"
   },
   {
    "duration": 2,
    "start_time": "2022-12-07T21:11:47.385Z"
   },
   {
    "duration": 12,
    "start_time": "2022-12-07T21:11:55.658Z"
   },
   {
    "duration": 127,
    "start_time": "2022-12-07T21:12:40.751Z"
   },
   {
    "duration": 11,
    "start_time": "2022-12-07T21:12:46.073Z"
   },
   {
    "duration": 125,
    "start_time": "2022-12-07T21:13:20.445Z"
   },
   {
    "duration": 9,
    "start_time": "2022-12-07T21:13:23.165Z"
   },
   {
    "duration": 6,
    "start_time": "2022-12-07T21:15:52.193Z"
   },
   {
    "duration": 18,
    "start_time": "2022-12-07T21:16:11.140Z"
   },
   {
    "duration": 9,
    "start_time": "2022-12-07T21:16:13.810Z"
   },
   {
    "duration": 14,
    "start_time": "2022-12-07T21:17:11.975Z"
   },
   {
    "duration": 9,
    "start_time": "2022-12-07T21:17:14.142Z"
   },
   {
    "duration": 16,
    "start_time": "2022-12-07T21:17:20.159Z"
   },
   {
    "duration": 14,
    "start_time": "2022-12-07T21:17:22.539Z"
   },
   {
    "duration": 16,
    "start_time": "2022-12-07T21:21:30.439Z"
   },
   {
    "duration": 12,
    "start_time": "2022-12-07T21:21:32.607Z"
   },
   {
    "duration": 237,
    "start_time": "2022-12-07T21:36:18.272Z"
   },
   {
    "duration": 4,
    "start_time": "2022-12-07T21:41:44.225Z"
   },
   {
    "duration": 4,
    "start_time": "2022-12-07T21:43:04.091Z"
   },
   {
    "duration": 42,
    "start_time": "2022-12-07T21:43:58.440Z"
   },
   {
    "duration": 13,
    "start_time": "2022-12-07T21:46:14.384Z"
   },
   {
    "duration": 4,
    "start_time": "2022-12-07T21:46:25.569Z"
   },
   {
    "duration": 11,
    "start_time": "2022-12-07T21:46:27.080Z"
   },
   {
    "duration": 15,
    "start_time": "2022-12-07T21:46:35.689Z"
   },
   {
    "duration": 8,
    "start_time": "2022-12-07T21:47:53.194Z"
   },
   {
    "duration": 3,
    "start_time": "2022-12-07T21:47:55.588Z"
   },
   {
    "duration": 5,
    "start_time": "2022-12-07T21:48:13.741Z"
   },
   {
    "duration": 42,
    "start_time": "2022-12-07T21:48:13.748Z"
   },
   {
    "duration": 9,
    "start_time": "2022-12-07T21:48:13.792Z"
   },
   {
    "duration": 24,
    "start_time": "2022-12-07T21:48:13.803Z"
   },
   {
    "duration": 4,
    "start_time": "2022-12-07T21:48:13.828Z"
   },
   {
    "duration": 19,
    "start_time": "2022-12-07T21:48:13.834Z"
   },
   {
    "duration": 4,
    "start_time": "2022-12-07T21:48:13.854Z"
   },
   {
    "duration": 23,
    "start_time": "2022-12-07T21:48:13.859Z"
   },
   {
    "duration": 21,
    "start_time": "2022-12-07T21:48:13.884Z"
   },
   {
    "duration": 2258,
    "start_time": "2022-12-07T21:48:13.906Z"
   },
   {
    "duration": 11,
    "start_time": "2022-12-07T21:48:16.166Z"
   },
   {
    "duration": 7,
    "start_time": "2022-12-07T21:48:16.178Z"
   },
   {
    "duration": 8,
    "start_time": "2022-12-07T21:48:16.186Z"
   },
   {
    "duration": 6,
    "start_time": "2022-12-07T21:48:16.195Z"
   },
   {
    "duration": 11,
    "start_time": "2022-12-07T21:48:16.202Z"
   },
   {
    "duration": 2177,
    "start_time": "2022-12-07T21:48:16.214Z"
   },
   {
    "duration": 897,
    "start_time": "2022-12-07T21:48:18.393Z"
   },
   {
    "duration": 480,
    "start_time": "2022-12-07T21:48:19.291Z"
   },
   {
    "duration": 1238,
    "start_time": "2022-12-07T21:48:19.773Z"
   },
   {
    "duration": 4,
    "start_time": "2022-12-07T21:48:21.012Z"
   },
   {
    "duration": 22,
    "start_time": "2022-12-07T21:48:21.018Z"
   },
   {
    "duration": 12,
    "start_time": "2022-12-07T21:48:21.042Z"
   },
   {
    "duration": 26,
    "start_time": "2022-12-07T21:48:21.056Z"
   },
   {
    "duration": 5,
    "start_time": "2022-12-07T21:48:21.086Z"
   },
   {
    "duration": 11,
    "start_time": "2022-12-07T21:48:21.092Z"
   },
   {
    "duration": 9,
    "start_time": "2022-12-07T21:48:21.104Z"
   },
   {
    "duration": 18,
    "start_time": "2022-12-07T21:48:21.114Z"
   },
   {
    "duration": 10,
    "start_time": "2022-12-07T21:48:21.133Z"
   },
   {
    "duration": 24,
    "start_time": "2022-12-07T21:48:21.145Z"
   },
   {
    "duration": 15,
    "start_time": "2022-12-07T21:48:21.170Z"
   },
   {
    "duration": 31,
    "start_time": "2022-12-07T21:48:21.186Z"
   },
   {
    "duration": 5,
    "start_time": "2022-12-07T21:48:21.218Z"
   },
   {
    "duration": 33,
    "start_time": "2022-12-07T21:48:21.224Z"
   },
   {
    "duration": 7,
    "start_time": "2022-12-07T21:48:21.259Z"
   },
   {
    "duration": 255,
    "start_time": "2022-12-07T21:48:21.267Z"
   },
   {
    "duration": 1173,
    "start_time": "2022-12-07T21:48:21.524Z"
   },
   {
    "duration": 8,
    "start_time": "2022-12-07T21:48:22.699Z"
   },
   {
    "duration": 193,
    "start_time": "2022-12-07T21:48:22.709Z"
   },
   {
    "duration": 11,
    "start_time": "2022-12-07T21:48:22.904Z"
   },
   {
    "duration": 371,
    "start_time": "2022-12-07T21:48:22.917Z"
   },
   {
    "duration": 4,
    "start_time": "2022-12-07T21:48:23.289Z"
   },
   {
    "duration": 30,
    "start_time": "2022-12-07T21:48:23.294Z"
   },
   {
    "duration": 2607,
    "start_time": "2022-12-07T21:48:23.326Z"
   },
   {
    "duration": 3,
    "start_time": "2022-12-07T21:48:25.934Z"
   },
   {
    "duration": 21,
    "start_time": "2022-12-07T21:48:25.939Z"
   },
   {
    "duration": 17,
    "start_time": "2022-12-07T21:48:25.961Z"
   },
   {
    "duration": 13,
    "start_time": "2022-12-07T21:48:25.980Z"
   },
   {
    "duration": 14,
    "start_time": "2022-12-07T21:48:25.994Z"
   },
   {
    "duration": 21,
    "start_time": "2022-12-07T21:48:26.010Z"
   },
   {
    "duration": 97,
    "start_time": "2022-12-07T21:49:22.091Z"
   },
   {
    "duration": 10,
    "start_time": "2022-12-07T21:49:39.686Z"
   },
   {
    "duration": 18,
    "start_time": "2022-12-07T21:59:47.592Z"
   },
   {
    "duration": 392,
    "start_time": "2022-12-07T22:00:12.846Z"
   },
   {
    "duration": 4,
    "start_time": "2022-12-07T22:00:23.370Z"
   },
   {
    "duration": 8,
    "start_time": "2022-12-07T22:00:35.130Z"
   },
   {
    "duration": 8,
    "start_time": "2022-12-07T22:00:39.426Z"
   },
   {
    "duration": 8,
    "start_time": "2022-12-07T22:00:42.042Z"
   },
   {
    "duration": 14,
    "start_time": "2022-12-07T22:00:44.642Z"
   },
   {
    "duration": 15,
    "start_time": "2022-12-07T22:01:06.210Z"
   },
   {
    "duration": 12,
    "start_time": "2022-12-07T22:01:13.474Z"
   },
   {
    "duration": 13,
    "start_time": "2022-12-07T22:01:16.470Z"
   },
   {
    "duration": 4192,
    "start_time": "2022-12-07T22:05:27.973Z"
   },
   {
    "duration": 4,
    "start_time": "2022-12-07T22:05:32.166Z"
   },
   {
    "duration": 20,
    "start_time": "2022-12-07T22:05:32.171Z"
   },
   {
    "duration": 11,
    "start_time": "2022-12-07T22:06:22.983Z"
   },
   {
    "duration": 10,
    "start_time": "2022-12-07T22:06:26.492Z"
   },
   {
    "duration": 4,
    "start_time": "2022-12-07T22:11:43.377Z"
   },
   {
    "duration": 96,
    "start_time": "2022-12-07T22:11:44.758Z"
   },
   {
    "duration": 9,
    "start_time": "2022-12-07T22:11:46.881Z"
   },
   {
    "duration": 5,
    "start_time": "2022-12-07T22:18:46.761Z"
   },
   {
    "duration": 9868,
    "start_time": "2022-12-07T22:19:17.069Z"
   },
   {
    "duration": 1408,
    "start_time": "2022-12-07T22:19:46.486Z"
   },
   {
    "duration": 1226,
    "start_time": "2022-12-07T22:20:04.192Z"
   },
   {
    "duration": 1974,
    "start_time": "2022-12-07T22:20:11.495Z"
   },
   {
    "duration": 16,
    "start_time": "2022-12-07T22:21:23.842Z"
   },
   {
    "duration": 23,
    "start_time": "2022-12-07T22:22:07.490Z"
   },
   {
    "duration": 17,
    "start_time": "2022-12-07T22:22:18.995Z"
   },
   {
    "duration": 4,
    "start_time": "2022-12-07T22:28:27.650Z"
   },
   {
    "duration": 19,
    "start_time": "2022-12-07T22:28:49.364Z"
   },
   {
    "duration": 23,
    "start_time": "2022-12-07T22:42:59.722Z"
   },
   {
    "duration": 4,
    "start_time": "2022-12-07T22:43:18.217Z"
   },
   {
    "duration": 47,
    "start_time": "2022-12-07T22:43:18.223Z"
   },
   {
    "duration": 11,
    "start_time": "2022-12-07T22:43:18.272Z"
   },
   {
    "duration": 43,
    "start_time": "2022-12-07T22:43:18.285Z"
   },
   {
    "duration": 5,
    "start_time": "2022-12-07T22:43:18.330Z"
   },
   {
    "duration": 54,
    "start_time": "2022-12-07T22:43:18.337Z"
   },
   {
    "duration": 9,
    "start_time": "2022-12-07T22:43:18.393Z"
   },
   {
    "duration": 33,
    "start_time": "2022-12-07T22:43:18.404Z"
   },
   {
    "duration": 35,
    "start_time": "2022-12-07T22:43:18.439Z"
   },
   {
    "duration": 2328,
    "start_time": "2022-12-07T22:43:18.475Z"
   },
   {
    "duration": 12,
    "start_time": "2022-12-07T22:43:20.804Z"
   },
   {
    "duration": 18,
    "start_time": "2022-12-07T22:43:20.818Z"
   },
   {
    "duration": 5,
    "start_time": "2022-12-07T22:43:20.837Z"
   },
   {
    "duration": 7,
    "start_time": "2022-12-07T22:43:20.843Z"
   },
   {
    "duration": 8,
    "start_time": "2022-12-07T22:43:20.851Z"
   },
   {
    "duration": 2480,
    "start_time": "2022-12-07T22:43:20.860Z"
   },
   {
    "duration": 857,
    "start_time": "2022-12-07T22:43:23.341Z"
   },
   {
    "duration": 352,
    "start_time": "2022-12-07T22:43:24.200Z"
   },
   {
    "duration": 1446,
    "start_time": "2022-12-07T22:43:24.554Z"
   },
   {
    "duration": 5,
    "start_time": "2022-12-07T22:43:26.002Z"
   },
   {
    "duration": 22,
    "start_time": "2022-12-07T22:43:26.009Z"
   },
   {
    "duration": 11,
    "start_time": "2022-12-07T22:43:26.035Z"
   },
   {
    "duration": 38,
    "start_time": "2022-12-07T22:43:26.047Z"
   },
   {
    "duration": 6,
    "start_time": "2022-12-07T22:43:26.089Z"
   },
   {
    "duration": 30,
    "start_time": "2022-12-07T22:43:26.096Z"
   },
   {
    "duration": 11,
    "start_time": "2022-12-07T22:43:26.128Z"
   },
   {
    "duration": 19,
    "start_time": "2022-12-07T22:43:26.141Z"
   },
   {
    "duration": 13,
    "start_time": "2022-12-07T22:43:26.162Z"
   },
   {
    "duration": 7,
    "start_time": "2022-12-07T22:43:26.177Z"
   },
   {
    "duration": 11,
    "start_time": "2022-12-07T22:43:26.186Z"
   },
   {
    "duration": 35,
    "start_time": "2022-12-07T22:43:26.198Z"
   },
   {
    "duration": 5,
    "start_time": "2022-12-07T22:43:26.235Z"
   },
   {
    "duration": 29,
    "start_time": "2022-12-07T22:43:26.241Z"
   },
   {
    "duration": 8,
    "start_time": "2022-12-07T22:43:26.272Z"
   },
   {
    "duration": 270,
    "start_time": "2022-12-07T22:43:26.281Z"
   },
   {
    "duration": 1153,
    "start_time": "2022-12-07T22:43:26.552Z"
   },
   {
    "duration": 9,
    "start_time": "2022-12-07T22:43:27.707Z"
   },
   {
    "duration": 203,
    "start_time": "2022-12-07T22:43:27.717Z"
   },
   {
    "duration": 17,
    "start_time": "2022-12-07T22:43:27.921Z"
   },
   {
    "duration": 426,
    "start_time": "2022-12-07T22:43:27.940Z"
   },
   {
    "duration": 3,
    "start_time": "2022-12-07T22:43:28.368Z"
   },
   {
    "duration": 23,
    "start_time": "2022-12-07T22:43:28.373Z"
   },
   {
    "duration": 396,
    "start_time": "2022-12-07T22:43:28.398Z"
   },
   {
    "duration": 3,
    "start_time": "2022-12-07T22:43:28.796Z"
   },
   {
    "duration": 23,
    "start_time": "2022-12-07T22:43:28.801Z"
   },
   {
    "duration": 4381,
    "start_time": "2022-12-07T22:43:28.826Z"
   },
   {
    "duration": 4,
    "start_time": "2022-12-07T22:43:33.208Z"
   },
   {
    "duration": 22,
    "start_time": "2022-12-07T22:43:33.214Z"
   },
   {
    "duration": 15,
    "start_time": "2022-12-07T22:43:33.238Z"
   },
   {
    "duration": 10,
    "start_time": "2022-12-07T22:43:33.255Z"
   },
   {
    "duration": 8,
    "start_time": "2022-12-07T22:43:33.267Z"
   },
   {
    "duration": 112,
    "start_time": "2022-12-07T22:43:33.277Z"
   },
   {
    "duration": 9,
    "start_time": "2022-12-07T22:43:33.391Z"
   },
   {
    "duration": 21,
    "start_time": "2022-12-07T22:43:33.402Z"
   },
   {
    "duration": 16,
    "start_time": "2022-12-07T22:43:41.580Z"
   },
   {
    "duration": 103,
    "start_time": "2022-12-07T22:43:47.289Z"
   },
   {
    "duration": 10,
    "start_time": "2022-12-07T22:43:50.260Z"
   },
   {
    "duration": 10,
    "start_time": "2022-12-07T22:46:02.080Z"
   },
   {
    "duration": 10,
    "start_time": "2022-12-07T22:46:13.354Z"
   },
   {
    "duration": 3,
    "start_time": "2022-12-07T22:46:27.702Z"
   },
   {
    "duration": 10,
    "start_time": "2022-12-07T22:46:36.010Z"
   },
   {
    "duration": 9,
    "start_time": "2022-12-07T22:46:41.850Z"
   },
   {
    "duration": 22,
    "start_time": "2022-12-07T22:55:18.535Z"
   },
   {
    "duration": 12,
    "start_time": "2022-12-07T22:55:45.209Z"
   },
   {
    "duration": 9,
    "start_time": "2022-12-07T22:55:48.663Z"
   },
   {
    "duration": 1490,
    "start_time": "2022-12-07T23:06:04.253Z"
   },
   {
    "duration": 30,
    "start_time": "2022-12-07T23:06:05.745Z"
   },
   {
    "duration": 14,
    "start_time": "2022-12-07T23:06:05.779Z"
   },
   {
    "duration": 23,
    "start_time": "2022-12-07T23:06:05.795Z"
   },
   {
    "duration": 6,
    "start_time": "2022-12-07T23:06:05.835Z"
   },
   {
    "duration": 26,
    "start_time": "2022-12-07T23:06:05.842Z"
   },
   {
    "duration": 13,
    "start_time": "2022-12-07T23:06:05.870Z"
   },
   {
    "duration": 29,
    "start_time": "2022-12-07T23:06:05.885Z"
   },
   {
    "duration": 39,
    "start_time": "2022-12-07T23:06:05.916Z"
   },
   {
    "duration": 3362,
    "start_time": "2022-12-07T23:06:05.957Z"
   },
   {
    "duration": 17,
    "start_time": "2022-12-07T23:06:09.321Z"
   },
   {
    "duration": 4,
    "start_time": "2022-12-07T23:06:09.340Z"
   },
   {
    "duration": 11,
    "start_time": "2022-12-07T23:06:09.346Z"
   },
   {
    "duration": 21,
    "start_time": "2022-12-07T23:06:09.358Z"
   },
   {
    "duration": 26,
    "start_time": "2022-12-07T23:06:09.380Z"
   },
   {
    "duration": 2047,
    "start_time": "2022-12-07T23:06:09.408Z"
   },
   {
    "duration": 980,
    "start_time": "2022-12-07T23:06:11.457Z"
   },
   {
    "duration": 351,
    "start_time": "2022-12-07T23:06:12.439Z"
   },
   {
    "duration": 1190,
    "start_time": "2022-12-07T23:06:12.792Z"
   },
   {
    "duration": 5,
    "start_time": "2022-12-07T23:06:13.983Z"
   },
   {
    "duration": 13,
    "start_time": "2022-12-07T23:06:13.989Z"
   },
   {
    "duration": 32,
    "start_time": "2022-12-07T23:06:14.004Z"
   },
   {
    "duration": 7,
    "start_time": "2022-12-07T23:06:14.037Z"
   },
   {
    "duration": 7,
    "start_time": "2022-12-07T23:06:14.045Z"
   },
   {
    "duration": 10,
    "start_time": "2022-12-07T23:06:14.053Z"
   },
   {
    "duration": 6,
    "start_time": "2022-12-07T23:06:14.065Z"
   },
   {
    "duration": 9,
    "start_time": "2022-12-07T23:06:14.074Z"
   },
   {
    "duration": 51,
    "start_time": "2022-12-07T23:06:14.084Z"
   },
   {
    "duration": 4,
    "start_time": "2022-12-07T23:06:14.137Z"
   },
   {
    "duration": 8,
    "start_time": "2022-12-07T23:06:14.142Z"
   },
   {
    "duration": 26,
    "start_time": "2022-12-07T23:06:14.151Z"
   },
   {
    "duration": 5,
    "start_time": "2022-12-07T23:06:14.179Z"
   },
   {
    "duration": 62,
    "start_time": "2022-12-07T23:06:14.185Z"
   },
   {
    "duration": 7,
    "start_time": "2022-12-07T23:06:14.249Z"
   },
   {
    "duration": 283,
    "start_time": "2022-12-07T23:06:14.258Z"
   },
   {
    "duration": 1050,
    "start_time": "2022-12-07T23:06:14.543Z"
   },
   {
    "duration": 9,
    "start_time": "2022-12-07T23:06:15.595Z"
   },
   {
    "duration": 371,
    "start_time": "2022-12-07T23:06:15.605Z"
   },
   {
    "duration": 13,
    "start_time": "2022-12-07T23:06:15.978Z"
   },
   {
    "duration": 466,
    "start_time": "2022-12-07T23:06:15.992Z"
   },
   {
    "duration": 3,
    "start_time": "2022-12-07T23:06:16.460Z"
   },
   {
    "duration": 12,
    "start_time": "2022-12-07T23:06:16.465Z"
   },
   {
    "duration": 440,
    "start_time": "2022-12-07T23:06:16.479Z"
   },
   {
    "duration": 4,
    "start_time": "2022-12-07T23:06:16.920Z"
   },
   {
    "duration": 19,
    "start_time": "2022-12-07T23:06:16.925Z"
   },
   {
    "duration": 4313,
    "start_time": "2022-12-07T23:06:16.945Z"
   },
   {
    "duration": 3,
    "start_time": "2022-12-07T23:06:21.260Z"
   },
   {
    "duration": 18,
    "start_time": "2022-12-07T23:06:21.264Z"
   },
   {
    "duration": 31,
    "start_time": "2022-12-07T23:06:21.283Z"
   },
   {
    "duration": 25,
    "start_time": "2022-12-07T23:06:21.316Z"
   },
   {
    "duration": 28,
    "start_time": "2022-12-07T23:06:21.342Z"
   },
   {
    "duration": 114,
    "start_time": "2022-12-07T23:06:21.372Z"
   },
   {
    "duration": 9,
    "start_time": "2022-12-07T23:06:21.488Z"
   },
   {
    "duration": 18,
    "start_time": "2022-12-07T23:06:21.499Z"
   },
   {
    "duration": 24,
    "start_time": "2022-12-07T23:06:21.518Z"
   },
   {
    "duration": 2485,
    "start_time": "2022-12-08T09:16:09.323Z"
   },
   {
    "duration": 137,
    "start_time": "2022-12-08T09:16:11.810Z"
   },
   {
    "duration": 20,
    "start_time": "2022-12-08T09:16:11.948Z"
   },
   {
    "duration": 42,
    "start_time": "2022-12-08T09:16:11.971Z"
   },
   {
    "duration": 6,
    "start_time": "2022-12-08T09:16:12.015Z"
   },
   {
    "duration": 21,
    "start_time": "2022-12-08T09:16:12.022Z"
   },
   {
    "duration": 10,
    "start_time": "2022-12-08T09:16:12.045Z"
   },
   {
    "duration": 31,
    "start_time": "2022-12-08T09:16:12.064Z"
   },
   {
    "duration": 25,
    "start_time": "2022-12-08T09:16:12.096Z"
   },
   {
    "duration": 2370,
    "start_time": "2022-12-08T09:16:12.124Z"
   },
   {
    "duration": 17,
    "start_time": "2022-12-08T09:16:14.497Z"
   },
   {
    "duration": 9,
    "start_time": "2022-12-08T09:16:14.516Z"
   },
   {
    "duration": 33,
    "start_time": "2022-12-08T09:16:14.527Z"
   },
   {
    "duration": 15,
    "start_time": "2022-12-08T09:16:14.568Z"
   },
   {
    "duration": 23,
    "start_time": "2022-12-08T09:16:14.586Z"
   },
   {
    "duration": 2376,
    "start_time": "2022-12-08T09:16:14.612Z"
   },
   {
    "duration": 1077,
    "start_time": "2022-12-08T09:16:16.990Z"
   },
   {
    "duration": 2611,
    "start_time": "2022-12-08T09:16:23.171Z"
   },
   {
    "duration": 2596,
    "start_time": "2022-12-08T09:16:55.817Z"
   },
   {
    "duration": 5543,
    "start_time": "2022-12-08T09:18:09.528Z"
   },
   {
    "duration": 5064,
    "start_time": "2022-12-08T09:19:05.269Z"
   },
   {
    "duration": 398,
    "start_time": "2022-12-08T09:19:55.578Z"
   },
   {
    "duration": 5,
    "start_time": "2022-12-08T09:40:38.484Z"
   },
   {
    "duration": 5,
    "start_time": "2022-12-08T09:40:38.491Z"
   },
   {
    "duration": 34,
    "start_time": "2022-12-08T09:40:38.498Z"
   },
   {
    "duration": 10,
    "start_time": "2022-12-08T09:40:38.535Z"
   },
   {
    "duration": 26,
    "start_time": "2022-12-08T09:40:38.546Z"
   },
   {
    "duration": 4,
    "start_time": "2022-12-08T09:40:38.574Z"
   },
   {
    "duration": 22,
    "start_time": "2022-12-08T09:40:38.580Z"
   },
   {
    "duration": 5,
    "start_time": "2022-12-08T09:40:38.604Z"
   },
   {
    "duration": 44,
    "start_time": "2022-12-08T09:40:38.611Z"
   },
   {
    "duration": 25,
    "start_time": "2022-12-08T09:40:38.657Z"
   },
   {
    "duration": 2362,
    "start_time": "2022-12-08T09:40:38.683Z"
   },
   {
    "duration": 14,
    "start_time": "2022-12-08T09:40:41.049Z"
   },
   {
    "duration": 5,
    "start_time": "2022-12-08T09:40:41.064Z"
   },
   {
    "duration": 5,
    "start_time": "2022-12-08T09:40:41.071Z"
   },
   {
    "duration": 6,
    "start_time": "2022-12-08T09:40:41.078Z"
   },
   {
    "duration": 10,
    "start_time": "2022-12-08T09:40:41.085Z"
   },
   {
    "duration": 2144,
    "start_time": "2022-12-08T09:40:41.097Z"
   },
   {
    "duration": 4999,
    "start_time": "2022-12-08T09:40:43.243Z"
   },
   {
    "duration": 331,
    "start_time": "2022-12-08T09:40:48.243Z"
   },
   {
    "duration": 328,
    "start_time": "2022-12-08T09:40:48.576Z"
   },
   {
    "duration": 4,
    "start_time": "2022-12-08T09:40:48.905Z"
   },
   {
    "duration": 18,
    "start_time": "2022-12-08T09:40:48.911Z"
   },
   {
    "duration": 6,
    "start_time": "2022-12-08T09:40:48.930Z"
   },
   {
    "duration": 22,
    "start_time": "2022-12-08T09:40:48.938Z"
   },
   {
    "duration": 6,
    "start_time": "2022-12-08T09:40:48.962Z"
   },
   {
    "duration": 15,
    "start_time": "2022-12-08T09:40:48.970Z"
   },
   {
    "duration": 7,
    "start_time": "2022-12-08T09:40:48.987Z"
   },
   {
    "duration": 11,
    "start_time": "2022-12-08T09:40:48.995Z"
   },
   {
    "duration": 20,
    "start_time": "2022-12-08T09:40:49.008Z"
   },
   {
    "duration": 4,
    "start_time": "2022-12-08T09:40:49.032Z"
   },
   {
    "duration": 8,
    "start_time": "2022-12-08T09:40:49.038Z"
   },
   {
    "duration": 28,
    "start_time": "2022-12-08T09:40:49.055Z"
   },
   {
    "duration": 6,
    "start_time": "2022-12-08T09:40:49.085Z"
   },
   {
    "duration": 39,
    "start_time": "2022-12-08T09:40:49.093Z"
   },
   {
    "duration": 26,
    "start_time": "2022-12-08T09:40:49.134Z"
   },
   {
    "duration": 262,
    "start_time": "2022-12-08T09:40:49.161Z"
   },
   {
    "duration": 1124,
    "start_time": "2022-12-08T09:40:49.425Z"
   },
   {
    "duration": 10,
    "start_time": "2022-12-08T09:40:50.551Z"
   },
   {
    "duration": 203,
    "start_time": "2022-12-08T09:40:50.563Z"
   },
   {
    "duration": 12,
    "start_time": "2022-12-08T09:40:50.768Z"
   },
   {
    "duration": 450,
    "start_time": "2022-12-08T09:40:50.782Z"
   },
   {
    "duration": 4,
    "start_time": "2022-12-08T09:40:51.234Z"
   },
   {
    "duration": 31,
    "start_time": "2022-12-08T09:40:51.239Z"
   },
   {
    "duration": 383,
    "start_time": "2022-12-08T09:40:51.271Z"
   },
   {
    "duration": 4,
    "start_time": "2022-12-08T09:40:51.656Z"
   },
   {
    "duration": 13,
    "start_time": "2022-12-08T09:40:51.661Z"
   },
   {
    "duration": 4489,
    "start_time": "2022-12-08T09:40:51.675Z"
   },
   {
    "duration": 4,
    "start_time": "2022-12-08T09:40:56.165Z"
   },
   {
    "duration": 18,
    "start_time": "2022-12-08T09:40:56.170Z"
   },
   {
    "duration": 14,
    "start_time": "2022-12-08T09:40:56.189Z"
   },
   {
    "duration": 9,
    "start_time": "2022-12-08T09:40:56.205Z"
   },
   {
    "duration": 6,
    "start_time": "2022-12-08T09:40:56.216Z"
   },
   {
    "duration": 132,
    "start_time": "2022-12-08T09:40:56.224Z"
   },
   {
    "duration": 12,
    "start_time": "2022-12-08T09:40:56.358Z"
   },
   {
    "duration": 19,
    "start_time": "2022-12-08T09:40:56.372Z"
   },
   {
    "duration": 9,
    "start_time": "2022-12-08T09:40:56.392Z"
   },
   {
    "duration": 77912,
    "start_time": "2022-12-08T09:44:22.538Z"
   },
   {
    "duration": 78707,
    "start_time": "2022-12-08T09:47:56.193Z"
   },
   {
    "duration": 14,
    "start_time": "2022-12-08T09:51:14.585Z"
   },
   {
    "duration": 135634,
    "start_time": "2022-12-08T09:52:40.244Z"
   },
   {
    "duration": 12,
    "start_time": "2022-12-08T09:54:55.880Z"
   },
   {
    "duration": 48,
    "start_time": "2022-12-08T18:24:39.469Z"
   },
   {
    "duration": 2147,
    "start_time": "2022-12-08T18:24:44.847Z"
   },
   {
    "duration": 3,
    "start_time": "2022-12-08T18:24:46.996Z"
   },
   {
    "duration": 77,
    "start_time": "2022-12-08T18:24:47.000Z"
   },
   {
    "duration": 13,
    "start_time": "2022-12-08T18:24:47.078Z"
   },
   {
    "duration": 24,
    "start_time": "2022-12-08T18:24:47.093Z"
   },
   {
    "duration": 5,
    "start_time": "2022-12-08T18:24:47.119Z"
   },
   {
    "duration": 21,
    "start_time": "2022-12-08T18:24:47.125Z"
   },
   {
    "duration": 4,
    "start_time": "2022-12-08T18:24:47.148Z"
   },
   {
    "duration": 28,
    "start_time": "2022-12-08T18:24:47.153Z"
   },
   {
    "duration": 44,
    "start_time": "2022-12-08T18:24:47.182Z"
   },
   {
    "duration": 2250,
    "start_time": "2022-12-08T18:24:47.228Z"
   },
   {
    "duration": 12,
    "start_time": "2022-12-08T18:24:49.479Z"
   },
   {
    "duration": 13,
    "start_time": "2022-12-08T18:24:49.493Z"
   },
   {
    "duration": 4,
    "start_time": "2022-12-08T18:24:49.508Z"
   },
   {
    "duration": 6,
    "start_time": "2022-12-08T18:24:49.514Z"
   },
   {
    "duration": 8,
    "start_time": "2022-12-08T18:24:49.521Z"
   },
   {
    "duration": 2062,
    "start_time": "2022-12-08T18:24:49.530Z"
   },
   {
    "duration": 4700,
    "start_time": "2022-12-08T18:24:51.593Z"
   },
   {
    "duration": 327,
    "start_time": "2022-12-08T18:24:56.295Z"
   },
   {
    "duration": 330,
    "start_time": "2022-12-08T18:24:56.623Z"
   },
   {
    "duration": 103,
    "start_time": "2022-12-08T18:24:56.955Z"
   },
   {
    "duration": 17,
    "start_time": "2022-12-08T18:26:27.347Z"
   },
   {
    "duration": 3075,
    "start_time": "2022-12-08T18:28:14.073Z"
   },
   {
    "duration": 646,
    "start_time": "2022-12-08T18:28:28.855Z"
   },
   {
    "duration": 517,
    "start_time": "2022-12-08T18:28:56.962Z"
   },
   {
    "duration": 16,
    "start_time": "2022-12-08T18:37:18.798Z"
   },
   {
    "duration": 2385,
    "start_time": "2022-12-08T18:37:23.742Z"
   },
   {
    "duration": 4,
    "start_time": "2022-12-08T18:37:26.129Z"
   },
   {
    "duration": 45,
    "start_time": "2022-12-08T18:37:26.134Z"
   },
   {
    "duration": 10,
    "start_time": "2022-12-08T18:37:26.181Z"
   },
   {
    "duration": 27,
    "start_time": "2022-12-08T18:37:26.194Z"
   },
   {
    "duration": 5,
    "start_time": "2022-12-08T18:37:26.222Z"
   },
   {
    "duration": 20,
    "start_time": "2022-12-08T18:37:26.229Z"
   },
   {
    "duration": 5,
    "start_time": "2022-12-08T18:37:26.251Z"
   },
   {
    "duration": 23,
    "start_time": "2022-12-08T18:37:26.257Z"
   },
   {
    "duration": 25,
    "start_time": "2022-12-08T18:37:26.306Z"
   },
   {
    "duration": 2273,
    "start_time": "2022-12-08T18:37:26.333Z"
   },
   {
    "duration": 12,
    "start_time": "2022-12-08T18:37:28.607Z"
   },
   {
    "duration": 30,
    "start_time": "2022-12-08T18:37:28.621Z"
   },
   {
    "duration": 20,
    "start_time": "2022-12-08T18:37:28.654Z"
   },
   {
    "duration": 2297,
    "start_time": "2022-12-08T18:37:37.057Z"
   },
   {
    "duration": 3,
    "start_time": "2022-12-08T18:37:39.356Z"
   },
   {
    "duration": 79,
    "start_time": "2022-12-08T18:37:39.360Z"
   },
   {
    "duration": 13,
    "start_time": "2022-12-08T18:37:39.441Z"
   },
   {
    "duration": 47,
    "start_time": "2022-12-08T18:37:39.455Z"
   },
   {
    "duration": 5,
    "start_time": "2022-12-08T18:37:39.504Z"
   },
   {
    "duration": 69,
    "start_time": "2022-12-08T18:37:39.510Z"
   },
   {
    "duration": 27,
    "start_time": "2022-12-08T18:37:39.581Z"
   },
   {
    "duration": 51,
    "start_time": "2022-12-08T18:37:39.609Z"
   },
   {
    "duration": 48,
    "start_time": "2022-12-08T18:37:39.662Z"
   },
   {
    "duration": 2166,
    "start_time": "2022-12-08T18:37:39.711Z"
   },
   {
    "duration": 12,
    "start_time": "2022-12-08T18:37:41.878Z"
   },
   {
    "duration": 36,
    "start_time": "2022-12-08T18:37:41.891Z"
   },
   {
    "duration": 44,
    "start_time": "2022-12-08T18:37:41.929Z"
   },
   {
    "duration": 20,
    "start_time": "2022-12-08T18:37:41.975Z"
   },
   {
    "duration": 40,
    "start_time": "2022-12-08T18:37:41.996Z"
   },
   {
    "duration": 2046,
    "start_time": "2022-12-08T18:37:42.038Z"
   },
   {
    "duration": 4942,
    "start_time": "2022-12-08T18:37:44.086Z"
   },
   {
    "duration": 381,
    "start_time": "2022-12-08T18:37:49.030Z"
   },
   {
    "duration": 362,
    "start_time": "2022-12-08T18:37:49.413Z"
   },
   {
    "duration": 549,
    "start_time": "2022-12-08T18:37:49.777Z"
   },
   {
    "duration": 4,
    "start_time": "2022-12-08T18:37:50.328Z"
   },
   {
    "duration": 17,
    "start_time": "2022-12-08T18:37:50.333Z"
   },
   {
    "duration": 28,
    "start_time": "2022-12-08T18:37:50.352Z"
   },
   {
    "duration": 16,
    "start_time": "2022-12-08T18:37:50.382Z"
   },
   {
    "duration": 10,
    "start_time": "2022-12-08T18:37:50.400Z"
   },
   {
    "duration": 14,
    "start_time": "2022-12-08T18:37:50.412Z"
   },
   {
    "duration": 6,
    "start_time": "2022-12-08T18:37:50.428Z"
   },
   {
    "duration": 11,
    "start_time": "2022-12-08T18:37:50.436Z"
   },
   {
    "duration": 7,
    "start_time": "2022-12-08T18:37:50.448Z"
   },
   {
    "duration": 7,
    "start_time": "2022-12-08T18:37:50.457Z"
   },
   {
    "duration": 9,
    "start_time": "2022-12-08T18:37:50.466Z"
   },
   {
    "duration": 29,
    "start_time": "2022-12-08T18:37:50.477Z"
   },
   {
    "duration": 33,
    "start_time": "2022-12-08T18:37:50.508Z"
   },
   {
    "duration": 6,
    "start_time": "2022-12-08T18:37:50.542Z"
   },
   {
    "duration": 176,
    "start_time": "2022-12-08T18:37:50.549Z"
   },
   {
    "duration": 8,
    "start_time": "2022-12-08T18:37:50.727Z"
   },
   {
    "duration": 313,
    "start_time": "2022-12-08T18:37:50.737Z"
   },
   {
    "duration": 1079,
    "start_time": "2022-12-08T18:37:51.052Z"
   },
   {
    "duration": 9,
    "start_time": "2022-12-08T18:37:52.133Z"
   },
   {
    "duration": 242,
    "start_time": "2022-12-08T18:37:52.145Z"
   },
   {
    "duration": 12,
    "start_time": "2022-12-08T18:37:52.389Z"
   },
   {
    "duration": 415,
    "start_time": "2022-12-08T18:37:52.405Z"
   },
   {
    "duration": 4,
    "start_time": "2022-12-08T18:37:52.822Z"
   },
   {
    "duration": 16,
    "start_time": "2022-12-08T18:37:52.828Z"
   },
   {
    "duration": 387,
    "start_time": "2022-12-08T18:37:52.846Z"
   },
   {
    "duration": 4,
    "start_time": "2022-12-08T18:37:53.235Z"
   },
   {
    "duration": 18,
    "start_time": "2022-12-08T18:37:53.241Z"
   },
   {
    "duration": 4394,
    "start_time": "2022-12-08T18:37:53.262Z"
   },
   {
    "duration": 4,
    "start_time": "2022-12-08T18:37:57.658Z"
   },
   {
    "duration": 17,
    "start_time": "2022-12-08T18:37:57.667Z"
   },
   {
    "duration": 138207,
    "start_time": "2022-12-08T18:37:57.686Z"
   },
   {
    "duration": 31,
    "start_time": "2022-12-08T18:40:15.895Z"
   },
   {
    "duration": 16,
    "start_time": "2022-12-08T18:40:15.933Z"
   },
   {
    "duration": 10,
    "start_time": "2022-12-08T18:40:15.951Z"
   },
   {
    "duration": 7,
    "start_time": "2022-12-08T18:40:15.962Z"
   },
   {
    "duration": 143,
    "start_time": "2022-12-08T18:40:15.971Z"
   },
   {
    "duration": 11,
    "start_time": "2022-12-08T18:40:16.121Z"
   },
   {
    "duration": 25,
    "start_time": "2022-12-08T18:40:16.134Z"
   },
   {
    "duration": 83,
    "start_time": "2022-12-08T18:40:16.161Z"
   },
   {
    "duration": 11,
    "start_time": "2022-12-08T18:50:39.431Z"
   },
   {
    "duration": 7141,
    "start_time": "2022-12-08T18:51:00.149Z"
   },
   {
    "duration": 16,
    "start_time": "2022-12-08T18:51:16.791Z"
   },
   {
    "duration": 342,
    "start_time": "2022-12-08T19:03:10.371Z"
   },
   {
    "duration": 477,
    "start_time": "2022-12-08T19:03:27.358Z"
   },
   {
    "duration": 2298,
    "start_time": "2022-12-08T19:04:23.915Z"
   },
   {
    "duration": 3,
    "start_time": "2022-12-08T19:04:26.216Z"
   },
   {
    "duration": 33,
    "start_time": "2022-12-08T19:04:26.222Z"
   },
   {
    "duration": 10,
    "start_time": "2022-12-08T19:04:26.256Z"
   },
   {
    "duration": 26,
    "start_time": "2022-12-08T19:04:26.269Z"
   },
   {
    "duration": 6,
    "start_time": "2022-12-08T19:04:26.296Z"
   },
   {
    "duration": 22,
    "start_time": "2022-12-08T19:04:26.304Z"
   },
   {
    "duration": 5,
    "start_time": "2022-12-08T19:04:26.327Z"
   },
   {
    "duration": 20,
    "start_time": "2022-12-08T19:04:26.333Z"
   },
   {
    "duration": 23,
    "start_time": "2022-12-08T19:04:26.355Z"
   },
   {
    "duration": 2235,
    "start_time": "2022-12-08T19:04:26.380Z"
   },
   {
    "duration": 12,
    "start_time": "2022-12-08T19:04:28.617Z"
   },
   {
    "duration": 9,
    "start_time": "2022-12-08T19:04:28.631Z"
   },
   {
    "duration": 5,
    "start_time": "2022-12-08T19:04:28.644Z"
   },
   {
    "duration": 5,
    "start_time": "2022-12-08T19:04:28.651Z"
   },
   {
    "duration": 10,
    "start_time": "2022-12-08T19:04:28.658Z"
   },
   {
    "duration": 2379,
    "start_time": "2022-12-08T19:04:28.669Z"
   },
   {
    "duration": 4697,
    "start_time": "2022-12-08T19:04:31.050Z"
   },
   {
    "duration": 376,
    "start_time": "2022-12-08T19:04:35.749Z"
   },
   {
    "duration": 516,
    "start_time": "2022-12-08T19:04:36.127Z"
   },
   {
    "duration": 643,
    "start_time": "2022-12-08T19:04:36.644Z"
   },
   {
    "duration": 2,
    "start_time": "2022-12-08T19:04:37.290Z"
   },
   {
    "duration": 53,
    "start_time": "2022-12-08T19:04:37.294Z"
   },
   {
    "duration": 41,
    "start_time": "2022-12-08T19:04:37.350Z"
   },
   {
    "duration": 49,
    "start_time": "2022-12-08T19:04:37.396Z"
   },
   {
    "duration": 36,
    "start_time": "2022-12-08T19:04:37.448Z"
   },
   {
    "duration": 55,
    "start_time": "2022-12-08T19:04:37.486Z"
   },
   {
    "duration": 46,
    "start_time": "2022-12-08T19:04:37.543Z"
   },
   {
    "duration": 32,
    "start_time": "2022-12-08T19:04:37.591Z"
   },
   {
    "duration": 58,
    "start_time": "2022-12-08T19:04:37.625Z"
   },
   {
    "duration": 36,
    "start_time": "2022-12-08T19:04:37.685Z"
   },
   {
    "duration": 41,
    "start_time": "2022-12-08T19:04:37.723Z"
   },
   {
    "duration": 92,
    "start_time": "2022-12-08T19:04:37.766Z"
   },
   {
    "duration": 40,
    "start_time": "2022-12-08T19:04:37.860Z"
   },
   {
    "duration": 49,
    "start_time": "2022-12-08T19:04:37.902Z"
   },
   {
    "duration": 6,
    "start_time": "2022-12-08T19:04:37.953Z"
   },
   {
    "duration": 8,
    "start_time": "2022-12-08T19:06:33.970Z"
   },
   {
    "duration": 23,
    "start_time": "2022-12-08T19:06:38.706Z"
   },
   {
    "duration": 19,
    "start_time": "2022-12-08T19:07:20.879Z"
   },
   {
    "duration": 6,
    "start_time": "2022-12-08T19:08:10.991Z"
   },
   {
    "duration": 2436,
    "start_time": "2022-12-08T19:08:29.706Z"
   },
   {
    "duration": 3,
    "start_time": "2022-12-08T19:08:32.145Z"
   },
   {
    "duration": 46,
    "start_time": "2022-12-08T19:08:32.150Z"
   },
   {
    "duration": 11,
    "start_time": "2022-12-08T19:08:32.198Z"
   },
   {
    "duration": 38,
    "start_time": "2022-12-08T19:08:32.212Z"
   },
   {
    "duration": 5,
    "start_time": "2022-12-08T19:08:32.252Z"
   },
   {
    "duration": 20,
    "start_time": "2022-12-08T19:08:32.258Z"
   },
   {
    "duration": 4,
    "start_time": "2022-12-08T19:08:32.279Z"
   },
   {
    "duration": 44,
    "start_time": "2022-12-08T19:08:32.284Z"
   },
   {
    "duration": 23,
    "start_time": "2022-12-08T19:08:32.330Z"
   },
   {
    "duration": 2428,
    "start_time": "2022-12-08T19:08:32.354Z"
   },
   {
    "duration": 27,
    "start_time": "2022-12-08T19:08:34.784Z"
   },
   {
    "duration": 18,
    "start_time": "2022-12-08T19:08:34.814Z"
   },
   {
    "duration": 29,
    "start_time": "2022-12-08T19:08:34.836Z"
   },
   {
    "duration": 22,
    "start_time": "2022-12-08T19:08:34.869Z"
   },
   {
    "duration": 45,
    "start_time": "2022-12-08T19:08:34.893Z"
   },
   {
    "duration": 2388,
    "start_time": "2022-12-08T19:08:34.939Z"
   },
   {
    "duration": 5235,
    "start_time": "2022-12-08T19:08:37.329Z"
   },
   {
    "duration": 390,
    "start_time": "2022-12-08T19:08:42.566Z"
   },
   {
    "duration": 418,
    "start_time": "2022-12-08T19:08:42.958Z"
   },
   {
    "duration": 617,
    "start_time": "2022-12-08T19:08:43.378Z"
   },
   {
    "duration": 12,
    "start_time": "2022-12-08T19:08:43.996Z"
   },
   {
    "duration": 47,
    "start_time": "2022-12-08T19:08:44.010Z"
   },
   {
    "duration": 35,
    "start_time": "2022-12-08T19:08:44.059Z"
   },
   {
    "duration": 54,
    "start_time": "2022-12-08T19:08:44.096Z"
   },
   {
    "duration": 38,
    "start_time": "2022-12-08T19:08:44.152Z"
   },
   {
    "duration": 10,
    "start_time": "2022-12-08T19:08:44.192Z"
   },
   {
    "duration": 65,
    "start_time": "2022-12-08T19:08:44.204Z"
   },
   {
    "duration": 26,
    "start_time": "2022-12-08T19:08:44.271Z"
   },
   {
    "duration": 54,
    "start_time": "2022-12-08T19:08:44.299Z"
   },
   {
    "duration": 16,
    "start_time": "2022-12-08T19:08:44.355Z"
   },
   {
    "duration": 9,
    "start_time": "2022-12-08T19:08:44.373Z"
   },
   {
    "duration": 54,
    "start_time": "2022-12-08T19:08:44.384Z"
   },
   {
    "duration": 25,
    "start_time": "2022-12-08T19:08:44.440Z"
   },
   {
    "duration": 91,
    "start_time": "2022-12-08T19:08:44.467Z"
   },
   {
    "duration": 5,
    "start_time": "2022-12-08T19:08:44.561Z"
   },
   {
    "duration": 40,
    "start_time": "2022-12-08T19:08:44.567Z"
   },
   {
    "duration": 9,
    "start_time": "2022-12-08T19:08:49.131Z"
   },
   {
    "duration": 623,
    "start_time": "2022-12-08T19:08:51.415Z"
   },
   {
    "duration": 42,
    "start_time": "2022-12-08T19:09:49.084Z"
   },
   {
    "duration": 617,
    "start_time": "2022-12-08T19:12:04.749Z"
   },
   {
    "duration": 2187,
    "start_time": "2022-12-08T19:12:43.519Z"
   },
   {
    "duration": 3,
    "start_time": "2022-12-08T19:13:28.893Z"
   },
   {
    "duration": 29,
    "start_time": "2022-12-08T19:13:29.385Z"
   },
   {
    "duration": 10,
    "start_time": "2022-12-08T19:13:29.416Z"
   },
   {
    "duration": 27,
    "start_time": "2022-12-08T19:13:29.428Z"
   },
   {
    "duration": 5,
    "start_time": "2022-12-08T19:13:29.457Z"
   },
   {
    "duration": 20,
    "start_time": "2022-12-08T19:13:29.465Z"
   },
   {
    "duration": 22,
    "start_time": "2022-12-08T19:13:29.486Z"
   },
   {
    "duration": 22,
    "start_time": "2022-12-08T19:13:29.509Z"
   },
   {
    "duration": 34,
    "start_time": "2022-12-08T19:13:29.533Z"
   },
   {
    "duration": 2303,
    "start_time": "2022-12-08T19:13:29.569Z"
   },
   {
    "duration": 11,
    "start_time": "2022-12-08T19:13:31.874Z"
   },
   {
    "duration": 19,
    "start_time": "2022-12-08T19:13:31.886Z"
   },
   {
    "duration": 30,
    "start_time": "2022-12-08T19:13:31.907Z"
   },
   {
    "duration": 22,
    "start_time": "2022-12-08T19:13:31.939Z"
   },
   {
    "duration": 22,
    "start_time": "2022-12-08T19:13:31.965Z"
   },
   {
    "duration": 2200,
    "start_time": "2022-12-08T19:13:31.989Z"
   },
   {
    "duration": 5075,
    "start_time": "2022-12-08T19:13:34.191Z"
   },
   {
    "duration": 369,
    "start_time": "2022-12-08T19:13:39.268Z"
   },
   {
    "duration": 332,
    "start_time": "2022-12-08T19:13:39.638Z"
   },
   {
    "duration": 539,
    "start_time": "2022-12-08T19:13:39.972Z"
   },
   {
    "duration": 6,
    "start_time": "2022-12-08T19:13:40.513Z"
   },
   {
    "duration": 13,
    "start_time": "2022-12-08T19:13:40.521Z"
   },
   {
    "duration": 15,
    "start_time": "2022-12-08T19:13:40.536Z"
   },
   {
    "duration": 7,
    "start_time": "2022-12-08T19:13:40.553Z"
   },
   {
    "duration": 33,
    "start_time": "2022-12-08T19:13:40.562Z"
   },
   {
    "duration": 6,
    "start_time": "2022-12-08T19:13:40.597Z"
   },
   {
    "duration": 15,
    "start_time": "2022-12-08T19:13:40.605Z"
   },
   {
    "duration": 19,
    "start_time": "2022-12-08T19:13:40.622Z"
   },
   {
    "duration": 11,
    "start_time": "2022-12-08T19:13:40.643Z"
   },
   {
    "duration": 17,
    "start_time": "2022-12-08T19:13:40.656Z"
   },
   {
    "duration": 4,
    "start_time": "2022-12-08T19:13:40.675Z"
   },
   {
    "duration": 5,
    "start_time": "2022-12-08T19:13:40.681Z"
   },
   {
    "duration": 6,
    "start_time": "2022-12-08T19:13:40.688Z"
   },
   {
    "duration": 617,
    "start_time": "2022-12-08T19:13:40.695Z"
   },
   {
    "duration": 17,
    "start_time": "2022-12-08T19:13:41.313Z"
   },
   {
    "duration": 5,
    "start_time": "2022-12-08T19:13:41.332Z"
   },
   {
    "duration": 68,
    "start_time": "2022-12-08T19:13:41.338Z"
   },
   {
    "duration": 9,
    "start_time": "2022-12-08T19:13:41.408Z"
   },
   {
    "duration": 282,
    "start_time": "2022-12-08T19:13:41.419Z"
   },
   {
    "duration": 1218,
    "start_time": "2022-12-08T19:13:41.704Z"
   },
   {
    "duration": 9,
    "start_time": "2022-12-08T19:13:42.924Z"
   },
   {
    "duration": 263,
    "start_time": "2022-12-08T19:13:42.938Z"
   },
   {
    "duration": 14,
    "start_time": "2022-12-08T19:13:43.205Z"
   },
   {
    "duration": 453,
    "start_time": "2022-12-08T19:13:43.221Z"
   },
   {
    "duration": 4,
    "start_time": "2022-12-08T19:13:43.676Z"
   },
   {
    "duration": 24,
    "start_time": "2022-12-08T19:13:43.682Z"
   },
   {
    "duration": 420,
    "start_time": "2022-12-08T19:13:43.708Z"
   },
   {
    "duration": 8,
    "start_time": "2022-12-08T19:13:44.132Z"
   },
   {
    "duration": 17,
    "start_time": "2022-12-08T19:13:44.143Z"
   },
   {
    "duration": 5332,
    "start_time": "2022-12-08T19:13:44.162Z"
   },
   {
    "duration": 11,
    "start_time": "2022-12-08T19:13:49.495Z"
   },
   {
    "duration": 16,
    "start_time": "2022-12-08T19:13:49.509Z"
   },
   {
    "duration": 161972,
    "start_time": "2022-12-08T19:13:49.527Z"
   },
   {
    "duration": 15,
    "start_time": "2022-12-08T19:16:31.501Z"
   },
   {
    "duration": 46,
    "start_time": "2022-12-08T19:16:31.517Z"
   },
   {
    "duration": 11,
    "start_time": "2022-12-08T19:16:31.565Z"
   },
   {
    "duration": 31,
    "start_time": "2022-12-08T19:16:31.578Z"
   },
   {
    "duration": 136,
    "start_time": "2022-12-08T19:16:31.611Z"
   },
   {
    "duration": 9,
    "start_time": "2022-12-08T19:16:31.748Z"
   },
   {
    "duration": 36,
    "start_time": "2022-12-08T19:16:31.759Z"
   },
   {
    "duration": 13,
    "start_time": "2022-12-08T19:16:31.797Z"
   },
   {
    "duration": 15,
    "start_time": "2022-12-08T19:20:09.602Z"
   },
   {
    "duration": 17,
    "start_time": "2022-12-08T19:21:15.160Z"
   },
   {
    "duration": 565,
    "start_time": "2022-12-08T19:21:30.481Z"
   },
   {
    "duration": 481,
    "start_time": "2022-12-08T19:21:35.788Z"
   },
   {
    "duration": 461,
    "start_time": "2022-12-08T19:22:43.158Z"
   },
   {
    "duration": 456,
    "start_time": "2022-12-08T19:23:14.622Z"
   },
   {
    "duration": 483,
    "start_time": "2022-12-08T19:23:53.470Z"
   },
   {
    "duration": 451,
    "start_time": "2022-12-08T19:23:56.353Z"
   },
   {
    "duration": 4168,
    "start_time": "2022-12-09T10:04:47.570Z"
   },
   {
    "duration": 3373,
    "start_time": "2022-12-09T10:04:51.740Z"
   },
   {
    "duration": 3,
    "start_time": "2022-12-09T10:04:55.115Z"
   },
   {
    "duration": 33,
    "start_time": "2022-12-09T10:04:55.120Z"
   },
   {
    "duration": 60,
    "start_time": "2022-12-09T10:04:55.155Z"
   },
   {
    "duration": 25,
    "start_time": "2022-12-09T10:04:55.217Z"
   },
   {
    "duration": 71,
    "start_time": "2022-12-09T10:04:55.244Z"
   },
   {
    "duration": 57,
    "start_time": "2022-12-09T10:04:55.317Z"
   },
   {
    "duration": 8,
    "start_time": "2022-12-09T10:04:55.415Z"
   },
   {
    "duration": 90,
    "start_time": "2022-12-09T10:04:55.426Z"
   },
   {
    "duration": 30,
    "start_time": "2022-12-09T10:04:55.518Z"
   },
   {
    "duration": 4704,
    "start_time": "2022-12-09T10:04:55.550Z"
   },
   {
    "duration": 14,
    "start_time": "2022-12-09T10:05:00.313Z"
   },
   {
    "duration": 26,
    "start_time": "2022-12-09T10:05:00.330Z"
   },
   {
    "duration": 54,
    "start_time": "2022-12-09T10:05:00.359Z"
   },
   {
    "duration": 29,
    "start_time": "2022-12-09T10:05:00.415Z"
   },
   {
    "duration": 69,
    "start_time": "2022-12-09T10:05:00.446Z"
   },
   {
    "duration": 4809,
    "start_time": "2022-12-09T10:05:00.517Z"
   },
   {
    "duration": 6930,
    "start_time": "2022-12-09T10:05:05.327Z"
   },
   {
    "duration": 340,
    "start_time": "2022-12-09T10:05:12.259Z"
   },
   {
    "duration": 364,
    "start_time": "2022-12-09T10:05:12.601Z"
   },
   {
    "duration": 606,
    "start_time": "2022-12-09T10:05:12.967Z"
   },
   {
    "duration": 6,
    "start_time": "2022-12-09T10:05:13.575Z"
   },
   {
    "duration": 7,
    "start_time": "2022-12-09T10:05:13.583Z"
   },
   {
    "duration": 24,
    "start_time": "2022-12-09T10:05:13.592Z"
   },
   {
    "duration": 6,
    "start_time": "2022-12-09T10:05:13.618Z"
   },
   {
    "duration": 8,
    "start_time": "2022-12-09T10:05:13.626Z"
   },
   {
    "duration": 5,
    "start_time": "2022-12-09T10:05:13.638Z"
   },
   {
    "duration": 8,
    "start_time": "2022-12-09T10:05:13.645Z"
   },
   {
    "duration": 6,
    "start_time": "2022-12-09T10:05:13.655Z"
   },
   {
    "duration": 10,
    "start_time": "2022-12-09T10:05:13.662Z"
   },
   {
    "duration": 39,
    "start_time": "2022-12-09T10:05:13.674Z"
   },
   {
    "duration": 3,
    "start_time": "2022-12-09T10:05:13.715Z"
   },
   {
    "duration": 5,
    "start_time": "2022-12-09T10:05:13.720Z"
   },
   {
    "duration": 5,
    "start_time": "2022-12-09T10:05:13.727Z"
   },
   {
    "duration": 581,
    "start_time": "2022-12-09T10:05:13.734Z"
   },
   {
    "duration": 29,
    "start_time": "2022-12-09T10:05:14.317Z"
   },
   {
    "duration": 4,
    "start_time": "2022-12-09T10:05:14.348Z"
   },
   {
    "duration": 31,
    "start_time": "2022-12-09T10:05:14.353Z"
   },
   {
    "duration": 29,
    "start_time": "2022-12-09T10:05:14.385Z"
   },
   {
    "duration": 263,
    "start_time": "2022-12-09T10:05:14.415Z"
   },
   {
    "duration": 1195,
    "start_time": "2022-12-09T10:05:14.680Z"
   },
   {
    "duration": 10,
    "start_time": "2022-12-09T10:05:15.876Z"
   },
   {
    "duration": 220,
    "start_time": "2022-12-09T10:05:15.887Z"
   },
   {
    "duration": 14,
    "start_time": "2022-12-09T10:05:16.109Z"
   },
   {
    "duration": 569,
    "start_time": "2022-12-09T10:05:16.125Z"
   },
   {
    "duration": 4,
    "start_time": "2022-12-09T10:05:16.695Z"
   },
   {
    "duration": 19,
    "start_time": "2022-12-09T10:05:16.701Z"
   },
   {
    "duration": 439,
    "start_time": "2022-12-09T10:05:16.724Z"
   },
   {
    "duration": 4,
    "start_time": "2022-12-09T10:05:17.164Z"
   },
   {
    "duration": 15,
    "start_time": "2022-12-09T10:05:17.170Z"
   },
   {
    "duration": 4664,
    "start_time": "2022-12-09T10:05:17.187Z"
   },
   {
    "duration": 3,
    "start_time": "2022-12-09T10:05:21.853Z"
   },
   {
    "duration": 13,
    "start_time": "2022-12-09T10:05:21.858Z"
   },
   {
    "duration": 136362,
    "start_time": "2022-12-09T10:05:21.873Z"
   },
   {
    "duration": 13,
    "start_time": "2022-12-09T10:07:38.236Z"
   },
   {
    "duration": 15,
    "start_time": "2022-12-09T10:07:38.251Z"
   },
   {
    "duration": 8,
    "start_time": "2022-12-09T10:07:38.267Z"
   },
   {
    "duration": 5,
    "start_time": "2022-12-09T10:07:38.277Z"
   },
   {
    "duration": 143,
    "start_time": "2022-12-09T10:07:38.284Z"
   },
   {
    "duration": 11,
    "start_time": "2022-12-09T10:07:38.429Z"
   },
   {
    "duration": 23,
    "start_time": "2022-12-09T10:07:38.442Z"
   },
   {
    "duration": 13,
    "start_time": "2022-12-09T10:07:38.467Z"
   }
  ],
  "kernelspec": {
   "display_name": "Python 3 (ipykernel)",
   "language": "python",
   "name": "python3"
  },
  "language_info": {
   "codemirror_mode": {
    "name": "ipython",
    "version": 3
   },
   "file_extension": ".py",
   "mimetype": "text/x-python",
   "name": "python",
   "nbconvert_exporter": "python",
   "pygments_lexer": "ipython3",
   "version": "3.9.16"
  },
  "toc": {
   "base_numbering": 1,
   "nav_menu": {},
   "number_sections": true,
   "sideBar": true,
   "skip_h1_title": true,
   "title_cell": "Table of Contents",
   "title_sidebar": "Contents",
   "toc_cell": false,
   "toc_position": {
    "height": "calc(100% - 180px)",
    "left": "10px",
    "top": "150px",
    "width": "208.797px"
   },
   "toc_section_display": true,
   "toc_window_display": true
  },
  "varInspector": {
   "cols": {
    "lenName": 16,
    "lenType": 16,
    "lenVar": 40
   },
   "kernels_config": {
    "python": {
     "delete_cmd_postfix": "",
     "delete_cmd_prefix": "del ",
     "library": "var_list.py",
     "varRefreshCmd": "print(var_dic_list())"
    },
    "r": {
     "delete_cmd_postfix": ") ",
     "delete_cmd_prefix": "rm(",
     "library": "var_list.r",
     "varRefreshCmd": "cat(var_dic_list()) "
    }
   },
   "types_to_exclude": [
    "module",
    "function",
    "builtin_function_or_method",
    "instance",
    "_Feature"
   ],
   "window_display": false
  }
 },
 "nbformat": 4,
 "nbformat_minor": 2
}
